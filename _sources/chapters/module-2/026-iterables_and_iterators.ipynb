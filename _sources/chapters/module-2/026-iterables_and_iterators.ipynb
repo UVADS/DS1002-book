{
 "cells": [
  {
   "cell_type": "markdown",
   "metadata": {},
   "source": [
    "# Iterables and Iterators\n",
    "\n",
    "What you wil learn in this lesson:\n",
    "\n",
    "- Further understand the concept of iterables and how iteration works in Python.\n",
    "- Use common iteration methods such as for loops and the `iter` and `next` functions.\n",
    "- Implement list comprehension for concise iteration-based transformations.\n",
    "\n",
    "## Introduction\n",
    "\n",
    "In the previous lesson, we introduced loops, and we mentioned that in Python, loops can iterate through things like lists. Why is that? Because lists can behave as iterable objects. Let's see this in more detail:\n",
    "\n",
    "### Iterables \n",
    "\n",
    "- An **iterable** is an object capable of returning its elements one at a time. Examples of iterables include strings and any of the data structures studied so far: lists, tuples, dictionaries, sets and ranges. \n",
    "\n",
    "- They can are usually used in a `for` loop. Their general syntax is:\n",
    "\n",
    "&nbsp;&nbsp;&nbsp;&nbsp;&nbsp;&nbsp;&nbsp;&nbsp; `for` var in `iterable` :  \n",
    "&nbsp;&nbsp;&nbsp;&nbsp; &nbsp;&nbsp;&nbsp;&nbsp;&nbsp;&nbsp;&nbsp;&nbsp; expression\n",
    "\n",
    "\n",
    "- When using an iterable, **be mindful of the order**. Remember that elements in lists, tuples, dictionaries, strings and range come out of them in the same order as they were put in, whereas for sets the ordering of the items is arbitrary.\n",
    "\n",
    "### Iterators\n",
    "\n",
    "- An **iterator** is an object that keeps track of its position during iteration.\n",
    "\n",
    "- To define an iterator, you may use `iter()`. Iterators outputs a value each time it is used. Importantly, you can convert an iterable into an iterator using this function, i.e. `iter(iterable)`\n",
    "\n",
    "- The `next()` function allows you to manually retrieve the next element from the iterator."
   ]
  },
  {
   "cell_type": "markdown",
   "metadata": {},
   "source": [
    "## Examples"
   ]
  },
  {
   "cell_type": "markdown",
   "metadata": {},
   "source": [
    "### Lists"
   ]
  },
  {
   "cell_type": "markdown",
   "metadata": {},
   "source": [
    "**iterating using `for`**"
   ]
  },
  {
   "cell_type": "code",
   "execution_count": 1,
   "metadata": {},
   "outputs": [
    {
     "name": "stdout",
     "output_type": "stream",
     "text": [
      "living room\n",
      "was\n",
      "quite\n",
      "large\n"
     ]
    }
   ],
   "source": [
    "tokens = ['living room','was','quite','large']\n",
    "\n",
    "for tok in tokens:\n",
    "    print(tok)"
   ]
  },
  {
   "cell_type": "markdown",
   "metadata": {},
   "source": [
    "**iterating using `iter()` and `next()`**"
   ]
  },
  {
   "cell_type": "code",
   "execution_count": 2,
   "metadata": {},
   "outputs": [
    {
     "name": "stdout",
     "output_type": "stream",
     "text": [
      "living room\n",
      "was\n",
      "quite\n",
      "large\n"
     ]
    }
   ],
   "source": [
    "tokens = ['living room','was','quite','large']\n",
    "\n",
    "myit = iter(tokens)\n",
    "print(next(myit)) \n",
    "print(next(myit))\n",
    "print(next(myit)) \n",
    "print(next(myit)) "
   ]
  },
  {
   "cell_type": "markdown",
   "metadata": {},
   "source": [
    "Calling `next()` when the iterator has reached the end of the list produces an exception:"
   ]
  },
  {
   "cell_type": "code",
   "execution_count": 3,
   "metadata": {},
   "outputs": [
    {
     "ename": "StopIteration",
     "evalue": "",
     "output_type": "error",
     "traceback": [
      "\u001b[0;31m---------------------------------------------------------------------------\u001b[0m",
      "\u001b[0;31mStopIteration\u001b[0m                             Traceback (most recent call last)",
      "Cell \u001b[0;32mIn[3], line 1\u001b[0m\n\u001b[0;32m----> 1\u001b[0m \u001b[38;5;28mprint\u001b[39m(\u001b[38;5;28mnext\u001b[39m(myit))\n",
      "\u001b[0;31mStopIteration\u001b[0m: "
     ]
    }
   ],
   "source": [
    "print(next(myit))"
   ]
  },
  {
   "cell_type": "markdown",
   "metadata": {},
   "source": [
    "Next, look at the type of the iterator, and the documentation"
   ]
  },
  {
   "cell_type": "code",
   "execution_count": 4,
   "metadata": {},
   "outputs": [
    {
     "data": {
      "text/plain": [
       "list_iterator"
      ]
     },
     "execution_count": 4,
     "metadata": {},
     "output_type": "execute_result"
    }
   ],
   "source": [
    "type(myit)"
   ]
  },
  {
   "cell_type": "markdown",
   "metadata": {},
   "source": [
    "<div class=\"alert alert-info\">\n",
    "        <center><b> Iterating using <code>for</code> vs using <code>iter</code> and <code>next</code></b></center>\n",
    "    \n",
    "<center> <code>for</code> implicitly creates an iterator and executes <code>next</code> on each loop iteration.</center>\n",
    "</div>"
   ]
  },
  {
   "cell_type": "markdown",
   "metadata": {},
   "source": [
    "### Strings"
   ]
  },
  {
   "cell_type": "markdown",
   "metadata": {},
   "source": [
    "**iterating using `for`**"
   ]
  },
  {
   "cell_type": "code",
   "execution_count": 5,
   "metadata": {},
   "outputs": [
    {
     "name": "stdout",
     "output_type": "stream",
     "text": [
      "d\n",
      "a\n",
      "t\n",
      "u\n",
      "m\n"
     ]
    }
   ],
   "source": [
    "strn = 'datum'\n",
    "\n",
    "for s in strn:\n",
    "    print(s)"
   ]
  },
  {
   "cell_type": "markdown",
   "metadata": {},
   "source": [
    "**iterating using `iter()` and `next()`**"
   ]
  },
  {
   "cell_type": "code",
   "execution_count": 6,
   "metadata": {},
   "outputs": [
    {
     "name": "stdout",
     "output_type": "stream",
     "text": [
      "d\n",
      "a\n",
      "t\n",
      "u\n",
      "m\n"
     ]
    }
   ],
   "source": [
    "st = iter(strn)\n",
    "\n",
    "print(next(st))\n",
    "print(next(st))\n",
    "print(next(st))\n",
    "print(next(st))\n",
    "print(next(st))"
   ]
  },
  {
   "cell_type": "markdown",
   "metadata": {},
   "source": [
    "### Tuples"
   ]
  },
  {
   "cell_type": "markdown",
   "metadata": {},
   "source": [
    "**iterating using `for` loop`**"
   ]
  },
  {
   "cell_type": "code",
   "execution_count": 7,
   "metadata": {},
   "outputs": [
    {
     "name": "stdout",
     "output_type": "stream",
     "text": [
      "auc\n",
      "recall\n",
      "precision\n",
      "support\n"
     ]
    }
   ],
   "source": [
    "metrics = ('auc','recall','precision','support')\n",
    "\n",
    "for met in metrics:\n",
    "    print(met)"
   ]
  },
  {
   "cell_type": "markdown",
   "metadata": {},
   "source": [
    "**iterating using `iter()` and `next()`**"
   ]
  },
  {
   "cell_type": "code",
   "execution_count": 17,
   "metadata": {},
   "outputs": [
    {
     "name": "stdout",
     "output_type": "stream",
     "text": [
      "auc\n",
      "recall\n",
      "precision\n",
      "support\n"
     ]
    }
   ],
   "source": [
    "metrics = ('auc','recall','precision','support')\n",
    "\n",
    "tup_metrics = iter(metrics)\n",
    "print(next(tup_metrics))\n",
    "print(next(tup_metrics))\n",
    "print(next(tup_metrics))\n",
    "print(next(tup_metrics))"
   ]
  },
  {
   "cell_type": "markdown",
   "metadata": {},
   "source": [
    "### Dictionaries"
   ]
  },
  {
   "cell_type": "markdown",
   "metadata": {},
   "source": [
    "\n",
    "**iterating using `for-loop`**"
   ]
  },
  {
   "cell_type": "code",
   "execution_count": 107,
   "metadata": {},
   "outputs": [],
   "source": [
    "courses = {'fall':['regression','python'], 'spring': ['ml','pyspark','nlp']}"
   ]
  },
  {
   "cell_type": "markdown",
   "metadata": {},
   "source": [
    "*Python's default is to interate over the keys*"
   ]
  },
  {
   "cell_type": "code",
   "execution_count": 38,
   "metadata": {},
   "outputs": [
    {
     "name": "stdout",
     "output_type": "stream",
     "text": [
      "fall\n",
      "spring\n"
     ]
    }
   ],
   "source": [
    "# iterate over keys\n",
    "for k in courses:\n",
    "    print(k)"
   ]
  },
  {
   "cell_type": "code",
   "execution_count": 39,
   "metadata": {},
   "outputs": [
    {
     "name": "stdout",
     "output_type": "stream",
     "text": [
      "fall\n",
      "spring\n"
     ]
    }
   ],
   "source": [
    "# iterate over keys, using keys() method\n",
    "for k in courses.keys():\n",
    "    print(k)"
   ]
  },
  {
   "cell_type": "code",
   "execution_count": 40,
   "metadata": {},
   "outputs": [
    {
     "name": "stdout",
     "output_type": "stream",
     "text": [
      "['regression', 'python']\n",
      "['ml', 'pyspark', 'nlp']\n"
     ]
    }
   ],
   "source": [
    "# iterate over values\n",
    "for v in courses.values():\n",
    "    print(v)"
   ]
  },
  {
   "cell_type": "code",
   "execution_count": 41,
   "metadata": {},
   "outputs": [
    {
     "name": "stdout",
     "output_type": "stream",
     "text": [
      "key  : fall\n",
      "value: ['regression', 'python']\n",
      "----------------------------------------\n",
      "key  : spring\n",
      "value: ['ml', 'pyspark', 'nlp']\n",
      "----------------------------------------\n"
     ]
    }
   ],
   "source": [
    "# iterate over keys and values using `items()`\n",
    "for k, v in courses.items():\n",
    "    print(\"key  :\", k)\n",
    "    print(\"value:\", v)\n",
    "    print(\"-\"*40)"
   ]
  },
  {
   "cell_type": "code",
   "execution_count": 43,
   "metadata": {},
   "outputs": [
    {
     "name": "stdout",
     "output_type": "stream",
     "text": [
      "key  : fall\n",
      "value: ['regression', 'python']\n",
      "----------------------------------------\n",
      "key  : spring\n",
      "value: ['ml', 'pyspark', 'nlp']\n",
      "----------------------------------------\n"
     ]
    }
   ],
   "source": [
    "# Alternatively for the last one, iterate over keys and values using `key()`.\n",
    "for k in courses.keys():\n",
    "    print(\"key  :\", k)\n",
    "    print(\"value:\", courses[k]) # index into the dict with the key\n",
    "    print(\"-\"*40)"
   ]
  },
  {
   "cell_type": "markdown",
   "metadata": {},
   "source": [
    "**iterating using `iter()` and `next()`**"
   ]
  },
  {
   "cell_type": "code",
   "execution_count": 110,
   "metadata": {},
   "outputs": [
    {
     "name": "stdout",
     "output_type": "stream",
     "text": [
      "fall\n",
      "spring\n"
     ]
    }
   ],
   "source": [
    "courses_iter = iter(courses)\n",
    "\n",
    "print(next(courses_iter))\n",
    "print(next(courses_iter))\n"
   ]
  },
  {
   "cell_type": "markdown",
   "metadata": {},
   "source": [
    "### Sets"
   ]
  },
  {
   "cell_type": "markdown",
   "metadata": {},
   "source": [
    "**iterating using `for`**  \n",
    "note: set has no notion of order"
   ]
  },
  {
   "cell_type": "code",
   "execution_count": 15,
   "metadata": {},
   "outputs": [
    {
     "name": "stdout",
     "output_type": "stream",
     "text": [
      "cinderella\n",
      "rapunzel\n",
      "belle\n"
     ]
    }
   ],
   "source": [
    "princesses = {'belle','cinderella','rapunzel'}\n",
    "\n",
    "for princess in princesses:\n",
    "    print(princess)"
   ]
  },
  {
   "cell_type": "markdown",
   "metadata": {},
   "source": [
    "**iterating using `iter()` and `next()`**"
   ]
  },
  {
   "cell_type": "code",
   "execution_count": 16,
   "metadata": {},
   "outputs": [
    {
     "name": "stdout",
     "output_type": "stream",
     "text": [
      "cinderella\n",
      "rapunzel\n",
      "belle\n"
     ]
    }
   ],
   "source": [
    "princesses = {'belle','cinderella','rapunzel'}\n",
    "\n",
    "myset = iter(princesses) \n",
    "print(next(myset))\n",
    "print(next(myset))\n",
    "print(next(myset))"
   ]
  },
  {
   "cell_type": "markdown",
   "metadata": {},
   "source": [
    "### Ranges"
   ]
  },
  {
   "cell_type": "markdown",
   "metadata": {},
   "source": [
    "**iterating using `for`**  \n"
   ]
  },
  {
   "cell_type": "code",
   "execution_count": 52,
   "metadata": {},
   "outputs": [
    {
     "name": "stdout",
     "output_type": "stream",
     "text": [
      "0\n",
      "2\n",
      "4\n",
      "6\n",
      "8\n"
     ]
    }
   ],
   "source": [
    "my_range = range(0, 10, 2)\n",
    "\n",
    "for ii in my_range:\n",
    "    print(ii)"
   ]
  },
  {
   "cell_type": "markdown",
   "metadata": {},
   "source": [
    "**iterating using `iter()` and `next()`**"
   ]
  },
  {
   "cell_type": "code",
   "execution_count": 53,
   "metadata": {},
   "outputs": [
    {
     "name": "stdout",
     "output_type": "stream",
     "text": [
      "0\n",
      "2\n",
      "4\n",
      "6\n",
      "8\n"
     ]
    }
   ],
   "source": [
    "my_range = iter(my_range) \n",
    "print(next(my_range))\n",
    "print(next(my_range))\n",
    "print(next(my_range))\n",
    "print(next(my_range))\n",
    "print(next(my_range))"
   ]
  },
  {
   "cell_type": "markdown",
   "metadata": {},
   "source": [
    "## Nested Loops  \n",
    "\n",
    "Iterations can be nested!\n",
    "\n",
    "This works well with nested data structures, like dicts within dicts.\n",
    "\n",
    "Be careful, though -- these can get complicated."
   ]
  },
  {
   "cell_type": "code",
   "execution_count": 54,
   "metadata": {},
   "outputs": [
    {
     "name": "stdout",
     "output_type": "stream",
     "text": [
      "1. FALL:\n",
      "\t1.1. regression\n",
      "\t1.2. python\n",
      "2. SPRING:\n",
      "\t2.1. ml\n",
      "\t2.2. pyspark\n",
      "\t2.3. nlp\n"
     ]
    }
   ],
   "source": [
    "for i, semester in enumerate(courses):\n",
    "    print(f\"{i+1}. {semester.upper()}:\")\n",
    "    for j, course in enumerate(courses[semester]):\n",
    "        print(f\"\\t{i+1}.{j+1}. {course}\")"
   ]
  },
  {
   "cell_type": "markdown",
   "metadata": {},
   "source": [
    "## Comprehension\n",
    "\n",
    "**Comprehension** provides a concise way to construct new iterables by iterating over existing ones. The most common type is list comprehension, but comprehension can also be used to create dictionaries, sets, and generators.\n",
    "\n",
    "### Introduction\n",
    "\n",
    "Let's start with a `for` loop and list example:"
   ]
  },
  {
   "cell_type": "code",
   "execution_count": 55,
   "metadata": {},
   "outputs": [
    {
     "data": {
      "text/plain": [
       "[True, True, False, False, False, True]"
      ]
     },
     "execution_count": 55,
     "metadata": {},
     "output_type": "execute_result"
    }
   ],
   "source": [
    "vals = [1, 5, 6, 8, 12, 15]\n",
    "is_odd = []\n",
    "\n",
    "for val in vals:   \n",
    "    if val % 2: # if remainder is one, val is odd\n",
    "        is_odd.append(True)\n",
    "    else:       # else it's not odd\n",
    "        is_odd.append(False)\n",
    "\n",
    "is_odd"
   ]
  },
  {
   "cell_type": "markdown",
   "metadata": {},
   "source": [
    "The code loops over each value in the list, checks the condition, and appends to a new list.  \n",
    "\n",
    "The code works, but it's lengthy compared to a list comprehension.  \n",
    "\n",
    "The approach takes extra time to write and understand.  \n",
    "\n",
    "Let's improve this situation with a list comprehension!"
   ]
  },
  {
   "cell_type": "code",
   "execution_count": 56,
   "metadata": {},
   "outputs": [
    {
     "data": {
      "text/plain": [
       "[True, True, False, False, False, True]"
      ]
     },
     "execution_count": 56,
     "metadata": {},
     "output_type": "execute_result"
    }
   ],
   "source": [
    "is_odd = [val % 2 == 1 for val in vals]\n",
    "is_odd"
   ]
  },
  {
   "cell_type": "markdown",
   "metadata": {},
   "source": [
    "As you can see, this piece of code is much shorter, and if you understand the syntax, quicker to interpet.\n",
    "\n",
    "Note the in-place use of an expression."
   ]
  },
  {
   "cell_type": "markdown",
   "metadata": {},
   "source": [
    "### General Theory\n",
    "\n",
    "There are comprehensions for almost each list-like object:\n",
    "\n",
    "* List comprehensions\n",
    "* Dictionary comprehensions\n",
    "* Set comprehensions\n",
    "\n",
    "**Comprehensions are essentially very concise `for` loops.** They are compact visually, but they also are more efficient than usual loops.\n",
    "\n",
    "All comprehensions in Python share the same fundamental components, which can be summarized as:\n",
    "\n",
    "`[expression for item in iterable if condition]`\n",
    "\n",
    "- **Expression** defines how each item in the resulting sequence will be transformed. **This has the structure of the kind of comprehension**. So, for example, dictionary comprehension expressions take the form `key_expression:value_expression` while lists and sets use `value_expression`.\n",
    "- **Item** is a variable representing each element from the iterable.\n",
    "- **Iterable** contains the series of elements you are looping over (e.g., a list, set, dictionary, string).\n",
    "- **Condition** allows you to exclude elements from the result if they do not meet a specified condition. This is optional.\n",
    "\n",
    "The type of comprehension is indicated by the use of enclosing pairs:\n",
    "\n",
    "* List comprehensions       `[expression for item in iterable if condition]`\n",
    "* Dictionary comprehensions `{key_expression:value_expression for item in iterable if condition}`\n",
    "* Set comprehensions        `{expression for item in iterable if condition}`\n",
    "\n",
    "```{note}\n",
    "\n",
    "There is also another type of comprehension that we are not going to cover in this course, which is called generator comprehension. This looks like a tuple comprehension, i.e. `(expression for item in iterable if condition)`. What it does it to create a generator, which lazily evaluates the expression and yields items one by one. In contrast to tuples, a generator does not store all the results in memory.\n",
    "\n",
    "```\n",
    "\n",
    "### Examples\n",
    "\n",
    "- Given list of words and a list of stop words, filter out the stop words (considered not important)."
   ]
  },
  {
   "cell_type": "code",
   "execution_count": 100,
   "metadata": {},
   "outputs": [
    {
     "data": {
      "text/plain": [
       "['not', 'fan', 'film']"
      ]
     },
     "execution_count": 100,
     "metadata": {},
     "output_type": "execute_result"
    }
   ],
   "source": [
    "stop_words = ['a','am','an','i','the','of']\n",
    "words      = ['i','am','not','a','fan','of','the','film']\n",
    "\n",
    "clean_words = [wd for wd in words if wd not in stop_words]\n",
    "clean_words"
   ]
  },
  {
   "cell_type": "code",
   "execution_count": 101,
   "metadata": {},
   "outputs": [
    {
     "data": {
      "text/plain": [
       "['not', 'fan', 'film']"
      ]
     },
     "execution_count": 101,
     "metadata": {},
     "output_type": "execute_result"
    }
   ],
   "source": [
    "# Compare with this\n",
    "clean_words = []\n",
    "for wd in words:\n",
    "    if wd not in stop_words:\n",
    "        clean_words.append(wd)\n",
    "clean_words"
   ]
  },
  {
   "cell_type": "markdown",
   "metadata": {},
   "source": [
    "- Given a list of measurements, retain elements with specific units"
   ]
  },
  {
   "cell_type": "code",
   "execution_count": 102,
   "metadata": {},
   "outputs": [
    {
     "data": {
      "text/plain": [
       "['120 mmHg', '115mmHg']"
      ]
     },
     "execution_count": 102,
     "metadata": {},
     "output_type": "execute_result"
    }
   ],
   "source": [
    "units = 'mmHg'\n",
    "measures = {'20', '115mmHg', '5mg', '10 mg', '7.5dl', '120 mmHg'}\n",
    "\n",
    "meas_mmhg = [meas for meas in measures if units in meas]\n",
    "\n",
    "meas_mmhg"
   ]
  },
  {
   "cell_type": "markdown",
   "metadata": {},
   "source": [
    "You can also filter on 2 conditions:"
   ]
  },
  {
   "cell_type": "code",
   "execution_count": 103,
   "metadata": {},
   "outputs": [
    {
     "data": {
      "text/plain": [
       "['120 mmHg', '7.5dl', '115mmHg']"
      ]
     },
     "execution_count": 103,
     "metadata": {},
     "output_type": "execute_result"
    }
   ],
   "source": [
    "units1 = 'mmHg'\n",
    "units2 = 'dl'\n",
    "meas_mmhg_dl = [meas for meas in measures if units1 in meas or units2 in meas]\n",
    "\n",
    "meas_mmhg_dl"
   ]
  },
  {
   "cell_type": "markdown",
   "metadata": {},
   "source": [
    "For clarity, you should read it like this:"
   ]
  },
  {
   "cell_type": "code",
   "execution_count": 104,
   "metadata": {},
   "outputs": [
    {
     "data": {
      "text/plain": [
       "['120 mmHg', '7.5dl', '115mmHg']"
      ]
     },
     "execution_count": 104,
     "metadata": {},
     "output_type": "execute_result"
    }
   ],
   "source": [
    "[meas \n",
    " for meas in measures \n",
    " if units1 in meas \n",
    " or units2 in meas]"
   ]
  },
  {
   "cell_type": "markdown",
   "metadata": {},
   "source": [
    "- Example using **Dictionary comprehensions**"
   ]
  },
  {
   "cell_type": "code",
   "execution_count": 105,
   "metadata": {},
   "outputs": [],
   "source": [
    "# various deep learning models and their depths\n",
    "model_arch = {'cnn_1':'15 layers', 'cnn_2':'20 layers', 'rnn': '10 layers'}"
   ]
  },
  {
   "cell_type": "code",
   "execution_count": 106,
   "metadata": {},
   "outputs": [
    {
     "data": {
      "text/plain": [
       "{'cnn_1': '15 layers', 'cnn_2': '20 layers'}"
      ]
     },
     "execution_count": 106,
     "metadata": {},
     "output_type": "execute_result"
    }
   ],
   "source": [
    "# create a new dict containing only key-value pairs where the key contains 'cnn'\n",
    "\n",
    "cnns = {key:model_arch[key] for key in model_arch.keys() if 'cnn' in key}\n",
    "cnns"
   ]
  },
  {
   "cell_type": "markdown",
   "metadata": {},
   "source": [
    "We build the key-value pairs using key:model_arch[key], where the key indexes into the dict model_arch"
   ]
  },
  {
   "cell_type": "markdown",
   "metadata": {},
   "source": [
    "## Practice exercises"
   ]
  },
  {
   "cell_type": "markdown",
   "metadata": {},
   "source": [
    "```{exercise}\n",
    ":label: iterables1\n",
    "\n",
    "1- Create a list of strings, where each string contains a mix of uppercase and lowercase letters.  Write a `for` loop` to iterate over the strings such that, in each iteration, it prints the string in lower case.  \n",
    "\n",
    "2 - Using the previous list, use `iter()` and `next()` to iterate over the list, printing each string.  In this case, the strings don't need to be lowercased.\n",
    "\n",
    "```"
   ]
  },
  {
   "cell_type": "code",
   "execution_count": 2,
   "metadata": {},
   "outputs": [],
   "source": [
    "# Your answers start here"
   ]
  },
  {
   "cell_type": "markdown",
   "metadata": {},
   "source": [
    "```{exercise}\n",
    ":label: iterables2\n",
    "\n",
    "Given a list of words, create a new list that contains only the words that start with a vowel. Do this with and without comprehension.\n",
    "\n",
    "```"
   ]
  },
  {
   "cell_type": "code",
   "execution_count": 3,
   "metadata": {},
   "outputs": [],
   "source": [
    "# Your answers start here"
   ]
  }
 ],
 "metadata": {
  "anaconda-cloud": {},
  "kernelspec": {
   "display_name": "Python 3 (ipykernel)",
   "language": "python",
   "name": "python3"
  },
  "language_info": {
   "codemirror_mode": {
    "name": "ipython",
    "version": 3
   },
   "file_extension": ".py",
   "mimetype": "text/x-python",
   "name": "python",
   "nbconvert_exporter": "python",
   "pygments_lexer": "ipython3",
   "version": "3.11.9"
  },
  "vscode": {
   "interpreter": {
    "hash": "31f2aee4e71d21fbe5cf8b01ff0e069b9275f58929596ceb00d14d90e3e16cd6"
   }
  }
 },
 "nbformat": 4,
 "nbformat_minor": 4
}
