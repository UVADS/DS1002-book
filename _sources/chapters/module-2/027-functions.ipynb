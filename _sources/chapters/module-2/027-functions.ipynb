{
 "cells": [
  {
   "cell_type": "markdown",
   "id": "a72ce3cb",
   "metadata": {},
   "source": [
    "# Functions\n",
    "\n",
    "What you will learn in this lesson:\n",
    "\n",
    "- Defining and calling functions\n",
    "- Parameters and arguments\n",
    "- Return values\n",
    "- Scope and lifetime of variables"
   ]
  },
  {
   "cell_type": "markdown",
   "id": "e5a277cd",
   "metadata": {
    "id": "pwrqpQn0iYhf"
   },
   "source": [
    "## Introduction\n",
    "\n",
    "Functions take input, perform a specific task and, optionally, produce an output. They contain a block of code to do their work.  \n",
    "\n",
    "Functions can return a single value, multiple values, or even no value at.\n",
    "\n",
    "Why do we use functions? \n",
    "\n",
    "- **Code economy**\n",
    "\n",
    "With functions, you can keep your code **short** and **concise**. Once a function is defined, it can be used as many times as needed, which is great to not need to write the same code over and over. In addition, functions help your code be more **readable**. For example, if you give a function a well-chosen name, anyone could read your code, and already infer what it does.\n",
    "\n",
    "Other forms of code economy is through modules and packages, which is you a way of grouping your code (e.g. functions).\n",
    "\n",
    "- **Parametrization**\n",
    "\n",
    "Functions accept parameters. Therefore, one can study different function’s behaviors by changing the different parameters.\n",
    "\n",
    "- **Production**\n",
    "\n",
    "We can use functions and the fact that they return one or multiple values for production."
   ]
  },
  {
   "cell_type": "markdown",
   "id": "1ad4dde7",
   "metadata": {},
   "source": [
    "## Built-in functions"
   ]
  },
  {
   "cell_type": "markdown",
   "id": "e8b51ee6",
   "metadata": {},
   "source": [
    "Python provides many built-in functions. You can find a complete list here: [Python built-in functions](https://docs.python.org/3/library/functions.html)  \n",
    "\n",
    "We have already seen examples of some built-in functions, such as`print()`, `id()`, `isinstance()`, `enumerate()` and `zip()`.\n",
    "\n",
    "Another example is `bool()`, which takes an argument (e.g. a variable) and returns `True` or `False`"
   ]
  },
  {
   "cell_type": "code",
   "execution_count": 1,
   "id": "53d8dfb8",
   "metadata": {
    "id": "R0SHTW08iYhg"
   },
   "outputs": [
    {
     "data": {
      "text/plain": [
       "True"
      ]
     },
     "execution_count": 1,
     "metadata": {},
     "output_type": "execute_result"
    }
   ],
   "source": [
    "# set a variable and pass into a conditional statement\n",
    "\n",
    "x = 3\n",
    "bool(x < 4)"
   ]
  },
  {
   "cell_type": "code",
   "execution_count": 2,
   "id": "bbf61df8",
   "metadata": {
    "id": "7sw_0hnHiYhg"
   },
   "outputs": [
    {
     "data": {
      "text/plain": [
       "False"
      ]
     },
     "execution_count": 2,
     "metadata": {},
     "output_type": "execute_result"
    }
   ],
   "source": [
    "bool(x >= 4)"
   ]
  },
  {
   "cell_type": "markdown",
   "id": "7096ed03-a6df-4669-9e62-e45c7f22d855",
   "metadata": {},
   "source": [
    "Or the function `help()`, which provides a help information of any passed object:"
   ]
  },
  {
   "cell_type": "code",
   "execution_count": 3,
   "id": "5f213aaf",
   "metadata": {
    "id": "Chfh1ORHiYhh"
   },
   "outputs": [
    {
     "name": "stdout",
     "output_type": "stream",
     "text": [
      "Help on class bool in module builtins:\n",
      "\n",
      "class bool(int)\n",
      " |  bool(x) -> bool\n",
      " |  \n",
      " |  Returns True when the argument x is true, False otherwise.\n",
      " |  The builtins True and False are the only two instances of the class bool.\n",
      " |  The class bool is a subclass of the class int, and cannot be subclassed.\n",
      " |  \n",
      " |  Method resolution order:\n",
      " |      bool\n",
      " |      int\n",
      " |      object\n",
      " |  \n",
      " |  Methods defined here:\n",
      " |  \n",
      " |  __and__(self, value, /)\n",
      " |      Return self&value.\n",
      " |  \n",
      " |  __or__(self, value, /)\n",
      " |      Return self|value.\n",
      " |  \n",
      " |  __rand__(self, value, /)\n",
      " |      Return value&self.\n",
      " |  \n",
      " |  __repr__(self, /)\n",
      " |      Return repr(self).\n",
      " |  \n",
      " |  __ror__(self, value, /)\n",
      " |      Return value|self.\n",
      " |  \n",
      " |  __rxor__(self, value, /)\n",
      " |      Return value^self.\n",
      " |  \n",
      " |  __xor__(self, value, /)\n",
      " |      Return self^value.\n",
      " |  \n",
      " |  ----------------------------------------------------------------------\n",
      " |  Static methods defined here:\n",
      " |  \n",
      " |  __new__(*args, **kwargs)\n",
      " |      Create and return a new object.  See help(type) for accurate signature.\n",
      " |  \n",
      " |  ----------------------------------------------------------------------\n",
      " |  Methods inherited from int:\n",
      " |  \n",
      " |  __abs__(self, /)\n",
      " |      abs(self)\n",
      " |  \n",
      " |  __add__(self, value, /)\n",
      " |      Return self+value.\n",
      " |  \n",
      " |  __bool__(self, /)\n",
      " |      True if self else False\n",
      " |  \n",
      " |  __ceil__(...)\n",
      " |      Ceiling of an Integral returns itself.\n",
      " |  \n",
      " |  __divmod__(self, value, /)\n",
      " |      Return divmod(self, value).\n",
      " |  \n",
      " |  __eq__(self, value, /)\n",
      " |      Return self==value.\n",
      " |  \n",
      " |  __float__(self, /)\n",
      " |      float(self)\n",
      " |  \n",
      " |  __floor__(...)\n",
      " |      Flooring an Integral returns itself.\n",
      " |  \n",
      " |  __floordiv__(self, value, /)\n",
      " |      Return self//value.\n",
      " |  \n",
      " |  __format__(self, format_spec, /)\n",
      " |      Default object formatter.\n",
      " |  \n",
      " |  __ge__(self, value, /)\n",
      " |      Return self>=value.\n",
      " |  \n",
      " |  __getattribute__(self, name, /)\n",
      " |      Return getattr(self, name).\n",
      " |  \n",
      " |  __getnewargs__(self, /)\n",
      " |  \n",
      " |  __gt__(self, value, /)\n",
      " |      Return self>value.\n",
      " |  \n",
      " |  __hash__(self, /)\n",
      " |      Return hash(self).\n",
      " |  \n",
      " |  __index__(self, /)\n",
      " |      Return self converted to an integer, if self is suitable for use as an index into a list.\n",
      " |  \n",
      " |  __int__(self, /)\n",
      " |      int(self)\n",
      " |  \n",
      " |  __invert__(self, /)\n",
      " |      ~self\n",
      " |  \n",
      " |  __le__(self, value, /)\n",
      " |      Return self<=value.\n",
      " |  \n",
      " |  __lshift__(self, value, /)\n",
      " |      Return self<<value.\n",
      " |  \n",
      " |  __lt__(self, value, /)\n",
      " |      Return self<value.\n",
      " |  \n",
      " |  __mod__(self, value, /)\n",
      " |      Return self%value.\n",
      " |  \n",
      " |  __mul__(self, value, /)\n",
      " |      Return self*value.\n",
      " |  \n",
      " |  __ne__(self, value, /)\n",
      " |      Return self!=value.\n",
      " |  \n",
      " |  __neg__(self, /)\n",
      " |      -self\n",
      " |  \n",
      " |  __pos__(self, /)\n",
      " |      +self\n",
      " |  \n",
      " |  __pow__(self, value, mod=None, /)\n",
      " |      Return pow(self, value, mod).\n",
      " |  \n",
      " |  __radd__(self, value, /)\n",
      " |      Return value+self.\n",
      " |  \n",
      " |  __rdivmod__(self, value, /)\n",
      " |      Return divmod(value, self).\n",
      " |  \n",
      " |  __rfloordiv__(self, value, /)\n",
      " |      Return value//self.\n",
      " |  \n",
      " |  __rlshift__(self, value, /)\n",
      " |      Return value<<self.\n",
      " |  \n",
      " |  __rmod__(self, value, /)\n",
      " |      Return value%self.\n",
      " |  \n",
      " |  __rmul__(self, value, /)\n",
      " |      Return value*self.\n",
      " |  \n",
      " |  __round__(...)\n",
      " |      Rounding an Integral returns itself.\n",
      " |      \n",
      " |      Rounding with an ndigits argument also returns an integer.\n",
      " |  \n",
      " |  __rpow__(self, value, mod=None, /)\n",
      " |      Return pow(value, self, mod).\n",
      " |  \n",
      " |  __rrshift__(self, value, /)\n",
      " |      Return value>>self.\n",
      " |  \n",
      " |  __rshift__(self, value, /)\n",
      " |      Return self>>value.\n",
      " |  \n",
      " |  __rsub__(self, value, /)\n",
      " |      Return value-self.\n",
      " |  \n",
      " |  __rtruediv__(self, value, /)\n",
      " |      Return value/self.\n",
      " |  \n",
      " |  __sizeof__(self, /)\n",
      " |      Returns size in memory, in bytes.\n",
      " |  \n",
      " |  __sub__(self, value, /)\n",
      " |      Return self-value.\n",
      " |  \n",
      " |  __truediv__(self, value, /)\n",
      " |      Return self/value.\n",
      " |  \n",
      " |  __trunc__(...)\n",
      " |      Truncating an Integral returns itself.\n",
      " |  \n",
      " |  as_integer_ratio(self, /)\n",
      " |      Return integer ratio.\n",
      " |      \n",
      " |      Return a pair of integers, whose ratio is exactly equal to the original int\n",
      " |      and with a positive denominator.\n",
      " |      \n",
      " |      >>> (10).as_integer_ratio()\n",
      " |      (10, 1)\n",
      " |      >>> (-10).as_integer_ratio()\n",
      " |      (-10, 1)\n",
      " |      >>> (0).as_integer_ratio()\n",
      " |      (0, 1)\n",
      " |  \n",
      " |  bit_count(self, /)\n",
      " |      Number of ones in the binary representation of the absolute value of self.\n",
      " |      \n",
      " |      Also known as the population count.\n",
      " |      \n",
      " |      >>> bin(13)\n",
      " |      '0b1101'\n",
      " |      >>> (13).bit_count()\n",
      " |      3\n",
      " |  \n",
      " |  bit_length(self, /)\n",
      " |      Number of bits necessary to represent self in binary.\n",
      " |      \n",
      " |      >>> bin(37)\n",
      " |      '0b100101'\n",
      " |      >>> (37).bit_length()\n",
      " |      6\n",
      " |  \n",
      " |  conjugate(...)\n",
      " |      Returns self, the complex conjugate of any int.\n",
      " |  \n",
      " |  to_bytes(self, /, length=1, byteorder='big', *, signed=False)\n",
      " |      Return an array of bytes representing an integer.\n",
      " |      \n",
      " |      length\n",
      " |        Length of bytes object to use.  An OverflowError is raised if the\n",
      " |        integer is not representable with the given number of bytes.  Default\n",
      " |        is length 1.\n",
      " |      byteorder\n",
      " |        The byte order used to represent the integer.  If byteorder is 'big',\n",
      " |        the most significant byte is at the beginning of the byte array.  If\n",
      " |        byteorder is 'little', the most significant byte is at the end of the\n",
      " |        byte array.  To request the native byte order of the host system, use\n",
      " |        `sys.byteorder' as the byte order value.  Default is to use 'big'.\n",
      " |      signed\n",
      " |        Determines whether two's complement is used to represent the integer.\n",
      " |        If signed is False and a negative integer is given, an OverflowError\n",
      " |        is raised.\n",
      " |  \n",
      " |  ----------------------------------------------------------------------\n",
      " |  Class methods inherited from int:\n",
      " |  \n",
      " |  from_bytes(bytes, byteorder='big', *, signed=False)\n",
      " |      Return the integer represented by the given array of bytes.\n",
      " |      \n",
      " |      bytes\n",
      " |        Holds the array of bytes to convert.  The argument must either\n",
      " |        support the buffer protocol or be an iterable object producing bytes.\n",
      " |        Bytes and bytearray are examples of built-in objects that support the\n",
      " |        buffer protocol.\n",
      " |      byteorder\n",
      " |        The byte order used to represent the integer.  If byteorder is 'big',\n",
      " |        the most significant byte is at the beginning of the byte array.  If\n",
      " |        byteorder is 'little', the most significant byte is at the end of the\n",
      " |        byte array.  To request the native byte order of the host system, use\n",
      " |        `sys.byteorder' as the byte order value.  Default is to use 'big'.\n",
      " |      signed\n",
      " |        Indicates whether two's complement is used to represent the integer.\n",
      " |  \n",
      " |  ----------------------------------------------------------------------\n",
      " |  Data descriptors inherited from int:\n",
      " |  \n",
      " |  denominator\n",
      " |      the denominator of a rational number in lowest terms\n",
      " |  \n",
      " |  imag\n",
      " |      the imaginary part of a complex number\n",
      " |  \n",
      " |  numerator\n",
      " |      the numerator of a rational number in lowest terms\n",
      " |  \n",
      " |  real\n",
      " |      the real part of a complex number\n",
      "\n"
     ]
    }
   ],
   "source": [
    "help(bool)"
   ]
  },
  {
   "cell_type": "markdown",
   "id": "535f1089",
   "metadata": {
    "id": "ZxNz1zlQiYhh"
   },
   "source": [
    "## Creating and calling a function\n",
    "\n",
    "Let's show how to create and call functions with an example. In this case, the function compares a list of values against a threshold."
   ]
  },
  {
   "cell_type": "code",
   "execution_count": 4,
   "id": "27e84754",
   "metadata": {
    "id": "A-pPSAWpiYhh"
   },
   "outputs": [],
   "source": [
    "def vals_greater_than_or_equal_to_threshold(vals, thresh):\n",
    "    '''\n",
    "    PURPOSE: Given a list of values, compare each value against a threshold\n",
    "\n",
    "    INPUTS\n",
    "    vals    list of ints or floats\n",
    "    thresh  int or float\n",
    "\n",
    "    OUTPUT\n",
    "    bools  list of booleans\n",
    "    '''\n",
    "\n",
    "    bools = [val >= thresh for val in vals] # List comprehension\n",
    "    return bools"
   ]
  },
  {
   "cell_type": "markdown",
   "id": "72c39f46",
   "metadata": {
    "id": "fKh4CY2GiYhh"
   },
   "source": [
    "**This function exhibits the common components of a function**. Let's break them down in detail:\n",
    "\n",
    "<ol>\n",
    "<li>The function definition starts with <code>def</code>, followed by name, one or more parameters in parenthesis, and then a colon.</li>\n",
    "<li>Then it comes the body of the function. This should be <b>indented</b>, so Python knows that the following piece of code belongs to the function. The body of a function usually consists of: </li>\n",
    "    <ol>\n",
    "    <li> First, a <code>docstring</code> to provide annotation (optional).</li>\n",
    "    <li> Second, the bulk of function.\n",
    "    <li> Lastly, a <code>return</code> statement (optional).</li>\n",
    "        </ol>\n",
    "</ol>\n",
    "\n",
    "After its definition, we can call the function to use it. To do so, we simply write **the function name followed by the required arguments** in parentheses."
   ]
  },
  {
   "cell_type": "markdown",
   "id": "6106a68e",
   "metadata": {
    "id": "pktQhKifiYhh"
   },
   "source": [
    "Let's test our function:"
   ]
  },
  {
   "cell_type": "code",
   "execution_count": 5,
   "id": "c438fdb9",
   "metadata": {
    "id": "8AhHzhMgiYhh"
   },
   "outputs": [
    {
     "data": {
      "text/plain": [
       "[False, True]"
      ]
     },
     "execution_count": 5,
     "metadata": {},
     "output_type": "execute_result"
    }
   ],
   "source": [
    "# validate that it works for ints\n",
    "\n",
    "x = [3, 4]\n",
    "thr = 4\n",
    "\n",
    "vals_greater_than_or_equal_to_threshold(x, thr)"
   ]
  },
  {
   "cell_type": "code",
   "execution_count": 6,
   "id": "74a03d8d",
   "metadata": {
    "id": "COZGpj27iYhh"
   },
   "outputs": [
    {
     "data": {
      "text/plain": [
       "[False, True]"
      ]
     },
     "execution_count": 6,
     "metadata": {},
     "output_type": "execute_result"
    }
   ],
   "source": [
    "# validate that it works for floats\n",
    "\n",
    "x = [3.0, 4.2]\n",
    "thr = 4.2\n",
    "\n",
    "vals_greater_than_or_equal_to_threshold(x, thr)"
   ]
  },
  {
   "cell_type": "markdown",
   "id": "b0f5fcb8",
   "metadata": {
    "id": "GeWMQNEsiYhh"
   },
   "source": [
    "This gives correct results and does exactly what we want.  "
   ]
  },
  {
   "cell_type": "markdown",
   "id": "1ff9fe71",
   "metadata": {
    "id": "5RCRce0_iYhi"
   },
   "source": [
    "## Arguments and parameters\n",
    "\n",
    "**Parameters** and **arguments** are both inputs of the functions, but is there any difference between them?\n",
    "\n",
    "In theory, parameters are the variables listed inside the parentheses in the function definition, whereas arguments are the actual values that you pass into the function when calling it.\n",
    "\n",
    "For example, in `vals_greater_than_or_equal_to_threshold`, \"vals\" and \"thresh\" would be the parameters, while `[3.0, 4.2]` and `4.2`, as shown in one of the examples above, are the arguments.\n",
    "\n",
    "At the end of the day, people often use both terms interchangeably, so don't worry too much about this technicality :)\n",
    "\n",
    "### Guidelines when passing arguments: \n",
    "\n",
    "1. Functions need to be called with the **correct number of parameters**."
   ]
  },
  {
   "cell_type": "code",
   "execution_count": 7,
   "id": "50f4e553",
   "metadata": {
    "id": "fZUJYTBliYhi"
   },
   "outputs": [],
   "source": [
    "## function requiring 2 parameters\n",
    "def fcn_bad_args(x, y):\n",
    "    return x+y"
   ]
  },
  {
   "cell_type": "markdown",
   "id": "76c547c4-b569-4b85-98a9-399311d25aa6",
   "metadata": {},
   "source": [
    "This function requires two parameters, so calling the function in the following way will give an error:"
   ]
  },
  {
   "cell_type": "code",
   "execution_count": 8,
   "id": "e9b9f019-7f5a-4844-8845-226b77a47927",
   "metadata": {},
   "outputs": [
    {
     "ename": "TypeError",
     "evalue": "fcn_bad_args() missing 1 required positional argument: 'y'",
     "output_type": "error",
     "traceback": [
      "\u001b[0;31m---------------------------------------------------------------------------\u001b[0m",
      "\u001b[0;31mTypeError\u001b[0m                                 Traceback (most recent call last)",
      "Cell \u001b[0;32mIn[8], line 2\u001b[0m\n\u001b[1;32m      1\u001b[0m \u001b[38;5;66;03m# function call with only 1 of the 2 arguments\u001b[39;00m\n\u001b[0;32m----> 2\u001b[0m fcn_bad_args(\u001b[38;5;241m10\u001b[39m)\n",
      "\u001b[0;31mTypeError\u001b[0m: fcn_bad_args() missing 1 required positional argument: 'y'"
     ]
    }
   ],
   "source": [
    "# function call with only 1 of the 2 arguments\n",
    "fcn_bad_args(10)"
   ]
  },
  {
   "cell_type": "markdown",
   "id": "beffed14",
   "metadata": {
    "id": "iRRKVuiTiYhi"
   },
   "source": [
    "2. When calling a function, the **order** of arguments **matters**. These types of arguments are called **positional arguments**."
   ]
  },
  {
   "cell_type": "code",
   "execution_count": 9,
   "id": "cf1dabe6",
   "metadata": {
    "id": "moaHmNmWiYhi"
   },
   "outputs": [
    {
     "name": "stdout",
     "output_type": "stream",
     "text": [
      "fcn_swapped_args(x,y) = 7\n",
      "fcn_swapped_args(y,x) = 11\n"
     ]
    }
   ],
   "source": [
    "x = 1\n",
    "y = 2\n",
    "\n",
    "# function with order of x then y\n",
    "def fcn_swapped_args(x, y):\n",
    "    out = 5 * x + y\n",
    "    return out\n",
    "\n",
    "# call function in correct order\n",
    "print('fcn_swapped_args(x,y) =', fcn_swapped_args(x,y))\n",
    "\n",
    "# call function in incorrect order\n",
    "print('fcn_swapped_args(y,x) =', fcn_swapped_args(y,x))"
   ]
  },
  {
   "cell_type": "markdown",
   "id": "2e87abcf",
   "metadata": {
    "id": "GXEHQpFxiYhi"
   },
   "source": [
    "Generally it's best to keep parameters in order.  "
   ]
  },
  {
   "cell_type": "markdown",
   "id": "dd14651d-f97b-4e80-826a-5a4249b07a4c",
   "metadata": {
    "id": "pguDfat9iYhi"
   },
   "source": [
    "<div class=\"alert alert-info\">\n",
    "<b>Important</b>: The name of the parameters in a function do not mean anything. In other words, just because a function names an argument `x`, the variables passed to it don't have to name `x` or anything like it. They can even be named the same thing -- it does not matter.\n",
    "</div>"
   ]
  },
  {
   "cell_type": "code",
   "execution_count": 10,
   "id": "d5af7774",
   "metadata": {
    "id": "wXAk3914iYhi"
   },
   "outputs": [
    {
     "data": {
      "text/plain": [
       "7"
      ]
     },
     "execution_count": 10,
     "metadata": {},
     "output_type": "execute_result"
    }
   ],
   "source": [
    "foo = 1\n",
    "bar = 2\n",
    "\n",
    "fcn_swapped_args(foo, bar)\n",
    "\n",
    "# works even though function was written as fcn_swapped_arg(x, y)"
   ]
  },
  {
   "cell_type": "markdown",
   "id": "5b852fcd-f990-4342-b9fd-6912194edf62",
   "metadata": {},
   "source": [
    "3. You can pass arguments in any order if you use **keyword** arguments. In this case, you specify the parameter name followed by the value it should take."
   ]
  },
  {
   "cell_type": "code",
   "execution_count": 11,
   "id": "4c139ef2",
   "metadata": {
    "id": "FATEk49QiYhi"
   },
   "outputs": [
    {
     "data": {
      "text/plain": [
       "7"
      ]
     },
     "execution_count": 11,
     "metadata": {},
     "output_type": "execute_result"
    }
   ],
   "source": [
    "x1 = 1\n",
    "y1 = 2\n",
    "\n",
    "# call parameter names in function call.\n",
    "fcn_swapped_args(y=y1, x=x1)"
   ]
  },
  {
   "cell_type": "markdown",
   "id": "cb2eaccc-c085-49e5-9d82-c8607bab7fd7",
   "metadata": {},
   "source": [
    "4.You can combine positional and keyword arguments, but **positional arguments must come before keyword arguments** in the function call."
   ]
  },
  {
   "cell_type": "code",
   "execution_count": 12,
   "id": "f118efa3-837c-4ed1-94db-a636078d3f44",
   "metadata": {},
   "outputs": [
    {
     "name": "stdout",
     "output_type": "stream",
     "text": [
      "7\n",
      "7\n",
      "7\n"
     ]
    }
   ],
   "source": [
    "# All positional arguments\n",
    "print(fcn_swapped_args(1, 2))\n",
    "# All keyword  arguments\n",
    "print(fcn_swapped_args(y=2, x=1))\n",
    "# One positional and one keyword  argument\n",
    "print(fcn_swapped_args(1, y=2))"
   ]
  },
  {
   "cell_type": "code",
   "execution_count": 13,
   "id": "d1f10c21-136a-49b7-9d71-4e02b12074e4",
   "metadata": {},
   "outputs": [
    {
     "ename": "SyntaxError",
     "evalue": "positional argument follows keyword argument (687633775.py, line 2)",
     "output_type": "error",
     "traceback": [
      "\u001b[0;36m  Cell \u001b[0;32mIn[13], line 2\u001b[0;36m\u001b[0m\n\u001b[0;31m    print(fcn_swapped_args(x=1, 2))\u001b[0m\n\u001b[0m                                 ^\u001b[0m\n\u001b[0;31mSyntaxError\u001b[0m\u001b[0;31m:\u001b[0m positional argument follows keyword argument\n"
     ]
    }
   ],
   "source": [
    "# This will fail, because keywork argument precedes a positional argument\n",
    "print(fcn_swapped_args(x=1, 2))"
   ]
  },
  {
   "cell_type": "markdown",
   "id": "80dfb92e-38f5-4faa-adfc-aa7d16b70fce",
   "metadata": {},
   "source": [
    "5. (Advanced) You can use an asterisk (`*`) before certain parameters to force them to be passed as **keyword-only arguments**."
   ]
  },
  {
   "cell_type": "code",
   "execution_count": 14,
   "id": "6d6cb189-a79a-4d7b-9119-2149cf5bdc03",
   "metadata": {},
   "outputs": [],
   "source": [
    "# The same function as above, but forcing y to be passed as keyword argument\n",
    "def fcn_force_keywords(x, *, y):\n",
    "    out = 5 * x + y\n",
    "    return out"
   ]
  },
  {
   "cell_type": "code",
   "execution_count": 15,
   "id": "037afe1f-ee32-4e0c-9e53-f43bf1fd7d5b",
   "metadata": {},
   "outputs": [
    {
     "ename": "TypeError",
     "evalue": "fcn_force_keywords() takes 1 positional argument but 2 were given",
     "output_type": "error",
     "traceback": [
      "\u001b[0;31m---------------------------------------------------------------------------\u001b[0m",
      "\u001b[0;31mTypeError\u001b[0m                                 Traceback (most recent call last)",
      "Cell \u001b[0;32mIn[15], line 2\u001b[0m\n\u001b[1;32m      1\u001b[0m \u001b[38;5;66;03m# This will fail\u001b[39;00m\n\u001b[0;32m----> 2\u001b[0m \u001b[38;5;28mprint\u001b[39m(fcn_force_keywords(\u001b[38;5;241m1\u001b[39m, \u001b[38;5;241m2\u001b[39m))\n",
      "\u001b[0;31mTypeError\u001b[0m: fcn_force_keywords() takes 1 positional argument but 2 were given"
     ]
    }
   ],
   "source": [
    "# This will fail\n",
    "print(fcn_force_keywords(1, 2))"
   ]
  },
  {
   "cell_type": "code",
   "execution_count": 16,
   "id": "51c5ed4f-f2eb-4ee8-bfda-d30fe7572728",
   "metadata": {},
   "outputs": [
    {
     "name": "stdout",
     "output_type": "stream",
     "text": [
      "7\n"
     ]
    }
   ],
   "source": [
    "# We need to pass y as a keyword\n",
    "print(fcn_force_keywords(1, y=2))"
   ]
  },
  {
   "cell_type": "code",
   "execution_count": 17,
   "id": "b1e48bf1-8d8b-43fc-84e1-d08d6127e81c",
   "metadata": {},
   "outputs": [
    {
     "name": "stdout",
     "output_type": "stream",
     "text": [
      "7\n"
     ]
    }
   ],
   "source": [
    "# x can be passed also as keyword, but it is optional\n",
    "print(fcn_force_keywords(x=1, y=2))"
   ]
  },
  {
   "cell_type": "markdown",
   "id": "613f0b39-4f56-4e5a-8398-5144417e2503",
   "metadata": {},
   "source": [
    "### Default Arguments"
   ]
  },
  {
   "cell_type": "markdown",
   "id": "eff2a4e7-437c-45a3-909d-073350134803",
   "metadata": {},
   "source": [
    "**Default arguments** set the value when an argument is unspecified."
   ]
  },
  {
   "cell_type": "code",
   "execution_count": 18,
   "id": "533424ce-1b91-4879-aff6-74516bc0c247",
   "metadata": {},
   "outputs": [],
   "source": [
    "def show_results(precision, printing=True):\n",
    "    precision = round(precision, 2)\n",
    "\n",
    "    if printing:\n",
    "      print('precision =', precision)\n",
    "    return precision"
   ]
  },
  {
   "cell_type": "code",
   "execution_count": 19,
   "id": "f6b0ff5e-e516-4fd5-9325-ac816b535e83",
   "metadata": {},
   "outputs": [
    {
     "name": "stdout",
     "output_type": "stream",
     "text": [
      "precision = 0.91\n"
     ]
    }
   ],
   "source": [
    "pr = 0.912\n",
    "# The function call didn't specify `printing`, so it defaulted to True.\n",
    "res = show_results(pr)"
   ]
  },
  {
   "cell_type": "code",
   "execution_count": 20,
   "id": "9bdeb56b-d2bd-4145-8468-676b451cd804",
   "metadata": {},
   "outputs": [],
   "source": [
    "# We can specify it to False here\n",
    "\n",
    "res = show_results(pr, False)"
   ]
  },
  {
   "cell_type": "markdown",
   "id": "95f4f84a-d269-4fc8-bf33-1d5aeef84c94",
   "metadata": {},
   "source": [
    "Default arguments must follow non-default arguments. This causes trouble:"
   ]
  },
  {
   "cell_type": "code",
   "execution_count": 21,
   "id": "92ac8efa-d8ae-43fa-a6a8-9e2630037842",
   "metadata": {},
   "outputs": [
    {
     "ename": "SyntaxError",
     "evalue": "non-default argument follows default argument (1599950692.py, line 1)",
     "output_type": "error",
     "traceback": [
      "\u001b[0;36m  Cell \u001b[0;32mIn[21], line 1\u001b[0;36m\u001b[0m\n\u001b[0;31m    def show_results(precision, printing=True, uhoh):\u001b[0m\n\u001b[0m                                               ^\u001b[0m\n\u001b[0;31mSyntaxError\u001b[0m\u001b[0;31m:\u001b[0m non-default argument follows default argument\n"
     ]
    }
   ],
   "source": [
    "def show_results(precision, printing=True, uhoh):\n",
    "    precision = round(precision, 2)\n",
    "\n",
    "    if printing:\n",
    "      print('precision =', precision)\n",
    "    return precision"
   ]
  },
  {
   "cell_type": "markdown",
   "id": "bf4402d1",
   "metadata": {
    "id": "gG0H4XFgiYhi"
   },
   "source": [
    "## Packing and Unpacking arguments\n",
    "\n",
    "The `*` operator (for tuples) and `**` operator (for dictionaries)  can be used to **pack** and **unpack** arguments when calling a function."
   ]
  },
  {
   "cell_type": "markdown",
   "id": "a088e68e-0f8c-4029-8956-87865a5b60f5",
   "metadata": {},
   "source": [
    "### **Packing**\n",
    "\n",
    "Packing allows us to pass an arbitrary number of values to a function.\n",
    "\n",
    "For example, with tuples:"
   ]
  },
  {
   "cell_type": "code",
   "execution_count": 22,
   "id": "af9f9181",
   "metadata": {
    "id": "GWJUkt0NiYhi"
   },
   "outputs": [],
   "source": [
    "def show_arg_expansion(*models):\n",
    "\n",
    "    print(\"models          :\", models)\n",
    "    print(\"input arg type  :\",  type(models))\n",
    "    print(\"input arg length:\", len(models))\n",
    "    print(\"-----------------------------\")\n",
    "\n",
    "    for mod in models:\n",
    "        print(mod)"
   ]
  },
  {
   "cell_type": "markdown",
   "id": "112349f4",
   "metadata": {
    "id": "1-F_nKl9iYhi"
   },
   "source": [
    "Now you can pass a tuple of an arbitrary number of values to the function..."
   ]
  },
  {
   "cell_type": "code",
   "execution_count": 23,
   "id": "eee8af4d",
   "metadata": {
    "id": "GFQ3TXbliYhi"
   },
   "outputs": [
    {
     "name": "stdout",
     "output_type": "stream",
     "text": [
      "models          : ('logreg', 'naive_bayes')\n",
      "input arg type  : <class 'tuple'>\n",
      "input arg length: 2\n",
      "-----------------------------\n",
      "logreg\n",
      "naive_bayes\n"
     ]
    }
   ],
   "source": [
    "show_arg_expansion(\"logreg\", \"naive_bayes\")"
   ]
  },
  {
   "cell_type": "code",
   "execution_count": 24,
   "id": "1f48a22d-959c-40d3-86fc-5d0afc4d94a5",
   "metadata": {},
   "outputs": [
    {
     "name": "stdout",
     "output_type": "stream",
     "text": [
      "models          : ('logreg', 'naive_bayes', 'gbm')\n",
      "input arg type  : <class 'tuple'>\n",
      "input arg length: 3\n",
      "-----------------------------\n",
      "logreg\n",
      "naive_bayes\n",
      "gbm\n"
     ]
    }
   ],
   "source": [
    "show_arg_expansion(\"logreg\", \"naive_bayes\", \"gbm\")"
   ]
  },
  {
   "cell_type": "markdown",
   "id": "d231a05d-7c2f-4fde-8b27-fd3ee789e038",
   "metadata": {},
   "source": [
    "Example with `print` function, which accepts any arbitrary number of arguments to print."
   ]
  },
  {
   "cell_type": "code",
   "execution_count": 25,
   "id": "911f8a5e-3f8d-47f8-a973-122bdabd9ea9",
   "metadata": {},
   "outputs": [
    {
     "name": "stdout",
     "output_type": "stream",
     "text": [
      "Help on built-in function print in module builtins:\n",
      "\n",
      "print(*args, sep=' ', end='\\n', file=None, flush=False)\n",
      "    Prints the values to a stream, or to sys.stdout by default.\n",
      "    \n",
      "    sep\n",
      "      string inserted between values, default a space.\n",
      "    end\n",
      "      string appended after the last value, default a newline.\n",
      "    file\n",
      "      a file-like object (stream); defaults to the current sys.stdout.\n",
      "    flush\n",
      "      whether to forcibly flush the stream.\n",
      "\n"
     ]
    }
   ],
   "source": [
    "help(print)"
   ]
  },
  {
   "cell_type": "code",
   "execution_count": 26,
   "id": "15820457-050d-46b6-a115-69cdc59ead2b",
   "metadata": {},
   "outputs": [
    {
     "name": "stdout",
     "output_type": "stream",
     "text": [
      "Hello class. This is your instructor. We are in DS 1002\n"
     ]
    }
   ],
   "source": [
    "print(\"Hello class.\", \"This is your instructor.\", \"We are in DS\", 1002)"
   ]
  },
  {
   "cell_type": "markdown",
   "id": "3fe53781-cf27-4f4c-b30e-c8a2f8585f5c",
   "metadata": {},
   "source": [
    "**With dictionary, you should use `**`**"
   ]
  },
  {
   "cell_type": "code",
   "execution_count": 27,
   "id": "46b8daaf-a8d9-439f-95a3-cf827bfdab6d",
   "metadata": {},
   "outputs": [
    {
     "name": "stdout",
     "output_type": "stream",
     "text": [
      "<class 'dict'>\n",
      "name = Javier\n",
      "ID = 1234\n",
      "language = Python\n"
     ]
    }
   ],
   "source": [
    "def show_entries(**entries):\n",
    "\n",
    "    # kwargs is a dict\n",
    "    print(type(entries))\n",
    "\n",
    "    # Printing dictionary items\n",
    "    for key in entries:\n",
    "        print(\"%s = %s\" % (key, entries[key]))\n",
    "\n",
    "# Somebody's info:\n",
    "show_entries(name=\"Javier\", ID=\"1234\", language=\"Python\")"
   ]
  },
  {
   "cell_type": "code",
   "execution_count": 28,
   "id": "6bb2cf06-ec45-43ee-9b4a-38ac0949e16c",
   "metadata": {},
   "outputs": [
    {
     "name": "stdout",
     "output_type": "stream",
     "text": [
      "<class 'dict'>\n",
      "name = Javier\n",
      "ID = 1234\n",
      "language = Python\n",
      "team = Athletic Club\n"
     ]
    }
   ],
   "source": [
    "# Again, we can pass an arbitrary number of entries\n",
    "show_entries(name=\"Javier\", ID=\"1234\", language=\"Python\", team = \"Athletic Club\")"
   ]
  },
  {
   "cell_type": "markdown",
   "id": "8d9d36f4-4e1f-4428-baf5-90b131a89849",
   "metadata": {},
   "source": [
    "### Unpacking"
   ]
  },
  {
   "cell_type": "markdown",
   "id": "51a42ef0-de2e-4205-ac67-1632204e7f0b",
   "metadata": {},
   "source": [
    "You can use the `*` operator to unpack list-like objects when passing them to a function that specifies its arguments. In this case, the arguments are passed as **positional** arguments."
   ]
  },
  {
   "cell_type": "code",
   "execution_count": 29,
   "id": "4192f699-b0ca-40ea-a0ec-a7c44247ebc2",
   "metadata": {},
   "outputs": [
    {
     "data": {
      "text/plain": [
       "256"
      ]
     },
     "execution_count": 29,
     "metadata": {},
     "output_type": "execute_result"
    }
   ],
   "source": [
    "def arg_expansion_example(x, y):\n",
    "    return x**y\n",
    "\n",
    "my_args = [2, 8]\n",
    "arg_expansion_example(*my_args)"
   ]
  },
  {
   "cell_type": "markdown",
   "id": "82e87104-7b36-4d49-8e26-d87ae6f69d72",
   "metadata": {},
   "source": [
    "But, the passed object must be the right length."
   ]
  },
  {
   "cell_type": "code",
   "execution_count": 30,
   "id": "bd03e06c-898d-4913-83fe-62ff7de669de",
   "metadata": {},
   "outputs": [
    {
     "ename": "TypeError",
     "evalue": "arg_expansion_example() takes 2 positional arguments but 3 were given",
     "output_type": "error",
     "traceback": [
      "\u001b[0;31m---------------------------------------------------------------------------\u001b[0m",
      "\u001b[0;31mTypeError\u001b[0m                                 Traceback (most recent call last)",
      "Cell \u001b[0;32mIn[30], line 2\u001b[0m\n\u001b[1;32m      1\u001b[0m my_args2 \u001b[38;5;241m=\u001b[39m [\u001b[38;5;241m2\u001b[39m, \u001b[38;5;241m8\u001b[39m, \u001b[38;5;241m5\u001b[39m]\n\u001b[0;32m----> 2\u001b[0m arg_expansion_example(\u001b[38;5;241m*\u001b[39mmy_args2)\n",
      "\u001b[0;31mTypeError\u001b[0m: arg_expansion_example() takes 2 positional arguments but 3 were given"
     ]
    }
   ],
   "source": [
    "my_args2 = [2, 8, 5]\n",
    "arg_expansion_example(*my_args2)"
   ]
  },
  {
   "cell_type": "markdown",
   "id": "b75834ad-958f-4808-a449-759636f9f135",
   "metadata": {},
   "source": [
    "And since these are positional arguments, be aware of the **order**!"
   ]
  },
  {
   "cell_type": "code",
   "execution_count": 31,
   "id": "9eae8e05-e836-49f8-ac13-2261b42e1c95",
   "metadata": {},
   "outputs": [
    {
     "name": "stdout",
     "output_type": "stream",
     "text": [
      "256\n",
      "64\n"
     ]
    }
   ],
   "source": [
    "my_args = [2, 8]\n",
    "print(arg_expansion_example(*my_args))\n",
    "\n",
    "my_args = [8, 2]\n",
    "print(arg_expansion_example(*my_args))\n"
   ]
  },
  {
   "cell_type": "markdown",
   "id": "926080d3-545a-4375-9c83-4097a54154dd",
   "metadata": {},
   "source": [
    "You can also use the `**` operator to unpack a dictionary of arguments. In this case, the arguments are passed as **keyword** arguments."
   ]
  },
  {
   "cell_type": "code",
   "execution_count": 32,
   "id": "c4f13630-ccf5-4b16-9513-a452b4b7a48d",
   "metadata": {},
   "outputs": [
    {
     "data": {
      "text/plain": [
       "256"
      ]
     },
     "execution_count": 32,
     "metadata": {},
     "output_type": "execute_result"
    }
   ],
   "source": [
    "my_args_dict = {\"x\": 2, \"y\": 8}\n",
    "arg_expansion_example(**my_args_dict)"
   ]
  },
  {
   "cell_type": "markdown",
   "id": "3934953d",
   "metadata": {
    "id": "ECgpfITPiYhp"
   },
   "source": [
    "## Returning Values\n",
    "\n",
    "- Functions are not required to have return statement. If there is no return statement, function returns `None` object.  \n",
    "\n",
    "- Functions can return no value (`None` object), one value, or many.  \n",
    "\n",
    "- Any Python object can be returned."
   ]
  },
  {
   "cell_type": "markdown",
   "id": "8960ba48-d6ee-4fca-ab4a-6f39eb2b149f",
   "metadata": {},
   "source": [
    "**Functions may have no return statement**"
   ]
  },
  {
   "cell_type": "code",
   "execution_count": 33,
   "id": "c9dcf261",
   "metadata": {
    "id": "fZtuJVPdiYhp"
   },
   "outputs": [],
   "source": [
    "# returns None, and prints.\n",
    "def fcn_nothing_to_return(x, y):\n",
    "    out = 'nothing to see here!'\n",
    "    print(out)"
   ]
  },
  {
   "cell_type": "code",
   "execution_count": 34,
   "id": "df02aa66",
   "metadata": {
    "id": "1sYG6tFMiYhp"
   },
   "outputs": [
    {
     "name": "stdout",
     "output_type": "stream",
     "text": [
      "nothing to see here!\n",
      "None\n"
     ]
    }
   ],
   "source": [
    "r = fcn_nothing_to_return(1, 1)\n",
    "print(r)"
   ]
  },
  {
   "cell_type": "markdown",
   "id": "e697ad64-b232-4604-a62f-64d0a203712d",
   "metadata": {},
   "source": [
    "For clarity purposes, it's generally a good idea to include return statements, even if not returning a value.  You can use `return` or `return None`."
   ]
  },
  {
   "cell_type": "code",
   "execution_count": 35,
   "id": "49a14def-899a-4b9a-830a-aa0f63bcd29e",
   "metadata": {},
   "outputs": [],
   "source": [
    "# returns None, and prints.\n",
    "def fcn_nothing_to_return(x, y):\n",
    "    out = 'nothing to see here!'\n",
    "    print(out)\n",
    "    return None"
   ]
  },
  {
   "cell_type": "code",
   "execution_count": 36,
   "id": "b9da9ef7-9b6a-42fe-8949-5fdf3ff21fa4",
   "metadata": {},
   "outputs": [
    {
     "name": "stdout",
     "output_type": "stream",
     "text": [
      "nothing to see here!\n",
      "None\n"
     ]
    }
   ],
   "source": [
    "r = fcn_nothing_to_return(1, 1)\n",
    "print(r)"
   ]
  },
  {
   "cell_type": "markdown",
   "id": "d95d0669-6777-4414-be85-7d8c8cf6b04e",
   "metadata": {},
   "source": [
    "**Functions may return more than one output**"
   ]
  },
  {
   "cell_type": "code",
   "execution_count": 37,
   "id": "2fb50cf1",
   "metadata": {
    "id": "iSW-A_N1iYhp"
   },
   "outputs": [],
   "source": [
    "# returns three values\n",
    "def negate_coords(x, y, z):\n",
    "    return -x, -y, -z"
   ]
  },
  {
   "cell_type": "code",
   "execution_count": 38,
   "id": "b311a871",
   "metadata": {
    "id": "UQrSV9nKiYhp"
   },
   "outputs": [
    {
     "name": "stdout",
     "output_type": "stream",
     "text": [
      "a= -10\n",
      "b= -20\n",
      "c= -30\n"
     ]
    }
   ],
   "source": [
    "a,b,c = negate_coords(10,20,30)\n",
    "print('a=', a)\n",
    "print('b=', b)\n",
    "print('c=', c)"
   ]
  },
  {
   "cell_type": "markdown",
   "id": "2e58d483",
   "metadata": {
    "id": "ifsJheijiYhp"
   },
   "source": [
    "\n",
    "<div class=\"alert alert-info\" role=\"alert\">\n",
    "<b>Important</b>: If you don't need an output, use the dummy variable <code>_</code>\n",
    "</div>"
   ]
  },
  {
   "cell_type": "code",
   "execution_count": 39,
   "id": "4c08f4c0",
   "metadata": {
    "id": "AgBl1V6TiYhp"
   },
   "outputs": [
    {
     "name": "stdout",
     "output_type": "stream",
     "text": [
      "d= -10\n",
      "e= -20\n"
     ]
    }
   ],
   "source": [
    "d,e,_ = negate_coords(10,20,30)\n",
    "print('d=', d)\n",
    "print('e=', e)"
   ]
  },
  {
   "cell_type": "markdown",
   "id": "e2419a1b",
   "metadata": {
    "id": "AlIg9oEEiYhq"
   },
   "source": [
    "**Functions can contain multiple return statements**"
   ]
  },
  {
   "cell_type": "code",
   "execution_count": 40,
   "id": "0b4abca7",
   "metadata": {
    "id": "rbJKLgjQiYhq"
   },
   "outputs": [],
   "source": [
    "# For non-negative values, the first `return` is reached.  \n",
    "# For negative values, the second `return` is reached.\n",
    "def absolute_value(num):\n",
    "    if num >= 0:\n",
    "        return num\n",
    "    return -num"
   ]
  },
  {
   "cell_type": "code",
   "execution_count": 41,
   "id": "9747ffe6",
   "metadata": {
    "id": "n66QsiX0iYhq"
   },
   "outputs": [
    {
     "data": {
      "text/plain": [
       "4"
      ]
     },
     "execution_count": 41,
     "metadata": {},
     "output_type": "execute_result"
    }
   ],
   "source": [
    "absolute_value(-4)"
   ]
  },
  {
   "cell_type": "code",
   "execution_count": 42,
   "id": "55691a2a",
   "metadata": {
    "id": "PBB4Rgl6iYhq"
   },
   "outputs": [
    {
     "data": {
      "text/plain": [
       "4"
      ]
     },
     "execution_count": 42,
     "metadata": {},
     "output_type": "execute_result"
    }
   ],
   "source": [
    "absolute_value(4)"
   ]
  },
  {
   "cell_type": "markdown",
   "id": "7a24a84a",
   "metadata": {
    "id": "M5ofH0wjiYhq"
   },
   "source": [
    "## Variable Scope\n",
    "\n",
    "A variable's **scope** refers to the part of a program where it is **visible**.\n",
    "\n",
    "In this context, visible means available or usable.\n",
    "\n",
    "If a variable is **in scope** within a function, it is visible to the function.\n",
    "\n",
    "If it is **out of scope** for a function, it is not visible to the function.\n",
    "\n",
    "When a variable is defined inside a function, it is not visible outside of that function.\n",
    "\n",
    "We say such variables are **local** to the function.\n",
    "\n",
    "These variables are also removed from memory when the function completes."
   ]
  },
  {
   "cell_type": "code",
   "execution_count": 43,
   "id": "b5ad2fc5",
   "metadata": {
    "id": "xv-6GxpmiYhq"
   },
   "outputs": [],
   "source": [
    "def show_scope(x):\n",
    "    x = 10*x\n",
    "    z = 4\n",
    "    print('z inside function =', z)\n",
    "    print('memory address of z inside function =', hex(id(z)))\n",
    "    return x"
   ]
  },
  {
   "cell_type": "code",
   "execution_count": 44,
   "id": "8b34ad6f",
   "metadata": {
    "id": "b-rPp26DiYhq"
   },
   "outputs": [
    {
     "name": "stdout",
     "output_type": "stream",
     "text": [
      "z inside function = 4\n",
      "memory address of z inside function = 0x87f448\n"
     ]
    },
    {
     "data": {
      "text/plain": [
       "60"
      ]
     },
     "execution_count": 44,
     "metadata": {},
     "output_type": "execute_result"
    }
   ],
   "source": [
    "# This code recognizes z from inside the function.\n",
    "show_scope(6)"
   ]
  },
  {
   "cell_type": "code",
   "execution_count": 45,
   "id": "70e63789",
   "metadata": {
    "id": "WPxisGHoiYhq"
   },
   "outputs": [
    {
     "ename": "NameError",
     "evalue": "name 'z' is not defined",
     "output_type": "error",
     "traceback": [
      "\u001b[0;31m---------------------------------------------------------------------------\u001b[0m",
      "\u001b[0;31mNameError\u001b[0m                                 Traceback (most recent call last)",
      "Cell \u001b[0;32mIn[45], line 2\u001b[0m\n\u001b[1;32m      1\u001b[0m \u001b[38;5;66;03m# Calling it from outside, where it isn't defined, throws an error.\u001b[39;00m\n\u001b[0;32m----> 2\u001b[0m \u001b[38;5;28mprint\u001b[39m(\u001b[38;5;124m'\u001b[39m\u001b[38;5;124mz =\u001b[39m\u001b[38;5;124m'\u001b[39m, z)\n",
      "\u001b[0;31mNameError\u001b[0m: name 'z' is not defined"
     ]
    }
   ],
   "source": [
    "# Calling it from outside, where it isn't defined, throws an error.\n",
    "print('z =', z)"
   ]
  },
  {
   "cell_type": "markdown",
   "id": "d1bf5b32",
   "metadata": {
    "id": "MEQu0vTEiYhq"
   },
   "source": [
    "If we define `z` and call the function, the update to `z` won't pass outside the function."
   ]
  },
  {
   "cell_type": "code",
   "execution_count": 46,
   "id": "c89eafdd",
   "metadata": {
    "id": "hy-7O-SIiYhq"
   },
   "outputs": [
    {
     "name": "stdout",
     "output_type": "stream",
     "text": [
      "z outside: 0x87f408\n",
      "z inside function = 4\n",
      "memory address of z inside function = 0x87f448\n",
      "z =  2\n"
     ]
    }
   ],
   "source": [
    "z = 2\n",
    "print('z outside:', hex(id(z)))\n",
    "out = show_scope(6)\n",
    "print('z = ', z)"
   ]
  },
  {
   "cell_type": "markdown",
   "id": "ce7821a9",
   "metadata": {
    "id": "Qw_Ux3H6iYhq"
   },
   "source": [
    "### Local versus Global Variables\n",
    "\n",
    "It’s important to have a good understanding of local versus global variables; otherwise, you may encounter unexpected behavior and confusion. Let’s explore this with several examples.\n",
    "\n",
    "**Example 1: Variable defined outside function, used inside function**\n",
    "\n",
    "In the code below:  \n",
    "\n",
    "`x` is global and seen from inside the function.  \n",
    "`r` is local to the function."
   ]
  },
  {
   "cell_type": "code",
   "execution_count": 47,
   "id": "1979b09a",
   "metadata": {
    "id": "Shy4_1YJiYhq"
   },
   "outputs": [],
   "source": [
    "x = 10\n",
    "\n",
    "def fcn(r):\n",
    "    out = x + r\n",
    "    return(out)\n"
   ]
  },
  {
   "cell_type": "code",
   "execution_count": 48,
   "id": "46ed7069",
   "metadata": {
    "id": "Wa7Nou2oiYhr"
   },
   "outputs": [
    {
     "name": "stdout",
     "output_type": "stream",
     "text": [
      "16\n"
     ]
    }
   ],
   "source": [
    "print(fcn(6)) # works"
   ]
  },
  {
   "cell_type": "code",
   "execution_count": 49,
   "id": "94ea7040",
   "metadata": {
    "id": "LzWya7D3iYhr"
   },
   "outputs": [
    {
     "name": "stdout",
     "output_type": "stream",
     "text": [
      "None\n"
     ]
    }
   ],
   "source": [
    "print(r)"
   ]
  },
  {
   "cell_type": "markdown",
   "id": "8d446ec3",
   "metadata": {
    "id": "_qKdTaTUiYhr"
   },
   "source": [
    "**Example 2: Variable defined outside function, updated and used inside function**\n",
    "\n",
    "`fcn` uses the local version of `x`"
   ]
  },
  {
   "cell_type": "code",
   "execution_count": 52,
   "id": "20d5484d",
   "metadata": {
    "id": "M6ljfBCXiYhr"
   },
   "outputs": [
    {
     "name": "stdout",
     "output_type": "stream",
     "text": [
      "x from fcn: 20\n",
      "fcn(6): 26\n",
      "x outside fcn: 10\n"
     ]
    }
   ],
   "source": [
    "x = 10\n",
    "\n",
    "def fcn(a):\n",
    "    x = 20\n",
    "    suma = x + a\n",
    "    print(f\"x from fcn: {x}\")\n",
    "    return(suma)\n",
    "\n",
    "print(f\"fcn(6): {fcn(6)}\")\n",
    "print(\"x outside fcn: {}\".format(x))"
   ]
  },
  {
   "cell_type": "markdown",
   "id": "9dc44cb9",
   "metadata": {
    "id": "AIoU3FS_iYhr"
   },
   "source": [
    "**Example 3: Variable defined outside function. Inside function, print variable, update, and use**\n",
    "\n",
    "This one may be confusing. It fails!  \n",
    "\n",
    "Python treats `x` inside function as the local `x`.  \n",
    "The `print` occurs before `x` is assigned, so it can't find `x`."
   ]
  },
  {
   "cell_type": "code",
   "execution_count": 53,
   "id": "8631e0b7",
   "metadata": {
    "id": "CgCgPEjSiYhr"
   },
   "outputs": [
    {
     "ename": "UnboundLocalError",
     "evalue": "cannot access local variable 'x' where it is not associated with a value",
     "output_type": "error",
     "traceback": [
      "\u001b[0;31m---------------------------------------------------------------------------\u001b[0m",
      "\u001b[0;31mUnboundLocalError\u001b[0m                         Traceback (most recent call last)",
      "Cell \u001b[0;32mIn[53], line 10\u001b[0m\n\u001b[1;32m      7\u001b[0m     \u001b[38;5;28mprint\u001b[39m(\u001b[38;5;124m'\u001b[39m\u001b[38;5;124mx from fcn, after update:\u001b[39m\u001b[38;5;124m'\u001b[39m, x)\n\u001b[1;32m      8\u001b[0m     \u001b[38;5;28;01mreturn\u001b[39;00m(out)\n\u001b[0;32m---> 10\u001b[0m \u001b[38;5;28mprint\u001b[39m(\u001b[38;5;124m'\u001b[39m\u001b[38;5;124mfcn(6):\u001b[39m\u001b[38;5;124m'\u001b[39m, fcn(\u001b[38;5;241m6\u001b[39m))\n\u001b[1;32m     11\u001b[0m \u001b[38;5;28mprint\u001b[39m(\u001b[38;5;124m'\u001b[39m\u001b[38;5;124mx:\u001b[39m\u001b[38;5;124m'\u001b[39m, x)\n",
      "Cell \u001b[0;32mIn[53], line 4\u001b[0m, in \u001b[0;36mfcn\u001b[0;34m(a)\u001b[0m\n\u001b[1;32m      3\u001b[0m \u001b[38;5;28;01mdef\u001b[39;00m \u001b[38;5;21mfcn\u001b[39m(a):\n\u001b[0;32m----> 4\u001b[0m     \u001b[38;5;28mprint\u001b[39m(\u001b[38;5;124m'\u001b[39m\u001b[38;5;124mx from fcn, before update:\u001b[39m\u001b[38;5;124m'\u001b[39m, x)\n\u001b[1;32m      5\u001b[0m     x \u001b[38;5;241m=\u001b[39m \u001b[38;5;241m20\u001b[39m\n\u001b[1;32m      6\u001b[0m     out \u001b[38;5;241m=\u001b[39m x \u001b[38;5;241m+\u001b[39m a\n",
      "\u001b[0;31mUnboundLocalError\u001b[0m: cannot access local variable 'x' where it is not associated with a value"
     ]
    }
   ],
   "source": [
    "x = 10\n",
    "\n",
    "def fcn(a):\n",
    "    print('x from fcn, before update:', x)\n",
    "    x = 20\n",
    "    out = x + a\n",
    "    print('x from fcn, after update:', x)\n",
    "    return(out)\n",
    "\n",
    "print('fcn(6):', fcn(6))\n",
    "print('x outside fcn:', x)"
   ]
  },
  {
   "cell_type": "markdown",
   "id": "ebe3ddd2",
   "metadata": {
    "id": "ezZJ3GPIiYhr"
   },
   "source": [
    "<div class=\"alert alert-info\" role=\"alert\">\n",
    "    <center><b> (ADVANCE) </b></center>\n",
    "\n",
    "The error can be fixed by referencing `x` as `global` inside the function.\n",
    "\n",
    "**This is only necessary if we wish to reassign the variable.**\n",
    "\n",
    "It can also be useful when we want several functions to operate on the same variable.\n",
    "\n",
    "However, be cautious with this approach, as it may affect the behavior of your program globally.\n",
    "</div>"
   ]
  },
  {
   "cell_type": "code",
   "execution_count": 54,
   "id": "519f8a98",
   "metadata": {
    "id": "WZpWaWqSiYhr"
   },
   "outputs": [
    {
     "name": "stdout",
     "output_type": "stream",
     "text": [
      "x from fcn, before update: 10\n",
      "x from fcn, after update: 20\n",
      "fcn(6): 26\n",
      "x outside fcn: 20\n"
     ]
    }
   ],
   "source": [
    "x = 10\n",
    "\n",
    "def fcn(a):\n",
    "    global x    # add this to reference global x outside function\n",
    "    print('x from fcn, before update:', x)\n",
    "    x = 20\n",
    "    out = x + a\n",
    "    print('x from fcn, after update:', x)\n",
    "    return(out)\n",
    "\n",
    "print('fcn(6):', fcn(6))\n",
    "print('x outside fcn:', x)"
   ]
  },
  {
   "cell_type": "markdown",
   "id": "d6414bd3-635a-4969-a3ac-378192f03bd8",
   "metadata": {},
   "source": [
    "## Docstring\n",
    "\n",
    "- A `docstring` is a string that occurs as first statement in module, function, class, or method definition\n",
    "- Saved in `__doc__` attribute\n",
    "- Needs to be indented\n",
    "- ``` '''enclosed in triple quotes like this''' ```\n",
    "\n",
    "- We gave functions a descriptive docstring to: (1) explain its purpose, and (2) name each input and output, and give their data types"
   ]
  },
  {
   "cell_type": "markdown",
   "id": "4129b68d-6de1-4e51-b143-7aa163ae671a",
   "metadata": {},
   "source": [
    "Let's look at an example from the beginning of this lesson to see how this works:"
   ]
  },
  {
   "cell_type": "code",
   "execution_count": 55,
   "id": "e8e4acac-7d97-492d-9dd0-f90873837e08",
   "metadata": {},
   "outputs": [],
   "source": [
    "def vals_greater_than_or_equal_to_threshold(vals, thresh):\n",
    "    '''\n",
    "    PURPOSE: Given a list of values, compare each value against a threshold\n",
    "\n",
    "    INPUTS\n",
    "    vals    list of ints or floats\n",
    "    thresh  int or float\n",
    "\n",
    "    OUTPUT\n",
    "    bools  list of booleans\n",
    "    '''\n",
    "\n",
    "    bools = [val >= thresh for val in vals] # List comprehension\n",
    "    return bools"
   ]
  },
  {
   "cell_type": "code",
   "execution_count": 56,
   "id": "a3692c5a-ba99-4a31-a577-0858b8288c3f",
   "metadata": {},
   "outputs": [
    {
     "data": {
      "text/plain": [
       "'\\n    PURPOSE: Given a list of values, compare each value against a threshold\\n\\n    INPUTS\\n    vals    list of ints or floats\\n    thresh  int or float\\n\\n    OUTPUT\\n    bools  list of booleans\\n    '"
      ]
     },
     "execution_count": 56,
     "metadata": {},
     "output_type": "execute_result"
    }
   ],
   "source": [
    "# Here is the documentation\n",
    "vals_greater_than_or_equal_to_threshold.__doc__"
   ]
  },
  {
   "cell_type": "markdown",
   "id": "77e4ace9-a7d1-46f1-a8c1-2068a48fb240",
   "metadata": {},
   "source": [
    "To print this info in a readable way, use `print`"
   ]
  },
  {
   "cell_type": "code",
   "execution_count": 57,
   "id": "b22dbd98-c620-471a-ad40-69818fcf00b6",
   "metadata": {},
   "outputs": [
    {
     "name": "stdout",
     "output_type": "stream",
     "text": [
      "\n",
      "    PURPOSE: Given a list of values, compare each value against a threshold\n",
      "\n",
      "    INPUTS\n",
      "    vals    list of ints or floats\n",
      "    thresh  int or float\n",
      "\n",
      "    OUTPUT\n",
      "    bools  list of booleans\n",
      "    \n"
     ]
    }
   ],
   "source": [
    "print(vals_greater_than_or_equal_to_threshold.__doc__)"
   ]
  },
  {
   "cell_type": "markdown",
   "id": "55484df1-44f4-4614-a6a0-22ba1f27a458",
   "metadata": {},
   "source": [
    "`help` function can also give you this info and more: "
   ]
  },
  {
   "cell_type": "code",
   "execution_count": 58,
   "id": "227124f0-2a42-474d-a6d9-daf1708d1a13",
   "metadata": {},
   "outputs": [
    {
     "name": "stdout",
     "output_type": "stream",
     "text": [
      "Help on function vals_greater_than_or_equal_to_threshold in module __main__:\n",
      "\n",
      "vals_greater_than_or_equal_to_threshold(vals, thresh)\n",
      "    PURPOSE: Given a list of values, compare each value against a threshold\n",
      "    \n",
      "    INPUTS\n",
      "    vals    list of ints or floats\n",
      "    thresh  int or float\n",
      "    \n",
      "    OUTPUT\n",
      "    bools  list of booleans\n",
      "\n"
     ]
    }
   ],
   "source": [
    "help(vals_greater_than_or_equal_to_threshold)"
   ]
  },
  {
   "cell_type": "markdown",
   "id": "fda91375",
   "metadata": {
    "id": "U5bXlKVFiYhr"
   },
   "source": [
    "##  Tips for creating good functions\n",
    "\n",
    "- Design a function to do **one** thing.\n",
    "- Keep your function as simple as possible. This makes it more understandable, easier to maintain, and reusable.\n",
    "- Give your function a meaningful name. What makes a good function name?\n",
    "<ul>\n",
    "    <li> It should clearly describe the action it performs. </li>\n",
    "    <li> Be consistent with naming conventions. </li>\n",
    "    <li> For example, a name like `compute_variances_sort_save_print` suggests the function is doing too much! </li>\n",
    "    <li> If a function like `compute_variances` also generates plots and updates variables, it can cause confusion.  </li>\n",
    "</ul>\n",
    "<br>\n",
    "- Always aim to provide your function with a docstring.\n",
    "    \n",
    "- In the future, as you advance in your Python skills, consider including variable and function type annotations. This is optional but useful (see more info https://docs.python.org/3/library/typing.html)."
   ]
  },
  {
   "cell_type": "markdown",
   "id": "31fe7fb9-70c0-48a9-80b5-4dbd390556bf",
   "metadata": {},
   "source": [
    "## Practice exercises"
   ]
  },
  {
   "cell_type": "markdown",
   "id": "25b7f9cc-ce82-4dac-bb96-06d36430c230",
   "metadata": {},
   "source": [
    "```{exercise}\n",
    ":label: functions1\n",
    "\n",
    "1.1 Write a function with these requirements:\n",
    "\n",
    "- It should have a sensible name.\n",
    "- It should contain a docstring.\n",
    "- It should take two inputs: a string, and an integer.\n",
    "- It should return True if the string length is equal to the integer, otherwise False.\n",
    "\n",
    "1.2  Call the function, passing inputs:  \n",
    "\n",
    "        - \"is this text the right length?\" for the string.\n",
    "        - 30 for the integer.\n",
    "        \n",
    "    Verify the output is True. \n",
    "    Test other combinations.\n",
    "```"
   ]
  },
  {
   "cell_type": "code",
   "execution_count": 59,
   "id": "1de8aa9a-ce88-4ad7-bf8c-22d1dc6f5140",
   "metadata": {},
   "outputs": [],
   "source": [
    "# Start here your answers"
   ]
  },
  {
   "cell_type": "markdown",
   "id": "63a505e1-f718-4974-9eed-09117ca9d838",
   "metadata": {},
   "source": [
    "```{exercise}\n",
    ":label: functions2\n",
    "\n",
    "Write a function with these requirements:\n",
    "\n",
    "- It should take *args for the input argument, so we can later pass as many arguments as we want.\n",
    "- It should squares each argument, printing the value. You can use a for loop for this.\n",
    "- It should not return any value\n",
    "\n",
    "Next, call the function, passing at least two integers. Try other combinations too.\n",
    "```"
   ]
  },
  {
   "cell_type": "code",
   "execution_count": 60,
   "id": "c5eae375-7597-4715-a8ba-97d1a6162367",
   "metadata": {},
   "outputs": [],
   "source": [
    "# Start here your answers"
   ]
  }
 ],
 "metadata": {
  "anaconda-cloud": {},
  "colab": {
   "include_colab_link": true,
   "provenance": []
  },
  "kernelspec": {
   "display_name": "Python 3 (ipykernel)",
   "language": "python",
   "name": "python3"
  },
  "language_info": {
   "codemirror_mode": {
    "name": "ipython",
    "version": 3
   },
   "file_extension": ".py",
   "mimetype": "text/x-python",
   "name": "python",
   "nbconvert_exporter": "python",
   "pygments_lexer": "ipython3",
   "version": "3.11.9"
  },
  "vscode": {
   "interpreter": {
    "hash": "31f2aee4e71d21fbe5cf8b01ff0e069b9275f58929596ceb00d14d90e3e16cd6"
   }
  }
 },
 "nbformat": 4,
 "nbformat_minor": 5
}
