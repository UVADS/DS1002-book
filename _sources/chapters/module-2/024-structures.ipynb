{
 "cells": [
  {
   "cell_type": "markdown",
   "id": "b0c81b28",
   "metadata": {},
   "source": [
    "# Data Structures\n",
    "\n",
    "What you will learn in this lesson:\n",
    "\n",
    "- Lists\n",
    "- Dictionaries\n",
    "- Tuples\n",
    "- Sets\n",
    "- Ranges"
   ]
  },
  {
   "cell_type": "markdown",
   "id": "001984f7-912b-4abf-9b88-841774c85c0b",
   "metadata": {},
   "source": [
    "In contrast to primitive data types (e.g. integers, floats and booleans), data structures organize types into structures that have certain properties, such as **order**, **mutability**, and **addressing scheme**, e.g. by index."
   ]
  },
  {
   "cell_type": "markdown",
   "id": "18f574bb-0db7-40ac-9c0e-fb507024e171",
   "metadata": {
    "id": "18f574bb-0db7-40ac-9c0e-fb507024e171",
    "tags": []
   },
   "source": [
    "## Lists\n",
    "\n",
    "A list is an ordered sequence of items.\n",
    "\n",
    "Each element of a list is associated with an integer that represents the order in which the element appears.\n",
    "\n",
    "Lists are indexed with **brackets** `[]`.\n",
    "\n",
    "List elements are accessed by providing their order number in the brackets.\n",
    "\n",
    "Lists are **mutable**, meaning you can modify them after they have been created.\n",
    "\n",
    "They can contain mixed types."
   ]
  },
  {
   "cell_type": "markdown",
   "id": "518c5585-c5a7-4b26-92b7-e401908f2421",
   "metadata": {
    "id": "518c5585-c5a7-4b26-92b7-e401908f2421",
    "tags": []
   },
   "source": [
    "### Constructing a list\n",
    "\n",
    "They can be **constructed** in several ways:"
   ]
  },
  {
   "cell_type": "code",
   "execution_count": 1,
   "id": "3f062d71-f2b7-4cab-96da-f27f4edd9fad",
   "metadata": {
    "id": "3f062d71-f2b7-4cab-96da-f27f4edd9fad"
   },
   "outputs": [
    {
     "name": "stdout",
     "output_type": "stream",
     "text": [
      "[]\n",
      "[]\n",
      "['some', 'string']\n",
      "[1, 2, 3, 4]\n"
     ]
    }
   ],
   "source": [
    "list1 = [] # empty list\n",
    "list2 = list(()) # Also an empty list\n",
    "list3 = \"some string\".split()\n",
    "numbers = [1,2,3,4] # a list of integers\n",
    "\n",
    "print(list1)\n",
    "print(list2)\n",
    "print(list3)\n",
    "print(numbers)"
   ]
  },
  {
   "cell_type": "code",
   "execution_count": 2,
   "id": "05983ba0-6c3e-484e-8a77-f79b26f4ea5f",
   "metadata": {},
   "outputs": [
    {
     "data": {
      "text/plain": [
       "['coconuts', 777, 7.25, 'Sir Robin', 80.0, True]"
      ]
     },
     "execution_count": 2,
     "metadata": {},
     "output_type": "execute_result"
    }
   ],
   "source": [
    "# List can contain mixed types\n",
    "myList = ['coconuts', 777, 7.25, 'Sir Robin', 80.0, True]\n",
    "myList"
   ]
  },
  {
   "cell_type": "markdown",
   "id": "648fa951-6681-4d14-8eee-3a5252b4f4da",
   "metadata": {},
   "source": [
    "### Practice exercise"
   ]
  },
  {
   "cell_type": "markdown",
   "id": "edcd8127-8bbd-4386-afb2-be0b3114298d",
   "metadata": {},
   "source": [
    "```{exercise}\n",
    ":label: structures1\n",
    "\n",
    "Using some of the previous methods, construct a list containing your numerical birth month, the first letter of your name, & a boolean to the question: I like coffee.\n",
    "```"
   ]
  },
  {
   "cell_type": "code",
   "execution_count": 3,
   "id": "edabe0e3-0ed3-465f-9040-b8b6f4216d4f",
   "metadata": {},
   "outputs": [],
   "source": [
    "# Start your answers here"
   ]
  },
  {
   "cell_type": "markdown",
   "id": "055206a8-4683-4903-8f2b-1d746c667d54",
   "metadata": {
    "id": "055206a8-4683-4903-8f2b-1d746c667d54",
    "tags": []
   },
   "source": [
    "### Indexing\n",
    "\n",
    "<div class=\"alert alert-info\">\n",
    "    <b>Info</b>: Indexing a list is similar to indexing a string.\n",
    "</div>"
   ]
  },
  {
   "cell_type": "code",
   "execution_count": 4,
   "id": "XZgPtOG6IULe",
   "metadata": {
    "id": "XZgPtOG6IULe"
   },
   "outputs": [],
   "source": [
    "numbers = [1,2,3,4,5,6]"
   ]
  },
  {
   "cell_type": "code",
   "execution_count": 5,
   "id": "9634cd89-fcdd-4e13-b953-17ec6d7e8feb",
   "metadata": {
    "id": "9634cd89-fcdd-4e13-b953-17ec6d7e8feb"
   },
   "outputs": [
    {
     "data": {
      "text/plain": [
       "1"
      ]
     },
     "execution_count": 5,
     "metadata": {},
     "output_type": "execute_result"
    }
   ],
   "source": [
    "numbers[0] # Access first element (output: 1)"
   ]
  },
  {
   "cell_type": "code",
   "execution_count": 6,
   "id": "721d2f80-c371-4a75-85ca-410b986c0f75",
   "metadata": {
    "id": "721d2f80-c371-4a75-85ca-410b986c0f75"
   },
   "outputs": [
    {
     "data": {
      "text/plain": [
       "5"
      ]
     },
     "execution_count": 6,
     "metadata": {},
     "output_type": "execute_result"
    }
   ],
   "source": [
    "numbers[0] + numbers[3] # doing arithmetic with the elements of the list (output: 5)"
   ]
  },
  {
   "cell_type": "code",
   "execution_count": 7,
   "id": "113521f2-8e9d-4b5f-ae5c-a170b6c09ee7",
   "metadata": {
    "id": "113521f2-8e9d-4b5f-ae5c-a170b6c09ee7"
   },
   "outputs": [
    {
     "data": {
      "text/plain": [
       "6"
      ]
     },
     "execution_count": 7,
     "metadata": {},
     "output_type": "execute_result"
    }
   ],
   "source": [
    "# Like with strings, we can get the number of elements of the list with the function len()\n",
    "len(numbers)"
   ]
  },
  {
   "cell_type": "code",
   "execution_count": 8,
   "id": "e2bca69c",
   "metadata": {
    "id": "e2bca69c"
   },
   "outputs": [
    {
     "data": {
      "text/plain": [
       "[1, 2]"
      ]
     },
     "execution_count": 8,
     "metadata": {},
     "output_type": "execute_result"
    }
   ],
   "source": [
    "numbers[:2] # returns 1 (index 0) to 2 (index 2 minus 1)"
   ]
  },
  {
   "cell_type": "code",
   "execution_count": 9,
   "id": "12be4aa6",
   "metadata": {
    "id": "12be4aa6"
   },
   "outputs": [
    {
     "data": {
      "text/plain": [
       "[5, 6]"
      ]
     },
     "execution_count": 9,
     "metadata": {},
     "output_type": "execute_result"
    }
   ],
   "source": [
    "numbers[-2:] # returns 3 (4 minus 2 = index 2) to 4 (4 minus 1 = index 3)"
   ]
  },
  {
   "cell_type": "code",
   "execution_count": 10,
   "id": "1c107cf0-8cb6-45db-9ab8-f3668ad05b64",
   "metadata": {},
   "outputs": [
    {
     "data": {
      "text/plain": [
       "[6]"
      ]
     },
     "execution_count": 10,
     "metadata": {},
     "output_type": "execute_result"
    }
   ],
   "source": [
    "# Returns the last element (see strings lesson)\n",
    "numbers[-1:]"
   ]
  },
  {
   "cell_type": "markdown",
   "id": "8438be45",
   "metadata": {
    "id": "8438be45"
   },
   "source": [
    "You can find the index of an element by using the method `index`"
   ]
  },
  {
   "cell_type": "code",
   "execution_count": 11,
   "id": "91c68a67",
   "metadata": {
    "id": "91c68a67"
   },
   "outputs": [
    {
     "data": {
      "text/plain": [
       "2"
      ]
     },
     "execution_count": 11,
     "metadata": {},
     "output_type": "execute_result"
    }
   ],
   "source": [
    "numbers.index(3)"
   ]
  },
  {
   "cell_type": "markdown",
   "id": "4acb8e9a-2527-44b5-b369-5d5114b10306",
   "metadata": {},
   "source": [
    "### Practice exercise"
   ]
  },
  {
   "cell_type": "markdown",
   "id": "e9cc6467-c745-4d64-a214-5d343b807c2d",
   "metadata": {},
   "source": [
    "```{exercise}\n",
    ":label: structures2\n",
    "\n",
    "Apply indexing to the list in the first practice excercise to pull out your numerical birth month.\n",
    "```"
   ]
  },
  {
   "cell_type": "code",
   "execution_count": 12,
   "id": "6f551c0f-6e96-456a-a719-6d1c33deef5f",
   "metadata": {},
   "outputs": [],
   "source": [
    "# Start your answers here"
   ]
  },
  {
   "cell_type": "markdown",
   "id": "ed32ea76-4431-407f-a7ea-a2a774cf8722",
   "metadata": {
    "id": "ed32ea76-4431-407f-a7ea-a2a774cf8722",
    "tags": []
   },
   "source": [
    "### Slicing\n",
    "\n",
    "<div class=\"alert alert-info\">\n",
    "    <b>Info</b>: Slicing a list is similar to indexing a strings.\n",
    "</div>"
   ]
  },
  {
   "cell_type": "code",
   "execution_count": 13,
   "id": "0eae24c3-6af0-45c7-a2df-7b0297c2e274",
   "metadata": {
    "id": "0eae24c3-6af0-45c7-a2df-7b0297c2e274"
   },
   "outputs": [
    {
     "data": {
      "text/plain": [
       "[1, 2]"
      ]
     },
     "execution_count": 13,
     "metadata": {},
     "output_type": "execute_result"
    }
   ],
   "source": [
    "numbers[0:2] # Output: [1, 2]"
   ]
  },
  {
   "cell_type": "code",
   "execution_count": 14,
   "id": "f7b45918-72a5-4100-99cb-1bb35746d4ca",
   "metadata": {
    "id": "f7b45918-72a5-4100-99cb-1bb35746d4ca"
   },
   "outputs": [
    {
     "data": {
      "text/plain": [
       "[2, 3]"
      ]
     },
     "execution_count": 14,
     "metadata": {},
     "output_type": "execute_result"
    }
   ],
   "source": [
    "numbers[1:3] # Output: [2, 3]"
   ]
  },
  {
   "cell_type": "code",
   "execution_count": 15,
   "id": "0c3a816c-8c1e-44e6-a404-ab3258d45977",
   "metadata": {
    "id": "0c3a816c-8c1e-44e6-a404-ab3258d45977"
   },
   "outputs": [
    {
     "data": {
      "text/plain": [
       "[3, 4, 5, 6]"
      ]
     },
     "execution_count": 15,
     "metadata": {},
     "output_type": "execute_result"
    }
   ],
   "source": [
    "numbers[2:]  # Output: [3, 4]"
   ]
  },
  {
   "cell_type": "markdown",
   "id": "1abbef64-50bb-426a-b459-1ac88e0dc75f",
   "metadata": {},
   "source": [
    "### Practice exercise\n",
    "\n",
    "```{exercise}\n",
    ":label: structures3\n",
    "\n",
    "Slice the list in the first practice exercise using a method from above. For more see https://www.learnbyexample.org/python-list-slicing/\n",
    "\n",
    "```"
   ]
  },
  {
   "cell_type": "code",
   "execution_count": 16,
   "id": "006329e3-43e4-45b0-b8a6-62763b2444b2",
   "metadata": {},
   "outputs": [],
   "source": [
    "# Start your answers here"
   ]
  },
  {
   "cell_type": "markdown",
   "id": "8b8b02f8-932a-42f9-91d2-f6f2741f6de8",
   "metadata": {
    "id": "8b8b02f8-932a-42f9-91d2-f6f2741f6de8",
    "tags": []
   },
   "source": [
    "### Operations on lists\n",
    "\n",
    "<div class=\"alert alert-info\">\n",
    "    <b>Info</b>: Operators <code>*</code> and <code>+</code> work similarly as with strings\n",
    "</div>"
   ]
  },
  {
   "cell_type": "code",
   "execution_count": 17,
   "id": "11796cce-2ca8-4663-9485-f549f57839a9",
   "metadata": {
    "id": "11796cce-2ca8-4663-9485-f549f57839a9"
   },
   "outputs": [
    {
     "data": {
      "text/plain": [
       "[1, 2, 3, 4, 5, 6, 1, 2, 3, 4, 5, 6]"
      ]
     },
     "execution_count": 17,
     "metadata": {},
     "output_type": "execute_result"
    }
   ],
   "source": [
    "# This yields list repeated 2 times\n",
    "numbers * 2"
   ]
  },
  {
   "cell_type": "markdown",
   "id": "f31c27fb",
   "metadata": {
    "id": "f31c27fb"
   },
   "source": [
    "### Practice exercise\n",
    "\n",
    "```{exercise}\n",
    ":label: structures4\n",
    "\n",
    "Multiply the list in the first practice exercise  by a given scalar.\n",
    "\n",
    "```"
   ]
  },
  {
   "cell_type": "code",
   "execution_count": 18,
   "id": "273e0866-6b23-4f3e-af0a-70a0ca0e4184",
   "metadata": {
    "id": "273e0866-6b23-4f3e-af0a-70a0ca0e4184"
   },
   "outputs": [
    {
     "data": {
      "text/plain": [
       "[1, 2, 3, 4, 5, 6, 30, 40, 50]"
      ]
     },
     "execution_count": 18,
     "metadata": {},
     "output_type": "execute_result"
    }
   ],
   "source": [
    "# This concatenates two lists\n",
    "numbers2 = [30, 40, 50]\n",
    "numbers + numbers2 "
   ]
  },
  {
   "cell_type": "markdown",
   "id": "e71bf6a6",
   "metadata": {
    "id": "e71bf6a6"
   },
   "source": [
    "### Practice exercise\n",
    "\n",
    "```{exercise}\n",
    ":label: structures5\n",
    "\n",
    "Add  \"numbers\" to the list in the first practice exercise.\n",
    "\n",
    "```\n"
   ]
  },
  {
   "cell_type": "code",
   "execution_count": 19,
   "id": "46644581-4d0c-4515-90e8-8906341ae92e",
   "metadata": {},
   "outputs": [],
   "source": [
    "# Start your answers here"
   ]
  },
  {
   "cell_type": "markdown",
   "id": "2fad6129-901f-4e5c-9053-3d9ed03bb20b",
   "metadata": {},
   "source": [
    "### Some notes"
   ]
  },
  {
   "cell_type": "markdown",
   "id": "a1eb1801-b619-44b8-8fea-f2e320e5a825",
   "metadata": {
    "id": "a1eb1801-b619-44b8-8fea-f2e320e5a825"
   },
   "source": [
    "- <div class=\"alert alert-danger\">\n",
    "    <b>Alert</b>: We can not directly multiply lists.\n",
    "</div>"
   ]
  },
  {
   "cell_type": "code",
   "execution_count": 20,
   "id": "ca5a7d14",
   "metadata": {
    "id": "ca5a7d14"
   },
   "outputs": [
    {
     "ename": "TypeError",
     "evalue": "can't multiply sequence by non-int of type 'list'",
     "output_type": "error",
     "traceback": [
      "\u001b[0;31m---------------------------------------------------------------------------\u001b[0m",
      "\u001b[0;31mTypeError\u001b[0m                                 Traceback (most recent call last)",
      "Cell \u001b[0;32mIn[20], line 2\u001b[0m\n\u001b[1;32m      1\u001b[0m \u001b[38;5;66;03m# This is not allowed\u001b[39;00m\n\u001b[0;32m----> 2\u001b[0m myList \u001b[38;5;241m*\u001b[39m myList\n",
      "\u001b[0;31mTypeError\u001b[0m: can't multiply sequence by non-int of type 'list'"
     ]
    }
   ],
   "source": [
    "# This is not allowed\n",
    "myList * myList"
   ]
  },
  {
   "cell_type": "markdown",
   "id": "1e72be7f-06cd-40f0-9453-36bd4960f38b",
   "metadata": {
    "id": "1e72be7f-06cd-40f0-9453-36bd4960f38b",
    "tags": []
   },
   "source": [
    "- <div class=\"alert alert-info\">\n",
    "    <b>Info</b>: Lists can be nested.\n",
    "</div>"
   ]
  },
  {
   "cell_type": "code",
   "execution_count": 21,
   "id": "6b455e9c-00ee-42a0-ae74-57e39a6d4b49",
   "metadata": {
    "id": "6b455e9c-00ee-42a0-ae74-57e39a6d4b49"
   },
   "outputs": [
    {
     "name": "stdout",
     "output_type": "stream",
     "text": [
      "['Billie', 'Arthur']\n",
      "Darrell\n"
     ]
    }
   ],
   "source": [
    "names = ['Darrell', 'Clayton', ['Billie', 'Arthur'], 'Samantha']\n",
    "print(names[2]) # returns a *list*\n",
    "print(names[0]) # returns a *string*"
   ]
  },
  {
   "cell_type": "markdown",
   "id": "ef144e47-735e-4624-8860-abc0a947cc93",
   "metadata": {},
   "source": [
    "### Mutability\n",
    "\n",
    "Lists are **mutable**!"
   ]
  },
  {
   "cell_type": "code",
   "execution_count": 22,
   "id": "e9ba1682-fa0c-4ce7-9d64-d9b6aafda3a6",
   "metadata": {},
   "outputs": [
    {
     "name": "stdout",
     "output_type": "stream",
     "text": [
      "(Before) First name in names: Darrell\n",
      "(After) First name in names: Clint\n"
     ]
    }
   ],
   "source": [
    "print(f\"(Before) First name in names: {names[0]}\")\n",
    "\n",
    "names[0] = \"Clint\"\n",
    "\n",
    "print(f\"(After) First name in names: {names[0]}\")"
   ]
  },
  {
   "cell_type": "markdown",
   "id": "38732195-9987-4845-8ef1-8154bcced82d",
   "metadata": {
    "id": "38732195-9987-4845-8ef1-8154bcced82d",
    "tags": []
   },
   "source": [
    "## Dictionaries \n",
    "\n",
    "Dictionaries are like hash tables, containing key-value pairs.\n",
    "\n",
    "Elements are indexed using brackets `[]` (like lists).\n",
    "\n",
    "But Dictionaries are constructed using braces `{}` or `dict()`.\n",
    "\n",
    "Key names must be unique. If you re-use a key, you overwrite its value.\n",
    "\n",
    "Keys don't have to be strings -- they can be numbers or tuples or expressions that evaluate to one of these."
   ]
  },
  {
   "cell_type": "markdown",
   "id": "d0760dc2-ae63-4ab7-805c-d4ba6cfd143e",
   "metadata": {
    "id": "d0760dc2-ae63-4ab7-805c-d4ba6cfd143e"
   },
   "source": [
    "### Constructing a dictionary"
   ]
  },
  {
   "cell_type": "code",
   "execution_count": 23,
   "id": "3c40a687-9635-42e9-9590-6e5b608fe16d",
   "metadata": {
    "id": "3c40a687-9635-42e9-9590-6e5b608fe16d"
   },
   "outputs": [],
   "source": [
    "dictionary1 = {\n",
    "    'a': 1,\n",
    "    'b': 2,\n",
    "    'c': 3\n",
    "}"
   ]
  },
  {
   "cell_type": "code",
   "execution_count": 24,
   "id": "5a41a0f9-3a07-4c48-8702-7e66110abd19",
   "metadata": {
    "id": "5a41a0f9-3a07-4c48-8702-7e66110abd19"
   },
   "outputs": [],
   "source": [
    "dictionary2 = dict(x=55, y=29, z=99) # Note the absence of quotes around keys"
   ]
  },
  {
   "cell_type": "code",
   "execution_count": 25,
   "id": "928109fa-925a-4dff-a090-476dc5f3cbec",
   "metadata": {
    "id": "928109fa-925a-4dff-a090-476dc5f3cbec"
   },
   "outputs": [
    {
     "data": {
      "text/plain": [
       "{'x': 55, 'y': 29, 'z': 99}"
      ]
     },
     "execution_count": 25,
     "metadata": {},
     "output_type": "execute_result"
    }
   ],
   "source": [
    "dictionary2"
   ]
  },
  {
   "cell_type": "code",
   "execution_count": 26,
   "id": "d6bc0b2d-34ab-46c4-9057-40649ead16cb",
   "metadata": {
    "id": "d6bc0b2d-34ab-46c4-9057-40649ead16cb"
   },
   "outputs": [],
   "source": [
    "dictionary3 = {'A': 'foo', \n",
    "               99: 'bar', # Note that the key now is number \n",
    "               (1,2): 'baz' # Note that the key now is now a tuple (see below)\n",
    "              }"
   ]
  },
  {
   "cell_type": "code",
   "execution_count": 27,
   "id": "0489d1f9-be2e-4d39-b30f-f15f00b5e919",
   "metadata": {
    "id": "0489d1f9-be2e-4d39-b30f-f15f00b5e919"
   },
   "outputs": [
    {
     "data": {
      "text/plain": [
       "{'A': 'foo', 99: 'bar', (1, 2): 'baz'}"
      ]
     },
     "execution_count": 27,
     "metadata": {},
     "output_type": "execute_result"
    }
   ],
   "source": [
    "dictionary3"
   ]
  },
  {
   "cell_type": "markdown",
   "id": "624cd83e-4b7b-4bc0-9c76-d33bd40a1633",
   "metadata": {
    "id": "624cd83e-4b7b-4bc0-9c76-d33bd40a1633"
   },
   "source": [
    "### Retrieve a value\n",
    "\n",
    "Just pass the key as the *index* in the brackets."
   ]
  },
  {
   "cell_type": "code",
   "execution_count": 28,
   "id": "39bc8222-fe71-490f-8b53-fa1352221948",
   "metadata": {
    "id": "39bc8222-fe71-490f-8b53-fa1352221948"
   },
   "outputs": [],
   "source": [
    "phonelist = {'Tom':123, 'Bob':456, 'Sam':897}"
   ]
  },
  {
   "cell_type": "code",
   "execution_count": 29,
   "id": "12ca56b5-2bb4-4482-9002-3449b6e68f04",
   "metadata": {
    "id": "12ca56b5-2bb4-4482-9002-3449b6e68f04"
   },
   "outputs": [
    {
     "data": {
      "text/plain": [
       "456"
      ]
     },
     "execution_count": 29,
     "metadata": {},
     "output_type": "execute_result"
    }
   ],
   "source": [
    "phonelist['Bob']"
   ]
  },
  {
   "cell_type": "markdown",
   "id": "3ba7f8d3-8970-42c6-9bb7-bb65a1a8cc0d",
   "metadata": {},
   "source": [
    "or use the method `get`:"
   ]
  },
  {
   "cell_type": "code",
   "execution_count": 30,
   "id": "899cae52-7737-49cf-9908-f226bcbc589a",
   "metadata": {},
   "outputs": [
    {
     "data": {
      "text/plain": [
       "456"
      ]
     },
     "execution_count": 30,
     "metadata": {},
     "output_type": "execute_result"
    }
   ],
   "source": [
    "phonelist.get('Bob')"
   ]
  },
  {
   "cell_type": "markdown",
   "id": "21f76a54-54b4-4937-a262-c89d9cd936bf",
   "metadata": {
    "id": "21f76a54-54b4-4937-a262-c89d9cd936bf"
   },
   "source": [
    "### Some methods"
   ]
  },
  {
   "cell_type": "markdown",
   "id": "35f0b2cd",
   "metadata": {
    "id": "35f0b2cd"
   },
   "source": [
    "`keys`: Provides the keys of a dictionary. **Keys are not sorted. They print in the order entered.**"
   ]
  },
  {
   "cell_type": "code",
   "execution_count": 31,
   "id": "47ed6e92-2c4c-4f3c-8435-7e27a191ccab",
   "metadata": {
    "id": "47ed6e92-2c4c-4f3c-8435-7e27a191ccab"
   },
   "outputs": [
    {
     "data": {
      "text/plain": [
       "dict_keys(['Tom', 'Bob', 'Sam'])"
      ]
     },
     "execution_count": 31,
     "metadata": {},
     "output_type": "execute_result"
    }
   ],
   "source": [
    "phonelist.keys() # Returns a list"
   ]
  },
  {
   "cell_type": "markdown",
   "id": "783c7600",
   "metadata": {
    "id": "783c7600"
   },
   "source": [
    "`values`: Provides the values of a dictionary."
   ]
  },
  {
   "cell_type": "code",
   "execution_count": 32,
   "id": "ae19e277-e929-46ad-ab27-2715a05243a7",
   "metadata": {
    "id": "ae19e277-e929-46ad-ab27-2715a05243a7"
   },
   "outputs": [
    {
     "data": {
      "text/plain": [
       "dict_values([123, 456, 897])"
      ]
     },
     "execution_count": 32,
     "metadata": {},
     "output_type": "execute_result"
    }
   ],
   "source": [
    "phonelist.values() # Returns a list"
   ]
  },
  {
   "cell_type": "markdown",
   "id": "8a05ac9a",
   "metadata": {
    "id": "8a05ac9a"
   },
   "source": [
    "`items`: Provides both the keys and values of a dictionary."
   ]
  },
  {
   "cell_type": "code",
   "execution_count": 33,
   "id": "292b5fee-68db-42b6-af5e-7c4ef14c384a",
   "metadata": {
    "id": "292b5fee-68db-42b6-af5e-7c4ef14c384a"
   },
   "outputs": [
    {
     "data": {
      "text/plain": [
       "dict_items([('Tom', 123), ('Bob', 456), ('Sam', 897)])"
      ]
     },
     "execution_count": 33,
     "metadata": {},
     "output_type": "execute_result"
    }
   ],
   "source": [
    "phonelist.items() # Returns a list of tuples"
   ]
  },
  {
   "cell_type": "markdown",
   "id": "e5e1a406",
   "metadata": {
    "id": "e5e1a406"
   },
   "source": [
    "These methods are handy when using **For** loops (next week)."
   ]
  },
  {
   "cell_type": "code",
   "execution_count": 34,
   "id": "05e77ecd",
   "metadata": {
    "id": "05e77ecd"
   },
   "outputs": [
    {
     "name": "stdout",
     "output_type": "stream",
     "text": [
      "Bob\n",
      "Sam\n",
      "Tom\n"
     ]
    }
   ],
   "source": [
    "for key in sorted(phonelist.keys()):\n",
    "    print(key)"
   ]
  },
  {
   "cell_type": "markdown",
   "id": "1035b203-275f-4943-9a8b-5e5fc96e3b03",
   "metadata": {},
   "source": [
    "<div class=\"alert alert-info\">\n",
    "    <b>Info</b>: We can use <code>len</code> and <code>in</code> with Dictionaries.\n",
    "</div>"
   ]
  },
  {
   "cell_type": "code",
   "execution_count": 35,
   "id": "ed5db0fc-bf52-411a-a257-7f324fb6b2f2",
   "metadata": {},
   "outputs": [
    {
     "data": {
      "text/plain": [
       "3"
      ]
     },
     "execution_count": 35,
     "metadata": {},
     "output_type": "execute_result"
    }
   ],
   "source": [
    "len(phonelist)"
   ]
  },
  {
   "cell_type": "code",
   "execution_count": 36,
   "id": "c09a69b6-d9e7-46e9-830e-6ef362f63aab",
   "metadata": {},
   "outputs": [
    {
     "data": {
      "text/plain": [
       "True"
      ]
     },
     "execution_count": 36,
     "metadata": {},
     "output_type": "execute_result"
    }
   ],
   "source": [
    "# If we use the name of the list with `in` in checks the keys\n",
    "\"Bob\" in phonelist"
   ]
  },
  {
   "cell_type": "code",
   "execution_count": 37,
   "id": "7183ef2f-328d-46f3-982f-79b3961727bb",
   "metadata": {},
   "outputs": [
    {
     "data": {
      "text/plain": [
       "False"
      ]
     },
     "execution_count": 37,
     "metadata": {},
     "output_type": "execute_result"
    }
   ],
   "source": [
    "# Therefore, if we check a particular value in this way it will return a False\n",
    "123 in phonelist"
   ]
  },
  {
   "cell_type": "code",
   "execution_count": 38,
   "id": "66670047-19b6-461c-b12d-d31b9348691b",
   "metadata": {},
   "outputs": [
    {
     "data": {
      "text/plain": [
       "True"
      ]
     },
     "execution_count": 38,
     "metadata": {},
     "output_type": "execute_result"
    }
   ],
   "source": [
    "# We have to specify that we want to check the values of the dictionary\n",
    "123 in phonelist.values()"
   ]
  },
  {
   "cell_type": "markdown",
   "id": "e1c90780-7058-4623-a1a1-c5301f5771c6",
   "metadata": {
    "id": "e1c90780-7058-4623-a1a1-c5301f5771c6",
    "tags": []
   },
   "source": [
    "## Tuples\n",
    "\n",
    "A tuple is like a list but with one big difference: **a tuple is an immutable object!** That is, you can't change a tuple once it's created.\n",
    "\n",
    "A tuple can contain any number of elements of any datatype.\n",
    "\n",
    "Accessed with brackets `[]` but constructed with or without parentheses `()`."
   ]
  },
  {
   "cell_type": "code",
   "execution_count": 39,
   "id": "d8683806-f03c-4663-86e6-e1345ee4f53c",
   "metadata": {
    "id": "d8683806-f03c-4663-86e6-e1345ee4f53c"
   },
   "outputs": [
    {
     "name": "stdout",
     "output_type": "stream",
     "text": [
      "[1, 2, 3, 4, 5, 6]\n",
      "[1, 2, 3, 30, 5, 6]\n"
     ]
    }
   ],
   "source": [
    "# We saw lists are mutable\n",
    "\n",
    "print(numbers)\n",
    "numbers[3] = 30\n",
    "print(numbers)"
   ]
  },
  {
   "cell_type": "code",
   "execution_count": 40,
   "id": "9998596e",
   "metadata": {
    "id": "9998596e"
   },
   "outputs": [
    {
     "ename": "TypeError",
     "evalue": "'tuple' object does not support item assignment",
     "output_type": "error",
     "traceback": [
      "\u001b[0;31m---------------------------------------------------------------------------\u001b[0m",
      "\u001b[0;31mTypeError\u001b[0m                                 Traceback (most recent call last)",
      "Cell \u001b[0;32mIn[40], line 3\u001b[0m\n\u001b[1;32m      1\u001b[0m \u001b[38;5;66;03m# But, tuples are immutable\u001b[39;00m\n\u001b[1;32m      2\u001b[0m numbers4 \u001b[38;5;241m=\u001b[39m (\u001b[38;5;241m26\u001b[39m, \u001b[38;5;241m27\u001b[39m, \u001b[38;5;241m28\u001b[39m)\n\u001b[0;32m----> 3\u001b[0m numbers4[\u001b[38;5;241m2\u001b[39m] \u001b[38;5;241m=\u001b[39m \u001b[38;5;241m30\u001b[39m\n",
      "\u001b[0;31mTypeError\u001b[0m: 'tuple' object does not support item assignment"
     ]
    }
   ],
   "source": [
    "# But, tuples are immutable\n",
    "numbers4 = (26, 27, 28)\n",
    "numbers4[2] = 30"
   ]
  },
  {
   "cell_type": "markdown",
   "id": "59eb44f3-ff39-4285-a980-9a29eea56387",
   "metadata": {
    "id": "59eb44f3-ff39-4285-a980-9a29eea56387",
    "tags": []
   },
   "source": [
    "### Constructing\n",
    "\n",
    "Created with comma-separated values, with or without parentheses."
   ]
  },
  {
   "cell_type": "code",
   "execution_count": 41,
   "id": "378ed89f-0e0b-4408-ad48-b1e5d56c0c48",
   "metadata": {
    "id": "378ed89f-0e0b-4408-ad48-b1e5d56c0c48"
   },
   "outputs": [
    {
     "data": {
      "text/plain": [
       "('a', 'b', 'c', 'd')"
      ]
     },
     "execution_count": 41,
     "metadata": {},
     "output_type": "execute_result"
    }
   ],
   "source": [
    "letters = 'a', 'b', 'c', 'd'\n",
    "letters"
   ]
  },
  {
   "cell_type": "code",
   "execution_count": 42,
   "id": "c2ed787b-803d-4bf9-806b-32ee318d314d",
   "metadata": {},
   "outputs": [
    {
     "data": {
      "text/plain": [
       "tuple"
      ]
     },
     "execution_count": 42,
     "metadata": {},
     "output_type": "execute_result"
    }
   ],
   "source": [
    "type(letters)"
   ]
  },
  {
   "cell_type": "code",
   "execution_count": 43,
   "id": "2f2d72be-39d5-4495-8ac3-1f8aa18c28b6",
   "metadata": {
    "id": "2f2d72be-39d5-4495-8ac3-1f8aa18c28b6"
   },
   "outputs": [
    {
     "data": {
      "text/plain": [
       "(1, 2, 3, 4)"
      ]
     },
     "execution_count": 43,
     "metadata": {},
     "output_type": "execute_result"
    }
   ],
   "source": [
    "numbers = (1,2,3,4) # numbers 1,2,3,4 stored in a tuple\n",
    "numbers"
   ]
  },
  {
   "cell_type": "code",
   "execution_count": 44,
   "id": "2942c2e4-6614-4255-9370-a1158d9452fd",
   "metadata": {},
   "outputs": [
    {
     "data": {
      "text/plain": [
       "tuple"
      ]
     },
     "execution_count": 44,
     "metadata": {},
     "output_type": "execute_result"
    }
   ],
   "source": [
    "type(numbers)"
   ]
  },
  {
   "cell_type": "markdown",
   "id": "5559a519-ed9f-4ba1-b9cb-2014b4265f3f",
   "metadata": {
    "id": "5559a519-ed9f-4ba1-b9cb-2014b4265f3f"
   },
   "source": [
    "A single valued tuple must include a comma `,`, e.g."
   ]
  },
  {
   "cell_type": "code",
   "execution_count": 45,
   "id": "fd0488fa-7a8a-464c-ad0a-7bc6b328ca69",
   "metadata": {
    "id": "fd0488fa-7a8a-464c-ad0a-7bc6b328ca69"
   },
   "outputs": [
    {
     "data": {
      "text/plain": [
       "int"
      ]
     },
     "execution_count": 45,
     "metadata": {},
     "output_type": "execute_result"
    }
   ],
   "source": [
    "# If we miss the comma with a single valued tuple, it is not a tuple\n",
    "tuple0 = (29)\n",
    "type(tuple0)"
   ]
  },
  {
   "cell_type": "code",
   "execution_count": 46,
   "id": "d975e57a-4598-433e-ac5d-f0a3b67dd77c",
   "metadata": {
    "id": "d975e57a-4598-433e-ac5d-f0a3b67dd77c"
   },
   "outputs": [
    {
     "data": {
      "text/plain": [
       "tuple"
      ]
     },
     "execution_count": 46,
     "metadata": {},
     "output_type": "execute_result"
    }
   ],
   "source": [
    "# comma included\n",
    "tuple1 = (29,)\n",
    "\n",
    "type(tuple1)"
   ]
  },
  {
   "cell_type": "markdown",
   "id": "e90f8d07-aece-4184-bfd8-078199284d60",
   "metadata": {},
   "source": [
    "<div class=\"alert alert-info\">\n",
    "    <b>Info</b>: Indexing and slicing is similar to lists and strings.\n",
    "</div>"
   ]
  },
  {
   "cell_type": "code",
   "execution_count": 47,
   "id": "a25f905b-5669-4b7f-98b8-6c4b85271d76",
   "metadata": {},
   "outputs": [
    {
     "data": {
      "text/plain": [
       "3"
      ]
     },
     "execution_count": 47,
     "metadata": {},
     "output_type": "execute_result"
    }
   ],
   "source": [
    "numbers[2]"
   ]
  },
  {
   "cell_type": "code",
   "execution_count": 48,
   "id": "f36ab588-b0be-4142-ae04-133fcc5c9531",
   "metadata": {},
   "outputs": [
    {
     "data": {
      "text/plain": [
       "(1, 2, 3)"
      ]
     },
     "execution_count": 48,
     "metadata": {},
     "output_type": "execute_result"
    }
   ],
   "source": [
    "numbers[:3]"
   ]
  },
  {
   "cell_type": "markdown",
   "id": "aa81bd3d-ea5a-45af-8f7f-639bab9867e2",
   "metadata": {},
   "source": [
    "<div class=\"alert alert-info\">\n",
    "    <b>Info</b>: We can also use <code>len</code> and <code>in</code> with Tuples.\n",
    "</div>"
   ]
  },
  {
   "cell_type": "code",
   "execution_count": 49,
   "id": "a7121c48-f779-4f3e-9782-7911d33dc93b",
   "metadata": {},
   "outputs": [
    {
     "data": {
      "text/plain": [
       "4"
      ]
     },
     "execution_count": 49,
     "metadata": {},
     "output_type": "execute_result"
    }
   ],
   "source": [
    "len(numbers)"
   ]
  },
  {
   "cell_type": "code",
   "execution_count": 50,
   "id": "93b448af-590b-4fbd-84c8-c7789b2b1837",
   "metadata": {},
   "outputs": [
    {
     "data": {
      "text/plain": [
       "False"
      ]
     },
     "execution_count": 50,
     "metadata": {},
     "output_type": "execute_result"
    }
   ],
   "source": [
    "10 in numbers"
   ]
  },
  {
   "cell_type": "markdown",
   "id": "d0bfdd0f-d38c-4121-b8fd-f3e3400af809",
   "metadata": {
    "id": "d0bfdd0f-d38c-4121-b8fd-f3e3400af809"
   },
   "source": [
    "## Sets\n",
    "\n",
    "A `set` is an **unordered** collection of **unique** objects.\n",
    "\n",
    "They are subject to set operations."
   ]
  },
  {
   "cell_type": "code",
   "execution_count": 51,
   "id": "e67e33ff-7f03-4b99-a95e-fad0c80a04c3",
   "metadata": {
    "id": "e67e33ff-7f03-4b99-a95e-fad0c80a04c3"
   },
   "outputs": [],
   "source": [
    "peanuts = {'snoopy','snoopy','woodstock'}"
   ]
  },
  {
   "cell_type": "code",
   "execution_count": 52,
   "id": "197eebed-71a9-4a89-8dbf-3dd2d73a29ac",
   "metadata": {
    "id": "197eebed-71a9-4a89-8dbf-3dd2d73a29ac"
   },
   "outputs": [
    {
     "data": {
      "text/plain": [
       "{'snoopy', 'woodstock'}"
      ]
     },
     "execution_count": 52,
     "metadata": {},
     "output_type": "execute_result"
    }
   ],
   "source": [
    "# Sets only keeps unique objects\n",
    "peanuts"
   ]
  },
  {
   "cell_type": "markdown",
   "id": "7c1bbeda-d23d-4b87-83a9-d3f843953419",
   "metadata": {
    "id": "7c1bbeda-d23d-4b87-83a9-d3f843953419"
   },
   "source": [
    "Since sets are unordered, they don't have an index. This will break:"
   ]
  },
  {
   "cell_type": "code",
   "execution_count": 53,
   "id": "65370579-21be-4623-9c45-f37bccee907a",
   "metadata": {
    "id": "65370579-21be-4623-9c45-f37bccee907a"
   },
   "outputs": [
    {
     "ename": "TypeError",
     "evalue": "'set' object is not subscriptable",
     "output_type": "error",
     "traceback": [
      "\u001b[0;31m---------------------------------------------------------------------------\u001b[0m",
      "\u001b[0;31mTypeError\u001b[0m                                 Traceback (most recent call last)",
      "Cell \u001b[0;32mIn[53], line 1\u001b[0m\n\u001b[0;32m----> 1\u001b[0m peanuts[\u001b[38;5;241m0\u001b[39m]\n",
      "\u001b[0;31mTypeError\u001b[0m: 'set' object is not subscriptable"
     ]
    }
   ],
   "source": [
    "peanuts[0]"
   ]
  },
  {
   "cell_type": "code",
   "execution_count": 54,
   "id": "685ebf06-7e74-42bc-b49b-f1c3f5272aa8",
   "metadata": {
    "id": "685ebf06-7e74-42bc-b49b-f1c3f5272aa8"
   },
   "outputs": [
    {
     "name": "stdout",
     "output_type": "stream",
     "text": [
      "snoopy\n",
      "woodstock\n"
     ]
    }
   ],
   "source": [
    "for peanut in peanuts:\n",
    "    print(peanut)"
   ]
  },
  {
   "cell_type": "markdown",
   "id": "dbde2ea0-9891-4dc7-953a-39db86deb82a",
   "metadata": {
    "id": "dbde2ea0-9891-4dc7-953a-39db86deb82a"
   },
   "source": [
    "<div class=\"alert alert-info\">\n",
    "    <b>Alert</b>: We can use <code>len</code> and <code>in</code> with Sets.\n",
    "</div>"
   ]
  },
  {
   "cell_type": "code",
   "execution_count": 55,
   "id": "e76ed038-22ac-4b8c-bdc1-4ccc19215ba6",
   "metadata": {},
   "outputs": [
    {
     "data": {
      "text/plain": [
       "2"
      ]
     },
     "execution_count": 55,
     "metadata": {},
     "output_type": "execute_result"
    }
   ],
   "source": [
    "len(peanuts)"
   ]
  },
  {
   "cell_type": "code",
   "execution_count": 56,
   "id": "72495cad-a5c9-44b4-a023-4ee45086053e",
   "metadata": {
    "id": "72495cad-a5c9-44b4-a023-4ee45086053e"
   },
   "outputs": [
    {
     "data": {
      "text/plain": [
       "True"
      ]
     },
     "execution_count": 56,
     "metadata": {},
     "output_type": "execute_result"
    }
   ],
   "source": [
    "'snoopy' in peanuts"
   ]
  },
  {
   "cell_type": "markdown",
   "id": "97ca0d23-b620-4c99-8744-d7fec51ac233",
   "metadata": {},
   "source": [
    "### Some useful methods"
   ]
  },
  {
   "cell_type": "markdown",
   "id": "34e5ace8-9af9-4589-b0c3-f800905e4f40",
   "metadata": {
    "id": "34e5ace8-9af9-4589-b0c3-f800905e4f40"
   },
   "source": [
    "- `union`: To combine two sets!"
   ]
  },
  {
   "cell_type": "code",
   "execution_count": 57,
   "id": "0f99fdee-7f2c-4822-b236-01fd6bb00726",
   "metadata": {
    "id": "0f99fdee-7f2c-4822-b236-01fd6bb00726"
   },
   "outputs": [],
   "source": [
    "set1 = {'python','R'}\n",
    "set2 = {'R','SQL'}"
   ]
  },
  {
   "cell_type": "code",
   "execution_count": 58,
   "id": "857ba908-6542-4619-993f-9c68fd246aa4",
   "metadata": {},
   "outputs": [
    {
     "data": {
      "text/plain": [
       "{'R', 'SQL', 'python'}"
      ]
     },
     "execution_count": 58,
     "metadata": {},
     "output_type": "execute_result"
    }
   ],
   "source": [
    "set1.union(set2)"
   ]
  },
  {
   "cell_type": "markdown",
   "id": "e2752287-76ed-45f3-addf-516266f519ea",
   "metadata": {
    "id": "e2752287-76ed-45f3-addf-516266f519ea"
   },
   "source": [
    "<div class=\"alert alert-danger\">\n",
    "    <b>Alert</b>: Sets can not be combined with the `+` operator as they are unordered.\n",
    "</div>"
   ]
  },
  {
   "cell_type": "code",
   "execution_count": 59,
   "id": "7a962b44-b939-4b07-9266-458a1d6868c6",
   "metadata": {
    "id": "7a962b44-b939-4b07-9266-458a1d6868c6"
   },
   "outputs": [
    {
     "ename": "TypeError",
     "evalue": "unsupported operand type(s) for +: 'set' and 'set'",
     "output_type": "error",
     "traceback": [
      "\u001b[0;31m---------------------------------------------------------------------------\u001b[0m",
      "\u001b[0;31mTypeError\u001b[0m                                 Traceback (most recent call last)",
      "Cell \u001b[0;32mIn[59], line 1\u001b[0m\n\u001b[0;32m----> 1\u001b[0m set1 \u001b[38;5;241m+\u001b[39m set2\n",
      "\u001b[0;31mTypeError\u001b[0m: unsupported operand type(s) for +: 'set' and 'set'"
     ]
    }
   ],
   "source": [
    "set1 + set2"
   ]
  },
  {
   "cell_type": "markdown",
   "id": "8f17e6aa-4155-4c63-a411-239d54273f42",
   "metadata": {
    "id": "8f17e6aa-4155-4c63-a411-239d54273f42"
   },
   "source": [
    "- `intersection`: Get the set intersection:"
   ]
  },
  {
   "cell_type": "code",
   "execution_count": 60,
   "id": "3b5f2b4e-06f8-48e5-a222-5344c5e489b1",
   "metadata": {
    "id": "3b5f2b4e-06f8-48e5-a222-5344c5e489b1"
   },
   "outputs": [
    {
     "data": {
      "text/plain": [
       "{'R'}"
      ]
     },
     "execution_count": 60,
     "metadata": {},
     "output_type": "execute_result"
    }
   ],
   "source": [
    "set1.intersection(set2)"
   ]
  },
  {
   "cell_type": "markdown",
   "id": "3608a5bb-3e29-44ff-b947-2130ec25b756",
   "metadata": {},
   "source": [
    "For this operation you can also use the symbol `&`"
   ]
  },
  {
   "cell_type": "code",
   "execution_count": 61,
   "id": "ec91b2c4-b65e-4a2d-8116-f6fa2a8a38c2",
   "metadata": {},
   "outputs": [
    {
     "data": {
      "text/plain": [
       "{'R'}"
      ]
     },
     "execution_count": 61,
     "metadata": {},
     "output_type": "execute_result"
    }
   ],
   "source": [
    "set1 & set2"
   ]
  },
  {
   "cell_type": "markdown",
   "id": "78431531-d057-4631-aa94-a5ede1f83af2",
   "metadata": {},
   "source": [
    "- `difference`: It returns the different elements of the left-hand set with respect to the right-hand one"
   ]
  },
  {
   "cell_type": "code",
   "execution_count": 62,
   "id": "6cf0063a-caf2-4068-b034-445163a4246d",
   "metadata": {},
   "outputs": [
    {
     "data": {
      "text/plain": [
       "{'python'}"
      ]
     },
     "execution_count": 62,
     "metadata": {},
     "output_type": "execute_result"
    }
   ],
   "source": [
    "set1.difference(set2)"
   ]
  },
  {
   "cell_type": "code",
   "execution_count": 63,
   "id": "b31dc8e9-4494-4c9a-a6a3-cd2582e77cea",
   "metadata": {},
   "outputs": [
    {
     "data": {
      "text/plain": [
       "{'SQL'}"
      ]
     },
     "execution_count": 63,
     "metadata": {},
     "output_type": "execute_result"
    }
   ],
   "source": [
    "set2.difference(set1)"
   ]
  },
  {
   "cell_type": "markdown",
   "id": "2237ecae-9123-4151-ab14-63451d556aad",
   "metadata": {
    "id": "2237ecae-9123-4151-ab14-63451d556aad",
    "tags": []
   },
   "source": [
    "## Ranges\n",
    "\n",
    "A range is a sequence of integers, from `start` to `stop` by `step`.\n",
    "- The `start` point is zero by default.  \n",
    "- The `stop` point is NOT included. Like when slicing strings and lists, the last index of the sequence corresponds to stop-1.\n",
    "- The `step` is one by default."
   ]
  },
  {
   "cell_type": "markdown",
   "id": "7a3faa4d-b8d2-4d15-a23c-74fa656cd86c",
   "metadata": {
    "id": "7a3faa4d-b8d2-4d15-a23c-74fa656cd86c"
   },
   "source": [
    "Ranges can be assigned to a variable."
   ]
  },
  {
   "cell_type": "code",
   "execution_count": 64,
   "id": "60e92444-c947-4e06-890f-69098dc3ac52",
   "metadata": {
    "id": "60e92444-c947-4e06-890f-69098dc3ac52"
   },
   "outputs": [
    {
     "data": {
      "text/plain": [
       "range(0, 5)"
      ]
     },
     "execution_count": 64,
     "metadata": {},
     "output_type": "execute_result"
    }
   ],
   "source": [
    "rng = range(5)\n",
    "rng"
   ]
  },
  {
   "cell_type": "markdown",
   "id": "68f9fc31-e4d4-435b-864b-3ffc8be02709",
   "metadata": {
    "id": "68f9fc31-e4d4-435b-864b-3ffc8be02709"
   },
   "source": [
    "More often, ranges are used in iterations (e.g. **For** loops), which we will cover later."
   ]
  },
  {
   "cell_type": "code",
   "execution_count": 65,
   "id": "1a2cc0db-3167-423e-b391-fa0a0a3eb1e7",
   "metadata": {
    "id": "1a2cc0db-3167-423e-b391-fa0a0a3eb1e7"
   },
   "outputs": [
    {
     "name": "stdout",
     "output_type": "stream",
     "text": [
      "0\n",
      "1\n",
      "2\n",
      "3\n",
      "4\n"
     ]
    }
   ],
   "source": [
    "for rn in rng:\n",
    "    print(rn)"
   ]
  },
  {
   "cell_type": "markdown",
   "id": "0cc0d38e-7e61-4e20-b991-b7bae5a36c90",
   "metadata": {
    "id": "0cc0d38e-7e61-4e20-b991-b7bae5a36c90"
   },
   "source": [
    "another range:"
   ]
  },
  {
   "cell_type": "code",
   "execution_count": 66,
   "id": "54b9d3ca-7e6f-4531-b514-10750087322c",
   "metadata": {
    "id": "54b9d3ca-7e6f-4531-b514-10750087322c"
   },
   "outputs": [
    {
     "name": "stdout",
     "output_type": "stream",
     "text": [
      "1\n",
      "3\n",
      "5\n",
      "7\n",
      "9\n"
     ]
    }
   ],
   "source": [
    "rangy = range(1, 11, 2)\n",
    "for rn in rangy:\n",
    "    print(rn)"
   ]
  },
  {
   "cell_type": "markdown",
   "id": "f19782ee-61fa-44f7-9705-785367df47a4",
   "metadata": {},
   "source": [
    "## Summary\n",
    "\n",
    "Throughout this lesson, we have mentioned what operations, functions and features each data structure is characterized by. Here is compact summary:\n",
    "\n",
    "| Data Structure   | Supports Indexing? | Supports Slicing? | `len()` | `in`   | Concatenation (`+`) | Multiplication (`*`) | Mutable?  |\n",
    "| ---------------- | -------- | ------- | ------- | ------ | ------------------- | -------------------- | --------- |\n",
    "| **Strings**      | Yes      | Yes     | Yes     | Yes    | Yes                 | Yes                  | No        |\n",
    "| **Lists**        | Yes      | Yes     | Yes     | Yes    | Yes                 | Yes                  | Yes       |\n",
    "| **Tuples**       | Yes      | Yes     | Yes     | Yes    | Yes                 | Yes                  | No        |\n",
    "| **Sets**         | No       | No      | Yes     | Yes    | No                  | No                   | Yes       |\n",
    "| **Dictionaries** | No       | No      | Yes     | Yes    | No                  | No                   | Yes       |\n",
    "| **Ranges**       | Yes      | Yes     | Yes     | Yes    | No                  | No                   | No        |\n"
   ]
  },
  {
   "cell_type": "markdown",
   "id": "c3c09d29-6221-4ed8-8194-291a201c5a56",
   "metadata": {},
   "source": [
    "### Practice exercise\n",
    "```{exercise}\n",
    ":label: structures6\n",
    "\n",
    "List one important attribute of list, dictionary, and tuple\n",
    "\n",
    "```"
   ]
  },
  {
   "cell_type": "code",
   "execution_count": 67,
   "id": "dbca4c82-005b-418a-9afc-f9ed953db715",
   "metadata": {},
   "outputs": [],
   "source": [
    "# Start your answers here"
   ]
  }
 ],
 "metadata": {
  "colab": {
   "include_colab_link": true,
   "provenance": []
  },
  "kernelspec": {
   "display_name": "Python 3 (ipykernel)",
   "language": "python",
   "name": "python3"
  },
  "language_info": {
   "codemirror_mode": {
    "name": "ipython",
    "version": 3
   },
   "file_extension": ".py",
   "mimetype": "text/x-python",
   "name": "python",
   "nbconvert_exporter": "python",
   "pygments_lexer": "ipython3",
   "version": "3.11.9"
  },
  "vscode": {
   "interpreter": {
    "hash": "31f2aee4e71d21fbe5cf8b01ff0e069b9275f58929596ceb00d14d90e3e16cd6"
   }
  }
 },
 "nbformat": 4,
 "nbformat_minor": 5
}
