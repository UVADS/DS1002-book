{
 "cells": [
  {
   "cell_type": "markdown",
   "id": "6b64190e-5dce-4574-ad0d-ddb5a5a2cc00",
   "metadata": {},
   "source": [
    "## Instructions \n",
    "* Complete Jupyter Notebook for tasks. Clearly show relevant work.\n",
    "\n",
    "* Before beginning to fill in the notebook, make sure you have written down your name in the first cell, as well as of any collaborators in case you have worked in groups.\n",
    "\n",
    "* Before you turn this problem in, make sure everything runs as expected. First, **restart the kernel** (in the menubar, select Kernel $\\rightarrow$ Restart) and then **run all cells** (in the menubar, select Cell $\\rightarrow$ Run All).\n",
    "\n",
    "* Make sure your changes have been changed and when ready, submit the jupyter notebook through Canvas. "
   ]
  },
  {
   "cell_type": "code",
   "execution_count": 29,
   "id": "91980179-e320-4362-8941-3ef911ce7671",
   "metadata": {},
   "outputs": [],
   "source": [
    "NAME = \"\"\n",
    "COLLABORATORS = \"\""
   ]
  },
  {
   "cell_type": "markdown",
   "id": "332218e0-c6bc-4c48-9fc6-7bf2294a273b",
   "metadata": {},
   "source": [
    "---"
   ]
  },
  {
   "cell_type": "markdown",
   "id": "f08804f8-a3cb-4f48-82b2-068bb2c347ea",
   "metadata": {},
   "source": [
    "**1. The following function aims at returning whether a given list of numbers contains at least one element divisible by 7, but it fails due to a bug. You can test this failing behaviour by passing, for example, the list: [10, 7, 13].**\n",
    "\n",
    "**Redefine the function correcting the bug. Test that it behaves correctly with several examples. In addition, in a separate markdown cell, explain why the function was failing. (3 points)**"
   ]
  },
  {
   "cell_type": "code",
   "execution_count": 1,
   "id": "ee7b6179-eca2-4fae-89b6-c2bc5db5863e",
   "metadata": {},
   "outputs": [],
   "source": [
    "def has_atleast_one_seven(nums):\n",
    "    \"\"\"Return whether the given list of numbers is lucky. A lucky list contains\n",
    "    at least one number divisible by 7.\n",
    "    \"\"\"\n",
    "    for num in nums:\n",
    "        if num % 7 == 0:\n",
    "            return True\n",
    "        else:\n",
    "            return False"
   ]
  },
  {
   "cell_type": "markdown",
   "id": "70fed6c8-c03a-4b5d-ba84-20f33a4c9870",
   "metadata": {},
   "source": [
    "**2. Using a for loop and and if statements, print all the numbers between 10 and 1000 (including both sides) that are divisible by 7 and the sum of their digits is greater than 10, but only if the number itself is also odd. (2 points)**"
   ]
  }
 ],
 "metadata": {
  "kernelspec": {
   "display_name": "Python 3 (ipykernel)",
   "language": "python",
   "name": "python3"
  },
  "language_info": {
   "codemirror_mode": {
    "name": "ipython",
    "version": 3
   },
   "file_extension": ".py",
   "mimetype": "text/x-python",
   "name": "python",
   "nbconvert_exporter": "python",
   "pygments_lexer": "ipython3",
   "version": "3.11.9"
  }
 },
 "nbformat": 4,
 "nbformat_minor": 5
}
