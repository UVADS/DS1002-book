{
 "cells": [
  {
   "cell_type": "markdown",
   "id": "a113c941-6d6e-4b92-a4ad-f14bbab59828",
   "metadata": {},
   "source": [
    "4 - What prints in the above `if`, `elif` example if val = 5?  "
   ]
  },
  {
   "cell_type": "code",
   "execution_count": 3,
   "id": "7e53291d-5337-4e8c-b16f-5668d934a678",
   "metadata": {},
   "outputs": [],
   "source": [
    "val = 5\n",
    "\n",
    "if -10 < val < -5:\n",
    "    print('bucket 1')\n",
    "if -5 <= val < -2:\n",
    "    print('bucket 2')\n",
    "elif val == -2:\n",
    "    print('bucket 3')"
   ]
  },
  {
   "cell_type": "markdown",
   "id": "9e6e97b3-f7c3-4018-aaa1-b1208d41063b",
   "metadata": {},
   "source": [
    "1 - Write a statement that evaluates if a number is a number is divisble by 2, divisble by 3, or divisble by both numbers. If there is a number that is not divisable by either number, make sure to include a statement for that case. *Test the numbers: 4, 6, 9, 13"
   ]
  },
  {
   "cell_type": "markdown",
   "id": "216bdc5c-f5ad-4d84-bec7-d4cf2bfc5349",
   "metadata": {},
   "source": [
    "2- Write a piece of code that does the following:\n",
    "\n",
    "- First, it sets a variable `it` to 0\n",
    "- Then, it sets a variable `max_iter` to 100\n",
    "- After that, it does the following while `it` < `max_iter`:\n",
    "    - If `it` is equal to 0 or `it` is divisible by 10, print `it`. hint: use modulo operator %\n",
    "    - It increases `it` by 1\n",
    "\n",
    "How many iterations did this loop run?"
   ]
  },
  {
   "cell_type": "code",
   "execution_count": null,
   "id": "5c1e6c85-6f1e-4037-9286-e7a1bd091200",
   "metadata": {},
   "outputs": [],
   "source": []
  }
 ],
 "metadata": {
  "kernelspec": {
   "display_name": "Python 3 (ipykernel)",
   "language": "python",
   "name": "python3"
  },
  "language_info": {
   "codemirror_mode": {
    "name": "ipython",
    "version": 3
   },
   "file_extension": ".py",
   "mimetype": "text/x-python",
   "name": "python",
   "nbconvert_exporter": "python",
   "pygments_lexer": "ipython3",
   "version": "3.11.9"
  }
 },
 "nbformat": 4,
 "nbformat_minor": 5
}
