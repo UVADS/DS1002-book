{
 "cells": [
  {
   "cell_type": "markdown",
   "id": "88252b25",
   "metadata": {},
   "source": [
    "1.1. Write a function with these requirements:\n",
    "- has a sensible name\n",
    "- contains a docstring\n",
    "- takes two inputs: a string, and an integer\n",
    "- returns True if the string length is equal to the integer, else False"
   ]
  },
  {
   "cell_type": "code",
   "execution_count": 4,
   "id": "73278b2b",
   "metadata": {},
   "outputs": [],
   "source": [
    "def verify_string_length(text, val):\n",
    "    \"\"\"\n",
    "    PURPOSE: check if the length of text is equal to a value\n",
    "\n",
    "    INPUTS:\n",
    "    text   str\n",
    "    val    integer\n",
    "\n",
    "    OUTPUTS:\n",
    "    bool, check\n",
    "    \"\"\"\n",
    "\n",
    "    check = len(text) == val\n",
    "    return check"
   ]
  },
  {
   "cell_type": "markdown",
   "id": "d1e7a4d3",
   "metadata": {},
   "source": [
    "1.2. Call the function, passing inputs:  \n",
    "- `\"is this text the right length?\"` for the string\n",
    "- `30` for the integer\n",
    "\n",
    "Verify the output is True.  \n",
    "Try other combinations."
   ]
  },
  {
   "cell_type": "code",
   "execution_count": 5,
   "id": "66f97398",
   "metadata": {},
   "outputs": [
    {
     "data": {
      "text/plain": [
       "True"
      ]
     },
     "execution_count": 5,
     "metadata": {},
     "output_type": "execute_result"
    }
   ],
   "source": [
    "txt = 'is this text the right length?'\n",
    "val = 30\n",
    "out = verify_string_length(txt, val)\n",
    "out"
   ]
  },
  {
   "cell_type": "markdown",
   "id": "6b21ad57",
   "metadata": {},
   "source": [
    "2.1. Write a function with these requirements:\n",
    "- takes *args for the input argument (like above)\n",
    "- squares each argument, printing the value. you can use a `for` loop like above.\n",
    "- returns None"
   ]
  },
  {
   "cell_type": "code",
   "execution_count": 7,
   "id": "f7616b9d",
   "metadata": {},
   "outputs": [],
   "source": [
    "def square_args(*vars):\n",
    "\n",
    "    for var in vars:\n",
    "        print(var**2)\n",
    "    return None"
   ]
  },
  {
   "cell_type": "markdown",
   "id": "c8bd7478",
   "metadata": {},
   "source": [
    "2.2. Call the function, passing at least two integers"
   ]
  },
  {
   "cell_type": "code",
   "execution_count": 8,
   "id": "3e338ab2",
   "metadata": {},
   "outputs": [
    {
     "name": "stdout",
     "output_type": "stream",
     "text": [
      "4\n",
      "9\n",
      "64\n"
     ]
    }
   ],
   "source": [
    "square_args(2,3,8)"
   ]
  },
  {
   "cell_type": "markdown",
   "id": "8c49cf04",
   "metadata": {},
   "source": [
    "3. Write a small function that returns two outputs. Verify it works properly."
   ]
  },
  {
   "cell_type": "markdown",
   "id": "3d73ca92",
   "metadata": {},
   "source": [
    "4.1. Define a step function with these requirements:\n",
    "- take one numeric value as input\n",
    "- subtract 5 from the value\n",
    "- return 1 if the difference is nonnegative, else return 0"
   ]
  },
  {
   "cell_type": "code",
   "execution_count": 10,
   "id": "399f16c5",
   "metadata": {},
   "outputs": [],
   "source": [
    "def step(x):\n",
    "    diff = x - 5\n",
    "    if diff >= 0:\n",
    "        return 1\n",
    "    return 0"
   ]
  },
  {
   "cell_type": "markdown",
   "id": "4456a4a0",
   "metadata": {},
   "source": [
    "4.2. Call the function on different values to test it."
   ]
  },
  {
   "cell_type": "code",
   "execution_count": 11,
   "id": "16e4d38c",
   "metadata": {},
   "outputs": [
    {
     "data": {
      "text/plain": [
       "1"
      ]
     },
     "execution_count": 11,
     "metadata": {},
     "output_type": "execute_result"
    }
   ],
   "source": [
    "step(6)"
   ]
  },
  {
   "cell_type": "markdown",
   "id": "56a91cf3",
   "metadata": {},
   "source": [
    "5. Define a function that creates and prints a variable. Show that calling this variable outside the function produces an error."
   ]
  },
  {
   "cell_type": "code",
   "execution_count": null,
   "id": "8e016282",
   "metadata": {},
   "outputs": [],
   "source": []
  }
 ],
 "metadata": {
  "kernelspec": {
   "display_name": "Python 3 (ipykernel)",
   "language": "python",
   "name": "python3"
  },
  "language_info": {
   "codemirror_mode": {
    "name": "ipython",
    "version": 3
   },
   "file_extension": ".py",
   "mimetype": "text/x-python",
   "name": "python",
   "nbconvert_exporter": "python",
   "pygments_lexer": "ipython3",
   "version": "3.11.9"
  }
 },
 "nbformat": 4,
 "nbformat_minor": 5
}
