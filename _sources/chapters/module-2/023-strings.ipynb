{
 "cells": [
  {
   "cell_type": "markdown",
   "id": "7f6db6b0",
   "metadata": {},
   "source": [
    "# Strings\n",
    "\n",
    "What you will learn in this lesson:\n",
    "\n",
    "- String operations\n",
    "- Subsetting a string\n",
    "- String methods\n",
    "- Formatting strings "
   ]
  },
  {
   "cell_type": "markdown",
   "id": "19188089-92e6-491a-8ef2-216cdfed1128",
   "metadata": {},
   "source": [
    "## What is a string?"
   ]
  },
  {
   "cell_type": "markdown",
   "id": "72aa514d-5d88-4b12-abfc-7d3915e9c10b",
   "metadata": {},
   "source": [
    "We already saw in a previous lesson that strings are just a sequence of characters, enclosed in quotes (') or apostrophes (\"). \n",
    "\n",
    "In some aspects, strings are similar to those data structures (e.g. lists) we are going to study in our next lesson. The main difference is that strings only store characters, whereas data structures can store and mix different types of data.\n",
    "\n",
    "Studying strings first will give you a nice and powerful introduction to the different things we can do with data structures."
   ]
  },
  {
   "cell_type": "code",
   "execution_count": 1,
   "id": "d6c996fc-2db7-4fbb-8b58-eb164115eb1f",
   "metadata": {},
   "outputs": [
    {
     "name": "stdout",
     "output_type": "stream",
     "text": [
      "<class 'str'>\n"
     ]
    }
   ],
   "source": [
    "string_var = \"This is a string variable\"\n",
    "\n",
    "print(type(string_var))"
   ]
  },
  {
   "cell_type": "code",
   "execution_count": 2,
   "id": "5e57b76a-2d30-47d6-ad55-2bc95d66ace6",
   "metadata": {},
   "outputs": [
    {
     "name": "stdout",
     "output_type": "stream",
     "text": [
      "<class 'str'>\n"
     ]
    }
   ],
   "source": [
    "# Strings can be just one character\n",
    "string_var = \"a\"\n",
    "print(type(string_var))"
   ]
  },
  {
   "cell_type": "markdown",
   "id": "b6667edc",
   "metadata": {},
   "source": [
    "## String Operators"
   ]
  },
  {
   "cell_type": "markdown",
   "id": "c8ab0c0d",
   "metadata": {},
   "source": [
    "**concatenation `+`**: To join strings."
   ]
  },
  {
   "cell_type": "code",
   "execution_count": 3,
   "id": "90e0caa7",
   "metadata": {},
   "outputs": [
    {
     "data": {
      "text/plain": [
       "'My name is Iñigo Montoya! You killed my father! '"
      ]
     },
     "execution_count": 3,
     "metadata": {},
     "output_type": "execute_result"
    }
   ],
   "source": [
    "string1 = 'My name is Iñigo Montoya! '\n",
    "string2 = 'You killed my father! '\n",
    "string1 + string2"
   ]
  },
  {
   "cell_type": "code",
   "execution_count": 4,
   "id": "65477a22",
   "metadata": {},
   "outputs": [
    {
     "data": {
      "text/plain": [
       "'My name is Iñigo Montoya! You killed my father! Prepare to die!'"
      ]
     },
     "execution_count": 4,
     "metadata": {},
     "output_type": "execute_result"
    }
   ],
   "source": [
    "string1 + string2 + 'Prepare to die!'"
   ]
  },
  {
   "cell_type": "code",
   "execution_count": 5,
   "id": "0c326563",
   "metadata": {},
   "outputs": [
    {
     "name": "stdout",
     "output_type": "stream",
     "text": [
      "My name is Iñigo Montoya! You killed my father! Prepare to die!\n"
     ]
    }
   ],
   "source": [
    "print(string1 + string2 + 'Prepare to die!')"
   ]
  },
  {
   "cell_type": "markdown",
   "id": "8ac21785",
   "metadata": {},
   "source": [
    "**repetition `*`**: To repeat strings."
   ]
  },
  {
   "cell_type": "code",
   "execution_count": 6,
   "id": "c1d1f2c9",
   "metadata": {},
   "outputs": [
    {
     "data": {
      "text/plain": [
       "'My name is Iñigo Montoya! My name is Iñigo Montoya! '"
      ]
     },
     "execution_count": 6,
     "metadata": {},
     "output_type": "execute_result"
    }
   ],
   "source": [
    "string1 * 2"
   ]
  },
  {
   "cell_type": "code",
   "execution_count": 7,
   "id": "3bc487e0",
   "metadata": {},
   "outputs": [
    {
     "name": "stdout",
     "output_type": "stream",
     "text": [
      "My name is Iñigo Montoya! \n",
      "My name is Iñigo Montoya! \n",
      "My name is Iñigo Montoya! \n",
      "My name is Iñigo Montoya! \n",
      "My name is Iñigo Montoya! \n",
      "\n"
     ]
    }
   ],
   "source": [
    "# '\\n' moves to the next line (like hitting the return button)\n",
    "print((string1 + '\\n') * 5)"
   ]
  },
  {
   "cell_type": "markdown",
   "id": "0d38cc86-0987-4991-b62c-438a18a9d773",
   "metadata": {},
   "source": [
    "<div class=\"alert alert-info\">\n",
    "<b>Info:</b> '\\n' is a sequence that breaks the line\n",
    "</div>"
   ]
  },
  {
   "cell_type": "markdown",
   "id": "222b4aa7",
   "metadata": {},
   "source": [
    "## Subsetting a string \n",
    "\n",
    "**subsetting** refers to selecting parts of the string. As we will see in the next lesson, subsetting works similarly in many other structures (e.g. lists)."
   ]
  },
  {
   "cell_type": "markdown",
   "id": "127e519e-203f-4b83-9baa-d3c2cd787781",
   "metadata": {},
   "source": [
    "### Indexing\n",
    "\n",
    "We can access individual elements using brackets [ ] and passing the index for the character we want to select.\n",
    "\n",
    "Python uses **zero-based** indexing, which means that for a string `mystring`, `mystring[0]` references the first element, `mystring[1]` references the second element, etc"
   ]
  },
  {
   "cell_type": "code",
   "execution_count": 8,
   "id": "ce5293fa-49a2-495a-946c-61f9de52d370",
   "metadata": {},
   "outputs": [
    {
     "data": {
      "text/plain": [
       "'M'"
      ]
     },
     "execution_count": 8,
     "metadata": {},
     "output_type": "execute_result"
    }
   ],
   "source": [
    "# This gives the first element\n",
    "string1[0]"
   ]
  },
  {
   "cell_type": "code",
   "execution_count": 9,
   "id": "96544369-a8f7-4dce-9c3d-76f14b920caa",
   "metadata": {},
   "outputs": [
    {
     "data": {
      "text/plain": [
       "'y'"
      ]
     },
     "execution_count": 9,
     "metadata": {},
     "output_type": "execute_result"
    }
   ],
   "source": [
    "# This gives the secong element\n",
    "string1[1]"
   ]
  },
  {
   "cell_type": "markdown",
   "id": "c6bf79a0-1f96-42ed-9759-f0571e7db26d",
   "metadata": {},
   "source": [
    "Negative indices go in reverse:"
   ]
  },
  {
   "cell_type": "code",
   "execution_count": 10,
   "id": "f81b61eb-0dec-45ae-8062-f4f6a7519861",
   "metadata": {},
   "outputs": [
    {
     "data": {
      "text/plain": [
       "' '"
      ]
     },
     "execution_count": 10,
     "metadata": {},
     "output_type": "execute_result"
    }
   ],
   "source": [
    "# This gives the last element\n",
    "string1[-1]"
   ]
  },
  {
   "cell_type": "code",
   "execution_count": 11,
   "id": "bc3f6e90-33fc-4933-ad33-c76fddf94383",
   "metadata": {},
   "outputs": [
    {
     "data": {
      "text/plain": [
       "'!'"
      ]
     },
     "execution_count": 11,
     "metadata": {},
     "output_type": "execute_result"
    }
   ],
   "source": [
    "# This gives the second-to-last element\n",
    "string1[-2]"
   ]
  },
  {
   "cell_type": "markdown",
   "id": "8f48b957-2062-447d-8f99-9d5efda15dc3",
   "metadata": {},
   "source": [
    "<div class=\"alert alert-warning\">\n",
    "    <b>Warning</b>: Remember!! In Python, indexing starts at ZERO.\n",
    "    </div>"
   ]
  },
  {
   "cell_type": "markdown",
   "id": "cba5f3b8-941d-4c7b-9d02-0c0b2723f323",
   "metadata": {},
   "source": [
    "### Slicing\n",
    "\n",
    "We have several options of slicing a string:\n",
    "\n",
    "- `mystring[start:stop]` characters start to stop-1.\n",
    "\n",
    "- `mystring[start:]`     characters start to the rest of the string. **We can omit the index corresponding to the length of the string**.\n",
    "\n",
    "- `mystring[:stop]`      characters from the beginning to stop-1. **We can omit the index 0**.\n",
    "\n",
    "- `mystring[:]`          a copy of the whole string. **We can omit both first and last index of the string**."
   ]
  },
  {
   "cell_type": "code",
   "execution_count": 44,
   "id": "5558df7c-7aa4-42cf-ba1d-58b6cba227aa",
   "metadata": {},
   "outputs": [
    {
     "data": {
      "text/plain": [
       "'My'"
      ]
     },
     "execution_count": 44,
     "metadata": {},
     "output_type": "execute_result"
    }
   ],
   "source": [
    "# extract the first 2 characters\n",
    "string1[0:2] "
   ]
  },
  {
   "cell_type": "code",
   "execution_count": 13,
   "id": "83c67b5e",
   "metadata": {},
   "outputs": [
    {
     "data": {
      "text/plain": [
       "'My'"
      ]
     },
     "execution_count": 13,
     "metadata": {},
     "output_type": "execute_result"
    }
   ],
   "source": [
    "# Like we mentioned, we can omit the index 0 when slicing\n",
    "string1[:2] "
   ]
  },
  {
   "cell_type": "markdown",
   "id": "b76011ea-8c19-401d-8f48-4d458a18fbe2",
   "metadata": {},
   "source": [
    "Likewise, for any string of length *N*:\n",
    "\n",
    "`mystring[:-n]` will return all characters except the last *n* ones.  \n",
    "`mystring[-n:]` will return the last *n* characters from index *N-n* to *N-1*"
   ]
  },
  {
   "cell_type": "code",
   "execution_count": 14,
   "id": "ec94ba6d",
   "metadata": {},
   "outputs": [
    {
     "data": {
      "text/plain": [
       "'! '"
      ]
     },
     "execution_count": 14,
     "metadata": {},
     "output_type": "execute_result"
    }
   ],
   "source": [
    "# extract the last 2 characters\n",
    "string1[-2:]"
   ]
  },
  {
   "cell_type": "code",
   "execution_count": 15,
   "id": "8dddd5ae-bfe1-4eb9-a558-914f4729881a",
   "metadata": {},
   "outputs": [
    {
     "data": {
      "text/plain": [
       "'My name is Iñigo Montoya!'"
      ]
     },
     "execution_count": 15,
     "metadata": {},
     "output_type": "execute_result"
    }
   ],
   "source": [
    "# extract all characters but the last one\n",
    "string1[:-1]"
   ]
  },
  {
   "cell_type": "markdown",
   "id": "1b81d1a4-bdcb-45d9-b8ad-4beb89304d97",
   "metadata": {},
   "source": [
    "To get the last index of an string, with can use the `len` function, which, as its name suggests, gives the length of the string, i.e. the number of characters of the string. "
   ]
  },
  {
   "cell_type": "code",
   "execution_count": 16,
   "id": "e81d7b47-c25b-4d38-9d34-4c75b59e1ff2",
   "metadata": {},
   "outputs": [
    {
     "data": {
      "text/plain": [
       "26"
      ]
     },
     "execution_count": 16,
     "metadata": {},
     "output_type": "execute_result"
    }
   ],
   "source": [
    "# This returns the number of character\n",
    "len(string1)"
   ]
  },
  {
   "cell_type": "code",
   "execution_count": 41,
   "id": "e2ed1e31-0763-461e-ad3b-8141bc8c3264",
   "metadata": {},
   "outputs": [
    {
     "data": {
      "text/plain": [
       "'Iñigo Montoya! '"
      ]
     },
     "execution_count": 41,
     "metadata": {},
     "output_type": "execute_result"
    }
   ],
   "source": [
    "string1[11:len(string1)]"
   ]
  },
  {
   "cell_type": "code",
   "execution_count": 18,
   "id": "d1affa31-98ec-4945-a7fa-f7fd9793d269",
   "metadata": {},
   "outputs": [
    {
     "data": {
      "text/plain": [
       "'Iñigo Montoya! '"
      ]
     },
     "execution_count": 18,
     "metadata": {},
     "output_type": "execute_result"
    }
   ],
   "source": [
    "# Although we can omit the end index if we want to select up to the end of the string\n",
    "string1[11:]"
   ]
  },
  {
   "cell_type": "markdown",
   "id": "99c61154-3279-4122-9742-b8dd35127060",
   "metadata": {},
   "source": [
    "<div class=\"alert alert-info\">\n",
    "<b>Info:</b> <code>len</code> is the same function that we will use to get the number of elements in other data structures like lists, tuples and dictionaries (We will see this soon).\n",
    "</div>"
   ]
  },
  {
   "cell_type": "markdown",
   "id": "afbc766c-1c43-42c4-a2c3-974eb5a0bfd5",
   "metadata": {},
   "source": [
    "So far we have selected consecutive characters, but we can also specify the step between selected characters. In this case we would use: `mystring[start:stop:end]`"
   ]
  },
  {
   "cell_type": "code",
   "execution_count": 19,
   "id": "2367285f-3604-4eb3-b203-21d468cc29fc",
   "metadata": {},
   "outputs": [
    {
     "data": {
      "text/plain": [
       "'M aei ñg oty!'"
      ]
     },
     "execution_count": 19,
     "metadata": {},
     "output_type": "execute_result"
    }
   ],
   "source": [
    "# This would select every two characters\n",
    "string1[::2] "
   ]
  },
  {
   "cell_type": "code",
   "execution_count": 20,
   "id": "30245cfd-6a0b-4ab6-8663-55c5c74671f3",
   "metadata": {},
   "outputs": [
    {
     "data": {
      "text/plain": [
       "' !ayotnoM ogiñI si eman yM'"
      ]
     },
     "execution_count": 20,
     "metadata": {},
     "output_type": "execute_result"
    }
   ],
   "source": [
    "# This reverses the string\n",
    "string1[::-1] "
   ]
  },
  {
   "cell_type": "markdown",
   "id": "38694a59-1f56-43d9-867f-1b15fd30bb3d",
   "metadata": {},
   "source": [
    "## Operator `in`: check membership\n",
    "\n",
    "We can check whether particular strings exist within a given string. It returns a boolean if exists."
   ]
  },
  {
   "cell_type": "code",
   "execution_count": 38,
   "id": "07b8027e-16ca-4b38-b2c6-c050d20c568b",
   "metadata": {},
   "outputs": [
    {
     "data": {
      "text/plain": [
       "True"
      ]
     },
     "execution_count": 38,
     "metadata": {},
     "output_type": "execute_result"
    }
   ],
   "source": [
    "\"Iñigo\" in string1"
   ]
  },
  {
   "cell_type": "code",
   "execution_count": 39,
   "id": "0e2752d0-d15c-4bdc-b90a-895da268c40d",
   "metadata": {},
   "outputs": [
    {
     "data": {
      "text/plain": [
       "False"
      ]
     },
     "execution_count": 39,
     "metadata": {},
     "output_type": "execute_result"
    }
   ],
   "source": [
    "\"Javi\" in string1"
   ]
  },
  {
   "cell_type": "markdown",
   "id": "bf3619f1-1832-454f-ad2c-505027b9b220",
   "metadata": {},
   "source": [
    "## String Methods\n",
    "\n",
    "One important thing we have to understand is that EVERYTHING in Python is an **object**. And when we say everything is everything -- numbers, strings, lists, etc.\n",
    "\n",
    "Objects in Python have two key characteristics: **attributes** to store data, and **methods** to perform specific operations with the objects. Both are called using a dot (.) after the name of the object.\n",
    "\n",
    "We will come back to this in more detail when we study classes, but for now it is important that you get this idea."
   ]
  },
  {
   "cell_type": "markdown",
   "id": "556a078c-d093-4f54-9809-81d2c72ed578",
   "metadata": {},
   "source": [
    "- `startswith` and `endswith`: Check whether the string starts and ends by a given string."
   ]
  },
  {
   "cell_type": "code",
   "execution_count": 21,
   "id": "b7242013-417b-4fc3-a806-b5151fb68f34",
   "metadata": {},
   "outputs": [
    {
     "data": {
      "text/plain": [
       "False"
      ]
     },
     "execution_count": 21,
     "metadata": {},
     "output_type": "execute_result"
    }
   ],
   "source": [
    "string1.startswith('o')"
   ]
  },
  {
   "cell_type": "code",
   "execution_count": 22,
   "id": "eb3ee8b9-41a3-45a0-a9b0-b282fe9862ef",
   "metadata": {},
   "outputs": [
    {
     "data": {
      "text/plain": [
       "True"
      ]
     },
     "execution_count": 22,
     "metadata": {},
     "output_type": "execute_result"
    }
   ],
   "source": [
    "# It does not need to by a single character\n",
    "string1.startswith('My')"
   ]
  },
  {
   "cell_type": "code",
   "execution_count": 23,
   "id": "259b9cf2-0e89-4bb9-8f2a-9f9fd5e315c6",
   "metadata": {},
   "outputs": [
    {
     "data": {
      "text/plain": [
       "True"
      ]
     },
     "execution_count": 23,
     "metadata": {},
     "output_type": "execute_result"
    }
   ],
   "source": [
    "string1.endswith('! ')"
   ]
  },
  {
   "cell_type": "markdown",
   "id": "9370ffcf-7d72-4007-86f6-6c93754343f4",
   "metadata": {},
   "source": [
    "- `upper` and `lower`: Convert string to upper or lower case."
   ]
  },
  {
   "cell_type": "code",
   "execution_count": 24,
   "id": "b6b583d1-276d-437c-bcb1-3cbe0d2ef3a4",
   "metadata": {},
   "outputs": [
    {
     "data": {
      "text/plain": [
       "'MY NAME IS IÑIGO MONTOYA! '"
      ]
     },
     "execution_count": 24,
     "metadata": {},
     "output_type": "execute_result"
    }
   ],
   "source": [
    "string1.upper()"
   ]
  },
  {
   "cell_type": "code",
   "execution_count": 25,
   "id": "ff730a98-7fa3-4182-96e4-1f242d20c831",
   "metadata": {},
   "outputs": [
    {
     "data": {
      "text/plain": [
       "'my name is iñigo montoya! '"
      ]
     },
     "execution_count": 25,
     "metadata": {},
     "output_type": "execute_result"
    }
   ],
   "source": [
    "string1.lower()"
   ]
  },
  {
   "cell_type": "markdown",
   "id": "a492acb0-38c9-4ef7-9bf8-8f15dd2be0eb",
   "metadata": {},
   "source": [
    "- `strip`: Remove leading/trailing whitespace."
   ]
  },
  {
   "cell_type": "code",
   "execution_count": 26,
   "id": "190314aa-05b7-4847-92d6-6ed9fe123edb",
   "metadata": {},
   "outputs": [
    {
     "data": {
      "text/plain": [
       "'My name is Iñigo Montoya!'"
      ]
     },
     "execution_count": 26,
     "metadata": {},
     "output_type": "execute_result"
    }
   ],
   "source": [
    "string1.strip()"
   ]
  },
  {
   "cell_type": "markdown",
   "id": "732fa660-73bb-46db-91b3-831321f773af",
   "metadata": {},
   "source": [
    "- `replace`: Replace parts of a string."
   ]
  },
  {
   "cell_type": "code",
   "execution_count": 27,
   "id": "c17402b1-7e58-4916-a158-c2d12fd1766e",
   "metadata": {},
   "outputs": [
    {
     "data": {
      "text/plain": [
       "'My name is Javier Rasero! '"
      ]
     },
     "execution_count": 27,
     "metadata": {},
     "output_type": "execute_result"
    }
   ],
   "source": [
    "string1.replace(\"Iñigo Montoya\", \"Javier Rasero\")"
   ]
  },
  {
   "cell_type": "markdown",
   "id": "84055242-3542-4711-948d-e00d4d606931",
   "metadata": {},
   "source": [
    "- `split`: Split a string based on a given character. It returns a list. String Formatting"
   ]
  },
  {
   "cell_type": "code",
   "execution_count": 28,
   "id": "e24c91b3-d06a-41c3-9809-597c50099773",
   "metadata": {},
   "outputs": [
    {
     "data": {
      "text/plain": [
       "['My name is ', 'ñigo Montoya! ']"
      ]
     },
     "execution_count": 28,
     "metadata": {},
     "output_type": "execute_result"
    }
   ],
   "source": [
    "# Here based on \"I\"\n",
    "string1.split(\"I\")"
   ]
  },
  {
   "cell_type": "code",
   "execution_count": 29,
   "id": "547e5cf3-de4e-43a6-9c8e-95f998aafc7a",
   "metadata": {},
   "outputs": [
    {
     "data": {
      "text/plain": [
       "['My', 'name', 'is', 'Iñigo', 'Montoya!']"
      ]
     },
     "execution_count": 29,
     "metadata": {},
     "output_type": "execute_result"
    }
   ],
   "source": [
    "# If nothing is specified, it splits based on blank space\n",
    "string1.split()"
   ]
  },
  {
   "cell_type": "markdown",
   "id": "55037fce-fb7d-4d72-8f1c-c1dd191bbe17",
   "metadata": {},
   "source": [
    "- `join`: join a list of strings by a given character."
   ]
  },
  {
   "cell_type": "code",
   "execution_count": 30,
   "id": "4bd5c596-9ccf-4d82-833d-a4cdba507e20",
   "metadata": {},
   "outputs": [
    {
     "data": {
      "text/plain": [
       "'Hello class'"
      ]
     },
     "execution_count": 30,
     "metadata": {},
     "output_type": "execute_result"
    }
   ],
   "source": [
    "\" \".join([\"Hello\", \"class\"])"
   ]
  },
  {
   "cell_type": "markdown",
   "id": "7975d87c-7873-4056-a5bf-ad59464d9f3d",
   "metadata": {},
   "source": [
    "## String Formatting\n",
    "\n",
    "String formatting allows you to create strings that include variables or expressions, which is useful for generating dynamic messages, or any text that needs incorporating variable information. We are going to study the two most common ways for this:"
   ]
  },
  {
   "cell_type": "markdown",
   "id": "3267a3d2-57dc-46a6-8948-4479762e02a5",
   "metadata": {},
   "source": [
    "- f-strings (Formatted String Literals): You need to prefix the string with f and then any variable inside curly braces {}:"
   ]
  },
  {
   "cell_type": "code",
   "execution_count": 31,
   "id": "512a3c4d-1424-4938-be26-cc4334914a6d",
   "metadata": {},
   "outputs": [
    {
     "name": "stdout",
     "output_type": "stream",
     "text": [
      "my name is Javier Rasero\n"
     ]
    }
   ],
   "source": [
    "my_name = \"Javier Rasero\"\n",
    "\n",
    "print(f\"my name is {my_name}\")"
   ]
  },
  {
   "cell_type": "code",
   "execution_count": 32,
   "id": "8a41e793-897e-4d24-99b7-f64ac0f338ec",
   "metadata": {},
   "outputs": [
    {
     "name": "stdout",
     "output_type": "stream",
     "text": [
      "And I am 176 cm tall.\n"
     ]
    }
   ],
   "source": [
    "tall = 176\n",
    "\n",
    "print(f\"And I am {tall} cm tall.\")"
   ]
  },
  {
   "cell_type": "code",
   "execution_count": 33,
   "id": "ea626ccc-637e-4cbb-a4b4-f64ec9ab777c",
   "metadata": {},
   "outputs": [
    {
     "name": "stdout",
     "output_type": "stream",
     "text": [
      "my name is Javier Rasero I am 176 cm tall.\n"
     ]
    }
   ],
   "source": [
    "# We can combine both\n",
    "\n",
    "print(f\"my name is {my_name} and I am {tall} cm tall.\")"
   ]
  },
  {
   "cell_type": "markdown",
   "id": "d9ee444d-77a3-4fb7-be87-0f6834cd0234",
   "metadata": {},
   "source": [
    "- Using the `format` method:"
   ]
  },
  {
   "cell_type": "code",
   "execution_count": 43,
   "id": "8d9971de-795f-4154-a43f-afbb39828d66",
   "metadata": {},
   "outputs": [
    {
     "name": "stdout",
     "output_type": "stream",
     "text": [
      "my name is Javier Rasero and I am 176 cm tall.\n"
     ]
    }
   ],
   "source": [
    "# Here we don't need to prefix \"f\". This is a method inherent to strings\n",
    "print(\"my name is {} and I am {} cm tall.\".format(my_name, tall))"
   ]
  },
  {
   "cell_type": "markdown",
   "id": "5f5bf83d-7a78-416e-af2a-968742564fe1",
   "metadata": {},
   "source": [
    "## Immutability "
   ]
  },
  {
   "cell_type": "markdown",
   "id": "2d59e41a-d50a-4cd9-a230-87e10c31de99",
   "metadata": {},
   "source": [
    "**Python strings are *immutable* - cannot reassign elements.** This feature applies to other data structures too (next lesson)."
   ]
  },
  {
   "cell_type": "code",
   "execution_count": 35,
   "id": "f294527c-6d18-46d5-9cdc-da0164b853a4",
   "metadata": {},
   "outputs": [
    {
     "ename": "TypeError",
     "evalue": "'str' object does not support item assignment",
     "output_type": "error",
     "traceback": [
      "\u001b[0;31m---------------------------------------------------------------------------\u001b[0m",
      "\u001b[0;31mTypeError\u001b[0m                                 Traceback (most recent call last)",
      "Cell \u001b[0;32mIn[35], line 1\u001b[0m\n\u001b[0;32m----> 1\u001b[0m string1[\u001b[38;5;241m0\u001b[39m] \u001b[38;5;241m=\u001b[39m \u001b[38;5;124m'\u001b[39m\u001b[38;5;124mY\u001b[39m\u001b[38;5;124m'\u001b[39m\n",
      "\u001b[0;31mTypeError\u001b[0m: 'str' object does not support item assignment"
     ]
    }
   ],
   "source": [
    "string1[0] = 'Y'"
   ]
  },
  {
   "cell_type": "markdown",
   "id": "df6479ce-9286-4e93-a1b4-be73a11f43a0",
   "metadata": {},
   "source": [
    "## Practice exercises"
   ]
  },
  {
   "cell_type": "markdown",
   "id": "771dc596-695c-471e-b1fc-c3604c2a5aef",
   "metadata": {},
   "source": [
    "```{exercise}\n",
    ":label: strings1\n",
    "\n",
    "1 - Create two strings you like. \n",
    "2 - Concatenate them using the + operator. Save the result in a new variable.\n",
    "3 - Extract some part of the combined string using slicing. Save the result in a new variable.\n",
    "4 - Print the final concatenated string and the extracted substring.        \n",
    "```"
   ]
  },
  {
   "cell_type": "code",
   "execution_count": 42,
   "id": "1e888dd5-240d-40d1-9166-f97c7a3a267d",
   "metadata": {},
   "outputs": [],
   "source": [
    "# Start your answers here"
   ]
  },
  {
   "cell_type": "markdown",
   "id": "b3acd3ad-e91e-45b0-a0ed-b105b045e723",
   "metadata": {},
   "source": [
    "```{exercise}\n",
    ":label: strings2\n",
    "\n",
    "1 - Create a string variable with the characters you like.\n",
    "2 - Reverse the string using slicing. Save the result in a new variable.\n",
    "3 - Replace a character in the reversed string using the .replace() method. Save the result in a new variable.\n",
    "4 - Print the strings created in 2 and 3.\n",
    "```"
   ]
  },
  {
   "cell_type": "code",
   "execution_count": 37,
   "id": "8a29083a-1bc8-40b2-b38f-41c70c31bb98",
   "metadata": {},
   "outputs": [],
   "source": [
    "# Start your answers here"
   ]
  }
 ],
 "metadata": {
  "kernelspec": {
   "display_name": "Python 3 (ipykernel)",
   "language": "python",
   "name": "python3"
  },
  "language_info": {
   "codemirror_mode": {
    "name": "ipython",
    "version": 3
   },
   "file_extension": ".py",
   "mimetype": "text/x-python",
   "name": "python",
   "nbconvert_exporter": "python",
   "pygments_lexer": "ipython3",
   "version": "3.11.9"
  }
 },
 "nbformat": 4,
 "nbformat_minor": 5
}
