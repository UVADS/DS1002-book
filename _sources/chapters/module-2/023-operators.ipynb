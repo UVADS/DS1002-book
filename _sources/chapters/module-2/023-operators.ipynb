{
 "cells": [
  {
   "cell_type": "markdown",
   "id": "3a0db315",
   "metadata": {},
   "source": [
    "# Operators and Expressions\n",
    "\n",
    "What you will learn in this lesson:\n",
    "\n",
    "- What are operators, what they are used for and the type of operators.\n",
    "- What do we mean by expressions."
   ]
  },
  {
   "cell_type": "markdown",
   "id": "a60f8e07",
   "metadata": {},
   "source": [
    "## Operators"
   ]
  },
  {
   "cell_type": "markdown",
   "id": "831a1737",
   "metadata": {},
   "source": [
    "If variables are **nouns**, and values **meanings**, then operators are **verbs**.\n",
    "\n",
    "Operators are special symbols that are expressed in sequential syntax.\n",
    "\n",
    "**Each data type is associated with a set of operators** that allow you to manipulate the data in way that makes sense for its type. Numeric data types are subject to mathematical operations, booleans to logical ones, and so forth.\n",
    "\n",
    "There are also **operations appropriate to structures**. For example, list-like things have membership (We will see this soon). \n",
    "\n",
    "In this lesson we will just concentrate on the operators acting on the basic data types we saw in the previous lessons. We will see how operators act in more complicated cases.\n",
    "\n",
    "The w3schools site has [a good summary](https://www.w3schools.com/python/python_operators.asp).\n"
   ]
  },
  {
   "cell_type": "markdown",
   "id": "e8cd76a7",
   "metadata": {},
   "source": [
    "### Arithmetic Operators"
   ]
  },
  {
   "cell_type": "markdown",
   "id": "2f3b3d92",
   "metadata": {},
   "source": [
    "Common: `+`, `-`, `*`, `/`\n",
    "\n",
    "\n",
    "\n",
    "Other operators: "
   ]
  },
  {
   "cell_type": "markdown",
   "id": "0cd060de",
   "metadata": {},
   "source": [
    "**floor division `//`**\n",
    "\n",
    "returns the largest integer less than or equal to the result"
   ]
  },
  {
   "cell_type": "code",
   "execution_count": 1,
   "id": "31090a23",
   "metadata": {},
   "outputs": [
    {
     "data": {
      "text/plain": [
       "2"
      ]
     },
     "execution_count": 1,
     "metadata": {},
     "output_type": "execute_result"
    }
   ],
   "source": [
    "5 // 2"
   ]
  },
  {
   "cell_type": "code",
   "execution_count": 2,
   "id": "ec599854",
   "metadata": {},
   "outputs": [
    {
     "data": {
      "text/plain": [
       "-3"
      ]
     },
     "execution_count": 2,
     "metadata": {},
     "output_type": "execute_result"
    }
   ],
   "source": [
    "-5 // 2"
   ]
  },
  {
   "cell_type": "markdown",
   "id": "dc111e7a",
   "metadata": {},
   "source": [
    "**modulus `%`**\n",
    "\n",
    "returns the remainder after a division operation"
   ]
  },
  {
   "cell_type": "code",
   "execution_count": 3,
   "id": "407aca33",
   "metadata": {},
   "outputs": [
    {
     "data": {
      "text/plain": [
       "1"
      ]
     },
     "execution_count": 3,
     "metadata": {},
     "output_type": "execute_result"
    }
   ],
   "source": [
    "5 % 2"
   ]
  },
  {
   "cell_type": "code",
   "execution_count": 4,
   "id": "d022f00d",
   "metadata": {},
   "outputs": [
    {
     "name": "stdout",
     "output_type": "stream",
     "text": [
      "2.75\n",
      "2.0\n",
      "1.5\n"
     ]
    }
   ],
   "source": [
    "print(5.5 / 2) \n",
    "print(5.5 // 2)\n",
    "print(5.5 % 2)"
   ]
  },
  {
   "cell_type": "markdown",
   "id": "840fcc6d",
   "metadata": {},
   "source": [
    "**exponentiation `**`**"
   ]
  },
  {
   "cell_type": "code",
   "execution_count": 5,
   "id": "ea24d942",
   "metadata": {},
   "outputs": [
    {
     "data": {
      "text/plain": [
       "25"
      ]
     },
     "execution_count": 5,
     "metadata": {},
     "output_type": "execute_result"
    }
   ],
   "source": [
    "5**2"
   ]
  },
  {
   "cell_type": "markdown",
   "id": "3ea8b61d",
   "metadata": {},
   "source": [
    "### Comparison Operators\n",
    "\n",
    "comparisons are questions and return boolean values"
   ]
  },
  {
   "cell_type": "markdown",
   "id": "602c84ea",
   "metadata": {},
   "source": [
    "**equality `==`**"
   ]
  },
  {
   "cell_type": "code",
   "execution_count": 6,
   "id": "f8c112be",
   "metadata": {},
   "outputs": [
    {
     "data": {
      "text/plain": [
       "True"
      ]
     },
     "execution_count": 6,
     "metadata": {},
     "output_type": "execute_result"
    }
   ],
   "source": [
    "# numeric\n",
    "25 == 4**2 + 9"
   ]
  },
  {
   "cell_type": "code",
   "execution_count": 7,
   "id": "c70a13ba",
   "metadata": {},
   "outputs": [
    {
     "ename": "NameError",
     "evalue": "name 'string1' is not defined",
     "output_type": "error",
     "traceback": [
      "\u001b[0;31m---------------------------------------------------------------------------\u001b[0m",
      "\u001b[0;31mNameError\u001b[0m                                 Traceback (most recent call last)",
      "Cell \u001b[0;32mIn[7], line 2\u001b[0m\n\u001b[1;32m      1\u001b[0m \u001b[38;5;66;03m# string\u001b[39;00m\n\u001b[0;32m----> 2\u001b[0m string1 \u001b[38;5;241m==\u001b[39m string2\n",
      "\u001b[0;31mNameError\u001b[0m: name 'string1' is not defined"
     ]
    }
   ],
   "source": [
    "# string\n",
    "string1 == string2"
   ]
  },
  {
   "cell_type": "markdown",
   "id": "d98927c8",
   "metadata": {},
   "source": [
    "**inequality `!=`**"
   ]
  },
  {
   "cell_type": "code",
   "execution_count": 8,
   "id": "fd07aade",
   "metadata": {},
   "outputs": [
    {
     "data": {
      "text/plain": [
       "True"
      ]
     },
     "execution_count": 8,
     "metadata": {},
     "output_type": "execute_result"
    }
   ],
   "source": [
    "# numeric\n",
    "25 != 20 + 6"
   ]
  },
  {
   "cell_type": "code",
   "execution_count": 9,
   "id": "3dc66b40",
   "metadata": {},
   "outputs": [
    {
     "ename": "NameError",
     "evalue": "name 'string1' is not defined",
     "output_type": "error",
     "traceback": [
      "\u001b[0;31m---------------------------------------------------------------------------\u001b[0m",
      "\u001b[0;31mNameError\u001b[0m                                 Traceback (most recent call last)",
      "Cell \u001b[0;32mIn[9], line 2\u001b[0m\n\u001b[1;32m      1\u001b[0m \u001b[38;5;66;03m# string\u001b[39;00m\n\u001b[0;32m----> 2\u001b[0m string1 \u001b[38;5;241m!=\u001b[39m string2\n",
      "\u001b[0;31mNameError\u001b[0m: name 'string1' is not defined"
     ]
    }
   ],
   "source": [
    "# string\n",
    "string1 != string2"
   ]
  },
  {
   "cell_type": "markdown",
   "id": "18e02383",
   "metadata": {},
   "source": [
    "**greater than `>`, less than `<`**"
   ]
  },
  {
   "cell_type": "code",
   "execution_count": 10,
   "id": "5ef7083f",
   "metadata": {},
   "outputs": [
    {
     "data": {
      "text/plain": [
       "True"
      ]
     },
     "execution_count": 10,
     "metadata": {},
     "output_type": "execute_result"
    }
   ],
   "source": [
    "20 > 10"
   ]
  },
  {
   "cell_type": "code",
   "execution_count": 11,
   "id": "6841a8b0",
   "metadata": {},
   "outputs": [
    {
     "data": {
      "text/plain": [
       "True"
      ]
     },
     "execution_count": 11,
     "metadata": {},
     "output_type": "execute_result"
    }
   ],
   "source": [
    "2*10 >= 20"
   ]
  },
  {
   "cell_type": "code",
   "execution_count": 12,
   "id": "e5a196a8",
   "metadata": {},
   "outputs": [
    {
     "data": {
      "text/plain": [
       "True"
      ]
     },
     "execution_count": 12,
     "metadata": {},
     "output_type": "execute_result"
    }
   ],
   "source": [
    "3%2 < 5"
   ]
  },
  {
   "cell_type": "code",
   "execution_count": 13,
   "id": "72585a38",
   "metadata": {},
   "outputs": [
    {
     "data": {
      "text/plain": [
       "True"
      ]
     },
     "execution_count": 13,
     "metadata": {},
     "output_type": "execute_result"
    }
   ],
   "source": [
    "-3 <= 0"
   ]
  },
  {
   "cell_type": "markdown",
   "id": "5b320d5b",
   "metadata": {},
   "source": [
    "### Logical Operators"
   ]
  },
  {
   "cell_type": "markdown",
   "id": "8cac021d",
   "metadata": {},
   "source": [
    "**conjunctions `and`, `or`, `not`**\n",
    "\n",
    "Note that we group comparisons with parentheses"
   ]
  },
  {
   "cell_type": "code",
   "execution_count": 14,
   "id": "db456946",
   "metadata": {},
   "outputs": [
    {
     "data": {
      "text/plain": [
       "True"
      ]
     },
     "execution_count": 14,
     "metadata": {},
     "output_type": "execute_result"
    }
   ],
   "source": [
    "x = 10\n",
    "\n",
    "(x % 10 == 0) or (x < -1)"
   ]
  },
  {
   "cell_type": "code",
   "execution_count": 15,
   "id": "c37efb81",
   "metadata": {},
   "outputs": [
    {
     "data": {
      "text/plain": [
       "False"
      ]
     },
     "execution_count": 15,
     "metadata": {},
     "output_type": "execute_result"
    }
   ],
   "source": [
    "(x % 10 == 0) and (x < -1)"
   ]
  },
  {
   "cell_type": "code",
   "execution_count": 16,
   "id": "c859ac4d",
   "metadata": {},
   "outputs": [
    {
     "data": {
      "text/plain": [
       "True"
      ]
     },
     "execution_count": 16,
     "metadata": {},
     "output_type": "execute_result"
    }
   ],
   "source": [
    "not x == 5"
   ]
  },
  {
   "cell_type": "markdown",
   "id": "4b9433ad",
   "metadata": {},
   "source": [
    "### Identity Operators"
   ]
  },
  {
   "cell_type": "markdown",
   "id": "e3e77f81",
   "metadata": {},
   "source": [
    "**Identity `is`**\n",
    "\n",
    "The `is` keyword is used to test if two variables refer to the same object.\n",
    "\n",
    "The test returns `True` if the two objects are the same object.\n",
    "\n",
    "The test returns False if they are not the same object, even if the two objects are 100% equal.\n",
    "\n",
    "Use the `==` operator to test if two variables are equal.\n",
    "\n",
    "-- from [W3Schools on Identity Operators](https://www.w3schools.com/python/gloss_python_identity_operators.asp)"
   ]
  },
  {
   "cell_type": "code",
   "execution_count": 17,
   "id": "fa0b9597",
   "metadata": {},
   "outputs": [],
   "source": [
    "x = ['apple', 'banana']\n",
    "y = ['apple', 'banana']\n",
    "z = x"
   ]
  },
  {
   "cell_type": "code",
   "execution_count": 18,
   "id": "bdcd29cc",
   "metadata": {},
   "outputs": [
    {
     "data": {
      "text/plain": [
       "True"
      ]
     },
     "execution_count": 18,
     "metadata": {},
     "output_type": "execute_result"
    }
   ],
   "source": [
    "x is z"
   ]
  },
  {
   "cell_type": "code",
   "execution_count": 19,
   "id": "49622400",
   "metadata": {},
   "outputs": [
    {
     "data": {
      "text/plain": [
       "False"
      ]
     },
     "execution_count": 19,
     "metadata": {},
     "output_type": "execute_result"
    }
   ],
   "source": [
    "x is y"
   ]
  },
  {
   "cell_type": "code",
   "execution_count": 20,
   "id": "0fca2cac",
   "metadata": {},
   "outputs": [
    {
     "data": {
      "text/plain": [
       "True"
      ]
     },
     "execution_count": 20,
     "metadata": {},
     "output_type": "execute_result"
    }
   ],
   "source": [
    "x == y"
   ]
  },
  {
   "cell_type": "code",
   "execution_count": 21,
   "id": "a5177699",
   "metadata": {},
   "outputs": [
    {
     "data": {
      "text/plain": [
       "True"
      ]
     },
     "execution_count": 21,
     "metadata": {},
     "output_type": "execute_result"
    }
   ],
   "source": [
    "x == z"
   ]
  },
  {
   "cell_type": "markdown",
   "id": "46227e40",
   "metadata": {},
   "source": [
    "### Unary Operators\n",
    "\n",
    "Python offers a short-cut for most operators. When updating a variable with an operation to that variable, such as:\n",
    "```python\n",
    "my_var = my_var + 1  # Incrementing\n",
    "```\n",
    "\n",
    "You can do this:\n",
    "```python\n",
    "my_var += 1\n",
    "```"
   ]
  },
  {
   "cell_type": "markdown",
   "id": "4819fb87",
   "metadata": {},
   "source": [
    "Python supports many operators this way. Here are some:\n",
    "```python\n",
    "a -= a\n",
    "a \\= a\n",
    "a \\\\= a\n",
    "a %= a\n",
    "a *= a\n",
    "a **= a\n",
    "```"
   ]
  },
  {
   "cell_type": "markdown",
   "id": "04a6dae2",
   "metadata": {},
   "source": [
    "## Expressions\n",
    "\n",
    "Variables, literal values, and operators are the building blocks of expressions.\n",
    "\n",
    "For example, the following combines three operators and four variables:"
   ]
  },
  {
   "cell_type": "code",
   "execution_count": 22,
   "id": "c847b399",
   "metadata": {},
   "outputs": [
    {
     "data": {
      "text/plain": [
       "4.0"
      ]
     },
     "execution_count": 22,
     "metadata": {},
     "output_type": "execute_result"
    }
   ],
   "source": [
    "1 + 2 * 3 / 2"
   ]
  },
  {
   "cell_type": "markdown",
   "id": "d2c60aef",
   "metadata": {},
   "source": [
    "Python employs **operator precedence** when evaluating expressions:\n",
    "\n",
    "```\n",
    "P – Parentheses\n",
    "E – Exponentiation\n",
    "M – Multiplication\n",
    "D – Division\n",
    "A – Addition\n",
    "S – Subtraction\n",
    "```"
   ]
  },
  {
   "cell_type": "code",
   "execution_count": 23,
   "id": "d4e58952",
   "metadata": {},
   "outputs": [
    {
     "data": {
      "text/plain": [
       "4.5"
      ]
     },
     "execution_count": 23,
     "metadata": {},
     "output_type": "execute_result"
    }
   ],
   "source": [
    "(1 + 2) * (3 / 2)"
   ]
  },
  {
   "cell_type": "markdown",
   "id": "5dc53ca3",
   "metadata": {},
   "source": [
    "Variables and literal values can be combined:"
   ]
  },
  {
   "cell_type": "code",
   "execution_count": 24,
   "id": "0433e939",
   "metadata": {},
   "outputs": [],
   "source": [
    "y = 5\n",
    "m = 2.5\n",
    "b = 10"
   ]
  },
  {
   "cell_type": "code",
   "execution_count": 25,
   "id": "0cbc8525",
   "metadata": {},
   "outputs": [
    {
     "data": {
      "text/plain": [
       "35.0"
      ]
     },
     "execution_count": 25,
     "metadata": {},
     "output_type": "execute_result"
    }
   ],
   "source": [
    "y = m * 10 + b\n",
    "y"
   ]
  },
  {
   "cell_type": "code",
   "execution_count": 26,
   "id": "7ea83e58",
   "metadata": {},
   "outputs": [
    {
     "data": {
      "text/plain": [
       "22.5"
      ]
     },
     "execution_count": 26,
     "metadata": {},
     "output_type": "execute_result"
    }
   ],
   "source": [
    "y = m * 5 + b\n",
    "y"
   ]
  },
  {
   "cell_type": "markdown",
   "id": "3f06c47d",
   "metadata": {},
   "source": [
    "Expresssions can be very complex.\n",
    "\n",
    "Expressions evaluate to a value, just as single variables do. \n",
    "\n",
    "Therefore, they can be put anywhere a value is accepted."
   ]
  },
  {
   "cell_type": "code",
   "execution_count": 27,
   "id": "4f1c7714",
   "metadata": {},
   "outputs": [
    {
     "data": {
      "text/plain": [
       "1244706300354"
      ]
     },
     "execution_count": 27,
     "metadata": {},
     "output_type": "execute_result"
    }
   ],
   "source": [
    "int((y + 10) ** 8)"
   ]
  },
  {
   "cell_type": "markdown",
   "id": "8007aaad-f78c-4033-bc69-f313deb2a7e3",
   "metadata": {},
   "source": [
    "## Practice exercises"
   ]
  },
  {
   "cell_type": "markdown",
   "id": "358630c9-ac28-46d5-8cdd-f9c8173c88a6",
   "metadata": {},
   "source": [
    "```{exercise}\n",
    ":label: operators1\n",
    "\n",
    "Create two variables, x and y, and assign them the values 15 and 4, respectively. Then, calculate and print the result from each of the following steps:\n",
    "\n",
    "1 - The sum of x and y.  \n",
    "2 - The product of x and y.  \n",
    "3 - The result of x divided by y using integer division.  \n",
    "4 - The remainder when x is divided by y.  \n",
    "5 - A boolean expression that checks if x is greater than y.  \n",
    "6 - A boolean expression that checks if x is equal to y.\n",
    "    \n",
    "```"
   ]
  },
  {
   "cell_type": "code",
   "execution_count": 28,
   "id": "748b3f83-601a-4d3e-bdd2-9c525020d34f",
   "metadata": {},
   "outputs": [],
   "source": [
    "# Your answers here"
   ]
  },
  {
   "cell_type": "markdown",
   "id": "a7eb7215-af5d-4608-8d17-ac399ab9c11b",
   "metadata": {},
   "source": [
    "```{exercise}\n",
    ":label: operators2\n",
    "\n",
    "Starting with a variable z assigned with the value 10, perform the following operations using unary operators. Print the value of z after each step:\n",
    "\n",
    " 1 - Add 5 to z.  \n",
    " 2 - Subtract 3 from z.  \n",
    " 3 - Multiply x by z.  \n",
    " 4 - Divide x by z.\n",
    " \n",
    "```"
   ]
  },
  {
   "cell_type": "code",
   "execution_count": 29,
   "id": "6cc5c08c-cfd3-4afc-84dc-47ef91c7ed5a",
   "metadata": {},
   "outputs": [],
   "source": [
    "# Your answers here"
   ]
  }
 ],
 "metadata": {
  "kernelspec": {
   "display_name": "Python 3 (ipykernel)",
   "language": "python",
   "name": "python3"
  },
  "language_info": {
   "codemirror_mode": {
    "name": "ipython",
    "version": 3
   },
   "file_extension": ".py",
   "mimetype": "text/x-python",
   "name": "python",
   "nbconvert_exporter": "python",
   "pygments_lexer": "ipython3",
   "version": "3.11.9"
  }
 },
 "nbformat": 4,
 "nbformat_minor": 5
}
