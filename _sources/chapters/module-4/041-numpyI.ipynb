{
 "cells": [
  {
   "cell_type": "markdown",
   "metadata": {
    "id": "-y-T4jtwGviE"
   },
   "source": [
    "# NumPy (Part I)\n",
    "\n",
    "What you will learn in this lesson:\n",
    "\n",
    "- Modules and Packages\n",
    "- What is NumPy\n",
    "- Introduction to NumPy arrays\n",
    "- Creating NumPy arrays\n",
    "- Data Types in NumPy\n",
    "\n",
    "\n",
    "## Brief Introduction to Modules and Packages\n",
    "\n",
    "The first external Python package we'll be learning is NumPy. External packages (those not built into Python) typically need to be (1) installed and (2) imported before use. But before diving into NumPy, let's take a moment to understand what packages are and how they are used.\n",
    "\n",
    "In Python, code is usually organized into **packages** and **modules**.\n",
    "\n",
    "- Technically, a Python **package** is a directory that contains none or multiple Python modules.\n",
    "- A **module** is simply a Python file (with an extension .py) that contains functions, classes, and other definitions. \n",
    "\n",
    "For example, a typical package structure might look like this:\n",
    "\n",
    "```\n",
    "── package_name\n",
    "    ├── __init__.py\n",
    "    ├── module1.py\n",
    "    └── module2.py\n",
    "```\n",
    "\n",
    "Each package always includes a special file named ``__init__.py``. This file signals to Python that the folder should be treated as a package, allowing you to import and use the code within it. Additionally, ``__init__.py`` can contain initialization code that runs when the package is first imported.\n",
    "\n",
    "### Installing\n",
    "\n",
    "To install a Python package on your system, it is common to use the package management tool called **PIP**. To install a package using PIP in your Jupyter notebook, you can run the following command:\n",
    "\n",
    "```\n",
    "!pip install [package_name]\n",
    "```\n",
    "\n",
    "Alternatively, if you are using a command-line terminal, you would just run the same command but with no exclamations mark:\n",
    "\n",
    "```\n",
    "pip install [package_name]\n",
    "```\n",
    "\n",
    "For example, to install NumPy directly from our jupyter notebook, we would run:\n",
    "\n",
    "```\n",
    "!pip install numpy\n",
    "```\n",
    "\n",
    "However, NumPy is such a common package it comes pre-installed here.\n",
    "\n",
    "### Importing\n",
    "Once a package is installed on your system, it must be imported into any Python code using the `import` command. \n",
    "\n",
    "For example, if we wanted to import NumPy, we would run:\n",
    "\n",
    "```\n",
    "import numpy\n",
    "```\n",
    "\n",
    "### Import Aliases\n",
    "Python also allows import statements to declare an alias for referencing the package. It is a common practice among NumPy users to import it as `np` like this:\n",
    "```\n",
    "import numpy as np\n",
    "```"
   ]
  },
  {
   "cell_type": "code",
   "execution_count": 2,
   "metadata": {
    "id": "AILfOgNJGviG"
   },
   "outputs": [],
   "source": [
    "import numpy as np"
   ]
  },
  {
   "cell_type": "markdown",
   "metadata": {},
   "source": [
    "## What is NumPy"
   ]
  },
  {
   "cell_type": "markdown",
   "metadata": {},
   "source": [
    "These are the main features of NumPy:\n",
    "\n",
    "- **A new data structure**\n",
    "\n",
    "NumPy introduces a new data structure to Python: the **n-dimensional array**. This data structure comes with a collection of functions and methods specifically designed to work with numerical data.\n",
    "\n",
    "The n-dimensional array is optimized for **numerical methods**, which are algorithmic approximations used to solve problems in mathematical analysis.\n",
    "\n",
    "- **New Functions**\n",
    "\n",
    "NumPy also provides a new way to apply functions to data through **vectorized functions**. These functions allow you to perform operations on entire arrays at once, eliminating the need for loops and comprehensions.\n",
    "\n",
    "In addition, NumPy offers a comprehensive library of **linear algebra** functions to further take advantage of its data structure.\n",
    "\n",
    "- **New Data Types**\n",
    "\n",
    "NumPy introduces several new **data types** tailored for efficient numerical computation.\n",
    "\n",
    "- **Python for Science**\n",
    "\n",
    "Finally, because numerical methods are so critical across many fields of science, NumPy serves as the foundation of Python's **scientific stack**. This stack includes libraries like SciPy, Matplotlib, Scikit-Learn, and Pandas—all of which assume some familiarity with NumPy."
   ]
  },
  {
   "cell_type": "markdown",
   "metadata": {},
   "source": [
    "## The ndarray object\n",
    "\n",
    "The ndarray is a multidimensional array **object** in NumPy.\n",
    "\n",
    "Before diving into the details, let's get a quick glimpse of its functionality. We will generate some fake data using NumPy's built-in random number generator, `numpy.random.standard_normal()`:"
   ]
  },
  {
   "cell_type": "code",
   "execution_count": 14,
   "metadata": {},
   "outputs": [
    {
     "name": "stdout",
     "output_type": "stream",
     "text": [
      "-0.34411105451921153 <class 'float'>\n"
     ]
    }
   ],
   "source": [
    "# generate a single random number\n",
    "number = np.random.standard_normal()\n",
    "print(number, type(number))"
   ]
  },
  {
   "cell_type": "code",
   "execution_count": 13,
   "metadata": {},
   "outputs": [
    {
     "name": "stdout",
     "output_type": "stream",
     "text": [
      "[[-0.86018331 -0.03236108 -0.01339443]\n",
      " [ 0.76369667  0.92744192  0.9740785 ]] <class 'numpy.ndarray'>\n"
     ]
    }
   ],
   "source": [
    "# generate some data - what do the arguments specify?\n",
    "data = np.random.standard_normal((2, 3))\n",
    "print(data, type(data))"
   ]
  },
  {
   "cell_type": "code",
   "execution_count": 189,
   "metadata": {},
   "outputs": [
    {
     "data": {
      "text/plain": [
       "array([[-12.24660702,  17.33601073, -13.79716033],\n",
       "       [ -4.77329076,   3.9832079 ,  -7.33317569]])"
      ]
     },
     "execution_count": 189,
     "metadata": {},
     "output_type": "execute_result"
    }
   ],
   "source": [
    "# Multiplication by a number\n",
    "data * 10"
   ]
  },
  {
   "cell_type": "code",
   "execution_count": 5,
   "metadata": {},
   "outputs": [
    {
     "name": "stdout",
     "output_type": "stream",
     "text": [
      "[[-0.38817992 -0.80497557 -2.71847192]\n",
      " [ 1.13515887  1.08807154  2.18749661]]\n",
      "[[-0.38817992 -0.80497557 -2.71847192]\n",
      " [ 1.13515887  1.08807154  2.18749661]]\n"
     ]
    }
   ],
   "source": [
    "# Multiplication by a number\n",
    "print(data + data)\n",
    "\n",
    "print(data * 2)"
   ]
  },
  {
   "attachments": {},
   "cell_type": "markdown",
   "metadata": {},
   "source": [
    "Like it is highlighted above and we repeatedly emphasized throughout the course,  everything in Python is an object, and the ndarray is no exception. Consequently, ndarray objects have attributes and methods, just like other Python objects."
   ]
  },
  {
   "cell_type": "code",
   "execution_count": 6,
   "metadata": {},
   "outputs": [
    {
     "data": {
      "text/plain": [
       "(2, 3)"
      ]
     },
     "execution_count": 6,
     "metadata": {},
     "output_type": "execute_result"
    }
   ],
   "source": [
    "# This is an attribute example, which stores the shape of the array\n",
    "data.shape"
   ]
  },
  {
   "cell_type": "code",
   "execution_count": 7,
   "metadata": {},
   "outputs": [
    {
     "name": "stdout",
     "output_type": "stream",
     "text": [
      "[[-0.19408996 -0.40248779]\n",
      " [-1.35923596  0.56757944]\n",
      " [ 0.54403577  1.0937483 ]]\n",
      "(3, 2)\n"
     ]
    }
   ],
   "source": [
    "# This is an method example, which allows you to reshape your array\n",
    "print(data.reshape(3,2))\n",
    "print(data.reshape(3,2).shape)"
   ]
  },
  {
   "cell_type": "markdown",
   "metadata": {},
   "source": [
    "```{note}\n",
    "\n",
    "The term \"dimension\" can be ambiguous:\n",
    "\n",
    " - It may refer to real-world dimensions, such as space and time.\n",
    " - Or, it may refer to the dimensions of a data structure, independent of its real-world meaning.\n",
    "\n",
    "In NumPy, \"dimensions\" refer to the structure of the data itself, although these dimensions can be used to represent real-world entities, as physicists often do.\n",
    "\n",
    "The dimensions of a data structure are sometimes called **axes**.\n",
    "\n",
    "For example, three-dimensional space can be represented either as three columns in a two-dimensional table or as three axes in a data cube.\n",
    "```"
   ]
  },
  {
   "cell_type": "markdown",
   "metadata": {},
   "source": [
    "## Creating ndarrays"
   ]
  },
  {
   "cell_type": "markdown",
   "metadata": {},
   "source": [
    "- `np.array()`: This is the most basic and common way. It takes an object (normally a list) and casts it as an array data structure"
   ]
  },
  {
   "cell_type": "code",
   "execution_count": 193,
   "metadata": {},
   "outputs": [
    {
     "data": {
      "text/plain": [
       "array([6. , 7.5, 8. , 0. , 1. ])"
      ]
     },
     "execution_count": 193,
     "metadata": {},
     "output_type": "execute_result"
    }
   ],
   "source": [
    "data1 = [6, 7.5, 8, 0, 1] # create a list\n",
    "arr1 = np.array(data1) # turn list into a numpy array\n",
    "arr1"
   ]
  },
  {
   "cell_type": "code",
   "execution_count": 294,
   "metadata": {},
   "outputs": [
    {
     "data": {
      "text/plain": [
       "array([[1, 2, 3, 4],\n",
       "       [5, 6, 7, 8]])"
      ]
     },
     "execution_count": 294,
     "metadata": {},
     "output_type": "execute_result"
    }
   ],
   "source": [
    "data2 = [[1, 2, 3, 4], [5, 6, 7, 8]]\n",
    "arr2 = np.array(data2)\n",
    "arr2"
   ]
  },
  {
   "cell_type": "markdown",
   "metadata": {},
   "source": [
    "- `np.zeros()`: It allows you to create an array with all zeros"
   ]
  },
  {
   "cell_type": "code",
   "execution_count": 195,
   "metadata": {},
   "outputs": [
    {
     "data": {
      "text/plain": [
       "array([0., 0., 0., 0., 0.])"
      ]
     },
     "execution_count": 195,
     "metadata": {},
     "output_type": "execute_result"
    }
   ],
   "source": [
    "np.zeros(5)"
   ]
  },
  {
   "cell_type": "markdown",
   "metadata": {},
   "source": [
    "You can create an array of zeros with any shape that you like. How do we do this? Let's have a look at the documentation of this function:"
   ]
  },
  {
   "cell_type": "code",
   "execution_count": 196,
   "metadata": {},
   "outputs": [
    {
     "name": "stdout",
     "output_type": "stream",
     "text": [
      "Help on built-in function zeros in module numpy:\n",
      "\n",
      "zeros(...)\n",
      "    zeros(shape, dtype=float, order='C', *, like=None)\n",
      "    \n",
      "    Return a new array of given shape and type, filled with zeros.\n",
      "    \n",
      "    Parameters\n",
      "    ----------\n",
      "    shape : int or tuple of ints\n",
      "        Shape of the new array, e.g., ``(2, 3)`` or ``2``.\n",
      "    dtype : data-type, optional\n",
      "        The desired data-type for the array, e.g., `numpy.int8`.  Default is\n",
      "        `numpy.float64`.\n",
      "    order : {'C', 'F'}, optional, default: 'C'\n",
      "        Whether to store multi-dimensional data in row-major\n",
      "        (C-style) or column-major (Fortran-style) order in\n",
      "        memory.\n",
      "    like : array_like, optional\n",
      "        Reference object to allow the creation of arrays which are not\n",
      "        NumPy arrays. If an array-like passed in as ``like`` supports\n",
      "        the ``__array_function__`` protocol, the result will be defined\n",
      "        by it. In this case, it ensures the creation of an array object\n",
      "        compatible with that passed in via this argument.\n",
      "    \n",
      "        .. versionadded:: 1.20.0\n",
      "    \n",
      "    Returns\n",
      "    -------\n",
      "    out : ndarray\n",
      "        Array of zeros with the given shape, dtype, and order.\n",
      "    \n",
      "    See Also\n",
      "    --------\n",
      "    zeros_like : Return an array of zeros with shape and type of input.\n",
      "    empty : Return a new uninitialized array.\n",
      "    ones : Return a new array setting values to one.\n",
      "    full : Return a new array of given shape filled with value.\n",
      "    \n",
      "    Examples\n",
      "    --------\n",
      "    >>> np.zeros(5)\n",
      "    array([ 0.,  0.,  0.,  0.,  0.])\n",
      "    \n",
      "    >>> np.zeros((5,), dtype=int)\n",
      "    array([0, 0, 0, 0, 0])\n",
      "    \n",
      "    >>> np.zeros((2, 1))\n",
      "    array([[ 0.],\n",
      "           [ 0.]])\n",
      "    \n",
      "    >>> s = (2,2)\n",
      "    >>> np.zeros(s)\n",
      "    array([[ 0.,  0.],\n",
      "           [ 0.,  0.]])\n",
      "    \n",
      "    >>> np.zeros((2,), dtype=[('x', 'i4'), ('y', 'i4')]) # custom dtype\n",
      "    array([(0, 0), (0, 0)],\n",
      "          dtype=[('x', '<i4'), ('y', '<i4')])\n",
      "\n"
     ]
    }
   ],
   "source": [
    "help(np.zeros)"
   ]
  },
  {
   "cell_type": "code",
   "execution_count": 197,
   "metadata": {},
   "outputs": [
    {
     "data": {
      "text/plain": [
       "array([[0., 0.],\n",
       "       [0., 0.],\n",
       "       [0., 0.],\n",
       "       [0., 0.],\n",
       "       [0., 0.]])"
      ]
     },
     "execution_count": 197,
     "metadata": {},
     "output_type": "execute_result"
    }
   ],
   "source": [
    "np.zeros((5,2))"
   ]
  },
  {
   "cell_type": "markdown",
   "metadata": {},
   "source": [
    "- `np.ones()`: This function creates arrays populated with all ones."
   ]
  },
  {
   "cell_type": "code",
   "execution_count": 198,
   "metadata": {},
   "outputs": [
    {
     "data": {
      "text/plain": [
       "array([1., 1., 1., 1., 1.])"
      ]
     },
     "execution_count": 198,
     "metadata": {},
     "output_type": "execute_result"
    }
   ],
   "source": [
    "np.ones(5)"
   ]
  },
  {
   "cell_type": "code",
   "execution_count": 199,
   "metadata": {},
   "outputs": [
    {
     "data": {
      "text/plain": [
       "array([[1., 1.],\n",
       "       [1., 1.],\n",
       "       [1., 1.],\n",
       "       [1., 1.],\n",
       "       [1., 1.]])"
      ]
     },
     "execution_count": 199,
     "metadata": {},
     "output_type": "execute_result"
    }
   ],
   "source": [
    "np.ones((5,2))"
   ]
  },
  {
   "cell_type": "markdown",
   "metadata": {},
   "source": [
    "- `np.empty()`: It creates an array whose initial content is random and depends on the state of the memory."
   ]
  },
  {
   "cell_type": "code",
   "execution_count": 11,
   "metadata": {},
   "outputs": [
    {
     "data": {
      "text/plain": [
       "array([[0.92245802, 0.38101488],\n",
       "       [0.6826837 , 2.00977309],\n",
       "       [0.97365403, 0.46240657],\n",
       "       [0.31146956, 1.26130426],\n",
       "       [0.71462289, 0.50362947]])"
      ]
     },
     "execution_count": 11,
     "metadata": {},
     "output_type": "execute_result"
    }
   ],
   "source": [
    "np.empty((5,2))"
   ]
  },
  {
   "cell_type": "markdown",
   "metadata": {},
   "source": [
    "- `numpy.random.standard_normal()`: It creates an array of random numbers following a standard normal distribution (Gaussian distribution with mean equal to zero, and standard deviation equal to 1)"
   ]
  },
  {
   "cell_type": "code",
   "execution_count": 15,
   "metadata": {},
   "outputs": [
    {
     "name": "stdout",
     "output_type": "stream",
     "text": [
      "Help on built-in function standard_normal:\n",
      "\n",
      "standard_normal(...) method of numpy.random.mtrand.RandomState instance\n",
      "    standard_normal(size=None)\n",
      "    \n",
      "    Draw samples from a standard Normal distribution (mean=0, stdev=1).\n",
      "    \n",
      "    .. note::\n",
      "        New code should use the\n",
      "        `~numpy.random.Generator.standard_normal`\n",
      "        method of a `~numpy.random.Generator` instance instead;\n",
      "        please see the :ref:`random-quick-start`.\n",
      "    \n",
      "    Parameters\n",
      "    ----------\n",
      "    size : int or tuple of ints, optional\n",
      "        Output shape.  If the given shape is, e.g., ``(m, n, k)``, then\n",
      "        ``m * n * k`` samples are drawn.  Default is None, in which case a\n",
      "        single value is returned.\n",
      "    \n",
      "    Returns\n",
      "    -------\n",
      "    out : float or ndarray\n",
      "        A floating-point array of shape ``size`` of drawn samples, or a\n",
      "        single sample if ``size`` was not specified.\n",
      "    \n",
      "    See Also\n",
      "    --------\n",
      "    normal :\n",
      "        Equivalent function with additional ``loc`` and ``scale`` arguments\n",
      "        for setting the mean and standard deviation.\n",
      "    random.Generator.standard_normal: which should be used for new code.\n",
      "    \n",
      "    Notes\n",
      "    -----\n",
      "    For random samples from the normal distribution with mean ``mu`` and\n",
      "    standard deviation ``sigma``, use one of::\n",
      "    \n",
      "        mu + sigma * np.random.standard_normal(size=...)\n",
      "        np.random.normal(mu, sigma, size=...)\n",
      "    \n",
      "    Examples\n",
      "    --------\n",
      "    >>> np.random.standard_normal()\n",
      "    2.1923875335537315 #random\n",
      "    \n",
      "    >>> s = np.random.standard_normal(8000)\n",
      "    >>> s\n",
      "    array([ 0.6888893 ,  0.78096262, -0.89086505, ...,  0.49876311,  # random\n",
      "           -0.38672696, -0.4685006 ])                                # random\n",
      "    >>> s.shape\n",
      "    (8000,)\n",
      "    >>> s = np.random.standard_normal(size=(3, 4, 2))\n",
      "    >>> s.shape\n",
      "    (3, 4, 2)\n",
      "    \n",
      "    Two-by-four array of samples from the normal distribution with\n",
      "    mean 3 and standard deviation 2.5:\n",
      "    \n",
      "    >>> 3 + 2.5 * np.random.standard_normal(size=(2, 4))\n",
      "    array([[-4.49401501,  4.00950034, -1.81814867,  7.29718677],   # random\n",
      "           [ 0.39924804,  4.68456316,  4.99394529,  4.84057254]])  # random\n",
      "\n"
     ]
    }
   ],
   "source": [
    "help(np.random.standard_normal)"
   ]
  },
  {
   "cell_type": "code",
   "execution_count": 17,
   "metadata": {},
   "outputs": [
    {
     "data": {
      "text/plain": [
       "array([[-0.04654174,  1.83472438],\n",
       "       [ 1.57136621,  0.43810413],\n",
       "       [ 0.72353781,  0.08706923],\n",
       "       [ 0.30403948,  0.29312622],\n",
       "       [ 1.86205566, -1.17291281]])"
      ]
     },
     "execution_count": 17,
     "metadata": {},
     "output_type": "execute_result"
    }
   ],
   "source": [
    "np.random.standard_normal((5,2))"
   ]
  },
  {
   "cell_type": "markdown",
   "metadata": {},
   "source": [
    "- `np.arange()`: Similar to `range`, it allows you to create an array of sequencial integer numbers."
   ]
  },
  {
   "cell_type": "code",
   "execution_count": 200,
   "metadata": {},
   "outputs": [
    {
     "data": {
      "text/plain": [
       "array([1, 3, 5, 7, 9])"
      ]
     },
     "execution_count": 200,
     "metadata": {},
     "output_type": "execute_result"
    }
   ],
   "source": [
    "np.arange(1,10,2)"
   ]
  },
  {
   "cell_type": "markdown",
   "metadata": {},
   "source": [
    "- `np.linspace()`: This function allows you to create an array with a specified number of values that are evenly spaced within a given interval."
   ]
  },
  {
   "cell_type": "code",
   "execution_count": 201,
   "metadata": {},
   "outputs": [
    {
     "data": {
      "text/plain": [
       "array([ 1.   ,  1.375,  1.75 ,  2.125,  2.5  ,  2.875,  3.25 ,  3.625,\n",
       "        4.   ,  4.375,  4.75 ,  5.125,  5.5  ,  5.875,  6.25 ,  6.625,\n",
       "        7.   ,  7.375,  7.75 ,  8.125,  8.5  ,  8.875,  9.25 ,  9.625,\n",
       "       10.   ])"
      ]
     },
     "execution_count": 201,
     "metadata": {},
     "output_type": "execute_result"
    }
   ],
   "source": [
    "# Here we are requesting 25 numbers linearly spaced between 1 and 10\n",
    "np.linspace(1,10,25)"
   ]
  },
  {
   "cell_type": "markdown",
   "metadata": {},
   "source": [
    "**Try it yourself**: Rerun the previous example by using the function `np.logspace` instead. What would you say is the difference here?"
   ]
  },
  {
   "cell_type": "markdown",
   "metadata": {},
   "source": [
    "### Very common attributes and methods with numpy arrays objects\n",
    "\n",
    "Below is a very short subset of the attributes and methods available for ndarray objects. Please, refer to [array-attributes](https://numpy.org/doc/stable/reference/arrays.ndarray.html#array-attributes) and [array-methods](https://numpy.org/doc/stable/reference/arrays.ndarray.html#array-methods) for a comprehensive and detailed list."
   ]
  },
  {
   "cell_type": "markdown",
   "metadata": {},
   "source": [
    "- `ndim`: It gives the number of dimensions or axes."
   ]
  },
  {
   "cell_type": "code",
   "execution_count": 18,
   "metadata": {},
   "outputs": [
    {
     "ename": "NameError",
     "evalue": "name 'arr1' is not defined",
     "output_type": "error",
     "traceback": [
      "\u001b[0;31m---------------------------------------------------------------------------\u001b[0m",
      "\u001b[0;31mNameError\u001b[0m                                 Traceback (most recent call last)",
      "Cell \u001b[0;32mIn[18], line 1\u001b[0m\n\u001b[0;32m----> 1\u001b[0m arr1\u001b[38;5;241m.\u001b[39mndim\n",
      "\u001b[0;31mNameError\u001b[0m: name 'arr1' is not defined"
     ]
    }
   ],
   "source": [
    "arr1.ndim"
   ]
  },
  {
   "cell_type": "code",
   "execution_count": 289,
   "metadata": {},
   "outputs": [
    {
     "data": {
      "text/plain": [
       "2"
      ]
     },
     "execution_count": 289,
     "metadata": {},
     "output_type": "execute_result"
    }
   ],
   "source": [
    "arr2.ndim"
   ]
  },
  {
   "cell_type": "markdown",
   "metadata": {},
   "source": [
    "- `shape`: It checks the shape of the ndarray."
   ]
  },
  {
   "cell_type": "code",
   "execution_count": 292,
   "metadata": {},
   "outputs": [
    {
     "data": {
      "text/plain": [
       "(2, 4)"
      ]
     },
     "execution_count": 292,
     "metadata": {},
     "output_type": "execute_result"
    }
   ],
   "source": [
    "arr2.shape"
   ]
  },
  {
   "cell_type": "markdown",
   "metadata": {},
   "source": [
    "- `dtype`: It retrives the data types contained in the ndarray (see later)."
   ]
  },
  {
   "cell_type": "code",
   "execution_count": 293,
   "metadata": {},
   "outputs": [
    {
     "data": {
      "text/plain": [
       "dtype('int64')"
      ]
     },
     "execution_count": 293,
     "metadata": {},
     "output_type": "execute_result"
    }
   ],
   "source": [
    "arr2.dtype"
   ]
  },
  {
   "cell_type": "markdown",
   "metadata": {},
   "source": [
    "- `reshape`: It reshapes an array to a given shape."
   ]
  },
  {
   "cell_type": "code",
   "execution_count": 300,
   "metadata": {},
   "outputs": [
    {
     "data": {
      "text/plain": [
       "array([[1, 2, 3, 4, 5, 6, 7, 8]])"
      ]
     },
     "execution_count": 300,
     "metadata": {},
     "output_type": "execute_result"
    }
   ],
   "source": [
    "arr2.reshape(1,8)"
   ]
  },
  {
   "cell_type": "markdown",
   "metadata": {},
   "source": [
    "- `transpose`: It transposes the array."
   ]
  },
  {
   "cell_type": "code",
   "execution_count": 303,
   "metadata": {},
   "outputs": [
    {
     "data": {
      "text/plain": [
       "array([[1, 5],\n",
       "       [2, 6],\n",
       "       [3, 7],\n",
       "       [4, 8]])"
      ]
     },
     "execution_count": 303,
     "metadata": {},
     "output_type": "execute_result"
    }
   ],
   "source": [
    "arr2.transpose()"
   ]
  },
  {
   "cell_type": "code",
   "execution_count": 306,
   "metadata": {},
   "outputs": [
    {
     "data": {
      "text/plain": [
       "array([[1, 5],\n",
       "       [2, 6],\n",
       "       [3, 7],\n",
       "       [4, 8]])"
      ]
     },
     "execution_count": 306,
     "metadata": {},
     "output_type": "execute_result"
    }
   ],
   "source": [
    "# Or as an attribute\n",
    "arr2.T"
   ]
  },
  {
   "cell_type": "markdown",
   "metadata": {},
   "source": [
    "- `flatten`: It flattens the array"
   ]
  },
  {
   "cell_type": "code",
   "execution_count": 307,
   "metadata": {},
   "outputs": [
    {
     "data": {
      "text/plain": [
       "array([1, 2, 3, 4, 5, 6, 7, 8])"
      ]
     },
     "execution_count": 307,
     "metadata": {},
     "output_type": "execute_result"
    }
   ],
   "source": [
    "arr2.flatten()"
   ]
  },
  {
   "cell_type": "markdown",
   "metadata": {},
   "source": [
    "## Data Types"
   ]
  },
  {
   "cell_type": "markdown",
   "metadata": {},
   "source": [
    "NumPy introduces its own data types, optimized for efficient storage and processing. The most commonly used data types in NumPy are:\n",
    "\n",
    "- `np.int16`\n",
    "- `np.int32`\n",
    "- `np.int64`\n",
    "- `np.float32`\n",
    "- `np.float64`\n",
    "- `np.float128`\n",
    "- `np.bool_`\n",
    "- `np.str_`\n",
    "- `np.bytes_`\n",
    "- `np.object_`\n",
    "\n",
    "We can control the data type of a NumPy array at the time of creation by using the `dtype` argument.\n",
    "\n",
    "Let’s see how this works with some of the data we used earlier."
   ]
  },
  {
   "cell_type": "markdown",
   "metadata": {},
   "source": [
    "By default, if all elements in a NumPy array are integers, Python will be as flexible as possible by assigning them the `np.int64` data type."
   ]
  },
  {
   "cell_type": "code",
   "execution_count": 206,
   "metadata": {},
   "outputs": [
    {
     "name": "stdout",
     "output_type": "stream",
     "text": [
      "int64\n"
     ]
    }
   ],
   "source": [
    "# arr2 contained all integer elements\n",
    "print(arr2.dtype)"
   ]
  },
  {
   "cell_type": "code",
   "execution_count": 207,
   "metadata": {},
   "outputs": [
    {
     "name": "stdout",
     "output_type": "stream",
     "text": [
      "[[1 2 3 4]\n",
      " [5 6 7 8]]\n",
      "int32\n",
      "[[1. 2. 3. 4.]\n",
      " [5. 6. 7. 8.]]\n",
      "float64\n"
     ]
    }
   ],
   "source": [
    "# Nevertheless, we can specify the data type that we want in the definition of the arrays\n",
    "arr2_int32 = np.array(data2, dtype=np.int32)\n",
    "print(arr2_int32)\n",
    "print(arr2_int32.dtype)\n",
    "\n",
    "arr2_float64 = np.array(data2, dtype=np.float64)\n",
    "print(arr2_float64)\n",
    "print(arr2_float64.dtype)"
   ]
  },
  {
   "cell_type": "markdown",
   "metadata": {},
   "source": [
    "In contrast, if at least one element in the array contains a decimal, Python will treat the entire array as a float type, defaulting to `np.float64`."
   ]
  },
  {
   "cell_type": "code",
   "execution_count": 19,
   "metadata": {},
   "outputs": [
    {
     "name": "stdout",
     "output_type": "stream",
     "text": [
      "[[1. 2. 3. 4.]\n",
      " [5. 6. 7. 8.]]\n",
      "float64\n"
     ]
    }
   ],
   "source": [
    "# Similar to data2, only that the last element has a 0 decimal.\n",
    "data3 = [[1, 2, 3, 4], [5, 6, 7, 8.0]]\n",
    "arr3 = np.array(data3)\n",
    "arr3\n",
    "print(arr3)\n",
    "print(arr3.dtype)"
   ]
  },
  {
   "cell_type": "code",
   "execution_count": 20,
   "metadata": {},
   "outputs": [
    {
     "data": {
      "text/plain": [
       "array([b'1.25', b'-9.6', b'42'], dtype='|S4')"
      ]
     },
     "execution_count": 20,
     "metadata": {},
     "output_type": "execute_result"
    }
   ],
   "source": [
    "# Here using string\n",
    "numeric_strings = np.array(['1.25', '-9.6', '42'], dtype=np.string_)\n",
    "numeric_strings"
   ]
  },
  {
   "cell_type": "code",
   "execution_count": 21,
   "metadata": {},
   "outputs": [
    {
     "data": {
      "text/plain": [
       "array([ True, False, False])"
      ]
     },
     "execution_count": 21,
     "metadata": {},
     "output_type": "execute_result"
    }
   ],
   "source": [
    "# Here using string\n",
    "boolean_array = np.array([True, False, False], dtype=np.bool_)\n",
    "boolean_array"
   ]
  },
  {
   "cell_type": "markdown",
   "metadata": {},
   "source": [
    "You can also convert to different data types after your array has been created using the method `astype`."
   ]
  },
  {
   "cell_type": "code",
   "execution_count": 22,
   "metadata": {},
   "outputs": [
    {
     "data": {
      "text/plain": [
       "array([ 1.25, -9.6 , 42.  ])"
      ]
     },
     "execution_count": 22,
     "metadata": {},
     "output_type": "execute_result"
    }
   ],
   "source": [
    "numeric_strings.astype(np.float64)"
   ]
  },
  {
   "cell_type": "code",
   "execution_count": 23,
   "metadata": {},
   "outputs": [
    {
     "data": {
      "text/plain": [
       "array([1, 0, 0])"
      ]
     },
     "execution_count": 23,
     "metadata": {},
     "output_type": "execute_result"
    }
   ],
   "source": [
    "boolean_array.astype(np.int64)"
   ]
  },
  {
   "cell_type": "markdown",
   "metadata": {},
   "source": [
    "## Practice exercises"
   ]
  },
  {
   "cell_type": "markdown",
   "metadata": {},
   "source": [
    "```{exercise}\n",
    ":label: numpy1\n",
    "\n",
    "1- Convert the following variable, `sudoku_game`, into a NumPy array called `sudoku_array`.  \n",
    "2- Print the class `type()` of `sudoku_array` to check that your code has worked properly.    \n",
    "```"
   ]
  },
  {
   "cell_type": "code",
   "execution_count": 24,
   "metadata": {},
   "outputs": [],
   "source": [
    "# sudoku_game is Python list containing a sudoku game\n",
    "sudoku_game = [[0, 0, 4, 3, 0, 0, 2, 0, 9],\n",
    "               [0, 0, 5, 0, 0, 9, 0, 0, 1],\n",
    "               [0, 7, 0, 0, 6, 0, 0, 4, 3],\n",
    "               [0, 0, 6, 0, 0, 2, 0, 8, 7],\n",
    "               [1, 9, 0, 0, 0, 7, 4, 0, 0],\n",
    "               [0, 5, 0, 0, 8, 3, 0, 0, 0],\n",
    "               [6, 0, 0, 0, 0, 0, 1, 0, 5],\n",
    "               [0, 0, 3, 5, 0, 8, 6, 9, 0],\n",
    "               [0, 4, 2, 9, 1, 0, 3, 0, 0]]"
   ]
  },
  {
   "cell_type": "code",
   "execution_count": 25,
   "metadata": {},
   "outputs": [],
   "source": [
    "# Your answers from here"
   ]
  },
  {
   "cell_type": "markdown",
   "metadata": {},
   "source": [
    "```{exercise}\n",
    ":label: numpy2\n",
    "\n",
    "You've just created a `sudoku_game` two-dimensional NumPy array. Perhaps you have hundreds of sudoku game arrays, and you'd like to save the solution for this one, `sudoku_solution`, as part of the same array as its corresponding game in order to organize your sudoku data better. You could accomplish this by stacking the two 2D arrays on top of each other to create a 3D array.\n",
    "\n",
    "1- Create a 3D array called `game_and_solution` by stacking the two 2D arrays, created from `sudoku_game` and `sudoku_solution`, on top of one another; in the final array, `sudoku_game` should appear before `sudoku_solution`. Print `sudoku_game`.\n",
    "\n",
    "2- Flatten `sudoku_game` so that it is a 1D array, and save it as `flattened_game`.  Print the `.shape` of `flattened_game`.\n",
    "\n",
    "3- Reshape the `flattened_game` back to its original shape of nine rows and nine columns; save the new array as `reshaped_game`.\n",
    "```"
   ]
  },
  {
   "cell_type": "code",
   "execution_count": 26,
   "metadata": {},
   "outputs": [],
   "source": [
    "# sudoku_game is Python list containing a sudoku game\n",
    "\n",
    "sudoku_game = [[0, 0, 4, 3, 0, 0, 2, 0, 9],\n",
    "               [0, 0, 5, 0, 0, 9, 0, 0, 1],\n",
    "               [0, 7, 0, 0, 6, 0, 0, 4, 3],\n",
    "               [0, 0, 6, 0, 0, 2, 0, 8, 7],\n",
    "               [1, 9, 0, 0, 0, 7, 4, 0, 0],\n",
    "               [0, 5, 0, 0, 8, 3, 0, 0, 0],\n",
    "               [6, 0, 0, 0, 0, 0, 1, 0, 5],\n",
    "               [0, 0, 3, 5, 0, 8, 6, 9, 0],\n",
    "               [0, 4, 2, 9, 1, 0, 3, 0, 0]]\n",
    "\n",
    "sudoku_solution = [[8, 6, 4, 3, 7, 1, 2, 5, 9],\n",
    "                   [3, 2, 5, 8, 4, 9, 7, 6, 1],\n",
    "                   [9, 7, 1, 2, 6, 5, 8, 4, 3],\n",
    "                   [4, 3, 6, 1, 9, 2, 5, 8, 7],\n",
    "                   [1, 9, 8, 6, 5, 7, 4, 3, 2],\n",
    "                   [2, 5, 7, 4, 8, 3, 9, 1, 6],\n",
    "                   [6, 8, 9, 7, 3, 4, 1, 2, 5],\n",
    "                   [7, 1, 3, 5, 2, 8, 6, 9, 4],\n",
    "                   [5, 4, 2, 9, 1, 6, 3, 7, 8]]"
   ]
  },
  {
   "cell_type": "code",
   "execution_count": 27,
   "metadata": {},
   "outputs": [],
   "source": [
    "# Your answers from here"
   ]
  },
  {
   "cell_type": "markdown",
   "metadata": {},
   "source": [
    "```{exercise}\n",
    ":label: numpy3\n",
    "\n",
    "1- Create another 3D array called `new_game_and_solution` with a different 2D game and 2D solution pair: `new_sudoku_game` and `new_sudoku_solution`. `new_sudoku_game` should appear before `new_sudoku_solution`.\n",
    "\n",
    "2- Create a 4D array called `games_and_solutions` by making an array out of the two 3D arrays: `game_and_solution` and `new_game_and_solution`, in that order.\n",
    "\n",
    "3- Print the shape of `games_and_solutions`.\n",
    "```"
   ]
  },
  {
   "cell_type": "code",
   "execution_count": 28,
   "metadata": {},
   "outputs": [],
   "source": [
    "new_sudoku_game = [[0, 0, 4, 3, 0, 0, 0, 0, 0],\n",
    "                   [8, 9, 0, 2, 0, 0, 6, 7, 0],\n",
    "                   [7, 0, 0, 9, 0, 0, 0, 5, 0],\n",
    "                   [5, 0, 0, 0, 0, 8, 1, 4, 0],\n",
    "                   [0, 7, 0, 0, 3, 2, 0, 6, 0],\n",
    "                   [6, 0, 0, 0, 0, 1, 3, 0, 8],\n",
    "                   [0, 0, 1, 7, 5, 0, 9, 0, 0],\n",
    "                   [0, 0, 5, 0, 4, 0, 0, 1, 2],\n",
    "                   [9, 8, 0, 0, 0, 6, 0, 0, 5]]\n",
    "\n",
    "new_sudoku_solution = [[2, 5, 4, 3, 6, 7, 8, 9, 1],\n",
    "                       [8, 9, 3, 2, 1, 5, 6, 7, 4],\n",
    "                       [7, 1, 6, 9, 8, 4, 2, 5, 3],\n",
    "                       [5, 3, 2, 6, 9, 8, 1, 4, 7],\n",
    "                       [1, 7, 8, 4, 3, 2, 5, 6, 9],\n",
    "                       [6, 4, 9, 5, 7, 1, 3, 2, 8],\n",
    "                       [4, 2, 1, 7, 5, 3, 9, 8, 6],\n",
    "                       [3, 6, 5, 8, 4, 9, 7, 1, 2],\n",
    "                       [9, 8, 7, 1, 2, 6, 4, 3, 5]]"
   ]
  },
  {
   "cell_type": "code",
   "execution_count": 29,
   "metadata": {},
   "outputs": [],
   "source": [
    "# Your answers from here"
   ]
  },
  {
   "cell_type": "markdown",
   "metadata": {},
   "source": [
    "```{exercise}\n",
    ":label: numpy4\n",
    "\n",
    "1- Create and print an array filled with zeros called `zero_array`, which has two rows and four columns.\n",
    "\n",
    "2- Create and print an array, called `random_array`, of random floats following a standard normal distribution, which has three rows and six columns.\n",
    "\n",
    "3- Create a 1D array called `one_to_ten` which holds all integers from one to ten (inclusive)\n",
    "\n",
    "```"
   ]
  },
  {
   "cell_type": "code",
   "execution_count": 316,
   "metadata": {},
   "outputs": [],
   "source": [
    "# Your answers from here"
   ]
  }
 ],
 "metadata": {
  "anaconda-cloud": {},
  "colab": {
   "include_colab_link": true,
   "provenance": []
  },
  "kernelspec": {
   "display_name": "Python 3 (ipykernel)",
   "language": "python",
   "name": "python3"
  },
  "language_info": {
   "codemirror_mode": {
    "name": "ipython",
    "version": 3
   },
   "file_extension": ".py",
   "mimetype": "text/x-python",
   "name": "python",
   "nbconvert_exporter": "python",
   "pygments_lexer": "ipython3",
   "version": "3.11.9"
  },
  "vscode": {
   "interpreter": {
    "hash": "31f2aee4e71d21fbe5cf8b01ff0e069b9275f58929596ceb00d14d90e3e16cd6"
   }
  }
 },
 "nbformat": 4,
 "nbformat_minor": 4
}
