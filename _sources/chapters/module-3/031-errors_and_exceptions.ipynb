{
 "cells": [
  {
   "cell_type": "markdown",
   "id": "432ebbd0",
   "metadata": {},
   "source": [
    "# Errors and Exceptions\n",
    "\n",
    "What you will learn in this lesson:\n",
    "\n",
    "- Handling runtime errors with `try` and `except`\n",
    "- The addition of `else` and `finally` clauses\n",
    "- Raising exceptions"
   ]
  },
  {
   "cell_type": "markdown",
   "id": "6369f6db",
   "metadata": {},
   "source": [
    "## Introduction"
   ]
  },
  {
   "cell_type": "markdown",
   "id": "f1b01a3c",
   "metadata": {},
   "source": [
    "**Errors** are mistakes that prevent Python from running your code. These can happen before or during execution. \n",
    "\n",
    "Examples of errors that happen before execution include syntax errors (`SyntaxError`) (e.g. forgetting a colon after an `if` statement, using an invalid variable name...), and an incorrect indentation (`IndentationError`)."
   ]
  },
  {
   "cell_type": "code",
   "execution_count": 1,
   "id": "77f3d277-c59d-4dd1-9272-9979f458f4b6",
   "metadata": {},
   "outputs": [
    {
     "ename": "SyntaxError",
     "evalue": "expected ':' (313354838.py, line 2)",
     "output_type": "error",
     "traceback": [
      "\u001b[0;36m  Cell \u001b[0;32mIn[1], line 2\u001b[0;36m\u001b[0m\n\u001b[0;31m    if True\u001b[0m\n\u001b[0m           ^\u001b[0m\n\u001b[0;31mSyntaxError\u001b[0m\u001b[0;31m:\u001b[0m expected ':'\n"
     ]
    }
   ],
   "source": [
    "# Here we are missing a colon\n",
    "if True\n",
    "    print(\"This will cause a SyntaxError\")"
   ]
  },
  {
   "cell_type": "code",
   "execution_count": 2,
   "id": "44066566-4eab-48c8-ab23-dc23d31494fa",
   "metadata": {},
   "outputs": [
    {
     "ename": "IndentationError",
     "evalue": "expected an indented block after 'if' statement on line 2 (1461844996.py, line 3)",
     "output_type": "error",
     "traceback": [
      "\u001b[0;36m  Cell \u001b[0;32mIn[2], line 3\u001b[0;36m\u001b[0m\n\u001b[0;31m    print(\"This will cause a IndentationError\")\u001b[0m\n\u001b[0m    ^\u001b[0m\n\u001b[0;31mIndentationError\u001b[0m\u001b[0;31m:\u001b[0m expected an indented block after 'if' statement on line 2\n"
     ]
    }
   ],
   "source": [
    "# Here we are missing an indentenation\n",
    "if True:\n",
    "print(\"This will cause a IndentationError\")"
   ]
  },
  {
   "cell_type": "markdown",
   "id": "b38fb2f7-5a55-4fd6-bfcc-63272fc2a814",
   "metadata": {},
   "source": [
    "There also errors that happen during execution. This are usually called **runtime** errors.\n",
    "\n",
    "**Exceptions** are the way of handling this kind of errors."
   ]
  },
  {
   "cell_type": "markdown",
   "id": "b66d48b8-15a3-4c92-bc29-d822d224db50",
   "metadata": {},
   "source": [
    "Some examples of runtime errors include:"
   ]
  },
  {
   "cell_type": "markdown",
   "id": "3b8323ca-bfbf-4141-b2cc-7ed0b8c09d90",
   "metadata": {},
   "source": [
    "- `NameError` happens when one attempts to use a variable that has not been defined"
   ]
  },
  {
   "cell_type": "code",
   "execution_count": 7,
   "id": "cbcbf1d4-9156-4faa-8cdd-ec8efa567c8c",
   "metadata": {},
   "outputs": [
    {
     "ename": "NameError",
     "evalue": "name 'x' is not defined",
     "output_type": "error",
     "traceback": [
      "\u001b[0;31m---------------------------------------------------------------------------\u001b[0m",
      "\u001b[0;31mNameError\u001b[0m                                 Traceback (most recent call last)",
      "Cell \u001b[0;32mIn[7], line 1\u001b[0m\n\u001b[0;32m----> 1\u001b[0m \u001b[38;5;241m1\u001b[39m \u001b[38;5;241m+\u001b[39m x\u001b[38;5;241m*\u001b[39m\u001b[38;5;241m3\u001b[39m\n",
      "\u001b[0;31mNameError\u001b[0m: name 'x' is not defined"
     ]
    }
   ],
   "source": [
    "1 + x*3"
   ]
  },
  {
   "cell_type": "markdown",
   "id": "ae05ded3-4a64-4305-8265-4121298e51fe",
   "metadata": {},
   "source": [
    "- `TypeError` happens when operation on an object is not supported."
   ]
  },
  {
   "cell_type": "code",
   "execution_count": 8,
   "id": "7410aa0b-5688-446a-8775-cc24408d2d2c",
   "metadata": {},
   "outputs": [
    {
     "ename": "TypeError",
     "evalue": "can only concatenate str (not \"int\") to str",
     "output_type": "error",
     "traceback": [
      "\u001b[0;31m---------------------------------------------------------------------------\u001b[0m",
      "\u001b[0;31mTypeError\u001b[0m                                 Traceback (most recent call last)",
      "Cell \u001b[0;32mIn[8], line 1\u001b[0m\n\u001b[0;32m----> 1\u001b[0m \u001b[38;5;124m'\u001b[39m\u001b[38;5;124m2\u001b[39m\u001b[38;5;124m'\u001b[39m \u001b[38;5;241m+\u001b[39m \u001b[38;5;241m2\u001b[39m\n",
      "\u001b[0;31mTypeError\u001b[0m: can only concatenate str (not \"int\") to str"
     ]
    }
   ],
   "source": [
    "'2' + 2"
   ]
  },
  {
   "cell_type": "markdown",
   "id": "d6697361-3cf2-4993-ae9e-f46bdf271328",
   "metadata": {},
   "source": [
    "- `ZeroDivisionError` happens when you try to divide by zero."
   ]
  },
  {
   "cell_type": "code",
   "execution_count": 9,
   "id": "4c3ea056-2e0d-4b4f-85a9-1e85b185f42b",
   "metadata": {
    "jp-MarkdownHeadingCollapsed": true
   },
   "outputs": [
    {
     "ename": "ZeroDivisionError",
     "evalue": "division by zero",
     "output_type": "error",
     "traceback": [
      "\u001b[0;31m---------------------------------------------------------------------------\u001b[0m",
      "\u001b[0;31mZeroDivisionError\u001b[0m                         Traceback (most recent call last)",
      "Cell \u001b[0;32mIn[9], line 1\u001b[0m\n\u001b[0;32m----> 1\u001b[0m \u001b[38;5;241m1\u001b[39m\u001b[38;5;241m/\u001b[39m\u001b[38;5;241m0\u001b[39m\n",
      "\u001b[0;31mZeroDivisionError\u001b[0m: division by zero"
     ]
    }
   ],
   "source": [
    "1/0"
   ]
  },
  {
   "cell_type": "markdown",
   "id": "811e79e7-80bc-48c9-a831-5bb805951c0c",
   "metadata": {},
   "source": [
    "You can find have a complete list of all errors at https://docs.python.org/3/library/exceptions.html"
   ]
  },
  {
   "cell_type": "markdown",
   "id": "9edc7a71-a1c7-4d36-9146-28d718fd4ab0",
   "metadata": {},
   "source": [
    "## Handling runtime errors with `try` and `except`"
   ]
  },
  {
   "cell_type": "markdown",
   "id": "f4c6ab1d-06b9-4fb8-bde3-5f0ac400fcfe",
   "metadata": {},
   "source": [
    "We can use `try` and `except` to chatch runtime errors and specify how to handle these. \n",
    "\n",
    "The syntax to use both clauses is the following:\n",
    "\n",
    "`try`:  \n",
    "&nbsp;&nbsp;&nbsp;&nbsp; Some code  \n",
    "`except` ExceptionType:  \n",
    "&nbsp;&nbsp;&nbsp;&nbsp; Some other code\n",
    "\n",
    "Let's see how it with the following example, which includes a list of numbers where the third one has been included as a string. If you tried to do an arithmetic operation with such an element, it should give you an error (a `TypeError` specifically) because strings can not perform this kind of operations."
   ]
  },
  {
   "cell_type": "code",
   "execution_count": 5,
   "id": "3cae6dc6-6521-4a3e-9d85-3ef33195edde",
   "metadata": {},
   "outputs": [
    {
     "name": "stdout",
     "output_type": "stream",
     "text": [
      "1/1 = 1.0\n",
      "1/2 = 0.5\n",
      "The number you tried is of type <class 'str'>. Maybe it is invalid with the operation you are trying to do?\n",
      "1/4 = 0.25\n"
     ]
    }
   ],
   "source": [
    "numbers = [1, 2, \"3\", 4]\n",
    "for number in numbers:\n",
    "    try:\n",
    "        inverse = 1/number\n",
    "        print(f\"1/{number} = {inverse}\")\n",
    "    except TypeError:\n",
    "        print(f\"The number you tried is of type {type(number)}. Maybe it is invalid with the operation you are trying to do?\")"
   ]
  },
  {
   "cell_type": "markdown",
   "id": "9216470a-d9a2-48fe-af30-e979d1009307",
   "metadata": {},
   "source": [
    "This is how it works:\n",
    "\n",
    "- The code within the try clause is executed.\n",
    "- If no exception occurs, the block within the except clause is skipped.\n",
    "- As soon as an error is encountered within the `try` block, the execution stops. Now two things may happen:\n",
    "    - If the error type matches the exception named after the `except` keyword, that part of the code within the `except` clause is executed.\n",
    "    - If the error does not match the exception, it is an unhandled exception and execution stops with an error message."
   ]
  },
  {
   "cell_type": "markdown",
   "id": "3e140711-7414-4bb6-8cac-948849a6e9e1",
   "metadata": {},
   "source": [
    "You can also just print the default message of the error handler as follow:"
   ]
  },
  {
   "cell_type": "code",
   "execution_count": 6,
   "id": "71713d0a-02cd-44ae-9c95-f3e850ce7b5e",
   "metadata": {},
   "outputs": [
    {
     "name": "stdout",
     "output_type": "stream",
     "text": [
      "1/1 = 1.0\n",
      "1/2 = 0.5\n",
      "The number you tried failed because of the following reason: unsupported operand type(s) for /: 'int' and 'str'\n",
      "1/4 = 0.25\n"
     ]
    }
   ],
   "source": [
    "numbers = [1, 2, \"3\", 4]\n",
    "for number in numbers:\n",
    "    try:\n",
    "        inverse = 1/number\n",
    "        print(f\"1/{number} = {inverse}\")\n",
    "    except TypeError as e:\n",
    "        print(f\"The number you tried failed because of the following reason:\", e)"
   ]
  },
  {
   "cell_type": "markdown",
   "id": "d5fb9fb9-eb26-4f05-91d3-fb570b825207",
   "metadata": {},
   "source": [
    "Or even do nothing at all, for which you would use the keyword `pass`. Normally though, this keyword is used as a placeholder for future code."
   ]
  },
  {
   "cell_type": "code",
   "execution_count": 7,
   "id": "7d56a738-25fd-4400-9ed1-977bb38ace00",
   "metadata": {},
   "outputs": [
    {
     "name": "stdout",
     "output_type": "stream",
     "text": [
      "1/1 = 1.0\n",
      "1/2 = 0.5\n",
      "1/4 = 0.25\n"
     ]
    }
   ],
   "source": [
    "numbers = [1, 2, \"3\", 4]\n",
    "for number in numbers:\n",
    "    try:\n",
    "        inverse = 1/number\n",
    "        print(f\"1/{number} = {inverse}\")\n",
    "    except TypeError:\n",
    "        pass"
   ]
  },
  {
   "cell_type": "markdown",
   "id": "a15340b2-147f-48a7-b67f-3174ab422125",
   "metadata": {},
   "source": [
    "We can also have multiple `except` clauses. In this case, we just need to concatenate the exception handlers and the code that we want to execute in that case:\n",
    "\n",
    "`try`:  \n",
    "&nbsp;&nbsp;&nbsp;&nbsp; Some code  \n",
    "`except` ExceptionType1:  \n",
    "&nbsp;&nbsp;&nbsp;&nbsp; Some other code  \n",
    "`except` ExceptionType2:  \n",
    "&nbsp;&nbsp;&nbsp;&nbsp; More code  \n",
    "`except` ExceptionType3:  \n",
    "&nbsp;&nbsp;&nbsp;&nbsp; Even more code  \n",
    "..."
   ]
  },
  {
   "cell_type": "code",
   "execution_count": 8,
   "id": "bdf1d6bb-0686-4696-8425-948af78d0876",
   "metadata": {},
   "outputs": [
    {
     "name": "stdout",
     "output_type": "stream",
     "text": [
      "Ups, you are trying to divide by 0..\n",
      "1/1 = 1.0\n",
      "1/2 = 0.5\n",
      "The number you tried is of type <class 'str'>. Maybe it is invalid with the operation you are trying to do?\n",
      "1/4 = 0.25\n"
     ]
    }
   ],
   "source": [
    "numbers = [0, 1, 2, \"3\", 4]\n",
    "for number in numbers:\n",
    "    try:\n",
    "        inverse = 1/number\n",
    "        print(f\"1/{number} = {inverse}\")\n",
    "    except TypeError:\n",
    "        print(f\"The number you tried is of type {type(number)}. Maybe it is invalid with the operation you are trying to do?\")\n",
    "    except ZeroDivisionError:\n",
    "        print(\"Ups, you are trying to divide by 0..\")"
   ]
  },
  {
   "cell_type": "markdown",
   "id": "717736f1-f515-491c-86bb-c80dd43c0397",
   "metadata": {},
   "source": [
    "We can even execute the same block of code for multiple errors. We just need to include multiple exceptions type as tuples after `except`:"
   ]
  },
  {
   "cell_type": "code",
   "execution_count": 9,
   "id": "20397bd3-c7ca-442e-8b16-0bb07081f51e",
   "metadata": {},
   "outputs": [
    {
     "name": "stdout",
     "output_type": "stream",
     "text": [
      "Mate, check your code, because it seems you have either a type error, or you are trying to divide by 0.\n",
      "1/1 = 1.0\n",
      "1/2 = 0.5\n",
      "Mate, check your code, because it seems you have either a type error, or you are trying to divide by 0.\n",
      "1/4 = 0.25\n"
     ]
    }
   ],
   "source": [
    "numbers = [0, 1, 2, \"3\", 4]\n",
    "for number in numbers:\n",
    "    try:\n",
    "        inverse = 1/number\n",
    "        print(f\"1/{number} = {inverse}\")\n",
    "    except (TypeError, ZeroDivisionError):\n",
    "        print(\"Mate, check your code, because it seems you have either a type error, or you are trying to divide by 0.\")"
   ]
  },
  {
   "cell_type": "markdown",
   "id": "4112c8c2-feb9-41a0-822b-901ce242aedf",
   "metadata": {},
   "source": [
    "## Adding `finally` and `else` blocks"
   ]
  },
  {
   "cell_type": "markdown",
   "id": "0a5bd7a7-d82e-4f7a-a4df-64d165139064",
   "metadata": {},
   "source": [
    "- `finally` block runs whether or not an exception occurs, and is useful for cleanup actions. It is **optional**."
   ]
  },
  {
   "cell_type": "code",
   "execution_count": 10,
   "id": "46183901-0cbd-4ddf-9617-f13774949a9a",
   "metadata": {},
   "outputs": [
    {
     "name": "stdout",
     "output_type": "stream",
     "text": [
      "Mate, check your code, because it seems you have either a type error, or you are trying to divide by 0.\n",
      "This always runs\n",
      "1/1 = 1.0\n",
      "This always runs\n",
      "1/2 = 0.5\n",
      "This always runs\n",
      "Mate, check your code, because it seems you have either a type error, or you are trying to divide by 0.\n",
      "This always runs\n",
      "1/4 = 0.25\n",
      "This always runs\n"
     ]
    }
   ],
   "source": [
    "numbers = [0, 1, 2, \"3\", 4]\n",
    "for number in numbers:\n",
    "    try:\n",
    "        inverse = 1/number\n",
    "        print(f\"1/{number} = {inverse}\")\n",
    "    except (TypeError, ZeroDivisionError):\n",
    "        print(\"Mate, check your code, because it seems you have either a type error, or you are trying to divide by 0.\")\n",
    "    finally:\n",
    "        print(\"This always runs\")"
   ]
  },
  {
   "cell_type": "markdown",
   "id": "3a9e2314-d6da-4dd3-8cbb-d87bdcbb7616",
   "metadata": {},
   "source": [
    "- `else`: The else block executes only when no exception occurs. "
   ]
  },
  {
   "cell_type": "code",
   "execution_count": 11,
   "id": "85b8e0b3-1734-4960-b8a5-9f01f144446d",
   "metadata": {},
   "outputs": [
    {
     "name": "stdout",
     "output_type": "stream",
     "text": [
      "Mate, check your code, because it seems you have either a type error, or you are trying to divide by 0.\n",
      "The division was sucessful!!\n",
      "The division was sucessful!!\n",
      "Mate, check your code, because it seems you have either a type error, or you are trying to divide by 0.\n",
      "The division was sucessful!!\n"
     ]
    }
   ],
   "source": [
    "numbers = [0, 1, 2, \"3\", 4]\n",
    "for number in numbers:\n",
    "    try:\n",
    "        inverse = 1/number\n",
    "        #print(f\"1/{number} = {inverse}\")\n",
    "    except (TypeError, ZeroDivisionError):\n",
    "        print(\"Mate, check your code, because it seems you have either a type error, or you are trying to divide by 0.\")\n",
    "    else:\n",
    "        print(\"The division was sucessful!!\")"
   ]
  },
  {
   "cell_type": "markdown",
   "id": "ee9dee05-fb11-4679-b7cd-9d0581eca539",
   "metadata": {},
   "source": [
    "But wait... why not including the `print` in `else` within the `try` block?"
   ]
  },
  {
   "cell_type": "code",
   "execution_count": 12,
   "id": "d7d42e34-fb77-4d60-83fc-c502f97f76b0",
   "metadata": {},
   "outputs": [
    {
     "name": "stdout",
     "output_type": "stream",
     "text": [
      "Mate, check your code, because it seems you have either a type error, or you are trying to divide by 0.\n",
      "The division was sucessful!!\n",
      "The division was sucessful!!\n",
      "Mate, check your code, because it seems you have either a type error, or you are trying to divide by 0.\n",
      "The division was sucessful!!\n"
     ]
    }
   ],
   "source": [
    "numbers = [0, 1, 2, \"3\", 4]\n",
    "for number in numbers:\n",
    "    try:\n",
    "        inverse = 1/number\n",
    "        print(\"The division was sucessful!!\")\n",
    "    except (TypeError, ZeroDivisionError):\n",
    "        print(\"Mate, check your code, because it seems you have either a type error, or you are trying to divide by 0.\")\n",
    "    "
   ]
  },
  {
   "cell_type": "markdown",
   "id": "2efeab8e-dcbb-4808-9ad9-e228599aa2c3",
   "metadata": {},
   "source": [
    "It works similarly, but if you keep adding code within the `try` section you may end up having a hard time to identify which piece caused the exception.\n",
    "\n",
    "So, using `else` clause keeps your code cleaner and easier to read, since it clearly indicates that its block of code will not run if an exception is raised."
   ]
  },
  {
   "cell_type": "markdown",
   "id": "d4fbb0c3-9a3f-4648-862c-23298dcdad0a",
   "metadata": {},
   "source": [
    "## Raising exceptions\n",
    "\n",
    "Sometimes you may need to specify certain situations in your code to be exceptional and therefore, needed for your attention. In these cases, you can raise an exception yourself with the keyowrd `raise`. "
   ]
  },
  {
   "cell_type": "code",
   "execution_count": 13,
   "id": "fca238a7-7df3-4292-b317-98fdd81afcb2",
   "metadata": {},
   "outputs": [
    {
     "name": "stdout",
     "output_type": "stream",
     "text": [
      "Entry #0 has 25 years\n",
      "Entry #1 has 34 years\n",
      "Age cannot be negative\n",
      "Entry #3 has 64 years\n",
      "Entry #4 has 10 years\n"
     ]
    }
   ],
   "source": [
    "age_data = [25, 34, -5, 64, 10]\n",
    "    \n",
    "for ii, age in enumerate(age_data):\n",
    "    try:\n",
    "        if age < 0:\n",
    "            raise ValueError(\"Age cannot be negative\")\n",
    "        print(f\"Entry #{ii} has {age} years\")\n",
    "    \n",
    "    except ValueError as e:\n",
    "        print(e)\n",
    " "
   ]
  },
  {
   "cell_type": "markdown",
   "id": "421a4696-6332-499c-b087-ce322943b696",
   "metadata": {},
   "source": [
    "## Some best practices"
   ]
  },
  {
   "cell_type": "markdown",
   "id": "96e0917e-76ca-4c75-94c6-fb22fcb6473f",
   "metadata": {},
   "source": [
    "- Catch specific exceptions, not all exceptions"
   ]
  },
  {
   "cell_type": "code",
   "execution_count": 14,
   "id": "5afaf325-51b4-41a5-afd6-1c1cb7721a7a",
   "metadata": {},
   "outputs": [
    {
     "name": "stdout",
     "output_type": "stream",
     "text": [
      "Something went wrong!\n"
     ]
    }
   ],
   "source": [
    "try:\n",
    "    result = 10 / 0\n",
    "except:\n",
    "    print(\"Something went wrong!\")  # BAD PRACTICE: too vague"
   ]
  },
  {
   "cell_type": "code",
   "execution_count": 15,
   "id": "ba148ea1-58ab-45f2-bfa8-f4cac1aceb92",
   "metadata": {},
   "outputs": [
    {
     "name": "stdout",
     "output_type": "stream",
     "text": [
      "division by zero\n"
     ]
    }
   ],
   "source": [
    "try:\n",
    "    result = 10 / 0\n",
    "except ZeroDivisionError as e:\n",
    "    print(e) # Specific error"
   ]
  },
  {
   "cell_type": "markdown",
   "id": "8f158015-1188-4f50-af9c-2f0ea692ea4c",
   "metadata": {},
   "source": [
    "- Provide meaningful messages when raising exceptions."
   ]
  },
  {
   "cell_type": "code",
   "execution_count": 38,
   "id": "d905e290-4aa0-43be-af0f-ea27145d322d",
   "metadata": {},
   "outputs": [
    {
     "name": "stdout",
     "output_type": "stream",
     "text": [
      "The denominator cannot be zero.\n"
     ]
    }
   ],
   "source": [
    "def meaningful(a, b):\n",
    "    if b == 0:\n",
    "        raise ValueError(\"The denominator cannot be zero.\")\n",
    "    return a / b\n",
    "\n",
    "try:\n",
    "    divide(10, 0)\n",
    "except ValueError as e:\n",
    "    print(e)  #"
   ]
  },
  {
   "cell_type": "markdown",
   "id": "da50ccbb-0335-4d2c-bd95-a2998416bcf0",
   "metadata": {},
   "source": [
    "- Always try to handle exceptions appropriately or log them for debugging. It is better to avoid using the `pass` keyword, unless you are really planning to incorporate future code there"
   ]
  },
  {
   "cell_type": "markdown",
   "id": "31b1ec69-8b48-48d7-8daf-54165e21a1e1",
   "metadata": {},
   "source": [
    "## Practice excersises"
   ]
  },
  {
   "cell_type": "markdown",
   "id": "4fab0ba8-5daa-45b8-b149-a2d387e6c2b3",
   "metadata": {},
   "source": [
    "```{exercise}\n",
    ":label: exceptions1\n",
    "\n",
    "Write a function divide_numbers(a, b) that takes two numbers as input and returns their division result. Catch a ZeroDivisionError if the second number is zero, and a TypeError if either input is not a number. Return appropriate error messages for both cases.\n",
    "\n",
    "```"
   ]
  },
  {
   "cell_type": "code",
   "execution_count": 3,
   "id": "66af665e-4702-4f7e-bb1a-4b850dcffe1c",
   "metadata": {},
   "outputs": [],
   "source": [
    "# Your answers here"
   ]
  },
  {
   "cell_type": "markdown",
   "id": "ff561e32-faf4-4a91-87c8-02221bdb39a0",
   "metadata": {},
   "source": [
    "```{exercise}\n",
    ":label: exceptions2\n",
    "\n",
    "Write a function check_positive_number(num) that:\n",
    "\n",
    "1 - Tries to check if a number is positive.\n",
    "2 - If the number is negative, raise a ValueError with the message 'Number must be positive'.\n",
    "3 - If no exception occurs, print 'The number is positive' inside the else block.\n",
    "4 - Ensure that, regardless of whether an exception occurs, a final message 'Check complete' is printed using a finally block\n",
    "\n",
    "```"
   ]
  },
  {
   "cell_type": "code",
   "execution_count": 2,
   "id": "ac705899-24b9-417a-8c6a-81d0fbeafde3",
   "metadata": {},
   "outputs": [],
   "source": [
    "# Your answers here"
   ]
  }
 ],
 "metadata": {
  "kernelspec": {
   "display_name": "Python 3 (ipykernel)",
   "language": "python",
   "name": "python3"
  },
  "language_info": {
   "codemirror_mode": {
    "name": "ipython",
    "version": 3
   },
   "file_extension": ".py",
   "mimetype": "text/x-python",
   "name": "python",
   "nbconvert_exporter": "python",
   "pygments_lexer": "ipython3",
   "version": "3.11.9"
  }
 },
 "nbformat": 4,
 "nbformat_minor": 5
}
