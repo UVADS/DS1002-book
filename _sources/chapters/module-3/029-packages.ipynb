{
 "cells": [
  {
   "cell_type": "markdown",
   "metadata": {
    "id": "bP9jDhP4ya3x"
   },
   "source": [
    "## Installing & Importing Packages"
   ]
  },
  {
   "cell_type": "markdown",
   "metadata": {
    "id": "7SPm4s7TDoGF"
   },
   "source": [
    "`numpy` is the first Python package we will be using. External packages not built into Python usually have to be (1) installed and (2) imported.\n",
    "\n",
    "### Installing\n",
    "\n",
    "To install any package into your current Google Colab session, use the `!pip` command like this:\n",
    "```\n",
    "!pip install numpy\n",
    "```\n",
    "However, `numpy` is such a common package it comes pre-installed here.\n",
    "\n",
    "### Importing\n",
    "Once a package is installed into your system, it must be imported into any Python code using the `import` command:\n",
    "```\n",
    "import numpy\n",
    "```\n",
    "### Import Aliases\n",
    "Python also allows import statements to declare an alias for referencing the package. It is a common practice among `numpy` users to import it as `np` like this:\n",
    "```\n",
    "import numpy as np\n",
    "```"
   ]
  },
  {
   "cell_type": "markdown",
   "metadata": {
    "id": "cZ09VMUnE0hn"
   },
   "source": [
    "## Basic NumPy Array Functionality"
   ]
  },
  {
   "cell_type": "code",
   "execution_count": null,
   "metadata": {
    "id": "pTtxnCPmDmzx"
   },
   "outputs": [],
   "source": [
    "import numpy as np"
   ]
  },
  {
   "cell_type": "code",
   "execution_count": null,
   "metadata": {
    "id": "oOCGJiPnxO7L"
   },
   "outputs": [],
   "source": [
    "z = np.ones(10)\n",
    "z"
   ]
  },
  {
   "cell_type": "code",
   "execution_count": null,
   "metadata": {
    "id": "QCvVComPxf_7"
   },
   "outputs": [],
   "source": [
    "z.shape"
   ]
  },
  {
   "cell_type": "code",
   "execution_count": null,
   "metadata": {
    "id": "K9o0_jOcxmeX"
   },
   "outputs": [],
   "source": [
    "z = np.linspace(2, 10, 5)         # go from 2 to 10, with 5 elements\n",
    "z"
   ]
  },
  {
   "cell_type": "code",
   "execution_count": null,
   "metadata": {
    "id": "DgYzyO8Vxwez"
   },
   "outputs": [],
   "source": [
    "a_list = [1,2,3,4,5,6,7]\n",
    "z = np.array([a_list])\n",
    "z"
   ]
  },
  {
   "cell_type": "code",
   "execution_count": null,
   "metadata": {
    "id": "bCLMABEhx5Ix"
   },
   "outputs": [],
   "source": [
    "type(z)"
   ]
  },
  {
   "cell_type": "code",
   "execution_count": null,
   "metadata": {
    "id": "yHljhRBex9Lg"
   },
   "outputs": [],
   "source": [
    "b_list = [[9,8,7,6,5,4,3],[1,2,3,4,5,6,7]]      # 2-dimensional array\n",
    "z = np.array([b_list])\n",
    "z"
   ]
  },
  {
   "cell_type": "code",
   "execution_count": null,
   "metadata": {
    "id": "GXxKSvTVyD8M"
   },
   "outputs": [],
   "source": [
    "z.shape       # get the shape of the array\n",
    "z.ndim        # get the dimensions of the array"
   ]
  },
  {
   "cell_type": "code",
   "execution_count": null,
   "metadata": {
    "id": "z1GXyQZYw4QQ"
   },
   "outputs": [],
   "source": [
    "# Sort an array\n",
    "\n",
    "x = np.array([2, 1, 4, 3, 5])\n",
    "np.sort(x)"
   ]
  },
  {
   "cell_type": "code",
   "execution_count": null,
   "metadata": {
    "id": "eDGHQKzcvpoF"
   },
   "outputs": [],
   "source": [
    "z = np.array([1, 2, 3, 4, 5])"
   ]
  },
  {
   "cell_type": "code",
   "execution_count": null,
   "metadata": {
    "id": "50vOX5Rwvypx"
   },
   "outputs": [],
   "source": [
    "# Filter the array\n",
    "z < 3"
   ]
  },
  {
   "cell_type": "code",
   "execution_count": null,
   "metadata": {
    "id": "25C6DxaOv1cA"
   },
   "outputs": [],
   "source": [
    "z > 3"
   ]
  },
  {
   "cell_type": "code",
   "execution_count": null,
   "metadata": {
    "id": "nWM_38szv2h5"
   },
   "outputs": [],
   "source": [
    "# Apply a mask to an array\n",
    "z[z > 3]"
   ]
  },
  {
   "cell_type": "code",
   "execution_count": null,
   "metadata": {
    "id": "tbJWXO8JwNdI"
   },
   "outputs": [],
   "source": [
    "# Adding and combining arrays\n",
    "\n",
    "a_array = np.array([1,2,3,4,5])\n",
    "b_array = np.array([6,7,8,9,10])"
   ]
  },
  {
   "cell_type": "code",
   "execution_count": null,
   "metadata": {
    "id": "ksSgOgz6wTlr"
   },
   "outputs": [],
   "source": [
    "a_array + b_array"
   ]
  },
  {
   "cell_type": "code",
   "execution_count": null,
   "metadata": {
    "id": "nH0-Yd8pwX5N"
   },
   "outputs": [],
   "source": [
    "a_array + 30"
   ]
  },
  {
   "cell_type": "code",
   "execution_count": null,
   "metadata": {
    "id": "U_PSotFmwZlY"
   },
   "outputs": [],
   "source": [
    "a_array * b_array"
   ]
  },
  {
   "cell_type": "code",
   "execution_count": null,
   "metadata": {
    "id": "Son_IPI4wcn8"
   },
   "outputs": [],
   "source": [
    "a_array * 10"
   ]
  },
  {
   "cell_type": "markdown",
   "metadata": {
    "id": "WnaTMQaeyRkq"
   },
   "source": [
    "## Images are Numerical Data"
   ]
  },
  {
   "cell_type": "code",
   "execution_count": null,
   "metadata": {
    "id": "f5r-yejvtvUw"
   },
   "outputs": [],
   "source": [
    "!pip install scikit-image matplotlib"
   ]
  },
  {
   "cell_type": "code",
   "execution_count": null,
   "metadata": {
    "id": "MekyEI1RueMK"
   },
   "outputs": [],
   "source": [
    "import numpy as np\n",
    "from skimage import io\n",
    "\n",
    "photo = io.imread('hotel.jpg')\n",
    "type(photo)"
   ]
  },
  {
   "cell_type": "code",
   "execution_count": null,
   "metadata": {
    "id": "aAotRovJuf4U"
   },
   "outputs": [],
   "source": [
    "photo.shape"
   ]
  },
  {
   "cell_type": "code",
   "execution_count": null,
   "metadata": {
    "id": "Svpg3eHxuhny"
   },
   "outputs": [],
   "source": [
    "import matplotlib.pyplot as plt\n",
    "plt.imshow(photo)"
   ]
  },
  {
   "cell_type": "code",
   "execution_count": null,
   "metadata": {
    "id": "2z9DGVk-uxyx"
   },
   "outputs": [],
   "source": [
    "plt.imshow(photo[::-1])"
   ]
  },
  {
   "cell_type": "code",
   "execution_count": null,
   "metadata": {
    "id": "t7NgloZMu3D5"
   },
   "outputs": [],
   "source": [
    "plt.imshow(photo[:, ::-1])"
   ]
  },
  {
   "cell_type": "code",
   "execution_count": null,
   "metadata": {
    "id": "tp-2V5nIu89y"
   },
   "outputs": [],
   "source": [
    "plt.imshow(photo[200:400, 300:500])"
   ]
  },
  {
   "cell_type": "code",
   "execution_count": null,
   "metadata": {
    "id": "d9KXsXLPvQtG"
   },
   "outputs": [],
   "source": [
    "plt.imshow(photo[::2, ::2])"
   ]
  },
  {
   "cell_type": "code",
   "execution_count": null,
   "metadata": {
    "id": "l8hgkn2tvWyK"
   },
   "outputs": [],
   "source": [
    "# Get the sin of all three channels of each pixel value\n",
    "\n",
    "photo_sin = np.sin(photo)\n",
    "photo_sin"
   ]
  },
  {
   "cell_type": "code",
   "execution_count": null,
   "metadata": {
    "id": "a99o5Sy-vbb1"
   },
   "outputs": [],
   "source": [
    "# Other built-in statistical functions\n",
    "\n",
    "print(np.sum(photo))\n",
    "print(np.prod(photo))\n",
    "print(np.mean(photo))\n",
    "print(np.std(photo))\n",
    "print(np.var(photo))\n",
    "print(np.min(photo))\n",
    "print(np.max(photo))"
   ]
  },
  {
   "cell_type": "code",
   "execution_count": null,
   "metadata": {
    "id": "d1cxpr87v9d-"
   },
   "outputs": [],
   "source": [
    "# Search every value in the array, and when a value is above 100, replace it with 255.\n",
    "# Where it isn't above 100, replace with 0.\n",
    "\n",
    "photo_masked = np.where(photo > 100, 255, 0)"
   ]
  },
  {
   "cell_type": "code",
   "execution_count": null,
   "metadata": {
    "id": "ULbMPTJswEtM"
   },
   "outputs": [],
   "source": [
    "plt.imshow(photo_masked)"
   ]
  },
  {
   "cell_type": "code",
   "execution_count": null,
   "metadata": {
    "id": "irDxAP4wwvye"
   },
   "outputs": [],
   "source": [
    "# Both filter the values of the array and transpose its axes.\n",
    "# Switches rows and columns.\n",
    "\n",
    "plt.imshow(photo[:,:,0].T)"
   ]
  }
 ],
 "metadata": {
  "colab": {
   "authorship_tag": "ABX9TyO0KX7GANmsRYR2aZKMlb3o",
   "include_colab_link": true,
   "provenance": []
  },
  "kernelspec": {
   "display_name": "Python 3 (ipykernel)",
   "language": "python",
   "name": "python3"
  },
  "language_info": {
   "codemirror_mode": {
    "name": "ipython",
    "version": 3
   },
   "file_extension": ".py",
   "mimetype": "text/x-python",
   "name": "python",
   "nbconvert_exporter": "python",
   "pygments_lexer": "ipython3",
   "version": "3.11.9"
  }
 },
 "nbformat": 4,
 "nbformat_minor": 1
}
