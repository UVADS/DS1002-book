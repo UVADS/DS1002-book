{
 "cells": [
  {
   "cell_type": "markdown",
   "id": "205b2131-a810-46fd-99a5-0e6d298b4590",
   "metadata": {
    "slideshow": {
     "slide_type": "slide"
    }
   },
   "source": [
    "1. Define a function `g`:\n",
    "    - This function should take two inputs and return the sum of both inputs.\n",
    "    - Test the function with the inputs 2 and 4 to confirm it works as expected."
   ]
  },
  {
   "cell_type": "code",
   "execution_count": 16,
   "id": "79a6e5d6-3a92-41fd-a789-ebd4e3663dd2",
   "metadata": {
    "slideshow": {
     "slide_type": "subslide"
    }
   },
   "outputs": [
    {
     "data": {
      "text/plain": [
       "6"
      ]
     },
     "execution_count": 16,
     "metadata": {},
     "output_type": "execute_result"
    }
   ],
   "source": [
    "def g(a,b):\n",
    "    return a + b\n",
    "\n",
    "g(2,4)"
   ]
  },
  {
   "cell_type": "markdown",
   "id": "456cd69c-c982-4e72-a522-6b636097df35",
   "metadata": {
    "slideshow": {
     "slide_type": "slide"
    }
   },
   "source": [
    "2. Define a function `f`:\n",
    "\n",
    "    - This function should also take two inputs.\n",
    "    - If the second input is 1, the function should return the first input.\n",
    "    - Otherwise, the function should return the product (multiplication) of both inputs.\n",
    "    - Test the function with the inputs 2 and 4 to see the result."
   ]
  },
  {
   "cell_type": "code",
   "execution_count": 17,
   "id": "74e1f522-f799-47f6-9c25-22e516c6c756",
   "metadata": {
    "slideshow": {
     "slide_type": "subslide"
    }
   },
   "outputs": [
    {
     "data": {
      "text/plain": [
       "8"
      ]
     },
     "execution_count": 17,
     "metadata": {},
     "output_type": "execute_result"
    }
   ],
   "source": [
    "def f(a,b):\n",
    "    if b==1:\n",
    "        return a\n",
    "    else:\n",
    "        return a*b\n",
    "\n",
    "f(2,4)"
   ]
  },
  {
   "cell_type": "markdown",
   "id": "fb3315cb-a51b-435a-baf8-fc303aad752f",
   "metadata": {
    "slideshow": {
     "slide_type": "slide"
    }
   },
   "source": [
    "3. Now, instead of returning the multiplication of the two inputs, modify `f` so it returns the multiplication of the first input by the sum of both inputs. Test the modified function again with the inputs 2 and 4."
   ]
  },
  {
   "cell_type": "code",
   "execution_count": 18,
   "id": "caad2d1a-d531-4dc9-b5b7-9e35d107adc1",
   "metadata": {
    "slideshow": {
     "slide_type": "subslide"
    }
   },
   "outputs": [
    {
     "data": {
      "text/plain": [
       "12"
      ]
     },
     "execution_count": 18,
     "metadata": {},
     "output_type": "execute_result"
    }
   ],
   "source": [
    "def f(a,b):\n",
    "    if b==1:\n",
    "        return a\n",
    "    else:\n",
    "        return a*(a + b)\n",
    "\n",
    "f(2,4)"
   ]
  },
  {
   "cell_type": "markdown",
   "id": "653a0606-d20b-4834-b56c-729cdd310225",
   "metadata": {
    "slideshow": {
     "slide_type": "slide"
    }
   },
   "source": [
    "4. Can you achieve the same result from step 3 using the `g` function (defined in step 1) inside `f`? Test the function again with the inputs 2 and 4."
   ]
  },
  {
   "cell_type": "code",
   "execution_count": 19,
   "id": "e1c5a794-02e1-4a6d-85ef-def9bd94f480",
   "metadata": {
    "slideshow": {
     "slide_type": "subslide"
    }
   },
   "outputs": [
    {
     "data": {
      "text/plain": [
       "12"
      ]
     },
     "execution_count": 19,
     "metadata": {},
     "output_type": "execute_result"
    }
   ],
   "source": [
    "def f(a,b):\n",
    "    if b==1:\n",
    "        return a\n",
    "    else:\n",
    "        return a*g(a,b)\n",
    "\n",
    "f(2,4)"
   ]
  },
  {
   "cell_type": "markdown",
   "id": "170aa950-bd32-4fca-9080-3e40cf7c2725",
   "metadata": {
    "slideshow": {
     "slide_type": "slide"
    }
   },
   "source": [
    "5. Now, instead of multiplying the first input by `g`, modify the function `f` so that it multiplies the first input by `f` itself with the second input minus 1 (i.e., `f`(a, b-1)). Test the function with the inputs 2 and 4, then with 2 and 5, and finally with 2 and 6. What kind of behavior or operation do you observe?"
   ]
  },
  {
   "cell_type": "code",
   "execution_count": 44,
   "id": "94d40dee-23f8-417a-9588-f8188092df2a",
   "metadata": {
    "slideshow": {
     "slide_type": "subslide"
    }
   },
   "outputs": [
    {
     "name": "stdout",
     "output_type": "stream",
     "text": [
      "16\n",
      "32\n",
      "64\n"
     ]
    }
   ],
   "source": [
    "def f(a, b):\n",
    "    if b == 1:\n",
    "        return a\n",
    "    else:\n",
    "        return a * f(a, b - 1)  \n",
    "\n",
    "print(f(2,4))\n",
    "print(f(2,5))\n",
    "print(f(2,6))"
   ]
  },
  {
   "cell_type": "markdown",
   "id": "4291e2f0",
   "metadata": {
    "slideshow": {
     "slide_type": "slide"
    }
   },
   "source": [
    "You've just seen an example of **recursion**!!!\n",
    "\n",
    "Recursion in Python occurs when a function calls itself during its execution. This programming technique is useful for solving problems that can be broken down into smaller, repetitive tasks.\n",
    "\n",
    "With each recursive call, the problem is simplified into a smaller part, and the recursion continues until it reaches a base case, where no further recursive calls are needed. "
   ]
  },
  {
   "cell_type": "markdown",
   "id": "6f522d1a-d55a-4e23-8247-059f8ee46c60",
   "metadata": {
    "slideshow": {
     "slide_type": "slide"
    }
   },
   "source": [
    "6. Use recursion, as we have just seen, to create a function that, given an input number, it returns its factorial. For example, given a 4, it should give: 4! = 4 × 3 × 2 × 1 = 24. Test the function."
   ]
  },
  {
   "cell_type": "code",
   "execution_count": 24,
   "id": "f1c3f8ab-926c-4ae9-8f02-38431368e5bb",
   "metadata": {
    "slideshow": {
     "slide_type": "subslide"
    }
   },
   "outputs": [
    {
     "name": "stdout",
     "output_type": "stream",
     "text": [
      "6\n",
      "40320\n"
     ]
    }
   ],
   "source": [
    "def factorial(a):\n",
    "    if a == 0:\n",
    "        return 1\n",
    "    else:\n",
    "        return a * factorial(a - 1)  # Recursive call to f itself\n",
    "\n",
    "print(factorial(3))\n",
    "print(factorial(8))"
   ]
  },
  {
   "cell_type": "markdown",
   "id": "461d2cbe-02af-4b6b-bc64-d7d3e2f96ae0",
   "metadata": {
    "slideshow": {
     "slide_type": "slide"
    }
   },
   "source": [
    "7. (More difficult) Create a function that creates a Fibonacci sequence. A Fibonacci sequence is a series of numbers where each number in the sequence is the sum of the two previous numbers. The sequence starts with 0 and 1, and then continues with 1, 2, 3, 5, 8, 13, 21, and so on."
   ]
  },
  {
   "cell_type": "code",
   "execution_count": 38,
   "id": "6b22821c-0113-4747-a9fb-7922b1286815",
   "metadata": {
    "slideshow": {
     "slide_type": "subslide"
    }
   },
   "outputs": [],
   "source": [
    "def fibonacci(n):\n",
    "    if n == 0 or n==1:\n",
    "        return n\n",
    "    else:\n",
    "        return fibonacci(n-1) + fibonacci(n-2)"
   ]
  }
 ],
 "metadata": {
  "celltoolbar": "Slideshow",
  "kernelspec": {
   "display_name": "Python 3 (ipykernel)",
   "language": "python",
   "name": "python3"
  },
  "language_info": {
   "codemirror_mode": {
    "name": "ipython",
    "version": 3
   },
   "file_extension": ".py",
   "mimetype": "text/x-python",
   "name": "python",
   "nbconvert_exporter": "python",
   "pygments_lexer": "ipython3",
   "version": "3.11.9"
  }
 },
 "nbformat": 4,
 "nbformat_minor": 5
}
