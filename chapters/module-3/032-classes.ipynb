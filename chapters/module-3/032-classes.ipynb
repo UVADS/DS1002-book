{
 "cells": [
  {
   "cell_type": "markdown",
   "id": "1d579d43",
   "metadata": {},
   "source": [
    "# Object-Oriented Programming (OOP)\n",
    "\n",
    "Python is an **object-oriented** programming (OOP) language. The object-oriented programming is kind of paradigm that helps you group state (attributes) and behavior (methods) together in handy packets of functionality. It also allows for useful specialized mechanisms such as inheritance.\n",
    "\n",
    "The fact that python is an OOP language does not mean you are force to follow this paradigm (unlike some other OOP languages). You can still do procedural programming as we have learned so far, with modules and functions. In Python, you can select the paradigm that fits best for your your purposes, or even mix paradigms.\n",
    "\n",
    "- Classes and objects\n",
    "- Attributes and methods\n",
    "- Inheritance\n",
    "- Polymorphism\n",
    "- Encapsulation"
   ]
  },
  {
   "cell_type": "markdown",
   "id": "c61267a7",
   "metadata": {},
   "source": [
    "## 1. Classes and Objects\n",
    "\n",
    "**Classes** help describe/model data structures, or collections of functions centered on a particular set of tasks related to a particular type of data. A class is much like a template or schema. Classes may, but does not have to, take parameters.\n",
    "\n",
    "- **Attributes** - values/fields specific to each instance of a class.\n",
    "- **Methods** - functions available within and specific to a class. Methods may consume attributes or other parameters.\n",
    "- **Constructors** - the attribute structure/default values of a class.\n",
    "\n",
    "**Instances** / **Objects** are actual, concrete implementations of a class with specific values.\n",
    "\n",
    "> \"OO is about grouping DATA with the FUNCTIONS that manipulate that data and hiding HOW it manipulates it so you can MODIFY the behavior through INHERITANCE.\"\n",
    "\n",
    "Advantages of OOP programming:\n",
    "\n",
    "- **MAINTAINABILITY** Object-oriented programming methods make code more maintainable. Identifying the source of errors is easier because objects are self-contained.\n",
    "- **REUSABILITY** Because objects contain both data and methods that act on data, objects can be thought of as self-contained black boxes. This feature makes it easy to reuse code in new systems.Messages provide a predefined interface to an object's data and functionality. With this interface, an object can be used in any context.\n",
    "- **SCALABILITY** Object-oriented programs are also scalable. As an object's interface provides a road map for reusing the object in new software, and provides all the information needed to replace the object without affecting other code. This way aging code can be replaced with faster algorithms and newer technology."
   ]
  },
  {
   "cell_type": "markdown",
   "id": "3df98fab",
   "metadata": {},
   "source": [
    "You can think of classes as a kind of data structure (e.g.), which can store information:"
   ]
  },
  {
   "cell_type": "code",
   "execution_count": 104,
   "id": "131b3ab7",
   "metadata": {},
   "outputs": [],
   "source": [
    "class Animal(object):\n",
    "    age = 10 #years\n",
    "    height = 0.8 #cm\n",
    "    origin = \"Africa\"\n",
    "    sex = \"female\"\n",
    "    name = \"Bob\"\n",
    "    wild = True"
   ]
  },
  {
   "cell_type": "markdown",
   "id": "a045b7ae",
   "metadata": {},
   "source": [
    "To be able to use a class, we have to instantiate it, i.e. create an object of it. **Think of a class as the RECIPE to create a particular object.**"
   ]
  },
  {
   "cell_type": "code",
   "execution_count": 105,
   "id": "e1cb6c1c",
   "metadata": {},
   "outputs": [],
   "source": [
    "my_animal = Animal()"
   ]
  },
  {
   "cell_type": "code",
   "execution_count": 106,
   "id": "ef1a56a1",
   "metadata": {},
   "outputs": [
    {
     "name": "stdout",
     "output_type": "stream",
     "text": [
      "10\n",
      "Africa\n"
     ]
    }
   ],
   "source": [
    "print(my_animal.age)\n",
    "print(my_animal.origin)"
   ]
  },
  {
   "cell_type": "markdown",
   "id": "98244111",
   "metadata": {},
   "source": [
    "The difference with data structures is that class can implement methods, which can perform an operation:"
   ]
  },
  {
   "cell_type": "code",
   "execution_count": 107,
   "id": "5e3aa41d",
   "metadata": {},
   "outputs": [],
   "source": [
    "class Animal(object):\n",
    "    \n",
    "    age = 10 #years\n",
    "    height = 0.8 #cm\n",
    "    name = \"Bob\"\n",
    "    wild = True\n",
    "    \n",
    "    def greet(self):\n",
    "        #print(f\"Greeting human. I am an animal of {self.age} of age and {self.height} tall.\")   \n",
    "        print(f\"Greetings human. I am an animal\")   "
   ]
  },
  {
   "cell_type": "code",
   "execution_count": 108,
   "id": "f157e013",
   "metadata": {},
   "outputs": [
    {
     "name": "stdout",
     "output_type": "stream",
     "text": [
      "Greetings human. I am an animal\n"
     ]
    }
   ],
   "source": [
    "animal = Animal()\n",
    "animal.greet()"
   ]
  },
  {
   "cell_type": "code",
   "execution_count": 109,
   "id": "3b452f8d",
   "metadata": {},
   "outputs": [
    {
     "name": "stdout",
     "output_type": "stream",
     "text": [
      "This animal is named: Bob, is 10 years old, and 0.8 cm tall\n"
     ]
    }
   ],
   "source": [
    "print(f\"This animal is named: {animal.name}, is {animal.age} years old, and {animal.height} cm tall\")"
   ]
  },
  {
   "cell_type": "markdown",
   "id": "fd1d8864",
   "metadata": {},
   "source": [
    "## 2. Initialize classes\n",
    "\n",
    "Ok, so classess can save information in the form of attributes, and also implement methods aimed at perform specific operations.\n",
    "\n",
    "We also mentioned that classes are a recipe to create specific kinds of objects (e.g. Animals). However, in the previous example, our animal was too specific. **What if we want an animal with a different set of attributes (e.g. a different name)?** \n",
    "\n",
    "We could redefine the class with the new attribute values:"
   ]
  },
  {
   "cell_type": "code",
   "execution_count": 110,
   "id": "fafc4301",
   "metadata": {},
   "outputs": [
    {
     "name": "stdout",
     "output_type": "stream",
     "text": [
      "This animal is named: John, is 10 years old, and 0.8 cm tall\n"
     ]
    }
   ],
   "source": [
    "class Animal(object):\n",
    "    \n",
    "    age = 10 #years\n",
    "    height = 0.8 #cm\n",
    "    name = \"John\"\n",
    "    wild = True\n",
    "    \n",
    "    def greet(self):\n",
    "        #print(f\"Greeting human. I am an animal of {self.age} of age and {self.height} tall.\")   \n",
    "        print(f\"Greeting human. I am an animal\")   \n",
    "        \n",
    "new_animal = Animal()\n",
    "\n",
    "print(f\"This animal is named: {new_animal.name}, is {new_animal.age} years old, and {new_animal.height} cm tall\")"
   ]
  },
  {
   "cell_type": "markdown",
   "id": "52018f9f",
   "metadata": {},
   "source": [
    "Obviously, this is pretty inefficient when you want to scalate things, lacking of reusibility, which when you have to use . And this was one of the advantages of classes."
   ]
  },
  {
   "cell_type": "markdown",
   "id": "3dbe49bc",
   "metadata": {},
   "source": [
    "We could use the built-in method `__setattr__`, **which all classes in Python have**, to set a new attribute value."
   ]
  },
  {
   "cell_type": "code",
   "execution_count": 111,
   "id": "b5de2ce5",
   "metadata": {},
   "outputs": [
    {
     "name": "stdout",
     "output_type": "stream",
     "text": [
      "This animal is named: Bob, is 10 years old, and 0.8 cm tall\n"
     ]
    }
   ],
   "source": [
    "new_animal.__setattr__(\"name\", \"Bob\")\n",
    "\n",
    "print(f\"This animal is named: {new_animal.name}, is {new_animal.age} years old, and {new_animal.height} cm tall\")"
   ]
  },
  {
   "cell_type": "markdown",
   "id": "7b3fbb2c",
   "metadata": {},
   "source": [
    "But this changes the original animal we created with the name \"John\". We should be able to define objects with the attributes that we would like and have them separately. \n",
    "\n",
    "We can do this in the instentation moment. We need to specify which attributes in the classs need to be initialize. This can be done through the method `__init__` in the class definition:"
   ]
  },
  {
   "cell_type": "code",
   "execution_count": 112,
   "id": "f989ce52",
   "metadata": {},
   "outputs": [],
   "source": [
    "class Animal(object):\n",
    "    \n",
    "    def __init__(self, \n",
    "                 age,\n",
    "                 height,\n",
    "                 name,\n",
    "                 wild\n",
    "                ):\n",
    "        \n",
    "        self.age = age\n",
    "        self.height = height\n",
    "        self.name = name\n",
    "        self.wild = wild\n",
    "\n",
    "    def greet(self):\n",
    "        #print(f\"Greeting human. I am an animal of {self.age} of age and {self.height} tall.\")   \n",
    "        print(f\"Greeting human. I am an animal\")   \n"
   ]
  },
  {
   "cell_type": "code",
   "execution_count": 113,
   "id": "a4cc342c",
   "metadata": {},
   "outputs": [],
   "source": [
    "animal_bob = Animal(age = 10,height = 0.8, name = \"Bob\", wild = True)\n",
    "animal_john = Animal(age = 10, height = 0.8, name = \"John\", wild = True)"
   ]
  },
  {
   "cell_type": "code",
   "execution_count": 114,
   "id": "063fbdf1",
   "metadata": {},
   "outputs": [
    {
     "name": "stdout",
     "output_type": "stream",
     "text": [
      "This animal is named: Bob\n",
      "This animal is named: John\n"
     ]
    }
   ],
   "source": [
    "print(f\"This animal is named: {animal_bob.name}\")\n",
    "print(f\"This animal is named: {animal_john.name}\")"
   ]
  },
  {
   "cell_type": "markdown",
   "id": "b1e9a385",
   "metadata": {},
   "source": [
    "**We can also define classess that take initial attributes by default.** We just need to specify these values in the `__init__` function (N.B. `__init__` is a function, so it follows the same rules when it comes to parameter definition and order)."
   ]
  },
  {
   "cell_type": "code",
   "execution_count": 115,
   "id": "e673dbf1",
   "metadata": {},
   "outputs": [],
   "source": [
    "class Animal(object):\n",
    "    \n",
    "    def __init__(self, \n",
    "                 age,\n",
    "                 height,\n",
    "                 name = \"Max\",\n",
    "                 wild = False,\n",
    "                ):\n",
    "        \n",
    "        self.age = age\n",
    "        self.height = height\n",
    "        self.name = name\n",
    "        self.wild = wild\n",
    "\n",
    "    def greet(self):\n",
    "        #print(f\"Greeting human. I am an animal of {self.age} of age and {self.height} tall.\")   \n",
    "        print(f\"Greeting human. I am an animal\")   \n"
   ]
  },
  {
   "cell_type": "code",
   "execution_count": 116,
   "id": "92dfbc9e",
   "metadata": {},
   "outputs": [
    {
     "name": "stdout",
     "output_type": "stream",
     "text": [
      "This animal is named: Max, is 12 years old, and 1.2 cm tall\n"
     ]
    }
   ],
   "source": [
    "animal_3 = Animal(age = 12,height = 1.2)\n",
    "\n",
    "print(f\"This animal is named: {animal_3.name}, is {animal_3.age} years old, and {animal_3.height} cm tall\")"
   ]
  },
  {
   "cell_type": "markdown",
   "id": "031f6478",
   "metadata": {},
   "source": [
    "## 3. Inheritance\n",
    "\n",
    "What if we now have a new recipe (class), which is just an extension of a previous recipe to, for example, make it more specific? Do we need to redifine this recipe again? **NO!** This is where classes become really handy, because you can make them inherit from other classes.\n",
    "\n",
    "When a class inherits from another class, it inherits **all** its method and attributes, **unless it overrides them**."
   ]
  },
  {
   "cell_type": "code",
   "execution_count": 117,
   "id": "64fbdf34",
   "metadata": {},
   "outputs": [],
   "source": [
    "# Here Dog will inherit from Animal\n",
    "class Dog(Animal):\n",
    "    pass"
   ]
  },
  {
   "cell_type": "code",
   "execution_count": 118,
   "id": "fd650a2a",
   "metadata": {},
   "outputs": [
    {
     "name": "stdout",
     "output_type": "stream",
     "text": [
      "This a god named: Pretzels, is 5 years old, and 10 cm tall\n",
      "Greeting human. I am an animal\n"
     ]
    }
   ],
   "source": [
    "my_dog = Dog(age = 5, height=10, name=\"Pretzels\")\n",
    "\n",
    "print(f\"This a god named: {my_dog.name}, is {my_dog.age} years old, and {my_dog.height} cm tall\")\n",
    "my_dog.greet()"
   ]
  },
  {
   "cell_type": "markdown",
   "id": "d3d0dcea",
   "metadata": {},
   "source": [
    "Mmm, but here, when the dog salutes us, it says it is an animal, which is true, but we may want it to be more specific. We can do this by redefining its greet method:"
   ]
  },
  {
   "cell_type": "code",
   "execution_count": 119,
   "id": "5b27ebfe",
   "metadata": {},
   "outputs": [],
   "source": [
    "# Here Dog will inherit from Animal\n",
    "class Dog(Animal):\n",
    "    def greet(self):\n",
    "        print(f\"Greetings human. I am a dog!\") "
   ]
  },
  {
   "cell_type": "code",
   "execution_count": 120,
   "id": "d09e5740",
   "metadata": {},
   "outputs": [
    {
     "name": "stdout",
     "output_type": "stream",
     "text": [
      "This a god named: Pretzels, is 5 years old, and 10 cm tall\n",
      "Greetings human. I am a dog!\n"
     ]
    }
   ],
   "source": [
    "my_dog = Dog(age = 5, height=10, name=\"Pretzels\")\n",
    "print(f\"This a god named: {my_dog.name}, is {my_dog.age} years old, and {my_dog.height} cm tall\")\n",
    "my_dog.greet()"
   ]
  },
  {
   "cell_type": "markdown",
   "id": "27b3bda1",
   "metadata": {},
   "source": [
    "Note that this has **only** the `greet` method in the Dog class. The Animal class still has the original `greet` method"
   ]
  },
  {
   "cell_type": "code",
   "execution_count": 121,
   "id": "c10bf301",
   "metadata": {},
   "outputs": [
    {
     "name": "stdout",
     "output_type": "stream",
     "text": [
      "Greeting human. I am an animal\n"
     ]
    }
   ],
   "source": [
    "# Note that this has on\n",
    "my_animal = Animal(age = 5, height=10, name=\"Pretzels\")\n",
    "my_animal.greet()"
   ]
  },
  {
   "cell_type": "code",
   "execution_count": null,
   "id": "cc1de1e2",
   "metadata": {},
   "outputs": [],
   "source": []
  }
 ],
 "metadata": {
  "kernelspec": {
   "display_name": "Python 3 (ipykernel)",
   "language": "python",
   "name": "python3"
  },
  "language_info": {
   "codemirror_mode": {
    "name": "ipython",
    "version": 3
   },
   "file_extension": ".py",
   "mimetype": "text/x-python",
   "name": "python",
   "nbconvert_exporter": "python",
   "pygments_lexer": "ipython3",
   "version": "3.11.9"
  }
 },
 "nbformat": 4,
 "nbformat_minor": 5
}
