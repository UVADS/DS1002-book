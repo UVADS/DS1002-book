{
 "cells": [
  {
   "cell_type": "markdown",
   "id": "7f2a553a",
   "metadata": {},
   "source": [
    "# Variables and data types\n"
   ]
  },
  {
   "cell_type": "markdown",
   "id": "3215e74b",
   "metadata": {},
   "source": [
    "## What is a variable?\n",
    "\n",
    "A variable in Python is a symbolic name that references a chunk of memory where information is stored and can be accessed or modified later. We can have as many variables as we want, as long as they have unique names."
   ]
  },
  {
   "cell_type": "code",
   "execution_count": 15,
   "id": "117ffa8f",
   "metadata": {},
   "outputs": [
    {
     "data": {
      "text/plain": [
       "4"
      ]
     },
     "execution_count": 15,
     "metadata": {},
     "output_type": "execute_result"
    }
   ],
   "source": [
    "x = 4\n",
    "x"
   ]
  },
  {
   "cell_type": "code",
   "execution_count": 16,
   "id": "ad6bdcfe",
   "metadata": {},
   "outputs": [
    {
     "data": {
      "text/plain": [
       "125"
      ]
     },
     "execution_count": 16,
     "metadata": {},
     "output_type": "execute_result"
    }
   ],
   "source": [
    "y = 100 + 25\n",
    "y"
   ]
  },
  {
   "cell_type": "code",
   "execution_count": 17,
   "id": "30bd6b66",
   "metadata": {},
   "outputs": [
    {
     "data": {
      "text/plain": [
       "4"
      ]
     },
     "execution_count": 17,
     "metadata": {},
     "output_type": "execute_result"
    }
   ],
   "source": [
    "# In an interactive environment, we can type variable to get value\n",
    "x"
   ]
  },
  {
   "cell_type": "code",
   "execution_count": 18,
   "id": "70b9c95c",
   "metadata": {},
   "outputs": [
    {
     "name": "stdout",
     "output_type": "stream",
     "text": [
      "4\n"
     ]
    }
   ],
   "source": [
    "# Or we can use the print() function we learned earlier to view assigned value\n",
    "print(x)"
   ]
  },
  {
   "cell_type": "code",
   "execution_count": 19,
   "id": "9c4eedda",
   "metadata": {},
   "outputs": [
    {
     "data": {
      "text/plain": [
       "5"
      ]
     },
     "execution_count": 19,
     "metadata": {},
     "output_type": "execute_result"
    }
   ],
   "source": [
    "# We can also reassign variable\n",
    "x = 5\n",
    "x"
   ]
  },
  {
   "cell_type": "code",
   "execution_count": 20,
   "id": "ac95885d",
   "metadata": {},
   "outputs": [
    {
     "data": {
      "text/plain": [
       "130"
      ]
     },
     "execution_count": 20,
     "metadata": {},
     "output_type": "execute_result"
    }
   ],
   "source": [
    "# We can perform operations between variables\n",
    "x + y"
   ]
  },
  {
   "cell_type": "code",
   "execution_count": 21,
   "id": "2c8e6b73",
   "metadata": {},
   "outputs": [
    {
     "data": {
      "text/plain": [
       "130"
      ]
     },
     "execution_count": 21,
     "metadata": {},
     "output_type": "execute_result"
    }
   ],
   "source": [
    "# An even save the outputs from operations into a new variable\n",
    "z = x + y\n",
    "z"
   ]
  },
  {
   "cell_type": "code",
   "execution_count": 22,
   "id": "5bee16b4",
   "metadata": {},
   "outputs": [
    {
     "ename": "NameError",
     "evalue": "name 'x' is not defined",
     "output_type": "error",
     "traceback": [
      "\u001b[0;31m---------------------------------------------------------------------------\u001b[0m",
      "\u001b[0;31mNameError\u001b[0m                                 Traceback (most recent call last)",
      "Input \u001b[0;32mIn [22]\u001b[0m, in \u001b[0;36m<cell line: 0>\u001b[0;34m()\u001b[0m\n\u001b[1;32m      1\u001b[0m \u001b[38;5;66;03m# We can also delete a variable with function del()\u001b[39;00m\n\u001b[1;32m      2\u001b[0m \u001b[38;5;28;01mdel\u001b[39;00m(x)\n\u001b[0;32m----> 4\u001b[0m x\n",
      "\u001b[0;31mNameError\u001b[0m: name 'x' is not defined"
     ]
    }
   ],
   "source": [
    "# We can also delete a variable with function del()\n",
    "del(x)\n",
    "\n",
    "x"
   ]
  },
  {
   "cell_type": "markdown",
   "id": "f1e834d2",
   "metadata": {},
   "source": [
    "Like we mentioned earlier, a variable references a chunk of memory. How can we know this memory? By using the function `id()`. This memory is unique to every variable created in Python. \n",
    "\n",
    "The ID is for the variable, not the variable's value: In layman's terms, two variables with the same value will have different memory locations ( <u> Exception</u>: if the number is between -5 and -256 or a simple string with no spaces, it will not be given a unique ID for memory optimization purposes)."
   ]
  },
  {
   "cell_type": "code",
   "execution_count": 29,
   "id": "fe148025",
   "metadata": {},
   "outputs": [
    {
     "name": "stdout",
     "output_type": "stream",
     "text": [
      "8909800\n",
      "0x1\n"
     ]
    }
   ],
   "source": [
    "x = 1\n",
    "print(id(x))\n",
    "print(hex(x)) # hex() just allows you to output this in hexadecimal representation"
   ]
  },
  {
   "cell_type": "code",
   "execution_count": 26,
   "id": "dfaa071a",
   "metadata": {},
   "outputs": [],
   "source": [
    "a = 278\n",
    "b = 278"
   ]
  },
  {
   "cell_type": "code",
   "execution_count": 27,
   "id": "9cdfdff5",
   "metadata": {},
   "outputs": [
    {
     "data": {
      "text/plain": [
       "True"
      ]
     },
     "execution_count": 27,
     "metadata": {},
     "output_type": "execute_result"
    }
   ],
   "source": [
    "a == b # 278 = 278 (shocking!)"
   ]
  },
  {
   "cell_type": "code",
   "execution_count": 28,
   "id": "d70f7b86",
   "metadata": {},
   "outputs": [
    {
     "data": {
      "text/plain": [
       "False"
      ]
     },
     "execution_count": 28,
     "metadata": {},
     "output_type": "execute_result"
    }
   ],
   "source": [
    "id(a) == id(b) # Addresses are different"
   ]
  },
  {
   "cell_type": "markdown",
   "id": "3e64054d",
   "metadata": {},
   "source": [
    "## Variable naming"
   ]
  },
  {
   "cell_type": "markdown",
   "id": "1cc42616",
   "metadata": {},
   "source": [
    "These is the list of allowed characters in a variable name: \n",
    "\n",
    "- Lowercase and uppercase letters: a-z and A-Z\n",
    "- Numbers: 0-9\n",
    "- Underscores: _\n",
    "\n",
    "In addition, there are the following two rules:\n",
    "\n",
    "- Variable names must start with a letter or the underscore character and can not start with a number\n"
   ]
  },
  {
   "cell_type": "code",
   "execution_count": 26,
   "id": "93b5c0ef",
   "metadata": {},
   "outputs": [],
   "source": [
    "x = 1\n",
    "_foo = 35"
   ]
  },
  {
   "cell_type": "code",
   "execution_count": 27,
   "id": "00924207",
   "metadata": {},
   "outputs": [
    {
     "ename": "SyntaxError",
     "evalue": "invalid decimal literal (2771361060.py, line 1)",
     "output_type": "error",
     "traceback": [
      "\u001b[0;36m  Input \u001b[0;32mIn [27]\u001b[0;36m\u001b[0m\n\u001b[0;31m    3foo= 12\u001b[0m\n\u001b[0m    ^\u001b[0m\n\u001b[0;31mSyntaxError\u001b[0m\u001b[0;31m:\u001b[0m invalid decimal literal\n"
     ]
    }
   ],
   "source": [
    "3foo= 12"
   ]
  },
  {
   "cell_type": "markdown",
   "id": "a546b4d3",
   "metadata": {},
   "source": [
    "- Names are case-sensitive"
   ]
  },
  {
   "cell_type": "code",
   "execution_count": 18,
   "id": "ceb4b891",
   "metadata": {},
   "outputs": [
    {
     "name": "stdout",
     "output_type": "stream",
     "text": [
      "0x87f508\n",
      "0x87f648\n"
     ]
    }
   ],
   "source": [
    "myvar=10\n",
    "myVar=20\n",
    "\n",
    "print(hex(id(myvar)))\n",
    "print(hex(id(myVar)))"
   ]
  },
  {
   "cell_type": "markdown",
   "id": "b4bafd69",
   "metadata": {},
   "source": [
    "<u><b>NOTE1</b></u>:: You can name your variables any way you like as long as you follow the aforementioned rules. But, the convention in Python is to follow the *snake case*, in contrast to *camel case*. \n",
    "\n",
    "When naming a variable using multiple words, the camel case prefer to join them together, without any white space and delineating the start of each new word with a capital letter. For example, in camel case we would write \"thisVar\".\n",
    "\n",
    "In contrast, snake case uses an underscore (\"_\") between these words and use always lower case: \"this_var\". \n",
    "\n",
    "<u><b>NOTE2</b></u>: Camel-case convetions is used for class names though. We will see this in the future."
   ]
  },
  {
   "cell_type": "markdown",
   "id": "df5e5b76",
   "metadata": {},
   "source": [
    "## Reserved names (keywords)"
   ]
  },
  {
   "cell_type": "markdown",
   "id": "384fc479",
   "metadata": {},
   "source": [
    "There are certain names that can not be used for variables. These are reserved keywords that have specific meanings and restrictions on how they should be used. \n",
    "\n",
    "Some examples (We will be covering most of them throughout the course):\n",
    "\n",
    "`False` `await` `else` `import` `pass` `None`  `break` `except` `in` `raise` `True` `class` `finally` `is` `return` `and` `continue` `for` `lambda` `try` `as` `def` `from` `nonlocal` `while` `assert` `del` `global` `not` `with` `async` `elif` `if` `or` `yield`"
   ]
  },
  {
   "cell_type": "markdown",
   "id": "2b5b34a8",
   "metadata": {},
   "source": [
    "## Variable types"
   ]
  },
  {
   "cell_type": "markdown",
   "id": "c91c089c",
   "metadata": {},
   "source": [
    "So far we have only used numbers as values assigned to a variable. However, Python has more data types."
   ]
  },
  {
   "cell_type": "code",
   "execution_count": 4,
   "id": "cfd61e67",
   "metadata": {},
   "outputs": [],
   "source": [
    "float_var = 3.1416 # float\n",
    "bool_var = True # boolean\n",
    "string_var = 'virginia' # string (We will see this data type in more detail in a future lesson)"
   ]
  },
  {
   "cell_type": "markdown",
   "id": "24a4d55f",
   "metadata": {},
   "source": [
    "Python has a built-in function called `type()`, which can be used to determine the data type that a variable is holding:"
   ]
  },
  {
   "cell_type": "code",
   "execution_count": 5,
   "id": "e7133fb8",
   "metadata": {},
   "outputs": [
    {
     "data": {
      "text/plain": [
       "float"
      ]
     },
     "execution_count": 5,
     "metadata": {},
     "output_type": "execute_result"
    }
   ],
   "source": [
    "type(float_var)"
   ]
  },
  {
   "cell_type": "code",
   "execution_count": 6,
   "id": "74939233",
   "metadata": {},
   "outputs": [
    {
     "data": {
      "text/plain": [
       "bool"
      ]
     },
     "execution_count": 6,
     "metadata": {},
     "output_type": "execute_result"
    }
   ],
   "source": [
    "type(bool_var)"
   ]
  },
  {
   "cell_type": "code",
   "execution_count": 7,
   "id": "b6a66132",
   "metadata": {},
   "outputs": [
    {
     "data": {
      "text/plain": [
       "str"
      ]
     },
     "execution_count": 7,
     "metadata": {},
     "output_type": "execute_result"
    }
   ],
   "source": [
    "type(string_var)"
   ]
  },
  {
   "cell_type": "markdown",
   "id": "9319f018",
   "metadata": {},
   "source": [
    "Python has another built-in function, `isinstance()` , which can check if a given variable is of specific type. The ouput to this function will be a boolean, that is, `True` if the specified object is of the specified type, otherwise `False`."
   ]
  },
  {
   "cell_type": "code",
   "execution_count": 9,
   "id": "8bcaffb2",
   "metadata": {},
   "outputs": [
    {
     "data": {
      "text/plain": [
       "True"
      ]
     },
     "execution_count": 9,
     "metadata": {},
     "output_type": "execute_result"
    }
   ],
   "source": [
    "# example giving a True\n",
    "isinstance(float_var, float)"
   ]
  },
  {
   "cell_type": "code",
   "execution_count": 11,
   "id": "ef459e93",
   "metadata": {},
   "outputs": [
    {
     "data": {
      "text/plain": [
       "False"
      ]
     },
     "execution_count": 11,
     "metadata": {},
     "output_type": "execute_result"
    }
   ],
   "source": [
    "# example giving a False\n",
    "isinstance(float_var, str)"
   ]
  },
  {
   "cell_type": "markdown",
   "id": "6ce90984",
   "metadata": {},
   "source": [
    "You can also pass a several types to check. In this case, the second argument in this function, instead of a single type, is a collection of types all contained within parenthesis and separated by commas, i.e., `(type1, type2, type3...)`."
   ]
  },
  {
   "cell_type": "code",
   "execution_count": 13,
   "id": "812e51c8",
   "metadata": {},
   "outputs": [
    {
     "data": {
      "text/plain": [
       "True"
      ]
     },
     "execution_count": 13,
     "metadata": {},
     "output_type": "execute_result"
    }
   ],
   "source": [
    "# You can also pass several options to check\n",
    "\n",
    "isinstance(\"Hello\", (float, int, str))"
   ]
  },
  {
   "cell_type": "markdown",
   "id": "24b8e23a",
   "metadata": {},
   "source": [
    "<u><b>NOTE3</b></u>: This collection of objects within parenthesis is called a **tuple**. This is a typical data structrue in Python, aiming to store data in particular way. We will get to this when we study data structures."
   ]
  },
  {
   "cell_type": "markdown",
   "id": "c2b08e1b",
   "metadata": {},
   "source": [
    "## Converting Data Types\n",
    "\n",
    "When needed we can 'cast' a variable as a different data type (remember Python automatically assigns data type to a variable).\n",
    "\n",
    "We do this through casting functions:"
   ]
  },
  {
   "cell_type": "markdown",
   "id": "dbb0c35f",
   "metadata": {},
   "source": [
    "**`int()`**"
   ]
  },
  {
   "cell_type": "code",
   "execution_count": 41,
   "id": "39b9e5f5",
   "metadata": {},
   "outputs": [
    {
     "data": {
      "text/plain": [
       "float"
      ]
     },
     "execution_count": 41,
     "metadata": {},
     "output_type": "execute_result"
    }
   ],
   "source": [
    "# create float variable\n",
    "var_float = 9.6\n",
    "type(var_float)"
   ]
  },
  {
   "cell_type": "code",
   "execution_count": 42,
   "id": "b6440326",
   "metadata": {},
   "outputs": [
    {
     "name": "stdout",
     "output_type": "stream",
     "text": [
      "<class 'int'>\n"
     ]
    },
    {
     "data": {
      "text/plain": [
       "9"
      ]
     },
     "execution_count": 42,
     "metadata": {},
     "output_type": "execute_result"
    }
   ],
   "source": [
    "# cast float to integer\n",
    "var_int = int(var_float)\n",
    "\n",
    "print(type(var_int))\n",
    "var_int"
   ]
  },
  {
   "cell_type": "markdown",
   "id": "7765a689",
   "metadata": {},
   "source": [
    "**`float()`**"
   ]
  },
  {
   "cell_type": "code",
   "execution_count": 43,
   "id": "b052299d",
   "metadata": {},
   "outputs": [
    {
     "data": {
      "text/plain": [
       "str"
      ]
     },
     "execution_count": 43,
     "metadata": {},
     "output_type": "execute_result"
    }
   ],
   "source": [
    "# create string variable\n",
    "var_str = '10.2'\n",
    "type(var_str)"
   ]
  },
  {
   "cell_type": "code",
   "execution_count": 44,
   "id": "3c617d79",
   "metadata": {},
   "outputs": [
    {
     "name": "stdout",
     "output_type": "stream",
     "text": [
      "<class 'float'>\n",
      "10.2\n"
     ]
    }
   ],
   "source": [
    "# cast string to float\n",
    "var_float = float(var_str)\n",
    "print(type(var_float))\n",
    "print(var_float)"
   ]
  }
 ],
 "metadata": {
  "kernelspec": {
   "display_name": "Python 3 (ipykernel)",
   "language": "python",
   "name": "python3"
  },
  "language_info": {
   "codemirror_mode": {
    "name": "ipython",
    "version": 3
   },
   "file_extension": ".py",
   "mimetype": "text/x-python",
   "name": "python",
   "nbconvert_exporter": "python",
   "pygments_lexer": "ipython3",
   "version": "3.11.9"
  }
 },
 "nbformat": 4,
 "nbformat_minor": 5
}
