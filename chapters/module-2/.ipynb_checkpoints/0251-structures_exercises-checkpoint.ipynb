{
 "cells": [
  {
   "cell_type": "markdown",
   "id": "b0c81b28",
   "metadata": {},
   "source": [
    "# Data Structures Exercises"
   ]
  },
  {
   "cell_type": "markdown",
   "id": "57779d78",
   "metadata": {},
   "source": [
    "**1.1 List one important attribute of list, dictionary, and tuple**"
   ]
  },
  {
   "cell_type": "code",
   "execution_count": 24,
   "id": "36db7578",
   "metadata": {},
   "outputs": [],
   "source": [
    "# Write down your answer (Remember to change this cell to Markdown)"
   ]
  },
  {
   "cell_type": "markdown",
   "id": "5ec0d4fc",
   "metadata": {
    "id": "5ec0d4fc"
   },
   "source": [
    "**2.1. Make a list containing your numerical birth month, the first letter of your name, & a boolean to the question: I like coffee.**"
   ]
  },
  {
   "cell_type": "code",
   "execution_count": 29,
   "id": "40f0de3c",
   "metadata": {
    "id": "40f0de3c"
   },
   "outputs": [],
   "source": [
    "# Write down your answer "
   ]
  },
  {
   "cell_type": "markdown",
   "id": "c4b21d8a",
   "metadata": {
    "id": "c4b21d8a"
   },
   "source": [
    "**2.2 Apply indexing to this list to pull out your numerical birth month.**"
   ]
  },
  {
   "cell_type": "code",
   "execution_count": 30,
   "id": "dea82b7b",
   "metadata": {
    "id": "dea82b7b"
   },
   "outputs": [],
   "source": [
    "# Write down your answer "
   ]
  },
  {
   "cell_type": "markdown",
   "id": "a12cd4b2",
   "metadata": {
    "id": "a12cd4b2"
   },
   "source": [
    "**2.3. Slice the list using a method from above. For more see https://www.learnbyexample.org/python-list-slicing/**"
   ]
  },
  {
   "cell_type": "code",
   "execution_count": 27,
   "id": "30581e49",
   "metadata": {
    "id": "30581e49"
   },
   "outputs": [],
   "source": [
    "# Write down your answer "
   ]
  },
  {
   "cell_type": "markdown",
   "id": "f31c27fb",
   "metadata": {
    "id": "f31c27fb"
   },
   "source": [
    "**2.4 Multiply this list by a given scalar**"
   ]
  },
  {
   "cell_type": "code",
   "execution_count": 28,
   "id": "99cd2df5",
   "metadata": {
    "id": "99cd2df5"
   },
   "outputs": [],
   "source": [
    "# Write down your answer "
   ]
  },
  {
   "cell_type": "markdown",
   "id": "e71bf6a6",
   "metadata": {
    "id": "e71bf6a6"
   },
   "source": [
    "**2.5. Add the prorivded list to  = [1,2,3,4,5,6] Add `numbers` to your list**"
   ]
  },
  {
   "cell_type": "code",
   "execution_count": null,
   "id": "a4e3eaab",
   "metadata": {
    "id": "a4e3eaab"
   },
   "outputs": [],
   "source": [
    "numbers = [1,2,3,4,5,6]"
   ]
  }
 ],
 "metadata": {
  "colab": {
   "include_colab_link": true,
   "provenance": []
  },
  "kernelspec": {
   "display_name": "Python 3 (ipykernel)",
   "language": "python",
   "name": "python3"
  },
  "language_info": {
   "codemirror_mode": {
    "name": "ipython",
    "version": 3
   },
   "file_extension": ".py",
   "mimetype": "text/x-python",
   "name": "python",
   "nbconvert_exporter": "python",
   "pygments_lexer": "ipython3",
   "version": "3.11.9"
  },
  "vscode": {
   "interpreter": {
    "hash": "31f2aee4e71d21fbe5cf8b01ff0e069b9275f58929596ceb00d14d90e3e16cd6"
   }
  }
 },
 "nbformat": 4,
 "nbformat_minor": 5
}
