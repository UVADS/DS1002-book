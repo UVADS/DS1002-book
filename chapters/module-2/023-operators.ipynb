{
 "cells": [
  {
   "cell_type": "markdown",
   "id": "3a0db315",
   "metadata": {},
   "source": [
    "# Operators and Expressions"
   ]
  },
  {
   "cell_type": "markdown",
   "id": "a60f8e07",
   "metadata": {},
   "source": [
    "## Operators"
   ]
  },
  {
   "cell_type": "markdown",
   "id": "831a1737",
   "metadata": {},
   "source": [
    "If variables are **nouns**, and values **meanings**, then operators are **verbs**.\n",
    "\n",
    "Operators are special symbols that are expressed in sequential syntax.\n",
    "\n",
    "**Each data type is associated with a set of operators** that allow you to manipulate the data in way that makes sense for its type. Numeric data types are subject to mathematical operations, booleans to logical ones, and so forth.\n",
    "\n",
    "There are also **operations appropriate to structures**. For example, list-like things have membership (We will see this soon). \n",
    "\n",
    "In this lesson we will just concentrate on the operators acting on the basic data types we saw in the previous lessons. We will see how operators act in more complicated cases.\n",
    "\n",
    "The w3schools site has [a good summary](https://www.w3schools.com/python/python_operators.asp).\n"
   ]
  },
  {
   "cell_type": "markdown",
   "id": "e8cd76a7",
   "metadata": {},
   "source": [
    "### Arithmetic Operators"
   ]
  },
  {
   "cell_type": "markdown",
   "id": "2f3b3d92",
   "metadata": {},
   "source": [
    "Common: `+`, `-`, `*`, `/`\n",
    "\n",
    "\n",
    "\n",
    "Other operators: "
   ]
  },
  {
   "cell_type": "markdown",
   "id": "0cd060de",
   "metadata": {},
   "source": [
    "**floor division `//`**\n",
    "\n",
    "returns the largest integer less than or equal to the result"
   ]
  },
  {
   "cell_type": "code",
   "execution_count": 1,
   "id": "31090a23",
   "metadata": {},
   "outputs": [
    {
     "data": {
      "text/plain": [
       "2"
      ]
     },
     "execution_count": 1,
     "metadata": {},
     "output_type": "execute_result"
    }
   ],
   "source": [
    "5 // 2"
   ]
  },
  {
   "cell_type": "code",
   "execution_count": 2,
   "id": "ec599854",
   "metadata": {},
   "outputs": [
    {
     "data": {
      "text/plain": [
       "-3"
      ]
     },
     "execution_count": 2,
     "metadata": {},
     "output_type": "execute_result"
    }
   ],
   "source": [
    "-5 // 2"
   ]
  },
  {
   "cell_type": "markdown",
   "id": "dc111e7a",
   "metadata": {},
   "source": [
    "**modulus `%`**\n",
    "\n",
    "returns the remainder after a division operation"
   ]
  },
  {
   "cell_type": "code",
   "execution_count": 3,
   "id": "407aca33",
   "metadata": {},
   "outputs": [
    {
     "data": {
      "text/plain": [
       "1"
      ]
     },
     "execution_count": 3,
     "metadata": {},
     "output_type": "execute_result"
    }
   ],
   "source": [
    "5 % 2"
   ]
  },
  {
   "cell_type": "code",
   "execution_count": null,
   "id": "d022f00d",
   "metadata": {},
   "outputs": [],
   "source": [
    "print(5.5 / 2) \n",
    "print(5.5 // 2)\n",
    "print(5.5 % 2)"
   ]
  },
  {
   "cell_type": "markdown",
   "id": "840fcc6d",
   "metadata": {},
   "source": [
    "**exponentiation `**`**"
   ]
  },
  {
   "cell_type": "code",
   "execution_count": 4,
   "id": "ea24d942",
   "metadata": {},
   "outputs": [
    {
     "data": {
      "text/plain": [
       "25"
      ]
     },
     "execution_count": 4,
     "metadata": {},
     "output_type": "execute_result"
    }
   ],
   "source": [
    "5**2"
   ]
  },
  {
   "cell_type": "markdown",
   "id": "3ea8b61d",
   "metadata": {},
   "source": [
    "### Comparison Operators\n",
    "\n",
    "comparisons are questions and return boolean values"
   ]
  },
  {
   "cell_type": "markdown",
   "id": "602c84ea",
   "metadata": {},
   "source": [
    "**equality `==`**"
   ]
  },
  {
   "cell_type": "code",
   "execution_count": null,
   "id": "f8c112be",
   "metadata": {},
   "outputs": [],
   "source": [
    "# numeric\n",
    "25 == 4**2 + 9"
   ]
  },
  {
   "cell_type": "code",
   "execution_count": null,
   "id": "c70a13ba",
   "metadata": {},
   "outputs": [],
   "source": [
    "# string\n",
    "string1 == string2"
   ]
  },
  {
   "cell_type": "markdown",
   "id": "d98927c8",
   "metadata": {},
   "source": [
    "**inequality `!=`**"
   ]
  },
  {
   "cell_type": "code",
   "execution_count": null,
   "id": "fd07aade",
   "metadata": {},
   "outputs": [],
   "source": [
    "# numeric\n",
    "25 != 20 + 6"
   ]
  },
  {
   "cell_type": "code",
   "execution_count": null,
   "id": "3dc66b40",
   "metadata": {},
   "outputs": [],
   "source": [
    "# string\n",
    "string1 != string2"
   ]
  },
  {
   "cell_type": "markdown",
   "id": "18e02383",
   "metadata": {},
   "source": [
    "**greater than `>`, less than `<`**"
   ]
  },
  {
   "cell_type": "code",
   "execution_count": null,
   "id": "5ef7083f",
   "metadata": {},
   "outputs": [],
   "source": [
    "20 > 10"
   ]
  },
  {
   "cell_type": "code",
   "execution_count": null,
   "id": "6841a8b0",
   "metadata": {},
   "outputs": [],
   "source": [
    "2*10 >= 20"
   ]
  },
  {
   "cell_type": "code",
   "execution_count": null,
   "id": "e5a196a8",
   "metadata": {},
   "outputs": [],
   "source": [
    "3%2 < 5"
   ]
  },
  {
   "cell_type": "code",
   "execution_count": null,
   "id": "72585a38",
   "metadata": {},
   "outputs": [],
   "source": [
    "-3 <= 0"
   ]
  },
  {
   "cell_type": "markdown",
   "id": "5b320d5b",
   "metadata": {},
   "source": [
    "### Logical Operators"
   ]
  },
  {
   "cell_type": "markdown",
   "id": "8cac021d",
   "metadata": {},
   "source": [
    "**conjunctions `and`, `or`, `not`**\n",
    "\n",
    "Note the we group comparisons with parentheses"
   ]
  },
  {
   "cell_type": "code",
   "execution_count": null,
   "id": "db456946",
   "metadata": {},
   "outputs": [],
   "source": [
    "x = 10\n",
    "\n",
    "(x % 10 == 0) or (x < -1)"
   ]
  },
  {
   "cell_type": "code",
   "execution_count": null,
   "id": "c37efb81",
   "metadata": {},
   "outputs": [],
   "source": [
    "(x % 10 == 0) and (x < -1)"
   ]
  },
  {
   "cell_type": "code",
   "execution_count": null,
   "id": "c859ac4d",
   "metadata": {},
   "outputs": [],
   "source": [
    "not x == 5"
   ]
  },
  {
   "cell_type": "markdown",
   "id": "4b9433ad",
   "metadata": {},
   "source": [
    "### Identity Operators"
   ]
  },
  {
   "cell_type": "markdown",
   "id": "e3e77f81",
   "metadata": {},
   "source": [
    "**Identity `is`**\n",
    "\n",
    "The `is` keyword is used to test if two variables refer to the same object.\n",
    "\n",
    "The test returns `True` if the two objects are the same object.\n",
    "\n",
    "The test returns False if they are not the same object, even if the two objects are 100% equal.\n",
    "\n",
    "Use the `==` operator to test if two variables are equal.\n",
    "\n",
    "-- from [W3Schools on Identity Operators](https://www.w3schools.com/python/gloss_python_identity_operators.asp)"
   ]
  },
  {
   "cell_type": "code",
   "execution_count": null,
   "id": "fa0b9597",
   "metadata": {},
   "outputs": [],
   "source": [
    "x = ['apple', 'banana']\n",
    "y = ['apple', 'banana']\n",
    "z = x"
   ]
  },
  {
   "cell_type": "code",
   "execution_count": null,
   "id": "bdcd29cc",
   "metadata": {},
   "outputs": [],
   "source": [
    "x is z"
   ]
  },
  {
   "cell_type": "code",
   "execution_count": null,
   "id": "49622400",
   "metadata": {},
   "outputs": [],
   "source": [
    "x is y"
   ]
  },
  {
   "cell_type": "code",
   "execution_count": null,
   "id": "0fca2cac",
   "metadata": {},
   "outputs": [],
   "source": [
    "x == y"
   ]
  },
  {
   "cell_type": "code",
   "execution_count": null,
   "id": "a5177699",
   "metadata": {},
   "outputs": [],
   "source": [
    "x == z"
   ]
  },
  {
   "cell_type": "markdown",
   "id": "46227e40",
   "metadata": {},
   "source": [
    "### Unary Operators\n",
    "\n",
    "Python offers a short-cut for most operators. When updating a variable with an operation to that variable, such as:\n",
    "```python\n",
    "my_var = my_var + 1  # Incrementing\n",
    "```\n",
    "\n",
    "You can do this:\n",
    "```python\n",
    "my_var += 1\n",
    "```"
   ]
  },
  {
   "cell_type": "markdown",
   "id": "4819fb87",
   "metadata": {},
   "source": [
    "Python supports many operators this way. Here are some:\n",
    "```python\n",
    "a -= a\n",
    "a \\= a\n",
    "a \\\\= a\n",
    "a %= a\n",
    "a *= a\n",
    "a **= a\n",
    "```"
   ]
  },
  {
   "cell_type": "markdown",
   "id": "04a6dae2",
   "metadata": {},
   "source": [
    "## Expressions\n",
    "\n",
    "Variables, literal values, and operators are the building blocks of expressions.\n",
    "\n",
    "For example, the following combines three operators and four variables:"
   ]
  },
  {
   "cell_type": "code",
   "execution_count": null,
   "id": "c847b399",
   "metadata": {},
   "outputs": [],
   "source": [
    "1 + 2 * 3 / 2"
   ]
  },
  {
   "cell_type": "markdown",
   "id": "d2c60aef",
   "metadata": {},
   "source": [
    "Python employs **operator precedence** when evaluating expressions:\n",
    "\n",
    "```\n",
    "P – Parentheses\n",
    "E – Exponentiation\n",
    "M – Multiplication\n",
    "D – Division\n",
    "A – Addition\n",
    "S – Subtraction\n",
    "```"
   ]
  },
  {
   "cell_type": "code",
   "execution_count": null,
   "id": "d4e58952",
   "metadata": {},
   "outputs": [],
   "source": [
    "(1 + 2) * (3 / 2)"
   ]
  },
  {
   "cell_type": "markdown",
   "id": "5dc53ca3",
   "metadata": {},
   "source": [
    "Variables and literal values can be combined:"
   ]
  },
  {
   "cell_type": "code",
   "execution_count": null,
   "id": "0433e939",
   "metadata": {},
   "outputs": [],
   "source": [
    "y = 5\n",
    "m = 2.5\n",
    "b = 10"
   ]
  },
  {
   "cell_type": "code",
   "execution_count": null,
   "id": "0cbc8525",
   "metadata": {},
   "outputs": [],
   "source": [
    "y = m * 10 + b\n",
    "y"
   ]
  },
  {
   "cell_type": "code",
   "execution_count": null,
   "id": "7ea83e58",
   "metadata": {},
   "outputs": [],
   "source": [
    "y = m * 5 + b\n",
    "y"
   ]
  },
  {
   "cell_type": "markdown",
   "id": "3f06c47d",
   "metadata": {},
   "source": [
    "Expresssions can be very complex.\n",
    "\n",
    "Expressions evaluate to a value, just as single variables do. \n",
    "\n",
    "Therefore, they can be put anywhere a value is accepted."
   ]
  },
  {
   "cell_type": "code",
   "execution_count": null,
   "id": "4f1c7714",
   "metadata": {},
   "outputs": [],
   "source": [
    "int((y + 10) ** 8)"
   ]
  }
 ],
 "metadata": {
  "kernelspec": {
   "display_name": "Python 3 (ipykernel)",
   "language": "python",
   "name": "python3"
  },
  "language_info": {
   "codemirror_mode": {
    "name": "ipython",
    "version": 3
   },
   "file_extension": ".py",
   "mimetype": "text/x-python",
   "name": "python",
   "nbconvert_exporter": "python",
   "pygments_lexer": "ipython3",
   "version": "3.11.9"
  }
 },
 "nbformat": 4,
 "nbformat_minor": 5
}
