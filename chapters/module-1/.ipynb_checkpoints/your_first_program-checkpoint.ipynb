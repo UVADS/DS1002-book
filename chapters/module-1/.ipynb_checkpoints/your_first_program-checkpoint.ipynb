{
 "cells": [
  {
   "cell_type": "markdown",
   "id": "a115b7ba",
   "metadata": {},
   "source": [
    "# Your first Python program!"
   ]
  },
  {
   "cell_type": "markdown",
   "id": "a9f1037f",
   "metadata": {},
   "source": [
    "As we mentioned in a previous lesson, Python is an interpreted language. This means the interpreter executes instructions without requiring them to be compiled into machine language beforehand.\n",
    "\n",
    "In Python, the interpreter enables what’s known as an interactive REPL (Read-Eval-Print Loop), or shell, which reads a piece of code, evaluates it, and then prints the result to the console in a loop. The Jupyter notebooks we will be using throughout the course implement an enhanced version of this shell, known as IPython (https://ipython.org).\n",
    "\n",
    "```{note}\n",
    "You can also use Python as a scripting language. In this case, the interpreter runs source files as executable programs by loading the file and executing the code line by line. Interactive mode, in contrast, refers to launching the interpreter and using it as a platform to run code that you type in directly.\n",
    "```"
   ]
  },
  {
   "cell_type": "markdown",
   "id": "73f7ae0f",
   "metadata": {},
   "source": [
    "What kind of instructions can we ask Python to do? For example, Math!! Python is great calculator :)"
   ]
  },
  {
   "cell_type": "code",
   "execution_count": 9,
   "id": "d125860d",
   "metadata": {},
   "outputs": [
    {
     "data": {
      "text/plain": [
       "2"
      ]
     },
     "execution_count": 9,
     "metadata": {},
     "output_type": "execute_result"
    }
   ],
   "source": [
    "# Addition\n",
    "1 + 1"
   ]
  },
  {
   "cell_type": "code",
   "execution_count": 10,
   "id": "f6b2f96d",
   "metadata": {},
   "outputs": [
    {
     "data": {
      "text/plain": [
       "-3"
      ]
     },
     "execution_count": 10,
     "metadata": {},
     "output_type": "execute_result"
    }
   ],
   "source": [
    "# Substraction\n",
    "2 - 5"
   ]
  },
  {
   "cell_type": "code",
   "execution_count": 11,
   "id": "51588a9a",
   "metadata": {},
   "outputs": [
    {
     "data": {
      "text/plain": [
       "100"
      ]
     },
     "execution_count": 11,
     "metadata": {},
     "output_type": "execute_result"
    }
   ],
   "source": [
    "# Multiplication\n",
    "10*10"
   ]
  },
  {
   "cell_type": "code",
   "execution_count": 12,
   "id": "bf0232e2",
   "metadata": {},
   "outputs": [
    {
     "data": {
      "text/plain": [
       "0.25"
      ]
     },
     "execution_count": 12,
     "metadata": {},
     "output_type": "execute_result"
    }
   ],
   "source": [
    "# Division\n",
    "1/4"
   ]
  },
  {
   "cell_type": "markdown",
   "id": "71c9860f",
   "metadata": {},
   "source": [
    "`+`, `-`, `*`, `/` are common Arithmetic **operators**. And you might be wondering... what is an operator? We will get to this in a next lesson..."
   ]
  },
  {
   "cell_type": "markdown",
   "id": "a3e85fe5",
   "metadata": {},
   "source": [
    "For now, let's create our first Python program!!!"
   ]
  },
  {
   "cell_type": "code",
   "execution_count": 5,
   "id": "9ad6671c",
   "metadata": {},
   "outputs": [
    {
     "name": "stdout",
     "output_type": "stream",
     "text": [
      "Hello, DS-1002 class!\n"
     ]
    }
   ],
   "source": [
    "print(\"Hello, DS-1002 class!\")"
   ]
  },
  {
   "cell_type": "markdown",
   "id": "a998dec6",
   "metadata": {},
   "source": [
    "This is an adaptation of the so-called Hello World program, which simply prints \"Hello world\". Here, this is done through the `print` function. A function, like in mathematics, is just an entity that takes some **input** (aka \"arguments\") and, through certain computations, yields an output.\n",
    "\n",
    "In Python a function has the form `function_name(arg1, arg2, arg3...)`, that is, a name followed by parenthesis that contain certain arguments (i.e., inputs). When you run it, the function takes the inputs, executes some piece of internatally and yields (or not) an output.\n",
    "\n",
    "Here, the `print` function takes anything we writen down between the parentheses and prints it to our screens. Did you seen how easy this is in Python?\n",
    "\n",
    "This also gives you a first look into functions in Python. We will come back to this soon!"
   ]
  },
  {
   "cell_type": "code",
   "execution_count": 7,
   "id": "055fe6fe-c7dd-4b16-8d05-d763e64f2cef",
   "metadata": {},
   "outputs": [
    {
     "name": "stdout",
     "output_type": "stream",
     "text": [
      "Hello, DS-1002 class!\n",
      "My name is Javier, and I am going to be your instructor this semester\n"
     ]
    }
   ],
   "source": [
    "# We print as many messages as we want when we execute a cell:\n",
    "print(\"Hello, DS-1002 class!\")\n",
    "print(\"My name is Javier, and I am going to be your instructor this semester\")"
   ]
  },
  {
   "cell_type": "markdown",
   "id": "96103bba-9b5d-4164-8e91-8357f0f3ea00",
   "metadata": {},
   "source": [
    "```{exercise}\n",
    ":label: Practice!\n",
    "\n",
    "Write a piece of code that, when run, greets you by printing “Greetings!” on the screen. Then it prints a message on the screen asking your name. You reply to this message saying what is your name. Finally, the program greets you by printing “Greeting,” followed by your name name.\n",
    "```"
   ]
  }
 ],
 "metadata": {
  "kernelspec": {
   "display_name": "Python 3 (ipykernel)",
   "language": "python",
   "name": "python3"
  },
  "language_info": {
   "codemirror_mode": {
    "name": "ipython",
    "version": 3
   },
   "file_extension": ".py",
   "mimetype": "text/x-python",
   "name": "python",
   "nbconvert_exporter": "python",
   "pygments_lexer": "ipython3",
   "version": "3.11.9"
  }
 },
 "nbformat": 4,
 "nbformat_minor": 5
}
