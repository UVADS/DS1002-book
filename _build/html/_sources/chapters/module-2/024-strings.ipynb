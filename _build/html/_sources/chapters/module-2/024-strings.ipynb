{
 "cells": [
  {
   "cell_type": "markdown",
   "id": "7f6db6b0",
   "metadata": {},
   "source": [
    "# Strings\n",
    "\n",
    "- String operations\n",
    "- String methods\n",
    "- Formatting strings\n",
    "- Regular expressions"
   ]
  },
  {
   "cell_type": "markdown",
   "id": "b6667edc",
   "metadata": {},
   "source": [
    "## String Operators"
   ]
  },
  {
   "cell_type": "markdown",
   "id": "c8ab0c0d",
   "metadata": {},
   "source": [
    "**concatenation `+`**"
   ]
  },
  {
   "cell_type": "code",
   "execution_count": 12,
   "id": "90e0caa7",
   "metadata": {},
   "outputs": [
    {
     "data": {
      "text/plain": [
       "'My name is Iñigo Montoya! You killed my father! '"
      ]
     },
     "execution_count": 12,
     "metadata": {},
     "output_type": "execute_result"
    }
   ],
   "source": [
    "string1 = 'My name is Iñigo Montoya! '\n",
    "string2 = 'You killed my father! '\n",
    "string1 + string2"
   ]
  },
  {
   "cell_type": "code",
   "execution_count": 14,
   "id": "65477a22",
   "metadata": {},
   "outputs": [
    {
     "data": {
      "text/plain": [
       "'My name is Iñigo Montoya! You killed my father! Prepare to die!'"
      ]
     },
     "execution_count": 14,
     "metadata": {},
     "output_type": "execute_result"
    }
   ],
   "source": [
    "string1 + string2 + 'Prepare to die!'"
   ]
  },
  {
   "cell_type": "code",
   "execution_count": 13,
   "id": "0c326563",
   "metadata": {},
   "outputs": [
    {
     "name": "stdout",
     "output_type": "stream",
     "text": [
      "My name is Iñigo Montoya! You killed my father! Prepare to die!\n"
     ]
    }
   ],
   "source": [
    "print(string1 + string2 + 'Prepare to die!')"
   ]
  },
  {
   "cell_type": "markdown",
   "id": "8ac21785",
   "metadata": {},
   "source": [
    "**repetition `*`**"
   ]
  },
  {
   "cell_type": "code",
   "execution_count": 15,
   "id": "c1d1f2c9",
   "metadata": {},
   "outputs": [
    {
     "data": {
      "text/plain": [
       "'My name is Iñigo Montoya! My name is Iñigo Montoya! '"
      ]
     },
     "execution_count": 15,
     "metadata": {},
     "output_type": "execute_result"
    }
   ],
   "source": [
    "string1 * 2"
   ]
  },
  {
   "cell_type": "code",
   "execution_count": 17,
   "id": "3bc487e0",
   "metadata": {},
   "outputs": [
    {
     "name": "stdout",
     "output_type": "stream",
     "text": [
      "My name is Iñigo Montoya! \n",
      "My name is Iñigo Montoya! \n",
      "My name is Iñigo Montoya! \n",
      "My name is Iñigo Montoya! \n",
      "My name is Iñigo Montoya! \n",
      "\n"
     ]
    }
   ],
   "source": [
    "# '\\n' moves to the next line (like hitting the return button)\n",
    "print((string1 + '\\n') * 5)"
   ]
  },
  {
   "cell_type": "markdown",
   "id": "222b4aa7",
   "metadata": {},
   "source": [
    "**subsetting a string**\n",
    "\n",
    "Subsetting a string works similar to "
   ]
  },
  {
   "cell_type": "code",
   "execution_count": 20,
   "id": "83c67b5e",
   "metadata": {},
   "outputs": [
    {
     "data": {
      "text/plain": [
       "'My'"
      ]
     },
     "execution_count": 20,
     "metadata": {},
     "output_type": "execute_result"
    }
   ],
   "source": [
    "# extract the first 2 characters\n",
    "string1[:2] "
   ]
  },
  {
   "cell_type": "code",
   "execution_count": 21,
   "id": "ec94ba6d",
   "metadata": {},
   "outputs": [
    {
     "data": {
      "text/plain": [
       "'! '"
      ]
     },
     "execution_count": 21,
     "metadata": {},
     "output_type": "execute_result"
    }
   ],
   "source": [
    "# extract the last 2 characters\n",
    "string1[-2:]"
   ]
  },
  {
   "cell_type": "code",
   "execution_count": 22,
   "id": "396c67cd",
   "metadata": {},
   "outputs": [
    {
     "data": {
      "text/plain": [
       "False"
      ]
     },
     "execution_count": 22,
     "metadata": {},
     "output_type": "execute_result"
    }
   ],
   "source": [
    "string1.startswith('o')"
   ]
  },
  {
   "cell_type": "code",
   "execution_count": 24,
   "id": "9c603cfb",
   "metadata": {},
   "outputs": [
    {
     "data": {
      "text/plain": [
       "True"
      ]
     },
     "execution_count": 24,
     "metadata": {},
     "output_type": "execute_result"
    }
   ],
   "source": [
    "string1.endswith('! ')"
   ]
  },
  {
   "cell_type": "markdown",
   "id": "e6b670c7",
   "metadata": {},
   "source": [
    "**Python strings are *immutable* - cannot reassign elements**"
   ]
  },
  {
   "cell_type": "code",
   "execution_count": 25,
   "id": "e7b10c88",
   "metadata": {},
   "outputs": [
    {
     "ename": "TypeError",
     "evalue": "'str' object does not support item assignment",
     "output_type": "error",
     "traceback": [
      "\u001b[0;31m---------------------------------------------------------------------------\u001b[0m",
      "\u001b[0;31mTypeError\u001b[0m                                 Traceback (most recent call last)",
      "Input \u001b[0;32mIn [25]\u001b[0m, in \u001b[0;36m<cell line: 0>\u001b[0;34m()\u001b[0m\n\u001b[0;32m----> 1\u001b[0m string1[\u001b[38;5;241m0\u001b[39m] \u001b[38;5;241m=\u001b[39m \u001b[38;5;124m'\u001b[39m\u001b[38;5;124mY\u001b[39m\u001b[38;5;124m'\u001b[39m\n",
      "\u001b[0;31mTypeError\u001b[0m: 'str' object does not support item assignment"
     ]
    }
   ],
   "source": [
    "string1[0] = 'Y'"
   ]
  },
  {
   "cell_type": "markdown",
   "id": "55037fce-fb7d-4d72-8f1c-c1dd191bbe17",
   "metadata": {},
   "source": [
    ".strip(), .split(), capitalize(), .join()"
   ]
  },
  {
   "cell_type": "code",
   "execution_count": null,
   "id": "4bd5c596-9ccf-4d82-833d-a4cdba507e20",
   "metadata": {},
   "outputs": [],
   "source": []
  }
 ],
 "metadata": {
  "kernelspec": {
   "display_name": "Python 3 (ipykernel)",
   "language": "python",
   "name": "python3"
  },
  "language_info": {
   "codemirror_mode": {
    "name": "ipython",
    "version": 3
   },
   "file_extension": ".py",
   "mimetype": "text/x-python",
   "name": "python",
   "nbconvert_exporter": "python",
   "pygments_lexer": "ipython3",
   "version": "3.11.9"
  }
 },
 "nbformat": 4,
 "nbformat_minor": 5
}
