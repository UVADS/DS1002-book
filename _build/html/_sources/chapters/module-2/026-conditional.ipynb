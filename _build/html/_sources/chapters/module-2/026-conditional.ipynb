{
 "cells": [
  {
   "cell_type": "markdown",
   "metadata": {},
   "source": [
    "# Control Structures\n",
    "\n",
    "- Conditional statements (if, elif, else)\n",
    "- Loops (for, while)\n",
    "- Break and continue statements"
   ]
  },
  {
   "cell_type": "markdown",
   "metadata": {
    "id": "SnRjJOWFV-CD"
   },
   "source": [
    "## I. Introduction\n",
    "\n",
    "Python includes structures to control the flow of a program:\n",
    "\n",
    "- `conditions` (if, else)\n",
    "- `loops`\n",
    "  - `while-loop`    \n",
    "  Execute statements while a condition is true\n",
    "  - `for-loop`    \n",
    "  Iterates over a iterable object (list, tuple, dict, set, string)\n",
    "  \n",
    "\n",
    "### Indentation\n",
    "\n",
    "Here things start to get interesting in a good way.\n",
    "\n",
    "To define control structures (and functional blocks of code in general), Python uses uses tabs -- spaces, actually --. This is incontrat to most languages most languages that use either characters like braces `{` and `}` (e.g. R, C, C++) or key words like `IF ... END IF` (e.g. Matlab, Fortran, Bash).\n",
    "\n",
    "**It is therefore imperative to understand and get a feel for indentation.**"
   ]
  },
  {
   "cell_type": "markdown",
   "metadata": {
    "id": "KsMWyr1zV-CF"
   },
   "source": [
    "## II. Conditions\n",
    "\n"
   ]
  },
  {
   "cell_type": "markdown",
   "metadata": {
    "id": "9s9bVhTzV-CG"
   },
   "source": [
    "### `if` and `else` can be used for conditional processing.\n",
    "\n",
    "`if` conditon:  \n",
    "&nbsp;&nbsp;&nbsp;&nbsp;expression"
   ]
  },
  {
   "cell_type": "code",
   "execution_count": 3,
   "metadata": {
    "id": "QjqwZG3qV-CG"
   },
   "outputs": [
    {
     "name": "stdout",
     "output_type": "stream",
     "text": [
      "2\n"
     ]
    }
   ],
   "source": [
    "val = -2\n",
    "\n",
    "if val >=0:\n",
    "    print(val)\n",
    "else:\n",
    "    print(-val)"
   ]
  },
  {
   "cell_type": "markdown",
   "metadata": {
    "id": "xS8VNpvrV-CI"
   },
   "source": [
    "### using `if`, `elif`\n",
    "\n",
    "`elif` is reached when the previous statements are not."
   ]
  },
  {
   "cell_type": "code",
   "execution_count": 4,
   "metadata": {
    "id": "2VbvD5ZHV-CI"
   },
   "outputs": [
    {
     "name": "stdout",
     "output_type": "stream",
     "text": [
      "bucket 3\n"
     ]
    }
   ],
   "source": [
    "val = -2\n",
    "\n",
    "if -10 < val < -5:\n",
    "    print('bucket 1')\n",
    "if -5 <= val < -2:\n",
    "    print('bucket 2')\n",
    "elif val == -2:\n",
    "    print('bucket 3')"
   ]
  },
  {
   "cell_type": "markdown",
   "metadata": {
    "id": "I738rQh0V-CI"
   },
   "source": [
    "### using `if`, `elif`, `else`\n",
    "\n",
    "`else` can be used as a catchall"
   ]
  },
  {
   "cell_type": "code",
   "execution_count": 5,
   "metadata": {
    "id": "orKYvBcTV-CI"
   },
   "outputs": [
    {
     "name": "stdout",
     "output_type": "stream",
     "text": [
      "bucket 4\n"
     ]
    }
   ],
   "source": [
    "val = 5\n",
    "\n",
    "if -10 < val < -5:\n",
    "    print('bucket 1')\n",
    "elif -5 <= val < -2:\n",
    "    print('bucket 2')\n",
    "elif val == -2:\n",
    "    print('bucket 3')\n",
    "else:\n",
    "    print('bucket 4')"
   ]
  },
  {
   "cell_type": "markdown",
   "metadata": {
    "id": "qsHE03OMV-CI"
   },
   "source": [
    "### writing `if` and `else` as one-liners"
   ]
  },
  {
   "cell_type": "code",
   "execution_count": 6,
   "metadata": {
    "id": "qNKbq_6WV-CI"
   },
   "outputs": [
    {
     "name": "stdout",
     "output_type": "stream",
     "text": [
      "odd\n"
     ]
    }
   ],
   "source": [
    "x = 3\n",
    "print('odd') if x % 2 == 1 else print('even')"
   ]
  },
  {
   "cell_type": "markdown",
   "metadata": {
    "id": "kCwRt1SyV-CI"
   },
   "source": [
    "Notice `==` for checking the condition  x % 2 == 1.\n",
    "\n",
    "both `if` and `else` are required. this breaks:"
   ]
  },
  {
   "cell_type": "code",
   "execution_count": 7,
   "metadata": {
    "id": "G0fY6YgYV-CI"
   },
   "outputs": [
    {
     "ename": "SyntaxError",
     "evalue": "expected 'else' after 'if' expression (471325368.py, line 1)",
     "output_type": "error",
     "traceback": [
      "\u001b[0;36m  Input \u001b[0;32mIn [7]\u001b[0;36m\u001b[0m\n\u001b[0;31m    print('odd') if x % 2 == 1\u001b[0m\n\u001b[0m    ^\u001b[0m\n\u001b[0;31mSyntaxError\u001b[0m\u001b[0;31m:\u001b[0m expected 'else' after 'if' expression\n"
     ]
    }
   ],
   "source": [
    "print('odd') if x % 2 == 1"
   ]
  },
  {
   "cell_type": "markdown",
   "metadata": {
    "id": "xcBGd6LhV-CJ"
   },
   "source": [
    "### Using multiple conditions\n",
    "\n",
    "Can build complex statements. Use parentheses carefully, to keep order of operations correct."
   ]
  },
  {
   "cell_type": "code",
   "execution_count": 8,
   "metadata": {
    "id": "pbr5ewzUV-CJ"
   },
   "outputs": [
    {
     "name": "stdout",
     "output_type": "stream",
     "text": [
      "bucket 2\n"
     ]
    }
   ],
   "source": [
    "val = 2\n",
    "\n",
    "if (-2 < val < 2) or (val > 10):\n",
    "    print('bucket 1')\n",
    "else:\n",
    "    print('bucket 2')"
   ]
  },
  {
   "cell_type": "markdown",
   "metadata": {},
   "source": [
    "Let's have a look at the following example... Could anybody tell why the obtained result?"
   ]
  },
  {
   "cell_type": "code",
   "execution_count": 12,
   "metadata": {
    "id": "Rs898QdRV-CJ"
   },
   "outputs": [
    {
     "name": "stdout",
     "output_type": "stream",
     "text": [
      "bucket 1\n"
     ]
    }
   ],
   "source": [
    "val = 2\n",
    "\n",
    "if (-2 < val) < 2 or val > 10:\n",
    "    print('bucket 1')\n",
    "else:\n",
    "    print('bucket 2')"
   ]
  },
  {
   "cell_type": "markdown",
   "metadata": {
    "id": "KtYlyiCaV-CJ"
   },
   "source": [
    "## III. Loops"
   ]
  },
  {
   "cell_type": "markdown",
   "metadata": {
    "id": "SE73cQEHV-CJ"
   },
   "source": [
    "### `while-loop`  \n",
    "\n",
    "`while` condition :  \n",
    "&nbsp;&nbsp;&nbsp;&nbsp;expression  \n",
    "\n",
    "* Numerically calculating model\n",
    "* 'repeating action until condition is met'\n",
    "\n",
    "\n",
    "What does this print?"
   ]
  },
  {
   "cell_type": "code",
   "execution_count": 13,
   "metadata": {
    "id": "YVA3_jaaV-CJ"
   },
   "outputs": [
    {
     "name": "stdout",
     "output_type": "stream",
     "text": [
      "16\n"
     ]
    }
   ],
   "source": [
    "ix = 1\n",
    "while ix < 10:\n",
    "    ix = ix * 2\n",
    "print(ix)"
   ]
  },
  {
   "cell_type": "markdown",
   "metadata": {
    "id": "0otivW24V-CJ"
   },
   "source": [
    "### `break` - exit the loop\n",
    "\n",
    "sometimes you want to quit the loop early, if some condition is met.  \n",
    "uses `if-statement`"
   ]
  },
  {
   "cell_type": "code",
   "execution_count": 14,
   "metadata": {
    "id": "BBjqYvVKV-CJ"
   },
   "outputs": [
    {
     "name": "stdout",
     "output_type": "stream",
     "text": [
      "4\n"
     ]
    }
   ],
   "source": [
    "ix = 1\n",
    "while ix < 10:\n",
    "    ix = ix * 2\n",
    "    if ix == 4:\n",
    "        break\n",
    "print(ix)"
   ]
  },
  {
   "cell_type": "markdown",
   "metadata": {
    "id": "kdFoqU6mV-CJ"
   },
   "source": [
    "The `break` causes the loop to end early"
   ]
  },
  {
   "cell_type": "markdown",
   "metadata": {
    "id": "WMuVyo3QV-CJ"
   },
   "source": [
    "### `continue` - stop the current iteration\n",
    "\n",
    "sometimes you want to introduce skipping behavior in the loop.  \n",
    "uses `if-statement`"
   ]
  },
  {
   "cell_type": "code",
   "execution_count": 15,
   "metadata": {
    "id": "Edlyc1d1V-CJ"
   },
   "outputs": [
    {
     "name": "stdout",
     "output_type": "stream",
     "text": [
      "2\n",
      "skipping 4...\n",
      "8\n",
      "16\n"
     ]
    }
   ],
   "source": [
    "ix = 1\n",
    "while ix < 10:\n",
    "    ix = ix * 2\n",
    "    if ix == 4:\n",
    "        print('skipping 4...')\n",
    "        continue\n",
    "    print(ix)"
   ]
  },
  {
   "cell_type": "markdown",
   "metadata": {
    "id": "lhue27GjV-CJ"
   },
   "source": [
    "The `continue` causes the loop to skip printing 4"
   ]
  },
  {
   "cell_type": "markdown",
   "metadata": {
    "id": "MNSkqsHOV-CJ"
   },
   "source": [
    "### `for` loop\n",
    "\n",
    "`for` var in `sequence` :  \n",
    "&nbsp;&nbsp;&nbsp;&nbsp;expression\n",
    "\n",
    "* 'for each var in seq, execute the expression'\n",
    "* iterate over an iterable\n",
    "\n",
    "<div class=\"alert alert-info\"> \n",
    "<b>Important:</b> A sequence is either a list, a tuple, a dictionary, a set, or a string.\n",
    "</div>"
   ]
  },
  {
   "cell_type": "code",
   "execution_count": 17,
   "metadata": {
    "id": "9so2ptIKV-CJ"
   },
   "outputs": [
    {
     "name": "stdout",
     "output_type": "stream",
     "text": [
      "bilbao\n",
      "valencia\n",
      "bari\n",
      "cville\n",
      "pitt\n"
     ]
    }
   ],
   "source": [
    "cities = [\"Bilbao\", \"Valencia\", \"Bari\", \"Cville\", \"PITT\"]\n",
    "\n",
    "# See how we loop through this list\n",
    "for city in cities:\n",
    "    city = city.lower()\n",
    "    print(city)"
   ]
  },
  {
   "cell_type": "markdown",
   "metadata": {
    "id": "PNPUKFPxV-CQ"
   },
   "source": [
    "quit early if `Bari` reached, using **break**"
   ]
  },
  {
   "cell_type": "code",
   "execution_count": 18,
   "metadata": {
    "id": "r3oriMbzV-CR"
   },
   "outputs": [
    {
     "name": "stdout",
     "output_type": "stream",
     "text": [
      "bilbao\n",
      "valencia\n"
     ]
    }
   ],
   "source": [
    "cities = [\"Bilbao\", \"Valencia\", \"Bari\", \"Cville\", \"PITT\"]\n",
    "\n",
    "for city in cities:\n",
    "    if city == 'Bari':\n",
    "        break\n",
    "    city = city.lower()\n",
    "    print(city)"
   ]
  },
  {
   "cell_type": "markdown",
   "metadata": {
    "id": "9Xtuss1dV-CR"
   },
   "source": [
    "skip over `Bari` if reached, using **continue**"
   ]
  },
  {
   "cell_type": "code",
   "execution_count": 20,
   "metadata": {
    "id": "0q3aw75KV-CR"
   },
   "outputs": [
    {
     "name": "stdout",
     "output_type": "stream",
     "text": [
      "bilbao\n",
      "valencia\n",
      "cville\n",
      "pitt\n"
     ]
    }
   ],
   "source": [
    "cities = [\"Bilbao\", \"Valencia\", \"Bari\", \"Cville\", \"PITT\"]\n",
    "\n",
    "for city in cities:\n",
    "    if city == 'Bari':\n",
    "        continue\n",
    "    city = city.lower()\n",
    "    print(city)"
   ]
  },
  {
   "cell_type": "markdown",
   "metadata": {},
   "source": [
    "Now let's loop through a dictionary, searchin by its key"
   ]
  },
  {
   "cell_type": "code",
   "execution_count": 13,
   "metadata": {},
   "outputs": [
    {
     "name": "stdout",
     "output_type": "stream",
     "text": [
      "Nothing here\n",
      "Nothing here\n",
      "Nothing here\n",
      "Nothing here\n",
      "Nothing here\n",
      "I found some kumquats. It has a value of 6\n",
      "Nothing here\n"
     ]
    }
   ],
   "source": [
    "things = {\"apples\": 1, \"bananas\": 2, \"grapes\": 3, \"mangos\": 4, \"blueberries\": 5, \"kumquats\": 6, \"kiwis\": 7}\n",
    "lookfor = \"kumquats\"\n",
    "\n",
    "for t in things.keys():\n",
    "    if (t == lookfor):\n",
    "        # Do something\n",
    "        print(\"I found some \" + lookfor + \". It has a value of \" + str(things[t]))\n",
    "    else:\n",
    "        print(\"Nothing here\")\n",
    "        pass"
   ]
  },
  {
   "cell_type": "markdown",
   "metadata": {},
   "source": [
    "Here looping throuhg a tuple:"
   ]
  },
  {
   "cell_type": "code",
   "execution_count": 2,
   "metadata": {},
   "outputs": [
    {
     "name": "stdout",
     "output_type": "stream",
     "text": [
      "apple\n",
      "banana\n",
      "cherry\n"
     ]
    }
   ],
   "source": [
    "thistuple = (\"apple\", \"banana\", \"cherry\")\n",
    "for i in thistuple:\n",
    "  print(i)"
   ]
  },
  {
   "cell_type": "markdown",
   "metadata": {
    "id": "wAMDvhGvV-CR"
   },
   "source": [
    "<div class=\"alert alert-warning\"> \n",
    "    <center><b>WHILE</b> vs <b>FOR</b></center>\n",
    "\n",
    "- `For` loops are used to loop through a list of values or an operation in which the number of iterations is **known** in advance.\n",
    "\n",
    "- `While` loops are when **you don't know** how many interations it will take -- you are depending on some condition to be met. It is possible for while loops to be unending, for example:\n",
    "<pre>\n",
    "while 1:\n",
    "    print(\"This is so annoying\")\n",
    "</pre>\n",
    "</div>"
   ]
  },
  {
   "cell_type": "markdown",
   "metadata": {},
   "source": [
    "## IV. Some useful functions with loops\n",
    "\n",
    "The following are a couple of super useful functions I personally use with loops almost every day."
   ]
  },
  {
   "cell_type": "markdown",
   "metadata": {},
   "source": [
    "### `zip()`\n",
    "\n",
    "So far we have been looping through single list with values... But what if you have several lists, and want to iterate over them in parallel? `zip` can do this for you:"
   ]
  },
  {
   "cell_type": "code",
   "execution_count": 3,
   "metadata": {},
   "outputs": [
    {
     "name": "stdout",
     "output_type": "stream",
     "text": [
      "Bilbao belongs to Spain\n",
      "Valencia belongs to Spain\n",
      "Bari belongs to Italy\n",
      "Cville belongs to USA\n",
      "PITT belongs to USA\n"
     ]
    }
   ],
   "source": [
    "cities = [\"Bilbao\", \"Valencia\", \"Bari\", \"Cville\", \"PITT\"]\n",
    "countries = [\"Spain\", \"Spain\", \"Italy\", \"USA\", \"USA\"]\n",
    "\n",
    "for city, country in zip(cities, countries):\n",
    "    print(f\"{city} belongs to {country}\")"
   ]
  },
  {
   "cell_type": "code",
   "execution_count": 4,
   "metadata": {},
   "outputs": [
    {
     "data": {
      "text/plain": [
       "[('Bilbao', 'Spain'),\n",
       " ('Valencia', 'Spain'),\n",
       " ('Bari', 'Italy'),\n",
       " ('Cville', 'USA'),\n",
       " ('PITT', 'USA')]"
      ]
     },
     "execution_count": 4,
     "metadata": {},
     "output_type": "execute_result"
    }
   ],
   "source": [
    "# zip produces tuples with an item from each list.\n",
    "list(zip(cities, countries))"
   ]
  },
  {
   "cell_type": "markdown",
   "metadata": {},
   "source": [
    "### `enumerate()`\n",
    "\n",
    "This is another useful function when we want to keep track of the index in each element of the list we are iterating over. Maybe you can't see right now the utility of this, but believe me, it is!"
   ]
  },
  {
   "cell_type": "code",
   "execution_count": 5,
   "metadata": {},
   "outputs": [
    {
     "name": "stdout",
     "output_type": "stream",
     "text": [
      "Bilbao has index 0\n",
      "Valencia has index 1\n",
      "Bari has index 2\n",
      "Cville has index 3\n",
      "PITT has index 4\n"
     ]
    }
   ],
   "source": [
    "for index, city in enumerate(cities):\n",
    "    print(f\"{city} has index {index}\")"
   ]
  },
  {
   "cell_type": "code",
   "execution_count": 6,
   "metadata": {},
   "outputs": [
    {
     "data": {
      "text/plain": [
       "['Bilbao', 'Valencia', 'Bari', 'Charlottesville', 'PITT']"
      ]
     },
     "execution_count": 6,
     "metadata": {},
     "output_type": "execute_result"
    }
   ],
   "source": [
    "# Change Cville to Charlottesville by accessing its index\n",
    "for index, city in enumerate(cities):\n",
    "    if city == \"Cville\":\n",
    "        cities[index] = \"Charlottesville\"\n",
    "        \n",
    "cities"
   ]
  },
  {
   "cell_type": "code",
   "execution_count": 7,
   "metadata": {},
   "outputs": [
    {
     "name": "stdout",
     "output_type": "stream",
     "text": [
      "Bilbao belongs to Spain. Both elements are in the 0 position in their list\n",
      "Valencia belongs to Spain. Both elements are in the 1 position in their list\n",
      "Bari belongs to Italy. Both elements are in the 2 position in their list\n",
      "Charlottesville belongs to USA. Both elements are in the 3 position in their list\n",
      "PITT belongs to USA. Both elements are in the 4 position in their list\n"
     ]
    }
   ],
   "source": [
    "# You can even combine enumerate and zip\n",
    "for index, (city, country) in enumerate(zip(cities, countries)):\n",
    "    print(f\"{city} belongs to {country}. Both elements are in the {index} position in their list\")"
   ]
  },
  {
   "cell_type": "code",
   "execution_count": 8,
   "metadata": {},
   "outputs": [
    {
     "ename": "ValueError",
     "evalue": "not enough values to unpack (expected 3, got 2)",
     "output_type": "error",
     "traceback": [
      "\u001b[0;31m---------------------------------------------------------------------------\u001b[0m",
      "\u001b[0;31mValueError\u001b[0m                                Traceback (most recent call last)",
      "Cell \u001b[0;32mIn[8], line 2\u001b[0m\n\u001b[1;32m      1\u001b[0m \u001b[38;5;66;03m# Look at the parenthesis above. First it goes enumerate, and then zip.\u001b[39;00m\n\u001b[0;32m----> 2\u001b[0m \u001b[38;5;28;01mfor\u001b[39;00m index, city, country \u001b[38;5;129;01min\u001b[39;00m \u001b[38;5;28menumerate\u001b[39m(\u001b[38;5;28mzip\u001b[39m(cities, countries)):\n\u001b[1;32m      3\u001b[0m     \u001b[38;5;28mprint\u001b[39m(\u001b[38;5;124mf\u001b[39m\u001b[38;5;124m\"\u001b[39m\u001b[38;5;132;01m{\u001b[39;00mcity\u001b[38;5;132;01m}\u001b[39;00m\u001b[38;5;124m belongs to \u001b[39m\u001b[38;5;132;01m{\u001b[39;00mcountry\u001b[38;5;132;01m}\u001b[39;00m\u001b[38;5;124m. Both elements are in the \u001b[39m\u001b[38;5;132;01m{\u001b[39;00mindex\u001b[38;5;132;01m}\u001b[39;00m\u001b[38;5;124m position in their list\u001b[39m\u001b[38;5;124m\"\u001b[39m)\n",
      "\u001b[0;31mValueError\u001b[0m: not enough values to unpack (expected 3, got 2)"
     ]
    }
   ],
   "source": [
    "# Look at the parenthesis above. First it goes enumerate, and then zip.\n",
    "for index, city, country in enumerate(zip(cities, countries)):\n",
    "    print(f\"{city} belongs to {country}. Both elements are in the {index} position in their list\")"
   ]
  }
 ],
 "metadata": {
  "anaconda-cloud": {},
  "colab": {
   "include_colab_link": true,
   "provenance": []
  },
  "kernelspec": {
   "display_name": "Python 3 (ipykernel)",
   "language": "python",
   "name": "python3"
  },
  "language_info": {
   "codemirror_mode": {
    "name": "ipython",
    "version": 3
   },
   "file_extension": ".py",
   "mimetype": "text/x-python",
   "name": "python",
   "nbconvert_exporter": "python",
   "pygments_lexer": "ipython3",
   "version": "3.11.9"
  },
  "vscode": {
   "interpreter": {
    "hash": "31f2aee4e71d21fbe5cf8b01ff0e069b9275f58929596ceb00d14d90e3e16cd6"
   }
  }
 },
 "nbformat": 4,
 "nbformat_minor": 4
}
