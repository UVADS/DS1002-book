{
 "cells": [
  {
   "cell_type": "markdown",
   "id": "a72ce3cb",
   "metadata": {},
   "source": [
    "# Functions\n",
    "\n",
    "- Defining functions\n",
    "- Calling functions\n",
    "- Parameters and arguments\n",
    "- Return values\n",
    "- Lambda functions\n",
    "- Scope and lifetime of variables"
   ]
  },
  {
   "cell_type": "markdown",
   "id": "e5a277cd",
   "metadata": {
    "id": "pwrqpQn0iYhf"
   },
   "source": [
    "### PREREQUISITES\n",
    "- data types\n",
    "- variables\n",
    "- `if` statement\n",
    "- conditional operators\n",
    "- `list comprehension` (not essential here)\n",
    "\n",
    "\n",
    "### SOURCES\n",
    "- Python built-in functions  \n",
    "https://docs.python.org/3/library/functions.html\n",
    "\n",
    "\n",
    "- Some good function examples and details  \n",
    "https://www.w3schools.com/python/python_functions.asp\n",
    "\n",
    "\n",
    "- Default arguments  \n",
    "https://www.geeksforgeeks.org/default-arguments-in-python/  \n",
    "\n",
    "\n",
    "- Details on the function `return` statement  \n",
    "https://realpython.com/python-return-statement/#understanding-the-python-return-statement\n",
    "\n",
    "\n",
    "- Global versus Local Variables  \n",
    "https://www.geeksforgeeks.org/global-local-variables-python/?ref=lbp\n",
    "\n",
    "\n",
    "### OBJECTIVES\n",
    "- Explain the benefits of functions\n",
    "- Illustrate how to use built-in functions\n",
    "- Illustrate how to create and use your own (user-defined) functions\n",
    "- Demonstrate the scope and lifetime of a variable\n",
    "- Illustrate global and local nature of variables through functions\n",
    "- Demonstrate function parameter use\n",
    "- Provide recommendations on how to create and document functions\n",
    "- Show how to print and write docstrings\n",
    "\n",
    "\n",
    "### CONCEPTS\n",
    "\n",
    "- functions\n",
    "- built-in functions\n",
    "- user-defined functions\n",
    "- variable scope\n",
    "- global versus local variables\n",
    "- default arguments\n",
    "- *args\n",
    "- function call\n",
    "- docstring\n",
    "\n",
    "---\n",
    "\n",
    "## I. Introduction\n",
    "\n",
    "Functions take input, perform a specific task and, optionally, produce an output. They contain a block of code to do their work.  \n",
    "\n",
    "Function inputs are called both `parameters` and `arguments`.\n",
    "\n",
    "Functions can return a single value, multiple values, or even no value at.\n",
    "\n",
    "Why do we use functions? \n",
    "\n",
    "- **Code economy**\n",
    "\n",
    "With functions, you can keep your code **short** and **concise**. Once a function is defined, it can be used as many times as needed, which is great to not need to write the same code over and over. In addition, functions help your code be more **readable**. For example, if you give a function a well-chosen name, anyone could read your code, and already infer what it does.\n",
    "\n",
    "Other forms of code economy is through modules and packages, which is you a way of grouping your code (e.g. functions).\n",
    "\n",
    "- **Parametrization**\n",
    "\n",
    "Functions accept parameters. Therefore, one can study different function’s behaviors by changing the different parameters.\n",
    "\n",
    "- **Production**\n",
    "\n",
    "We can use functions and the fact that they return one or multiple values for production."
   ]
  },
  {
   "cell_type": "markdown",
   "id": "1ad4dde7",
   "metadata": {},
   "source": [
    "### Built-in functions"
   ]
  },
  {
   "cell_type": "markdown",
   "id": "e8b51ee6",
   "metadata": {},
   "source": [
    "Python provides many built-in functions. You can find the list here: [Python built-in functions](https://docs.python.org/3/library/functions.html)  \n",
    "\n",
    "We have already seen an example of a built-in function: `print()`\n",
    "\n",
    "Another example is `bool()`, which takes an argument (e.g. a variable) and returns True or False"
   ]
  },
  {
   "cell_type": "code",
   "execution_count": 1,
   "id": "53d8dfb8",
   "metadata": {
    "id": "R0SHTW08iYhg"
   },
   "outputs": [
    {
     "data": {
      "text/plain": [
       "True"
      ]
     },
     "execution_count": 1,
     "metadata": {},
     "output_type": "execute_result"
    }
   ],
   "source": [
    "# set a variable and pass into a conditional statement\n",
    "\n",
    "x = 3\n",
    "bool(x < 4)"
   ]
  },
  {
   "cell_type": "code",
   "execution_count": 2,
   "id": "bbf61df8",
   "metadata": {
    "id": "7sw_0hnHiYhg"
   },
   "outputs": [
    {
     "data": {
      "text/plain": [
       "False"
      ]
     },
     "execution_count": 2,
     "metadata": {},
     "output_type": "execute_result"
    }
   ],
   "source": [
    "bool(x >= 4)"
   ]
  },
  {
   "cell_type": "code",
   "execution_count": 3,
   "id": "5f213aaf",
   "metadata": {
    "id": "Chfh1ORHiYhh"
   },
   "outputs": [
    {
     "name": "stdout",
     "output_type": "stream",
     "text": [
      "Help on class bool in module builtins:\n",
      "\n",
      "class bool(int)\n",
      " |  bool(x) -> bool\n",
      " |  \n",
      " |  Returns True when the argument x is true, False otherwise.\n",
      " |  The builtins True and False are the only two instances of the class bool.\n",
      " |  The class bool is a subclass of the class int, and cannot be subclassed.\n",
      " |  \n",
      " |  Method resolution order:\n",
      " |      bool\n",
      " |      int\n",
      " |      object\n",
      " |  \n",
      " |  Methods defined here:\n",
      " |  \n",
      " |  __and__(self, value, /)\n",
      " |      Return self&value.\n",
      " |  \n",
      " |  __or__(self, value, /)\n",
      " |      Return self|value.\n",
      " |  \n",
      " |  __rand__(self, value, /)\n",
      " |      Return value&self.\n",
      " |  \n",
      " |  __repr__(self, /)\n",
      " |      Return repr(self).\n",
      " |  \n",
      " |  __ror__(self, value, /)\n",
      " |      Return value|self.\n",
      " |  \n",
      " |  __rxor__(self, value, /)\n",
      " |      Return value^self.\n",
      " |  \n",
      " |  __xor__(self, value, /)\n",
      " |      Return self^value.\n",
      " |  \n",
      " |  ----------------------------------------------------------------------\n",
      " |  Static methods defined here:\n",
      " |  \n",
      " |  __new__(*args, **kwargs)\n",
      " |      Create and return a new object.  See help(type) for accurate signature.\n",
      " |  \n",
      " |  ----------------------------------------------------------------------\n",
      " |  Methods inherited from int:\n",
      " |  \n",
      " |  __abs__(self, /)\n",
      " |      abs(self)\n",
      " |  \n",
      " |  __add__(self, value, /)\n",
      " |      Return self+value.\n",
      " |  \n",
      " |  __bool__(self, /)\n",
      " |      True if self else False\n",
      " |  \n",
      " |  __ceil__(...)\n",
      " |      Ceiling of an Integral returns itself.\n",
      " |  \n",
      " |  __divmod__(self, value, /)\n",
      " |      Return divmod(self, value).\n",
      " |  \n",
      " |  __eq__(self, value, /)\n",
      " |      Return self==value.\n",
      " |  \n",
      " |  __float__(self, /)\n",
      " |      float(self)\n",
      " |  \n",
      " |  __floor__(...)\n",
      " |      Flooring an Integral returns itself.\n",
      " |  \n",
      " |  __floordiv__(self, value, /)\n",
      " |      Return self//value.\n",
      " |  \n",
      " |  __format__(self, format_spec, /)\n",
      " |      Default object formatter.\n",
      " |  \n",
      " |  __ge__(self, value, /)\n",
      " |      Return self>=value.\n",
      " |  \n",
      " |  __getattribute__(self, name, /)\n",
      " |      Return getattr(self, name).\n",
      " |  \n",
      " |  __getnewargs__(self, /)\n",
      " |  \n",
      " |  __gt__(self, value, /)\n",
      " |      Return self>value.\n",
      " |  \n",
      " |  __hash__(self, /)\n",
      " |      Return hash(self).\n",
      " |  \n",
      " |  __index__(self, /)\n",
      " |      Return self converted to an integer, if self is suitable for use as an index into a list.\n",
      " |  \n",
      " |  __int__(self, /)\n",
      " |      int(self)\n",
      " |  \n",
      " |  __invert__(self, /)\n",
      " |      ~self\n",
      " |  \n",
      " |  __le__(self, value, /)\n",
      " |      Return self<=value.\n",
      " |  \n",
      " |  __lshift__(self, value, /)\n",
      " |      Return self<<value.\n",
      " |  \n",
      " |  __lt__(self, value, /)\n",
      " |      Return self<value.\n",
      " |  \n",
      " |  __mod__(self, value, /)\n",
      " |      Return self%value.\n",
      " |  \n",
      " |  __mul__(self, value, /)\n",
      " |      Return self*value.\n",
      " |  \n",
      " |  __ne__(self, value, /)\n",
      " |      Return self!=value.\n",
      " |  \n",
      " |  __neg__(self, /)\n",
      " |      -self\n",
      " |  \n",
      " |  __pos__(self, /)\n",
      " |      +self\n",
      " |  \n",
      " |  __pow__(self, value, mod=None, /)\n",
      " |      Return pow(self, value, mod).\n",
      " |  \n",
      " |  __radd__(self, value, /)\n",
      " |      Return value+self.\n",
      " |  \n",
      " |  __rdivmod__(self, value, /)\n",
      " |      Return divmod(value, self).\n",
      " |  \n",
      " |  __rfloordiv__(self, value, /)\n",
      " |      Return value//self.\n",
      " |  \n",
      " |  __rlshift__(self, value, /)\n",
      " |      Return value<<self.\n",
      " |  \n",
      " |  __rmod__(self, value, /)\n",
      " |      Return value%self.\n",
      " |  \n",
      " |  __rmul__(self, value, /)\n",
      " |      Return value*self.\n",
      " |  \n",
      " |  __round__(...)\n",
      " |      Rounding an Integral returns itself.\n",
      " |      \n",
      " |      Rounding with an ndigits argument also returns an integer.\n",
      " |  \n",
      " |  __rpow__(self, value, mod=None, /)\n",
      " |      Return pow(value, self, mod).\n",
      " |  \n",
      " |  __rrshift__(self, value, /)\n",
      " |      Return value>>self.\n",
      " |  \n",
      " |  __rshift__(self, value, /)\n",
      " |      Return self>>value.\n",
      " |  \n",
      " |  __rsub__(self, value, /)\n",
      " |      Return value-self.\n",
      " |  \n",
      " |  __rtruediv__(self, value, /)\n",
      " |      Return value/self.\n",
      " |  \n",
      " |  __sizeof__(self, /)\n",
      " |      Returns size in memory, in bytes.\n",
      " |  \n",
      " |  __sub__(self, value, /)\n",
      " |      Return self-value.\n",
      " |  \n",
      " |  __truediv__(self, value, /)\n",
      " |      Return self/value.\n",
      " |  \n",
      " |  __trunc__(...)\n",
      " |      Truncating an Integral returns itself.\n",
      " |  \n",
      " |  as_integer_ratio(self, /)\n",
      " |      Return integer ratio.\n",
      " |      \n",
      " |      Return a pair of integers, whose ratio is exactly equal to the original int\n",
      " |      and with a positive denominator.\n",
      " |      \n",
      " |      >>> (10).as_integer_ratio()\n",
      " |      (10, 1)\n",
      " |      >>> (-10).as_integer_ratio()\n",
      " |      (-10, 1)\n",
      " |      >>> (0).as_integer_ratio()\n",
      " |      (0, 1)\n",
      " |  \n",
      " |  bit_count(self, /)\n",
      " |      Number of ones in the binary representation of the absolute value of self.\n",
      " |      \n",
      " |      Also known as the population count.\n",
      " |      \n",
      " |      >>> bin(13)\n",
      " |      '0b1101'\n",
      " |      >>> (13).bit_count()\n",
      " |      3\n",
      " |  \n",
      " |  bit_length(self, /)\n",
      " |      Number of bits necessary to represent self in binary.\n",
      " |      \n",
      " |      >>> bin(37)\n",
      " |      '0b100101'\n",
      " |      >>> (37).bit_length()\n",
      " |      6\n",
      " |  \n",
      " |  conjugate(...)\n",
      " |      Returns self, the complex conjugate of any int.\n",
      " |  \n",
      " |  to_bytes(self, /, length=1, byteorder='big', *, signed=False)\n",
      " |      Return an array of bytes representing an integer.\n",
      " |      \n",
      " |      length\n",
      " |        Length of bytes object to use.  An OverflowError is raised if the\n",
      " |        integer is not representable with the given number of bytes.  Default\n",
      " |        is length 1.\n",
      " |      byteorder\n",
      " |        The byte order used to represent the integer.  If byteorder is 'big',\n",
      " |        the most significant byte is at the beginning of the byte array.  If\n",
      " |        byteorder is 'little', the most significant byte is at the end of the\n",
      " |        byte array.  To request the native byte order of the host system, use\n",
      " |        `sys.byteorder' as the byte order value.  Default is to use 'big'.\n",
      " |      signed\n",
      " |        Determines whether two's complement is used to represent the integer.\n",
      " |        If signed is False and a negative integer is given, an OverflowError\n",
      " |        is raised.\n",
      " |  \n",
      " |  ----------------------------------------------------------------------\n",
      " |  Class methods inherited from int:\n",
      " |  \n",
      " |  from_bytes(bytes, byteorder='big', *, signed=False)\n",
      " |      Return the integer represented by the given array of bytes.\n",
      " |      \n",
      " |      bytes\n",
      " |        Holds the array of bytes to convert.  The argument must either\n",
      " |        support the buffer protocol or be an iterable object producing bytes.\n",
      " |        Bytes and bytearray are examples of built-in objects that support the\n",
      " |        buffer protocol.\n",
      " |      byteorder\n",
      " |        The byte order used to represent the integer.  If byteorder is 'big',\n",
      " |        the most significant byte is at the beginning of the byte array.  If\n",
      " |        byteorder is 'little', the most significant byte is at the end of the\n",
      " |        byte array.  To request the native byte order of the host system, use\n",
      " |        `sys.byteorder' as the byte order value.  Default is to use 'big'.\n",
      " |      signed\n",
      " |        Indicates whether two's complement is used to represent the integer.\n",
      " |  \n",
      " |  ----------------------------------------------------------------------\n",
      " |  Data descriptors inherited from int:\n",
      " |  \n",
      " |  denominator\n",
      " |      the denominator of a rational number in lowest terms\n",
      " |  \n",
      " |  imag\n",
      " |      the imaginary part of a complex number\n",
      " |  \n",
      " |  numerator\n",
      " |      the numerator of a rational number in lowest terms\n",
      " |  \n",
      " |  real\n",
      " |      the real part of a complex number\n",
      "\n"
     ]
    }
   ],
   "source": [
    "help(bool)"
   ]
  },
  {
   "cell_type": "markdown",
   "id": "70809c2d",
   "metadata": {
    "id": "ysKcSG9miYhh"
   },
   "source": [
    "Let's get more elaborate, defining x to be a list of integers. This breaks."
   ]
  },
  {
   "cell_type": "code",
   "execution_count": 4,
   "id": "f6419666",
   "metadata": {
    "id": "EECj55dUiYhh"
   },
   "outputs": [
    {
     "ename": "TypeError",
     "evalue": "'>=' not supported between instances of 'list' and 'int'",
     "output_type": "error",
     "traceback": [
      "\u001b[0;31m---------------------------------------------------------------------------\u001b[0m",
      "\u001b[0;31mTypeError\u001b[0m                                 Traceback (most recent call last)",
      "Cell \u001b[0;32mIn[4], line 3\u001b[0m\n\u001b[1;32m      1\u001b[0m x \u001b[38;5;241m=\u001b[39m [\u001b[38;5;241m3\u001b[39m,\u001b[38;5;241m4\u001b[39m]        \u001b[38;5;66;03m# define a list of integers\u001b[39;00m\n\u001b[1;32m      2\u001b[0m thr \u001b[38;5;241m=\u001b[39m \u001b[38;5;241m4\u001b[39m          \u001b[38;5;66;03m# define an integer\u001b[39;00m\n\u001b[0;32m----> 3\u001b[0m \u001b[38;5;28mbool\u001b[39m(x \u001b[38;5;241m>\u001b[39m\u001b[38;5;241m=\u001b[39m thr)\n",
      "\u001b[0;31mTypeError\u001b[0m: '>=' not supported between instances of 'list' and 'int'"
     ]
    }
   ],
   "source": [
    "x = [3,4]        # define a list of integers\n",
    "thr = 4          # define an integer\n",
    "bool(x >= thr)   # try to compare each value to an integer"
   ]
  },
  {
   "cell_type": "markdown",
   "id": "a4b9af59",
   "metadata": {
    "id": "LPibi0y0iYhh"
   },
   "source": [
    "This broke because the operator doesn't support the comparison.  "
   ]
  },
  {
   "cell_type": "markdown",
   "id": "535f1089",
   "metadata": {
    "id": "ZxNz1zlQiYhh"
   },
   "source": [
    "## II. Creating Functions\n",
    "\n",
    "Let's write a function to compare a list of values against a threshold."
   ]
  },
  {
   "cell_type": "code",
   "execution_count": 7,
   "id": "27e84754",
   "metadata": {
    "id": "A-pPSAWpiYhh"
   },
   "outputs": [],
   "source": [
    "def vals_greater_than_or_equal_to_threshold(vals, thresh):\n",
    "    '''\n",
    "    PURPOSE: Given a list of values, compare each value against a threshold\n",
    "\n",
    "    INPUTS\n",
    "    vals    list of ints or floats\n",
    "    thresh  int or float\n",
    "\n",
    "    OUTPUT\n",
    "    bools  list of booleans\n",
    "    '''\n",
    "\n",
    "    bools = [val >= thresh for val in vals]\n",
    "    return bools"
   ]
  },
  {
   "cell_type": "markdown",
   "id": "72c39f46",
   "metadata": {
    "id": "fKh4CY2GiYhh"
   },
   "source": [
    "**Let's break down the components:**\n",
    "- the function definition starts with `def`, followed by name, one or more arguments in parenthesis, and then a colon.\n",
    "- next comes a `docstring` to provide annotation\n",
    "- the function body follows\n",
    "- lastly is a `return` statement\n",
    "\n",
    "The `function call` allows for function use. It consists of function name and required arguments:\n",
    "\n",
    "`vals_greater_than_or_equal_to_threshold(arg1, arg2)` where `arg1`, `arg2` are arbitrary names."
   ]
  },
  {
   "cell_type": "markdown",
   "id": "f6a3758b",
   "metadata": {
    "id": "gVvykZQviYhh"
   },
   "source": [
    "#### docstring\n",
    "\n",
    "- A `docstring` is a string that occurs as first statement in module, function, class, or method definition\n",
    "- Saved in `__doc__` attribute\n",
    "- Needs to be indented\n",
    "- ``` '''enclosed in triple quotes like this''' ```\n",
    "\n",
    "**We gave this function a descriptive docstring to:**\n",
    "\n",
    "- explain its purpose\n",
    "- name each input and output, and give their data types"
   ]
  },
  {
   "cell_type": "code",
   "execution_count": 9,
   "id": "2cba0c04",
   "metadata": {
    "id": "_yAjwpBK6O1u"
   },
   "outputs": [
    {
     "name": "stdout",
     "output_type": "stream",
     "text": [
      "bool(x) -> bool\n",
      "\n",
      "Returns True when the argument x is true, False otherwise.\n",
      "The builtins True and False are the only two instances of the class bool.\n",
      "The class bool is a subclass of the class int, and cannot be subclassed.\n"
     ]
    }
   ],
   "source": [
    "# Call the docstring to read about a function\n",
    "print(bool.__doc__)"
   ]
  },
  {
   "cell_type": "markdown",
   "id": "a06e91c2",
   "metadata": {
    "id": "7jv-faHxiYhh"
   },
   "source": [
    "---"
   ]
  },
  {
   "cell_type": "markdown",
   "id": "6106a68e",
   "metadata": {
    "id": "pktQhKifiYhh"
   },
   "source": [
    "The function body used a `list comprehension` for the compare:\n",
    "\n",
    "`[val >= thresh for val in vals]`\n",
    "\n",
    "**Let's test our function**"
   ]
  },
  {
   "cell_type": "code",
   "execution_count": 10,
   "id": "c438fdb9",
   "metadata": {
    "id": "8AhHzhMgiYhh"
   },
   "outputs": [
    {
     "data": {
      "text/plain": [
       "[False, True]"
      ]
     },
     "execution_count": 10,
     "metadata": {},
     "output_type": "execute_result"
    }
   ],
   "source": [
    "# validate that it works for ints\n",
    "\n",
    "x = [3, 4]\n",
    "thr = 4\n",
    "\n",
    "vals_greater_than_or_equal_to_threshold(x, thr)"
   ]
  },
  {
   "cell_type": "code",
   "execution_count": 11,
   "id": "74a03d8d",
   "metadata": {
    "id": "COZGpj27iYhh"
   },
   "outputs": [
    {
     "data": {
      "text/plain": [
       "[False, True]"
      ]
     },
     "execution_count": 11,
     "metadata": {},
     "output_type": "execute_result"
    }
   ],
   "source": [
    "# validate that it works for floats\n",
    "\n",
    "x = [3.0, 4.2]\n",
    "thr = 4.2\n",
    "\n",
    "vals_greater_than_or_equal_to_threshold(x, thr)"
   ]
  },
  {
   "cell_type": "markdown",
   "id": "b0f5fcb8",
   "metadata": {
    "id": "GeWMQNEsiYhh"
   },
   "source": [
    "This gives correct results and does exactly what we want.  "
   ]
  },
  {
   "cell_type": "markdown",
   "id": "4a9adf81",
   "metadata": {
    "id": "in16N9rXiYhh"
   },
   "source": [
    "**print the docstring**"
   ]
  },
  {
   "cell_type": "code",
   "execution_count": 12,
   "id": "c6857a03",
   "metadata": {
    "id": "VKApgn6XiYhh"
   },
   "outputs": [
    {
     "name": "stdout",
     "output_type": "stream",
     "text": [
      "\n",
      "    PURPOSE: Given a list of values, compare each value against a threshold\n",
      "\n",
      "    INPUTS\n",
      "    vals    list of ints or floats\n",
      "    thresh  int or float\n",
      "\n",
      "    OUTPUT\n",
      "    bools  list of booleans\n",
      "    \n"
     ]
    }
   ],
   "source": [
    "print(vals_greater_than_or_equal_to_threshold.__doc__)"
   ]
  },
  {
   "cell_type": "markdown",
   "id": "ed9431c3",
   "metadata": {
    "id": "4f5zLGXbiYhh"
   },
   "source": [
    "**print the help**"
   ]
  },
  {
   "cell_type": "code",
   "execution_count": 13,
   "id": "96ae88e9",
   "metadata": {
    "id": "ro9qsgsaiYhh"
   },
   "outputs": [
    {
     "name": "stdout",
     "output_type": "stream",
     "text": [
      "Help on function vals_greater_than_or_equal_to_threshold in module __main__:\n",
      "\n",
      "vals_greater_than_or_equal_to_threshold(vals, thresh)\n",
      "    PURPOSE: Given a list of values, compare each value against a threshold\n",
      "    \n",
      "    INPUTS\n",
      "    vals    list of ints or floats\n",
      "    thresh  int or float\n",
      "    \n",
      "    OUTPUT\n",
      "    bools  list of booleans\n",
      "\n"
     ]
    }
   ],
   "source": [
    "help(vals_greater_than_or_equal_to_threshold)"
   ]
  },
  {
   "cell_type": "markdown",
   "id": "1ff9fe71",
   "metadata": {
    "id": "5RCRce0_iYhi"
   },
   "source": [
    "## III. Arguments and parameters\n",
    "\n",
    "**Functions need to be called with correct number of parameters.**\n",
    "  \n",
    "This function requires two params, but the function call includes only one param\n"
   ]
  },
  {
   "cell_type": "code",
   "execution_count": 1,
   "id": "50f4e553",
   "metadata": {
    "id": "fZUJYTBliYhi"
   },
   "outputs": [
    {
     "ename": "TypeError",
     "evalue": "fcn_bad_args() missing 1 required positional argument: 'y'",
     "output_type": "error",
     "traceback": [
      "\u001b[0;31m---------------------------------------------------------------------------\u001b[0m",
      "\u001b[0;31mTypeError\u001b[0m                                 Traceback (most recent call last)",
      "Input \u001b[0;32mIn [1]\u001b[0m, in \u001b[0;36m<cell line: 0>\u001b[0;34m()\u001b[0m\n\u001b[1;32m      3\u001b[0m     \u001b[38;5;28;01mreturn\u001b[39;00m x\u001b[38;5;241m+\u001b[39my\n\u001b[1;32m      5\u001b[0m \u001b[38;5;66;03m# function call with only 1 of the 2 arguments\u001b[39;00m\n\u001b[0;32m----> 6\u001b[0m fcn_bad_args(\u001b[38;5;241m10\u001b[39m)\n",
      "\u001b[0;31mTypeError\u001b[0m: fcn_bad_args() missing 1 required positional argument: 'y'"
     ]
    }
   ],
   "source": [
    "## function requiring 2 parameters\n",
    "def fcn_bad_args(x, y):\n",
    "    return x+y\n",
    "\n",
    "# function call with only 1 of the 2 arguments\n",
    "fcn_bad_args(10)"
   ]
  },
  {
   "cell_type": "markdown",
   "id": "beffed14",
   "metadata": {
    "id": "iRRKVuiTiYhi"
   },
   "source": [
    "**When calling a function, parameter order matters.**"
   ]
  },
  {
   "cell_type": "code",
   "execution_count": 2,
   "id": "cf1dabe6",
   "metadata": {
    "id": "moaHmNmWiYhi"
   },
   "outputs": [
    {
     "name": "stdout",
     "output_type": "stream",
     "text": [
      "fcn_swapped_args(x,y) = 7\n",
      "fcn_swapped_args(y,x) = 11\n"
     ]
    }
   ],
   "source": [
    "x = 1\n",
    "y = 2\n",
    "\n",
    "# function with order of x then y\n",
    "def fcn_swapped_args(x, y):\n",
    "    out = 5 * x + y\n",
    "    return out\n",
    "\n",
    "# call function in correct order\n",
    "print('fcn_swapped_args(x,y) =', fcn_swapped_args(x,y))\n",
    "\n",
    "# call function in incorrect order\n",
    "print('fcn_swapped_args(y,x) =', fcn_swapped_args(y,x))"
   ]
  },
  {
   "cell_type": "markdown",
   "id": "2e87abcf",
   "metadata": {
    "id": "GXEHQpFxiYhi"
   },
   "source": [
    "Generally it's best to keep parameters in order.  \n",
    "\n",
    "You can swap the order by putting the parameter names in the function call."
   ]
  },
  {
   "cell_type": "code",
   "execution_count": 3,
   "id": "4c139ef2",
   "metadata": {
    "id": "FATEk49QiYhi"
   },
   "outputs": [
    {
     "data": {
      "text/plain": [
       "7"
      ]
     },
     "execution_count": 3,
     "metadata": {},
     "output_type": "execute_result"
    }
   ],
   "source": [
    "x1 = 1\n",
    "y1 = 2\n",
    "\n",
    "# call parameter names in function call\n",
    "fcn_swapped_args(y=y1, x=x1)"
   ]
  },
  {
   "cell_type": "markdown",
   "id": "a0bac45e",
   "metadata": {
    "id": "pguDfat9iYhi"
   },
   "source": [
    "**Weirdness Alert**\n",
    "\n",
    "Note that the same name can be used for the parameter names and the variables passed to them.\n",
    "\n",
    "The names themselves have nothng to do with each other!\n",
    "\n",
    "In other words, just because a function names an argument `x`, \\\n",
    "the variables passed to it don't have to name `x` or anything like it. \\\n",
    "They can even be named the same thing -- it does not matter."
   ]
  },
  {
   "cell_type": "code",
   "execution_count": 52,
   "id": "d5af7774",
   "metadata": {
    "id": "wXAk3914iYhi"
   },
   "outputs": [
    {
     "data": {
      "text/plain": [
       "7"
      ]
     },
     "execution_count": 52,
     "metadata": {},
     "output_type": "execute_result"
    }
   ],
   "source": [
    "foo = 1\n",
    "bar = 2\n",
    "\n",
    "fcn_swapped_args(foo, bar)\n",
    "\n",
    "# works even though function was written as fcn_swapped_arg(x, y)"
   ]
  },
  {
   "cell_type": "markdown",
   "id": "f776e8ff",
   "metadata": {},
   "source": [
    "**Parameters can be positional, where order matters, or by keyword. (JAVI)** "
   ]
  },
  {
   "cell_type": "code",
   "execution_count": 2,
   "id": "9e86b44f",
   "metadata": {},
   "outputs": [],
   "source": [
    "# function with order of x then y\n",
    "def fcn_swapped_args(x, y, *, param):\n",
    "    out = 5 * x + y + param\n",
    "    return out"
   ]
  },
  {
   "cell_type": "code",
   "execution_count": 5,
   "id": "81a153b6",
   "metadata": {},
   "outputs": [
    {
     "data": {
      "text/plain": [
       "8"
      ]
     },
     "execution_count": 5,
     "metadata": {},
     "output_type": "execute_result"
    }
   ],
   "source": [
    "fcn_swapped_args(1,2, param=1)"
   ]
  },
  {
   "cell_type": "markdown",
   "id": "bf4402d1",
   "metadata": {
    "id": "gG0H4XFgiYhi"
   },
   "source": [
    "## IV. Unpacking list-likes using  `*args`\n",
    "\n",
    "The `*` operator can be passed to avoid specifying the arguments individual."
   ]
  },
  {
   "cell_type": "code",
   "execution_count": 4,
   "id": "af9f9181",
   "metadata": {
    "id": "GWJUkt0NiYhi"
   },
   "outputs": [],
   "source": [
    "def show_arg_expansion(*models):\n",
    "\n",
    "    print(\"models          :\", models)\n",
    "    print(\"input arg type  :\",  type(models))\n",
    "    print(\"input arg length:\", len(models))\n",
    "    print(\"-----------------------------\")\n",
    "\n",
    "    for mod in models:\n",
    "        print(mod)"
   ]
  },
  {
   "cell_type": "markdown",
   "id": "112349f4",
   "metadata": {
    "id": "1-F_nKl9iYhi"
   },
   "source": [
    "We can pass a tuple of values to the function..."
   ]
  },
  {
   "cell_type": "code",
   "execution_count": 5,
   "id": "eee8af4d",
   "metadata": {
    "id": "GFQ3TXbliYhi"
   },
   "outputs": [
    {
     "name": "stdout",
     "output_type": "stream",
     "text": [
      "models          : ('logreg', 'naive_bayes', 'gbm')\n",
      "input arg type  : <class 'tuple'>\n",
      "input arg length: 3\n",
      "-----------------------------\n",
      "logreg\n",
      "naive_bayes\n",
      "gbm\n"
     ]
    }
   ],
   "source": [
    "show_arg_expansion(\"logreg\", \"naive_bayes\", \"gbm\")"
   ]
  },
  {
   "cell_type": "markdown",
   "id": "2d5f6efc",
   "metadata": {
    "id": "P6r87diciYhi"
   },
   "source": [
    "You can pass a list to the function.\n",
    "\n",
    "If you want the elements unpacked, put * before the list."
   ]
  },
  {
   "cell_type": "code",
   "execution_count": 6,
   "id": "ab121d92",
   "metadata": {
    "id": "ruipdu0wiYho"
   },
   "outputs": [
    {
     "name": "stdout",
     "output_type": "stream",
     "text": [
      "models          : ('logreg', 'naive_bayes', 'gbm')\n",
      "input arg type  : <class 'tuple'>\n",
      "input arg length: 3\n",
      "-----------------------------\n",
      "logreg\n",
      "naive_bayes\n",
      "gbm\n"
     ]
    }
   ],
   "source": [
    "models = [\"logreg\", \"naive_bayes\", \"gbm\"]\n",
    "show_arg_expansion(*models)"
   ]
  },
  {
   "cell_type": "markdown",
   "id": "ee876a90",
   "metadata": {
    "id": "Bf1mbaOkiYho"
   },
   "source": [
    "**This approach allows your function to accept an arbitrary number of arguments**"
   ]
  },
  {
   "cell_type": "code",
   "execution_count": 7,
   "id": "ce334362",
   "metadata": {
    "id": "eUaGaNdQiYhp"
   },
   "outputs": [
    {
     "name": "stdout",
     "output_type": "stream",
     "text": [
      "models          : (['a', 'b', 'c', 'd', 'e', 'f', 'g'],)\n",
      "input arg type  : <class 'tuple'>\n",
      "input arg length: 1\n",
      "-----------------------------\n",
      "['a', 'b', 'c', 'd', 'e', 'f', 'g']\n"
     ]
    }
   ],
   "source": [
    "show_arg_expansion('a b c d e f g'.split())"
   ]
  },
  {
   "cell_type": "code",
   "execution_count": 8,
   "id": "e4d33c11",
   "metadata": {
    "id": "6YEbcVy3iYhp"
   },
   "outputs": [],
   "source": [
    "def arg_expansion_example(x, y):\n",
    "    return x**y"
   ]
  },
  {
   "cell_type": "markdown",
   "id": "bfc5b09c",
   "metadata": {
    "id": "xckEFWq3iYhp"
   },
   "source": [
    "**The reverse is true, too.**\n",
    "\n",
    "You can use the `*` operator to pass list-like objects to a function that specifies its arguments."
   ]
  },
  {
   "cell_type": "code",
   "execution_count": 9,
   "id": "f53f3340",
   "metadata": {
    "id": "wU7NxYsziYhp"
   },
   "outputs": [
    {
     "data": {
      "text/plain": [
       "256"
      ]
     },
     "execution_count": 9,
     "metadata": {},
     "output_type": "execute_result"
    }
   ],
   "source": [
    "my_args = [2, 8]\n",
    "arg_expansion_example(*my_args)"
   ]
  },
  {
   "cell_type": "markdown",
   "id": "e08e573f",
   "metadata": {
    "id": "0MEHR85ziYhp"
   },
   "source": [
    "But, the passed object must be the right length."
   ]
  },
  {
   "cell_type": "code",
   "execution_count": 10,
   "id": "05a992b3",
   "metadata": {
    "id": "edIKHtO6iYhp"
   },
   "outputs": [
    {
     "ename": "TypeError",
     "evalue": "arg_expansion_example() takes 2 positional arguments but 3 were given",
     "output_type": "error",
     "traceback": [
      "\u001b[0;31m---------------------------------------------------------------------------\u001b[0m",
      "\u001b[0;31mTypeError\u001b[0m                                 Traceback (most recent call last)",
      "Input \u001b[0;32mIn [10]\u001b[0m, in \u001b[0;36m<cell line: 0>\u001b[0;34m()\u001b[0m\n\u001b[1;32m      1\u001b[0m my_args2 \u001b[38;5;241m=\u001b[39m [\u001b[38;5;241m2\u001b[39m, \u001b[38;5;241m8\u001b[39m, \u001b[38;5;241m5\u001b[39m]\n\u001b[0;32m----> 2\u001b[0m arg_expansion_example(\u001b[38;5;241m*\u001b[39mmy_args2)\n",
      "\u001b[0;31mTypeError\u001b[0m: arg_expansion_example() takes 2 positional arguments but 3 were given"
     ]
    }
   ],
   "source": [
    "my_args2 = [2, 8, 5]\n",
    "arg_expansion_example(*my_args2)"
   ]
  },
  {
   "cell_type": "markdown",
   "id": "b00557e5",
   "metadata": {
    "id": "DuItUjJWiYhp"
   },
   "source": [
    "## V. Default Arguments"
   ]
  },
  {
   "cell_type": "markdown",
   "id": "92eb66ed",
   "metadata": {
    "id": "zOX-dScLiYhp"
   },
   "source": [
    "`default arguments` set the value when left unspecified."
   ]
  },
  {
   "cell_type": "code",
   "execution_count": 11,
   "id": "e87c0659",
   "metadata": {
    "id": "PhA5ZjvZiYhp"
   },
   "outputs": [],
   "source": [
    "def show_results(precision, printing=True):\n",
    "    precision = round(precision, 2)\n",
    "\n",
    "    if printing:\n",
    "      print('precision =', precision)\n",
    "    return precision"
   ]
  },
  {
   "cell_type": "code",
   "execution_count": 12,
   "id": "f3e8190d",
   "metadata": {
    "id": "eSoSgF9YiYhp"
   },
   "outputs": [
    {
     "name": "stdout",
     "output_type": "stream",
     "text": [
      "precision = 0.91\n"
     ]
    }
   ],
   "source": [
    "pr = 0.912\n",
    "res = show_results(pr)"
   ]
  },
  {
   "cell_type": "markdown",
   "id": "fd91d810",
   "metadata": {
    "id": "gUL5UY1uiYhp"
   },
   "source": [
    "The function call didn't specify `printing`, so it defaulted to True.\n",
    "\n",
    "Default arguments must follow non-default arguments. This causes trouble:"
   ]
  },
  {
   "cell_type": "code",
   "execution_count": 13,
   "id": "e13eaf43",
   "metadata": {
    "id": "06tJnUQviYhp"
   },
   "outputs": [
    {
     "ename": "SyntaxError",
     "evalue": "non-default argument follows default argument (1599950692.py, line 1)",
     "output_type": "error",
     "traceback": [
      "\u001b[0;36m  Input \u001b[0;32mIn [13]\u001b[0;36m\u001b[0m\n\u001b[0;31m    def show_results(precision, printing=True, uhoh):\u001b[0m\n\u001b[0m                                               ^\u001b[0m\n\u001b[0;31mSyntaxError\u001b[0m\u001b[0;31m:\u001b[0m non-default argument follows default argument\n"
     ]
    }
   ],
   "source": [
    "def show_results(precision, printing=True, uhoh):\n",
    "    precision = round(precision, 2)\n",
    "\n",
    "    if printing:\n",
    "      print('precision =', precision)\n",
    "    return precision"
   ]
  },
  {
   "cell_type": "markdown",
   "id": "3934953d",
   "metadata": {
    "id": "ECgpfITPiYhp"
   },
   "source": [
    "## VI. Returning Values\n",
    "\n",
    "Functions are not required to have return statement.\n",
    "If there is no return statement, function returns `None` object.  \n",
    "\n",
    "Functions can return no value (`None` object), one value, or many.  \n",
    "\n",
    "Any Python object can be returned.  "
   ]
  },
  {
   "cell_type": "code",
   "execution_count": 14,
   "id": "c9dcf261",
   "metadata": {
    "id": "fZtuJVPdiYhp"
   },
   "outputs": [],
   "source": [
    "# returns None, and prints.\n",
    "\n",
    "def fcn_nothing_to_return(x, y):\n",
    "    out = 'nothing to see here!'\n",
    "    print(out)"
   ]
  },
  {
   "cell_type": "code",
   "execution_count": 15,
   "id": "7b3da1ba",
   "metadata": {
    "id": "p2l6oKBxiYhp"
   },
   "outputs": [
    {
     "name": "stdout",
     "output_type": "stream",
     "text": [
      "nothing to see here!\n"
     ]
    }
   ],
   "source": [
    "fcn_nothing_to_return(x, y)"
   ]
  },
  {
   "cell_type": "code",
   "execution_count": 16,
   "id": "df02aa66",
   "metadata": {
    "id": "1sYG6tFMiYhp"
   },
   "outputs": [
    {
     "name": "stdout",
     "output_type": "stream",
     "text": [
      "nothing to see here!\n",
      "None\n"
     ]
    }
   ],
   "source": [
    "r = fcn_nothing_to_return(1, 1)\n",
    "print(r)"
   ]
  },
  {
   "cell_type": "code",
   "execution_count": 17,
   "id": "2fb50cf1",
   "metadata": {
    "id": "iSW-A_N1iYhp"
   },
   "outputs": [],
   "source": [
    "# returns three values\n",
    "def negate_coords(x, y, z):\n",
    "    return -x, -y, -z"
   ]
  },
  {
   "cell_type": "code",
   "execution_count": 18,
   "id": "b311a871",
   "metadata": {
    "id": "UQrSV9nKiYhp"
   },
   "outputs": [
    {
     "name": "stdout",
     "output_type": "stream",
     "text": [
      "a= -10\n",
      "b= -20\n",
      "c= -30\n"
     ]
    }
   ],
   "source": [
    "a,b,c = negate_coords(10,20,30)\n",
    "print('a=', a)\n",
    "print('b=', b)\n",
    "print('c=', c)"
   ]
  },
  {
   "cell_type": "markdown",
   "id": "2e58d483",
   "metadata": {
    "id": "ifsJheijiYhp"
   },
   "source": [
    "**If you don't need an output, use the dummy variable `_`**"
   ]
  },
  {
   "cell_type": "code",
   "execution_count": 19,
   "id": "4c08f4c0",
   "metadata": {
    "id": "AgBl1V6TiYhp"
   },
   "outputs": [
    {
     "name": "stdout",
     "output_type": "stream",
     "text": [
      "d= -10\n",
      "e= -20\n"
     ]
    }
   ],
   "source": [
    "d,e,_ = negate_coords(10,20,30)\n",
    "print('d=', d)\n",
    "print('e=', e)"
   ]
  },
  {
   "cell_type": "markdown",
   "id": "d70c1880",
   "metadata": {
    "id": "AmIDwm-xiYhq"
   },
   "source": [
    "**Note:** For clarity purposes, it's generally a good idea to include return statements, even if not returning a value.  \n",
    "You can use `return` or `return None`."
   ]
  },
  {
   "cell_type": "markdown",
   "id": "e2419a1b",
   "metadata": {
    "id": "AlIg9oEEiYhq"
   },
   "source": [
    "**Functions can contain multiple return statements**"
   ]
  },
  {
   "cell_type": "code",
   "execution_count": 23,
   "id": "0b4abca7",
   "metadata": {
    "id": "rbJKLgjQiYhq"
   },
   "outputs": [],
   "source": [
    "# For non-negative values, the first `return` is reached.  \n",
    "# For negative values, the second `return` is reached.\n",
    "def absolute_value(num):\n",
    "    if num >= 0:\n",
    "        return num\n",
    "    return -num"
   ]
  },
  {
   "cell_type": "code",
   "execution_count": 24,
   "id": "9747ffe6",
   "metadata": {
    "id": "n66QsiX0iYhq"
   },
   "outputs": [
    {
     "data": {
      "text/plain": [
       "4"
      ]
     },
     "execution_count": 24,
     "metadata": {},
     "output_type": "execute_result"
    }
   ],
   "source": [
    "absolute_value(-4)"
   ]
  },
  {
   "cell_type": "code",
   "execution_count": 25,
   "id": "55691a2a",
   "metadata": {
    "id": "PBB4Rgl6iYhq"
   },
   "outputs": [
    {
     "data": {
      "text/plain": [
       "4"
      ]
     },
     "execution_count": 25,
     "metadata": {},
     "output_type": "execute_result"
    }
   ],
   "source": [
    "absolute_value(4)"
   ]
  },
  {
   "cell_type": "markdown",
   "id": "7a24a84a",
   "metadata": {
    "id": "M5ofH0wjiYhq"
   },
   "source": [
    "## VII. Variable Scope\n",
    "\n",
    "A variable's **scope** is the part of a program where it is **visible**.\n",
    "\n",
    "Visible means available or usable.\n",
    "\n",
    "If a variable is **in scope** to a function, it is visible the function.\n",
    "\n",
    "If it is **out of scope** to a function, it is not visible the function.\n",
    "\n",
    "When a variable is defined inside of a function, is is not visible outside of the function.\n",
    "\n",
    "We say such variables are **local** to the function.\n",
    "\n",
    "They are also removed from memory when the function completes."
   ]
  },
  {
   "cell_type": "code",
   "execution_count": 33,
   "id": "b5ad2fc5",
   "metadata": {
    "id": "xv-6GxpmiYhq"
   },
   "outputs": [],
   "source": [
    "def show_scope(x):\n",
    "    x = 10*x\n",
    "    z = 4\n",
    "    print('z inside function =', z)\n",
    "    print('memory address of z inside function =', hex(id(z)))\n",
    "    return x"
   ]
  },
  {
   "cell_type": "code",
   "execution_count": 34,
   "id": "8b34ad6f",
   "metadata": {
    "id": "b-rPp26DiYhq"
   },
   "outputs": [
    {
     "name": "stdout",
     "output_type": "stream",
     "text": [
      "z inside function = 4\n",
      "memory address of z inside function = 0x87f448\n"
     ]
    },
    {
     "data": {
      "text/plain": [
       "60"
      ]
     },
     "execution_count": 34,
     "metadata": {},
     "output_type": "execute_result"
    }
   ],
   "source": [
    "# This code recognizes z from inside the function.\n",
    "show_scope(6)"
   ]
  },
  {
   "cell_type": "code",
   "execution_count": 35,
   "id": "70e63789",
   "metadata": {
    "id": "WPxisGHoiYhq"
   },
   "outputs": [
    {
     "name": "stdout",
     "output_type": "stream",
     "text": [
      "z = 2\n"
     ]
    }
   ],
   "source": [
    "# Calling it from outside, where it isn't defined, throws an error.\n",
    "print('z =', z)"
   ]
  },
  {
   "cell_type": "markdown",
   "id": "d1bf5b32",
   "metadata": {
    "id": "MEQu0vTEiYhq"
   },
   "source": [
    "If we define `z` and call the function, the update to `z` won't pass outside the function."
   ]
  },
  {
   "cell_type": "code",
   "execution_count": 36,
   "id": "c89eafdd",
   "metadata": {
    "id": "hy-7O-SIiYhq"
   },
   "outputs": [
    {
     "name": "stdout",
     "output_type": "stream",
     "text": [
      "z outside: 0x87f408\n",
      "z inside function = 4\n",
      "memory address of z inside function = 0x87f448\n",
      "z =  2\n"
     ]
    }
   ],
   "source": [
    "z = 2\n",
    "print('z outside:', hex(id(z)))\n",
    "out = show_scope(6)\n",
    "print('z = ', z)"
   ]
  },
  {
   "cell_type": "markdown",
   "id": "ce7821a9",
   "metadata": {
    "id": "Qw_Ux3H6iYhq"
   },
   "source": [
    "### Local versus Global Variables\n",
    "\n",
    "It is helpful to have a good understanding of local versus global variables.  \n",
    "\n",
    "Not having this understanding can lead to surprises and confusion.  \n",
    "\n",
    "**Example 1: Variable defined outside function, used inside function**\n",
    "\n",
    "In the code below:  \n",
    "\n",
    "`x` is global and seen from inside the function.  \n",
    "`r` is local to the function. trying to print outside function throws error."
   ]
  },
  {
   "cell_type": "code",
   "execution_count": 43,
   "id": "1979b09a",
   "metadata": {
    "id": "Shy4_1YJiYhq"
   },
   "outputs": [],
   "source": [
    "x = 10\n",
    "\n",
    "def fcn(r):\n",
    "    out = x + r\n",
    "    return(out)\n"
   ]
  },
  {
   "cell_type": "code",
   "execution_count": 44,
   "id": "46ed7069",
   "metadata": {
    "id": "Wa7Nou2oiYhr"
   },
   "outputs": [
    {
     "name": "stdout",
     "output_type": "stream",
     "text": [
      "16\n"
     ]
    }
   ],
   "source": [
    "print(fcn(6)) # works"
   ]
  },
  {
   "cell_type": "code",
   "execution_count": 48,
   "id": "94ea7040",
   "metadata": {
    "id": "LzWya7D3iYhr"
   },
   "outputs": [
    {
     "name": "stdout",
     "output_type": "stream",
     "text": [
      "None\n"
     ]
    }
   ],
   "source": [
    "print(r) # fails"
   ]
  },
  {
   "cell_type": "markdown",
   "id": "8d446ec3",
   "metadata": {
    "id": "_qKdTaTUiYhr"
   },
   "source": [
    "**Example 2: Variable defined outside function, updated and used inside function**\n",
    "\n",
    "`fcn` uses the local version of `x`"
   ]
  },
  {
   "cell_type": "code",
   "execution_count": 49,
   "id": "20d5484d",
   "metadata": {
    "id": "M6ljfBCXiYhr"
   },
   "outputs": [
    {
     "name": "stdout",
     "output_type": "stream",
     "text": [
      "x from fcn: 20\n",
      "fcn(6): 26\n",
      "x: 10\n"
     ]
    }
   ],
   "source": [
    "x = 10\n",
    "\n",
    "def fcn(a):\n",
    "    x = 20\n",
    "    sum = x + a\n",
    "    print('x from fcn:', x)\n",
    "    return(sum)\n",
    "\n",
    "print('fcn(6):', fcn(6))\n",
    "print('x:', x)"
   ]
  },
  {
   "cell_type": "markdown",
   "id": "9dc44cb9",
   "metadata": {
    "id": "AIoU3FS_iYhr"
   },
   "source": [
    "**Example 3: Variable defined outside function. Inside function, print variable, update, and use**\n",
    "\n",
    "This one may be confusing. It fails!  \n",
    "\n",
    "Python treats `x` inside function as the local `x`.  \n",
    "The print() occurs before `x` is assigned, so it can't find `x`."
   ]
  },
  {
   "cell_type": "code",
   "execution_count": 50,
   "id": "8631e0b7",
   "metadata": {
    "id": "CgCgPEjSiYhr"
   },
   "outputs": [
    {
     "ename": "UnboundLocalError",
     "evalue": "cannot access local variable 'x' where it is not associated with a value",
     "output_type": "error",
     "traceback": [
      "\u001b[0;31m---------------------------------------------------------------------------\u001b[0m",
      "\u001b[0;31mUnboundLocalError\u001b[0m                         Traceback (most recent call last)",
      "Input \u001b[0;32mIn [50]\u001b[0m, in \u001b[0;36m<cell line: 0>\u001b[0;34m()\u001b[0m\n\u001b[1;32m      7\u001b[0m     \u001b[38;5;28mprint\u001b[39m(\u001b[38;5;124m'\u001b[39m\u001b[38;5;124mx from fcn, after update:\u001b[39m\u001b[38;5;124m'\u001b[39m, x)\n\u001b[1;32m      8\u001b[0m     \u001b[38;5;28;01mreturn\u001b[39;00m(out)\n\u001b[0;32m---> 10\u001b[0m \u001b[38;5;28mprint\u001b[39m(\u001b[38;5;124m'\u001b[39m\u001b[38;5;124mfcn(6):\u001b[39m\u001b[38;5;124m'\u001b[39m, fcn(\u001b[38;5;241m6\u001b[39m))\n\u001b[1;32m     11\u001b[0m \u001b[38;5;28mprint\u001b[39m(\u001b[38;5;124m'\u001b[39m\u001b[38;5;124mx:\u001b[39m\u001b[38;5;124m'\u001b[39m, x)\n",
      "Input \u001b[0;32mIn [50]\u001b[0m, in \u001b[0;36mfcn\u001b[0;34m(a)\u001b[0m\n\u001b[1;32m      3\u001b[0m \u001b[38;5;28;01mdef\u001b[39;00m \u001b[38;5;21mfcn\u001b[39m(a):\n\u001b[0;32m----> 4\u001b[0m     \u001b[38;5;28mprint\u001b[39m(\u001b[38;5;124m'\u001b[39m\u001b[38;5;124mx from fcn, before update:\u001b[39m\u001b[38;5;124m'\u001b[39m, x)\n\u001b[1;32m      5\u001b[0m     x \u001b[38;5;241m=\u001b[39m \u001b[38;5;241m20\u001b[39m\n\u001b[1;32m      6\u001b[0m     out \u001b[38;5;241m=\u001b[39m x \u001b[38;5;241m+\u001b[39m a\n",
      "\u001b[0;31mUnboundLocalError\u001b[0m: cannot access local variable 'x' where it is not associated with a value"
     ]
    }
   ],
   "source": [
    "x = 10\n",
    "\n",
    "def fcn(a):\n",
    "    print('x from fcn, before update:', x)\n",
    "    x = 20\n",
    "    out = x + a\n",
    "    print('x from fcn, after update:', x)\n",
    "    return(out)\n",
    "\n",
    "print('fcn(6):', fcn(6))\n",
    "print('x:', x)"
   ]
  },
  {
   "cell_type": "markdown",
   "id": "ebe3ddd2",
   "metadata": {
    "id": "ezZJ3GPIiYhr"
   },
   "source": [
    "The error can be fixed by referencing x as `global` inside function.\n",
    "\n",
    "Only necessary if we wish to reassign the variable.\n",
    "\n",
    "It is also useful when we want several functions to operate on the same variable"
   ]
  },
  {
   "cell_type": "code",
   "execution_count": 51,
   "id": "519f8a98",
   "metadata": {
    "id": "WZpWaWqSiYhr"
   },
   "outputs": [
    {
     "name": "stdout",
     "output_type": "stream",
     "text": [
      "x from fcn, before update: 10\n",
      "x from fcn, after update: 20\n",
      "fcn(6): 26\n",
      "x: 20\n"
     ]
    }
   ],
   "source": [
    "x = 10\n",
    "\n",
    "def fcn(a):\n",
    "    global x    # add this to reference global x outside function\n",
    "    print('x from fcn, before update:', x)\n",
    "    x = 20\n",
    "    out = x + a\n",
    "    print('x from fcn, after update:', x)\n",
    "    return(out)\n",
    "\n",
    "print('fcn(6):', fcn(6))\n",
    "print('x:', x)"
   ]
  },
  {
   "cell_type": "markdown",
   "id": "fda91375",
   "metadata": {
    "id": "U5bXlKVFiYhr"
   },
   "source": [
    "##  VIII. Function Design\n",
    "\n",
    "\n",
    "Some good practices for creating and using functions:\n",
    "\n",
    "- design a function to do one thing.\n",
    "\n",
    "Make them as simple as possible. In this way, a function will be: \n",
    "- more comprehensible\n",
    "- easier to maintain\n",
    "- reusable\n",
    "\n",
    "This helps avoid situations where a team has 20 variations of similar functions.\n",
    "\n",
    "Give your function a good name. What makes a function name good?  \n",
    "\n",
    "- It should reflect the action in performs.\n",
    "- Be consistent in naming conventions.\n",
    "- A name like `compute_variances_sort_save_print` suggests the function is overworked!\n",
    "- If the function `compute_variances` also produces plots and updates variables, it will cause confusion.  \n",
    "\n",
    "Always give your function a docstring:\n",
    "\n",
    "- Particularly important since indicating data types is not required.  \n",
    "- As a side note, you can include this information by using `type annotation`.\n",
    "\n",
    "Function docstrings are stored in attribute `__doc__`; they can be shown like this:"
   ]
  },
  {
   "cell_type": "code",
   "execution_count": null,
   "id": "fc4e113d",
   "metadata": {
    "id": "0SE10DYaiYhr"
   },
   "outputs": [],
   "source": [
    "print(bool.__doc__)"
   ]
  },
  {
   "cell_type": "markdown",
   "id": "1bc5b382",
   "metadata": {
    "id": "yZQX-GkIiYhr"
   },
   "source": [
    "---"
   ]
  }
 ],
 "metadata": {
  "anaconda-cloud": {},
  "colab": {
   "include_colab_link": true,
   "provenance": []
  },
  "kernelspec": {
   "display_name": "Python 3 (ipykernel)",
   "language": "python",
   "name": "python3"
  },
  "language_info": {
   "codemirror_mode": {
    "name": "ipython",
    "version": 3
   },
   "file_extension": ".py",
   "mimetype": "text/x-python",
   "name": "python",
   "nbconvert_exporter": "python",
   "pygments_lexer": "ipython3",
   "version": "3.11.9"
  },
  "vscode": {
   "interpreter": {
    "hash": "31f2aee4e71d21fbe5cf8b01ff0e069b9275f58929596ceb00d14d90e3e16cd6"
   }
  }
 },
 "nbformat": 4,
 "nbformat_minor": 5
}