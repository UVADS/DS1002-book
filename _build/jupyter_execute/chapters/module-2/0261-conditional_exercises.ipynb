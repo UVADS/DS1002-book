{
 "cells": [
  {
   "cell_type": "markdown",
   "id": "4ae6a436",
   "metadata": {},
   "source": [
    "**1.1 if `z=4` write an `if` statement that evaluates if `z` is odd or even and then print \"z is even\"**\n"
   ]
  },
  {
   "cell_type": "code",
   "execution_count": null,
   "id": "40552740",
   "metadata": {},
   "outputs": [],
   "source": []
  },
  {
   "cell_type": "markdown",
   "id": "3e9e24ac",
   "metadata": {},
   "source": [
    "**1.2 Add and `else` statement to the above code to print \"z is odd\"**"
   ]
  },
  {
   "cell_type": "markdown",
   "id": "f4f5d863",
   "metadata": {},
   "source": [
    "**1.3. Imagine we had a long list of numbers we were checking, within the `if, else` statement print what number is being checked by the condition. (Hint: use string arthimetic)**"
   ]
  },
  {
   "cell_type": "markdown",
   "id": "10637a7a",
   "metadata": {},
   "source": [
    "**1.4 \n",
    "\n",
    "What prints in the above `if`, `elif` example if val = 5?  \n",
    "\n",
    "\n",
    "Copy the code in the cell below and run it**"
   ]
  },
  {
   "cell_type": "markdown",
   "id": "a39526e0",
   "metadata": {},
   "source": [
    "**1.5. Write a statement that evaluates if a number is a number is divisble by 2, divisble by 3, or divisble by both numbers. If there is a number that is not divisable by either number, make sure to include a statement for that case. *Test the numbers: 4, 6, 9, 13***"
   ]
  },
  {
   "cell_type": "markdown",
   "id": "e5ac60b6",
   "metadata": {},
   "source": [
    "<b>2. Write code that does the following:\n",
    "- define a list of integers xx = [-2, 8, 0, 5, 6]\n",
    "- compute the maximum, storing in `max_val`\n",
    "- loop over each value in the list\n",
    "- if the value is less than the maximum, print the value\n",
    "- otherwise, print the string 'max_val'\n",
    "</b>"
   ]
  },
  {
   "cell_type": "markdown",
   "id": "e0333419",
   "metadata": {},
   "source": [
    "3a) Write code that does the following:\n",
    "\n",
    "- set a variable `it` to 0\n",
    "- set a variable `max_iter` to 100\n",
    "- while `it` < `max_iter`, do the following:\n",
    "  - if `it` = 0 or `it` is divisible by 10, print `it`. hint: use modulo operator %\n",
    "- increase `it` by 1\n",
    "- when `it` >= `max_iter`, the program should quit"
   ]
  },
  {
   "cell_type": "markdown",
   "id": "a82159bd",
   "metadata": {},
   "source": [
    "3b) How many iterations did (3a) run?"
   ]
  },
  {
   "cell_type": "markdown",
   "id": "c1bb1f1a",
   "metadata": {},
   "source": [
    "Now try creating a Python series of some kind (list, set, tuple, dict) and populate it with some dummy data.\n",
    "\n",
    "Create a for-loop to work through the values of the series and do something special with one of the values."
   ]
  },
  {
   "cell_type": "code",
   "execution_count": null,
   "id": "670fd7e3",
   "metadata": {},
   "outputs": [],
   "source": []
  }
 ],
 "metadata": {
  "kernelspec": {
   "display_name": "Python 3 (ipykernel)",
   "language": "python",
   "name": "python3"
  },
  "language_info": {
   "codemirror_mode": {
    "name": "ipython",
    "version": 3
   },
   "file_extension": ".py",
   "mimetype": "text/x-python",
   "name": "python",
   "nbconvert_exporter": "python",
   "pygments_lexer": "ipython3",
   "version": "3.11.9"
  }
 },
 "nbformat": 4,
 "nbformat_minor": 5
}