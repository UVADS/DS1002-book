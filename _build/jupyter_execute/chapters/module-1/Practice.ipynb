{
 "cells": [
  {
   "cell_type": "markdown",
   "id": "1ca59f0a-9431-4491-8d03-00e0f3efcbc2",
   "metadata": {},
   "source": [
    "# Practice"
   ]
  },
  {
   "cell_type": "markdown",
   "id": "717074a8-f0af-4986-acea-230cbcd4ae45",
   "metadata": {},
   "source": [
    "**Create a cell below or above using either the keyworad with one of the shortcuts shown before, or using the menu with the mouse. Then, change to edit mode in the created cell and try introducing a number and running the cell using any of the above combinations. Do the same now, but changing the cell to markdown and typing some text in it.**"
   ]
  },
  {
   "cell_type": "code",
   "execution_count": null,
   "id": "97c1b8bb-f638-4c4a-a70f-d2c602faeace",
   "metadata": {},
   "outputs": [],
   "source": []
  }
 ],
 "metadata": {
  "kernelspec": {
   "display_name": "Python 3 (ipykernel)",
   "language": "python",
   "name": "python3"
  },
  "language_info": {
   "codemirror_mode": {
    "name": "ipython",
    "version": 3
   },
   "file_extension": ".py",
   "mimetype": "text/x-python",
   "name": "python",
   "nbconvert_exporter": "python",
   "pygments_lexer": "ipython3",
   "version": "3.11.9"
  }
 },
 "nbformat": 4,
 "nbformat_minor": 5
}