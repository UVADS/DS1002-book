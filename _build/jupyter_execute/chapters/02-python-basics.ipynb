{
 "cells": [
  {
   "cell_type": "markdown",
   "id": "7f2a553a",
   "metadata": {},
   "source": [
    "# Metadata\n",
    "\n",
    "```\n",
    "Course:      DS 1002\n",
    "Week:        Python Basics \n",
    "Topic:       Python Variables, Indices, and Arguments\n",
    "```"
   ]
  },
  {
   "cell_type": "markdown",
   "id": "420867eb",
   "metadata": {},
   "source": [
    "# Variables"
   ]
  },
  {
   "cell_type": "markdown",
   "id": "19101330",
   "metadata": {},
   "source": [
    "Variables allow a developer to create a name that refers to a value.  This allows the developer to refer to the value by name instead of by the value itself. Variables should be thought of as key-value pairs, keeping in mind that the \"value\" half can sometimes be quite complex.\n",
    "\n",
    "A variable can have a short name (like x and y) or a more descriptive name (age, subject_id, total_volume).\n",
    "\n",
    "Rules for Python variables:\n",
    "\n",
    "* A variable name must start with a letter or the underscore character\n",
    "* A variable name cannot start with a number\n",
    "* A variable name can only contain alpha-numeric characters and underscores (A-z, 0-9, and _ )\n",
    "* Variable names are case-sensitive (age, Age and AGE are three different variables)"
   ]
  },
  {
   "cell_type": "code",
   "execution_count": 1,
   "id": "d4bb46d9",
   "metadata": {},
   "outputs": [],
   "source": [
    "# a simple key-value pair, a variable and its value:\n",
    "\n",
    "favorite_number = 11"
   ]
  },
  {
   "cell_type": "markdown",
   "id": "31315126",
   "metadata": {},
   "source": [
    "Define and populate a variable of your own below:"
   ]
  },
  {
   "cell_type": "code",
   "execution_count": null,
   "id": "871bad4d",
   "metadata": {},
   "outputs": [],
   "source": []
  },
  {
   "cell_type": "markdown",
   "id": "f148727a",
   "metadata": {},
   "source": [
    "**More Complex Variables**\n",
    "\n",
    "A variable can be populated with all sorts of data types: Integers, Booleans, Strings, Lists, Tuples, Dictionaries, etc."
   ]
  },
  {
   "cell_type": "code",
   "execution_count": 2,
   "id": "0cb6b853",
   "metadata": {},
   "outputs": [],
   "source": [
    "fruit = [\"banana\", \"apple\", \"orange\"]"
   ]
  },
  {
   "cell_type": "code",
   "execution_count": 3,
   "id": "ef3589b0",
   "metadata": {},
   "outputs": [
    {
     "name": "stdout",
     "output_type": "stream",
     "text": [
      "['banana', 'apple', 'orange']\n"
     ]
    }
   ],
   "source": [
    "print(fruit)"
   ]
  },
  {
   "cell_type": "markdown",
   "id": "0bd2b5a7",
   "metadata": {},
   "source": [
    "# Indexing"
   ]
  },
  {
   "cell_type": "markdown",
   "id": "3ce8b253",
   "metadata": {},
   "source": [
    "An index is a way of getting or calling the position of a value within a data structure.  For example, if we have a list of 5 values, we can use the index to call the value at position 3.  In Python, the first index is 0, so the value at position 3 would be called with index 2."
   ]
  },
  {
   "cell_type": "code",
   "execution_count": 4,
   "id": "c2435321",
   "metadata": {},
   "outputs": [
    {
     "data": {
      "text/plain": [
       "'banana'"
      ]
     },
     "execution_count": 4,
     "metadata": {},
     "output_type": "execute_result"
    }
   ],
   "source": [
    "# print the first element of the fruit list\n",
    "\n",
    "fruit[0]"
   ]
  },
  {
   "cell_type": "code",
   "execution_count": 5,
   "id": "0733f33b",
   "metadata": {},
   "outputs": [],
   "source": [
    "# Or we can find out the index of a specific value we know in the list\n",
    "\n",
    "apple_index = fruit.index(\"apple\")"
   ]
  },
  {
   "cell_type": "markdown",
   "id": "2f7ae123",
   "metadata": {},
   "source": [
    "# Arguments"
   ]
  },
  {
   "cell_type": "markdown",
   "id": "92a9caa8",
   "metadata": {},
   "source": [
    "Arguments are ways of passing specific values to a function. For example, if we have a function that takes two arguments, we might pass them in by way of two variables. \n",
    "\n",
    "Below is a simple function that ADDS any two values passed to it as arguments. It adds those values as part of a new variable, which it then prints out:"
   ]
  },
  {
   "cell_type": "code",
   "execution_count": 6,
   "id": "fe148025",
   "metadata": {},
   "outputs": [],
   "source": [
    "def add_us(firstval, secondval):\n",
    "    total = firstval + secondval\n",
    "    print(total)"
   ]
  },
  {
   "cell_type": "code",
   "execution_count": 7,
   "id": "62a4d6d9",
   "metadata": {},
   "outputs": [
    {
     "name": "stdout",
     "output_type": "stream",
     "text": [
      "18\n"
     ]
    }
   ],
   "source": [
    "firstval = 5\n",
    "secondval = 13\n",
    "\n",
    "add_us(firstval, secondval)"
   ]
  },
  {
   "cell_type": "markdown",
   "id": "7ccacba6",
   "metadata": {},
   "source": [
    "Now you try populating the variables with your own values and see what happens:"
   ]
  },
  {
   "cell_type": "code",
   "execution_count": 8,
   "id": "ed9cb356",
   "metadata": {},
   "outputs": [
    {
     "ename": "SyntaxError",
     "evalue": "invalid syntax (1722275407.py, line 1)",
     "output_type": "error",
     "traceback": [
      "\u001b[0;36m  Cell \u001b[0;32mIn[8], line 1\u001b[0;36m\u001b[0m\n\u001b[0;31m    firstval =\u001b[0m\n\u001b[0m              ^\u001b[0m\n\u001b[0;31mSyntaxError\u001b[0m\u001b[0;31m:\u001b[0m invalid syntax\n"
     ]
    }
   ],
   "source": [
    "firstval =\n",
    "secondval =\n",
    "\n",
    "add_us(firstval, secondval)"
   ]
  }
 ],
 "metadata": {
  "kernelspec": {
   "display_name": "Python 3 (ipykernel)",
   "language": "python",
   "name": "python3"
  },
  "language_info": {
   "codemirror_mode": {
    "name": "ipython",
    "version": 3
   },
   "file_extension": ".py",
   "mimetype": "text/x-python",
   "name": "python",
   "nbconvert_exporter": "python",
   "pygments_lexer": "ipython3",
   "version": "3.11.9"
  },
  "vscode": {
   "interpreter": {
    "hash": "256476f871f41dd9f410a4535ba940f788da543573a25285757e797fedf9c871"
   }
  }
 },
 "nbformat": 4,
 "nbformat_minor": 5
}